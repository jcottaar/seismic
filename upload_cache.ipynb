{
 "cells": [
  {
   "cell_type": "code",
   "execution_count": 1,
   "id": "865d54d7-b239-49eb-be92-484d63c870d5",
   "metadata": {},
   "outputs": [],
   "source": [
    "import sys\n",
    "import subprocess\n",
    "sys.path.append('f:/seismic/code/core')\n",
    "sys.path.append('/seismic/code/core')\n",
    "sys.path.append('/kaggle/input/my-seismic-library/')\n",
    "import kaggle_support as kgs"
   ]
  },
  {
   "cell_type": "code",
   "execution_count": 2,
   "id": "14e2953b-2fc4-458a-9e85-49fce40ae4ad",
   "metadata": {},
   "outputs": [],
   "source": [
    "# Upload cache\n",
    "#kgs.upload_cache()"
   ]
  },
  {
   "cell_type": "code",
   "execution_count": 3,
   "id": "45b56da3-6928-41a6-818a-c533a02ed55a",
   "metadata": {},
   "outputs": [],
   "source": [
    "# Download cache\n",
    "kgs.download_cache()"
   ]
  },
  {
   "cell_type": "code",
   "execution_count": null,
   "id": "97b7cc95-474b-4dcc-b9a8-e7570809f5fd",
   "metadata": {},
   "outputs": [],
   "source": []
  }
 ],
 "metadata": {
  "kernelspec": {
   "display_name": "Python 3 (ipykernel)",
   "language": "python",
   "name": "python3"
  },
  "language_info": {
   "codemirror_mode": {
    "name": "ipython",
    "version": 3
   },
   "file_extension": ".py",
   "mimetype": "text/x-python",
   "name": "python",
   "nbconvert_exporter": "python",
   "pygments_lexer": "ipython3",
   "version": "3.10.14"
  }
 },
 "nbformat": 4,
 "nbformat_minor": 5
}
