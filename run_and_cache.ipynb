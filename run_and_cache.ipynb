{
 "cells": [
  {
   "cell_type": "code",
   "execution_count": 1,
   "id": "865d54d7-b239-49eb-be92-484d63c870d5",
   "metadata": {},
   "outputs": [
    {
     "name": "stdout",
     "output_type": "stream",
     "text": [
      "maxcor\n",
      "F:/seismic/models/brendan/*.pth\n",
      "Loading:  F:/seismic/models/brendan\\unet2d_caformer_seed3_epochbest.pt\n",
      "n_models: 1\n"
     ]
    }
   ],
   "source": [
    "import sys\n",
    "import subprocess\n",
    "sys.path.append('f:/seismic/code/core')\n",
    "sys.path.append('/seismic/code/core')\n",
    "sys.path.append('/seismic/input/my-seismic-library/')\n",
    "import kaggle_support as kgs\n",
    "import importlib\n",
    "import seis_model"
   ]
  },
  {
   "cell_type": "code",
   "execution_count": 2,
   "id": "98303273-ba27-4726-a0d4-31f5f4f459e9",
   "metadata": {},
   "outputs": [],
   "source": [
    "# Download cache\n",
    "kgs.download_cache()"
   ]
  },
  {
   "cell_type": "code",
   "execution_count": 3,
   "id": "b16d7880-48b6-45ad-85f4-2c6f7e09fc35",
   "metadata": {},
   "outputs": [],
   "source": [
    "# Set up model\n",
    "importlib.reload(seis_model)\n",
    "model = seis_model.default_model()"
   ]
  },
  {
   "cell_type": "code",
   "execution_count": null,
   "id": "59af67df-3ecb-495d-ae08-85bf1d0370e7",
   "metadata": {},
   "outputs": [],
   "source": [
    "# Check model accuracy\n",
    "seis_model.check_model_accuracy(model, 1000)"
   ]
  },
  {
   "cell_type": "code",
   "execution_count": 4,
   "id": "5e35b972-888b-4237-ae30-73f3d0804bc8",
   "metadata": {},
   "outputs": [
    {
     "name": "stdout",
     "output_type": "stream",
     "text": [
      "capturing graph\n",
      "capturing graph\n"
     ]
    }
   ],
   "source": [
    "# Full run\n",
    "data_out = model.infer(kgs.load_all_test_data()[2::1000])\n",
    "kgs.write_submission_file(data_out)"
   ]
  },
  {
   "cell_type": "code",
   "execution_count": null,
   "id": "955a9e09-8b64-41b3-9fc4-7eaafd4cb222",
   "metadata": {},
   "outputs": [],
   "source": [
    "# Upload cache\n",
    "kgs.upload_cache()"
   ]
  },
  {
   "cell_type": "code",
   "execution_count": null,
   "id": "0538850a-c254-498a-8932-9fb005970d31",
   "metadata": {},
   "outputs": [
    {
     "name": "stderr",
     "output_type": "stream",
     "text": [
      " 40%|███████████████████████████████▏                                              | 1641/4106 [10:18<15:58,  2.57it/s]"
     ]
    }
   ],
   "source": [
    "#model.models[0].infer(kgs.load_all_test_data())"
   ]
  },
  {
   "cell_type": "code",
   "execution_count": null,
   "id": "4525b229-1228-40da-9c18-f21ada51e93f",
   "metadata": {},
   "outputs": [],
   "source": []
  }
 ],
 "metadata": {
  "kernelspec": {
   "display_name": "Python 3 (ipykernel)",
   "language": "python",
   "name": "python3"
  },
  "language_info": {
   "codemirror_mode": {
    "name": "ipython",
    "version": 3
   },
   "file_extension": ".py",
   "mimetype": "text/x-python",
   "name": "python",
   "nbconvert_exporter": "python",
   "pygments_lexer": "ipython3",
   "version": "3.10.14"
  }
 },
 "nbformat": 4,
 "nbformat_minor": 5
}
