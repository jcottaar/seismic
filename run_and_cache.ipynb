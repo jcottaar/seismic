{
 "cells": [
  {
   "cell_type": "code",
   "execution_count": 5,
   "id": "865d54d7-b239-49eb-be92-484d63c870d5",
   "metadata": {},
   "outputs": [],
   "source": [
    "import sys\n",
    "import subprocess\n",
    "sys.path.append('f:/seismic/code/core')\n",
    "sys.path.append('/seismic/code/core')\n",
    "sys.path.append('/kaggle/input/my-seismic-library/')\n",
    "import kaggle_support as kgs\n",
    "import seis_model"
   ]
  },
  {
   "cell_type": "code",
   "execution_count": 2,
   "id": "4a69e8f8-e1a2-41c8-8006-24e2eaa7622a",
   "metadata": {},
   "outputs": [],
   "source": [
    "# Set up model\n",
    "model = seis_model.default_model()\n",
    "model.run_in_parallel = True"
   ]
  },
  {
   "cell_type": "code",
   "execution_count": 3,
   "id": "5e35b972-888b-4237-ae30-73f3d0804bc8",
   "metadata": {},
   "outputs": [
    {
     "name": "stderr",
     "output_type": "stream",
     "text": [
      "Importing cache Default: 100%|██████████████████████████████████████████████████| 65818/65818 [03:49<00:00, 287.02it/s]\n",
      "100%|████████████████████████████████████████████████████████████████████████████████████| 1/1 [00:00<00:00,  2.26it/s]\n"
     ]
    }
   ],
   "source": [
    "# Full run\n",
    "data = kgs.load_all_test_data()\n",
    "data_out = model.infer(data)"
   ]
  },
  {
   "cell_type": "code",
   "execution_count": 4,
   "id": "c7075830-d2e6-4481-9fbc-33aaa992052f",
   "metadata": {},
   "outputs": [],
   "source": [
    "# Write submission file\n",
    "kgs.write_submission_file(data_out)"
   ]
  },
  {
   "cell_type": "code",
   "execution_count": null,
   "id": "b8ac0889-045c-4c8e-afd5-cb5f052de6bd",
   "metadata": {},
   "outputs": [],
   "source": []
  }
 ],
 "metadata": {
  "kernelspec": {
   "display_name": "Python 3 (ipykernel)",
   "language": "python",
   "name": "python3"
  },
  "language_info": {
   "codemirror_mode": {
    "name": "ipython",
    "version": 3
   },
   "file_extension": ".py",
   "mimetype": "text/x-python",
   "name": "python",
   "nbconvert_exporter": "python",
   "pygments_lexer": "ipython3",
   "version": "3.10.14"
  }
 },
 "nbformat": 4,
 "nbformat_minor": 5
}
