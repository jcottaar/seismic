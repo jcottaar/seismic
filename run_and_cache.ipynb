{
 "cells": [
  {
   "cell_type": "code",
   "execution_count": 1,
   "id": "865d54d7-b239-49eb-be92-484d63c870d5",
   "metadata": {},
   "outputs": [],
   "source": [
    "import sys\n",
    "import subprocess\n",
    "sys.path.append('f:/seismic/code/core')\n",
    "sys.path.append('/seismic/code/core')\n",
    "sys.path.append('/kaggle/input/my-seismic-library/')\n",
    "import kaggle_support as kgs\n",
    "import seis_model"
   ]
  },
  {
   "cell_type": "code",
   "execution_count": 3,
   "id": "4a69e8f8-e1a2-41c8-8006-24e2eaa7622a",
   "metadata": {},
   "outputs": [],
   "source": [
    "# Set up model\n",
    "model = seis_model.default_model()\n",
    "model.models[1].run_in_parallel = True"
   ]
  },
  {
   "cell_type": "code",
   "execution_count": null,
   "id": "5e35b972-888b-4237-ae30-73f3d0804bc8",
   "metadata": {},
   "outputs": [
    {
     "name": "stderr",
     "output_type": "stream",
     "text": [
      "Importing cache Default: 100%|██████████| 65818/65818 [00:03<00:00, 17872.69it/s]\n",
      "  0%|          | 0/16 [00:00<?, ?it/s]/seismic/code/core/seis_nn.py:68: VisibleDeprecationWarning: This function is deprecated and will be removed in a future release. Use the cupy.from_dlpack() array constructor instead.\n",
      "  x[i_sub,...] = torch.utils.dlpack.from_dlpack(data[i].seismogram.data.toDlpack())\n",
      "100%|██████████| 16/16 [00:03<00:00,  4.85it/s]\n"
     ]
    },
    {
     "name": "stdout",
     "output_type": "stream",
     "text": [
      "Clearing pytorch\n",
      "Clearing cupy\n",
      "Clearing pytorch\n"
     ]
    },
    {
     "name": "stderr",
     "output_type": "stream",
     "text": [
      "Processing in parallel :   0%|          | 0/254 [00:00<?, ?it/s]/seismic/code/core/seis_invert.py:138: VisibleDeprecationWarning: This function is deprecated and will be removed in a future release. Use the cupy.from_dlpack() array constructor instead.\n",
      "  return from_dlpack(cost.toDlpack()), from_dlpack(gradient[:,0].toDlpack())\n",
      "/seismic/code/core/seis_invert.py:138: VisibleDeprecationWarning: This function is deprecated and will be removed in a future release. Use the cupy.from_dlpack() array constructor instead.\n",
      "  return from_dlpack(cost.toDlpack()), from_dlpack(gradient[:,0].toDlpack())\n",
      "/seismic/code/core/seis_invert.py:138: VisibleDeprecationWarning: This function is deprecated and will be removed in a future release. Use the cupy.from_dlpack() array constructor instead.\n",
      "  return from_dlpack(cost.toDlpack()), from_dlpack(gradient[:,0].toDlpack())\n",
      "/seismic/code/core/seis_invert.py:138: VisibleDeprecationWarning: This function is deprecated and will be removed in a future release. Use the cupy.from_dlpack() array constructor instead.\n",
      "  return from_dlpack(cost.toDlpack()), from_dlpack(gradient[:,0].toDlpack())\n",
      "/seismic/code/core/seis_invert.py:138: VisibleDeprecationWarning: This function is deprecated and will be removed in a future release. Use the cupy.from_dlpack() array constructor instead.\n",
      "  return from_dlpack(cost.toDlpack()), from_dlpack(gradient[:,0].toDlpack())\n",
      "/seismic/code/core/seis_invert.py:138: VisibleDeprecationWarning: This function is deprecated and will be removed in a future release. Use the cupy.from_dlpack() array constructor instead.\n",
      "  return from_dlpack(cost.toDlpack()), from_dlpack(gradient[:,0].toDlpack())\n",
      "/seismic/code/core/seis_invert.py:138: VisibleDeprecationWarning: This function is deprecated and will be removed in a future release. Use the cupy.from_dlpack() array constructor instead.\n",
      "  return from_dlpack(cost.toDlpack()), from_dlpack(gradient[:,0].toDlpack())\n",
      "/seismic/code/core/seis_invert.py:138: VisibleDeprecationWarning: This function is deprecated and will be removed in a future release. Use the cupy.from_dlpack() array constructor instead.\n",
      "  return from_dlpack(cost.toDlpack()), from_dlpack(gradient[:,0].toDlpack())\n",
      "Processing in parallel :   0%|          | 1/254 [00:54<3:50:33, 54.68s/it]"
     ]
    }
   ],
   "source": [
    "# Full run\n",
    "data = kgs.load_all_test_data()\n",
    "data_out = model.infer(data)"
   ]
  },
  {
   "cell_type": "code",
   "execution_count": null,
   "id": "c7075830-d2e6-4481-9fbc-33aaa992052f",
   "metadata": {},
   "outputs": [],
   "source": [
    "# Write submission file\n",
    "kgs.write_submission_file(data_out)"
   ]
  },
  {
   "cell_type": "code",
   "execution_count": null,
   "id": "b8ac0889-045c-4c8e-afd5-cb5f052de6bd",
   "metadata": {},
   "outputs": [],
   "source": []
  }
 ],
 "metadata": {
  "kernelspec": {
   "display_name": "Python3 (ipykernel)",
   "language": "python",
   "name": "python3"
  },
  "language_info": {
   "codemirror_mode": {
    "name": "ipython",
    "version": 3
   },
   "file_extension": ".py",
   "mimetype": "text/x-python",
   "name": "python",
   "nbconvert_exporter": "python",
   "pygments_lexer": "ipython3",
   "version": "3.12.11"
  }
 },
 "nbformat": 4,
 "nbformat_minor": 5
}
