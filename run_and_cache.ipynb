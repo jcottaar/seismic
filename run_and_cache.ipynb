{
 "cells": [
  {
   "cell_type": "code",
   "execution_count": 1,
   "id": "865d54d7-b239-49eb-be92-484d63c870d5",
   "metadata": {},
   "outputs": [
    {
     "name": "stdout",
     "output_type": "stream",
     "text": [
      "F:/seismic/models/brendan/*.pth\n",
      "Loading:  F:/seismic/models/brendan\\unet2d_caformer_seed3_epochbest.pt\n",
      "n_models: 1\n"
     ]
    }
   ],
   "source": [
    "import sys\n",
    "import subprocess\n",
    "sys.path.append('f:/seismic/code/core')\n",
    "sys.path.append('/seismic/code/core')\n",
    "sys.path.append('/kaggle/input/my-seismic-library/')\n",
    "import kaggle_support as kgs\n",
    "import importlib\n",
    "import seis_model\n",
    "import numpy as np"
   ]
  },
  {
   "cell_type": "code",
   "execution_count": 6,
   "id": "b16d7880-48b6-45ad-85f4-2c6f7e09fc35",
   "metadata": {},
   "outputs": [
    {
     "name": "stdout",
     "output_type": "stream",
     "text": [
      "styleB not active yet\n"
     ]
    }
   ],
   "source": [
    "# Set up model\n",
    "importlib.reload(seis_model)\n",
    "model = seis_model.default_model()\n",
    "model.models[1].run_in_parallel = True\n",
    "model.read_cache=False"
   ]
  },
  {
   "cell_type": "code",
   "execution_count": 6,
   "id": "5e35b972-888b-4237-ae30-73f3d0804bc8",
   "metadata": {},
   "outputs": [
    {
     "name": "stdout",
     "output_type": "stream",
     "text": [
      "0\n",
      "5000\n",
      "10000\n",
      "15000\n",
      "20000\n",
      "25000\n",
      "30000\n",
      "35000\n",
      "40000\n",
      "45000\n",
      "50000\n",
      "55000\n",
      "60000\n",
      "65000\n",
      "70000\n",
      "75000\n",
      "80000\n",
      "85000\n",
      "90000\n",
      "95000\n"
     ]
    }
   ],
   "source": [
    "# Full run\n",
    "kgs.disable_caching = False\n",
    "step = 1000\n",
    "for ii in np.arange(0,len(kgs.load_all_test_data()),step):\n",
    "    print(ii)\n",
    "    data_out = model.infer(kgs.load_all_test_data()[ii:ii+step])\n",
    "    # kgs.write_submission_file(data_out)\n",
    "    kgs.upload_cache()"
   ]
  },
  {
   "cell_type": "code",
   "execution_count": null,
   "id": "5a3c6038-0860-49b8-8728-27b859e04d36",
   "metadata": {},
   "outputs": [],
   "source": [
    "# Upload cache\n",
    "#kgs.upload_cache()"
   ]
  }
 ],
 "metadata": {
  "kernelspec": {
   "display_name": "Python 3 (ipykernel)",
   "language": "python",
   "name": "python3"
  },
  "language_info": {
   "codemirror_mode": {
    "name": "ipython",
    "version": 3
   },
   "file_extension": ".py",
   "mimetype": "text/x-python",
   "name": "python",
   "nbconvert_exporter": "python",
   "pygments_lexer": "ipython3",
   "version": "3.10.14"
  }
 },
 "nbformat": 4,
 "nbformat_minor": 5
}
