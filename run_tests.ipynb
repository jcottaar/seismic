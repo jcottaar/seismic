{
 "cells": [
  {
   "cell_type": "code",
   "execution_count": null,
   "id": "865d54d7-b239-49eb-be92-484d63c870d5",
   "metadata": {},
   "outputs": [
    {
     "name": "stdout",
     "output_type": "stream",
     "text": [
      "F:/seismic/models/brendan/*.pth\n",
      "Loading:  F:/seismic/models/brendan\\unet2d_caformer_seed3_epochbest.pt\n",
      "n_models: 1\n",
      "prior test 9.764424715292229e-14 1.679685575695089e-05\n",
      "prior test 5.1530030056312626e-06 10.306629681028426\n",
      "prior test 1.123679396601053e-13 1.4104176818463543e-05\n",
      "capturing graph\n",
      "capturing graph\n",
      "capturing graph\n",
      "Mismatch to hosts: 3.5444538831673834e-05\n",
      "adjoint 1.0550642390999565e-17 4.904263242783745e-05\n",
      "diff 1.5727204184213184e-13 1.6588860071825717e-07\n",
      "Mismatch to hosts: 1.5741465383079042e-05\n",
      "adjoint 7.399679827213568e-18 0.0001352831488805375\n",
      "diff 1.1763480308715764e-13 1.4481413610833205e-07\n",
      "styleB not active yet\n",
      "Style_B\n"
     ]
    },
    {
     "name": "stderr",
     "output_type": "stream",
     "text": [
      "  0%|                                                                                            | 0/1 [00:00<?, ?it/s]"
     ]
    }
   ],
   "source": [
    "%%time\n",
    "import sys\n",
    "import subprocess\n",
    "sys.path.append('f:/seismic/code/core')\n",
    "sys.path.append('/seismic/code/core')\n",
    "sys.path.append('/kaggle/input/my-seismic-library/')\n",
    "import kaggle_support as kgs\n",
    "import importlib\n",
    "import seis_test\n",
    "importlib.reload(seis_test)\n",
    "seis_test.run_all_tests(write_reference=False)"
   ]
  },
  {
   "cell_type": "code",
   "execution_count": null,
   "id": "1fc9d9c5-affc-418d-a0d2-49b9d3add409",
   "metadata": {},
   "outputs": [],
   "source": []
  }
 ],
 "metadata": {
  "kernelspec": {
   "display_name": "Python 3 (ipykernel)",
   "language": "python",
   "name": "python3"
  },
  "language_info": {
   "codemirror_mode": {
    "name": "ipython",
    "version": 3
   },
   "file_extension": ".py",
   "mimetype": "text/x-python",
   "name": "python",
   "nbconvert_exporter": "python",
   "pygments_lexer": "ipython3",
   "version": "3.10.14"
  }
 },
 "nbformat": 4,
 "nbformat_minor": 5
}
