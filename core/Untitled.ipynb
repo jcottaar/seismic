{
 "cells": [
  {
   "cell_type": "code",
   "execution_count": null,
   "id": "1da84b73-c455-4550-9b5f-11c8d114bbd5",
   "metadata": {},
   "outputs": [],
   "source": [
    "def cost_and_gradient_func(x):\n",
    "    xx = cp.array(x,dtype=kgs.base_type_gpu)[:,None]\n",
    "    cost,gradient,cost_prior, cost_residual = cost_and_gradient(xx, target, prior, basis_functions, compute_gradient=True)\n",
    "    if not true_vel is None:\n",
    "        #print(cost, kgs.rms(basis_functions@cp.array(x[:,None])-true_vel.to_vector()))\n",
    "        diagnostics['vel_error_per_fev'].append(cp.asnumpy(kgs.rms(basis_functions@xx-true_vel.to_vector())))\n",
    "    diagnostics['seis_error_per_fev'].append(cp.asnumpy(cost_residual))\n",
    "    diagnostics['prior_cost_per_fev'].append(cp.asnumpy(cost_prior))\n",
    "    cost = cost*scaling\n",
    "    gradient = gradient*scaling\n",
    "    return cp.asnumpy(cost), cp.asnumpy(gradient[:,0])\n",
    "\n",
    "res = scipy.optimize.minimize(cost_and_gradient_func, x_guess[:,0], method = method, jac = True, options={'maxiter':maxiter, 'maxcor':1000})\n",
    "diagnostics['nit'] = res.nit\n",
    "diagnostics['nfev'] = res.nfev\n",
    "\n",
    "final_result = res.x"
   ]
  }
 ],
 "metadata": {
  "kernelspec": {
   "display_name": "Python 3 (ipykernel)",
   "language": "python",
   "name": "python3"
  },
  "language_info": {
   "codemirror_mode": {
    "name": "ipython",
    "version": 3
   },
   "file_extension": ".py",
   "mimetype": "text/x-python",
   "name": "python",
   "nbconvert_exporter": "python",
   "pygments_lexer": "ipython3",
   "version": "3.10.14"
  }
 },
 "nbformat": 4,
 "nbformat_minor": 5
}
