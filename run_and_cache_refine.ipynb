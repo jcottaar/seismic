{
 "cells": [
  {
   "cell_type": "code",
   "execution_count": 1,
   "id": "865d54d7-b239-49eb-be92-484d63c870d5",
   "metadata": {},
   "outputs": [
    {
     "name": "stdout",
     "output_type": "stream",
     "text": [
      "F:/seismic/models/brendan/*.pth\n",
      "Loading:  F:/seismic/models/brendan\\unet2d_caformer_seed3_epochbest.pt\n",
      "n_models: 1\n"
     ]
    }
   ],
   "source": [
    "import sys\n",
    "import subprocess\n",
    "sys.path.append('f:/seismic/code/core')\n",
    "sys.path.append('/seismic/code/core')\n",
    "sys.path.append('/kaggle/input/my-seismic-library/')\n",
    "import kaggle_support as kgs\n",
    "import importlib\n",
    "import seis_model\n",
    "import numpy as np"
   ]
  },
  {
   "cell_type": "code",
   "execution_count": 2,
   "id": "b16d7880-48b6-45ad-85f4-2c6f7e09fc35",
   "metadata": {},
   "outputs": [],
   "source": [
    "# Set up model\n",
    "importlib.reload(seis_model)\n",
    "model = seis_model.default_model()\n",
    "model.read_cache=False\n",
    "model.models[1].run_in_parallel = True\n",
    "\n",
    "# model.models[1].model_TV2D_refine.iter_list = [10]\n",
    "# model.models[1].model_TV2D_refine.lbfgs_tolerance_grad = 0.\n",
    "# model.models[1].model_TV2D = seis_model.DummyModel()\n",
    "# model.models[1].model_TV2D.state = 1\n",
    "# model.models[1].model_TV2D.write_cache = False\n",
    "# model.models[1].model_TV2D.read_cache = True\n",
    "# model.models[1].model_TV2D.cache_name = 'TV2D'\n",
    "# model.models[1].refine_threshold = 0.\n",
    "# model.write_cache = False\n",
    "# model.models[1].run_in_parallel = False\n",
    "# print('!!! 2x above')"
   ]
  },
  {
   "cell_type": "code",
   "execution_count": null,
   "id": "5e35b972-888b-4237-ae30-73f3d0804bc8",
   "metadata": {},
   "outputs": [
    {
     "name": "stdout",
     "output_type": "stream",
     "text": [
      "-3.0\n"
     ]
    },
    {
     "name": "stderr",
     "output_type": "stream",
     "text": [
      "Importing cache brendan: 100%|█████████████████████████████████████████████████████| 100/100 [00:00<00:00, 6249.06it/s]\n",
      "Processing in parallel : 100%|███████████████████████████████████████████████████████| 100/100 [00:40<00:00,  2.47it/s]\n"
     ]
    },
    {
     "name": "stdout",
     "output_type": "stream",
     "text": [
      "-4.0\n"
     ]
    },
    {
     "name": "stderr",
     "output_type": "stream",
     "text": [
      "Importing cache brendan: 100%|████████████████████████████████████████████████████| 100/100 [00:00<00:00, 16666.55it/s]\n",
      "Processing in parallel :   0%|                                                                 | 0/100 [00:00<?, ?it/s]"
     ]
    }
   ],
   "source": [
    "# Full run\n",
    "for threshold_val in np.linspace(-3,-5,3):\n",
    "    print(threshold_val)\n",
    "    model.models[1].refine_threshold = 10**threshold_val\n",
    "    data_out = model.infer(kgs.load_all_test_data()[0:100])\n",
    "# kgs.write_submission_file(data_out)\n",
    "# kgs.upload_cache()"
   ]
  },
  {
   "cell_type": "code",
   "execution_count": null,
   "id": "5a3c6038-0860-49b8-8728-27b859e04d36",
   "metadata": {},
   "outputs": [],
   "source": [
    "%debug"
   ]
  },
  {
   "cell_type": "code",
   "execution_count": null,
   "id": "9b9ab315-bbaa-4089-b398-718d139979fb",
   "metadata": {},
   "outputs": [],
   "source": []
  }
 ],
 "metadata": {
  "kernelspec": {
   "display_name": "Python 3 (ipykernel)",
   "language": "python",
   "name": "python3"
  },
  "language_info": {
   "codemirror_mode": {
    "name": "ipython",
    "version": 3
   },
   "file_extension": ".py",
   "mimetype": "text/x-python",
   "name": "python",
   "nbconvert_exporter": "python",
   "pygments_lexer": "ipython3",
   "version": "3.10.14"
  }
 },
 "nbformat": 4,
 "nbformat_minor": 5
}
