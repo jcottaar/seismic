{
 "cells": [
  {
   "cell_type": "code",
   "execution_count": 1,
   "id": "4a420e8d-0c30-4826-a748-d3a7d3352aca",
   "metadata": {},
   "outputs": [
    {
     "data": {
      "text/plain": [
       "<matplotlib.collections.PathCollection at 0x26e4f6e9960>"
      ]
     },
     "execution_count": 1,
     "metadata": {},
     "output_type": "execute_result"
    },
    {
     "data": {
      "image/png": "[encoded data removed]",
      "text/plain": [
       "<Figure size 640x480 with 1 Axes>"
      ]
     },
     "metadata": {},
     "output_type": "display_data"
    }
   ],
   "source": [
    "import sys\n",
    "sys.path.append('f:/seismic/code/core')\n",
    "sys.path.append('/seismic/code/core')\n",
    "sys.path.append('/kaggle/input/my-seis-library/')\n",
    "import kaggle_support as kgs\n",
    "import importlib\n",
    "import numpy as np\n",
    "import matplotlib.pyplot as plt\n",
    "import glob\n",
    "import copy\n",
    "import os\n",
    "#import seis_forward\n",
    "#import seis_test\n",
    "plt.scatter([0,1],[1,2])\n",
    "#fls.download_kaggle_dataset('jeroencottaar/byu-many-models-2/', fls.result_dir + '/many_full_res/')"
   ]
  },
  {
   "cell_type": "code",
   "execution_count": 2,
   "id": "7ebb9a5f-4998-4f51-b608-b94f36f75e3c",
   "metadata": {},
   "outputs": [
    {
     "name": "stdout",
     "output_type": "stream",
     "text": [
      "10000\n"
     ]
    }
   ],
   "source": [
    "importlib.reload(kgs)\n",
    "data=kgs.load_all_train_data()\n",
    "print(len(data))\n",
    "for d in data:\n",
    "    d.check_constraints()"
   ]
  },
  {
   "cell_type": "code",
   "execution_count": 6,
   "id": "44d60f77-d598-4dcd-a58a-395ee0c192c2",
   "metadata": {},
   "outputs": [
    {
     "name": "stdout",
     "output_type": "stream",
     "text": [
      "CurveFault_A 0.01575668646364796\n",
      "CurveFault_A 0.021186274314413264\n",
      "CurveFault_A 0.022027961575255103\n",
      "CurveFault_A 0.023731664540816325\n",
      "CurveFault_A 0.019734036192602042\n",
      "CurveFault_A 0.042053571428571426\n",
      "CurveFault_A 0.049142468510841836\n",
      "CurveFault_A 0.04779740314094388\n",
      "CurveFault_A 0.030750707509566325\n",
      "CurveFault_A 0.04303705955038265\n",
      "CurveFault_B 0.0\n",
      "CurveFault_B 0.0\n",
      "CurveFault_B 0.0\n",
      "CurveFault_B 0.0\n",
      "CurveFault_B 0.0\n",
      "CurveFault_B 0.0\n",
      "CurveFault_B 0.0\n",
      "CurveFault_B 0.0\n",
      "CurveFault_B 0.0\n",
      "CurveFault_B 0.0\n",
      "CurveVel_A 0.0\n",
      "CurveVel_A 0.0\n",
      "CurveVel_A 0.0\n",
      "CurveVel_A 0.0\n",
      "CurveVel_A 0.0\n",
      "CurveVel_A 0.0\n",
      "CurveVel_A 0.0\n",
      "CurveVel_A 0.0\n",
      "CurveVel_A 0.0\n",
      "CurveVel_A 0.0\n",
      "CurveVel_B 0.0\n",
      "CurveVel_B 0.0\n",
      "CurveVel_B 0.0\n",
      "CurveVel_B 0.0\n",
      "CurveVel_B 0.0\n",
      "CurveVel_B 0.0\n",
      "CurveVel_B 0.0\n",
      "CurveVel_B 0.0\n",
      "CurveVel_B 0.0\n",
      "CurveVel_B 0.0\n",
      "FlatFault_A 0.01444271165497449\n",
      "FlatFault_A 0.025635712292729592\n",
      "FlatFault_A 0.01683803013392857\n",
      "FlatFault_A 0.011267538265306123\n",
      "FlatFault_A 0.03001773756377551\n",
      "FlatFault_A 0.03391242825255102\n",
      "FlatFault_A 0.03924435985331633\n",
      "FlatFault_A 0.026574756855867347\n",
      "FlatFault_A 0.029048150510204082\n",
      "FlatFault_A 0.04521678691007653\n",
      "FlatFault_B 0.0\n",
      "FlatFault_B 0.0\n",
      "FlatFault_B 0.0\n",
      "FlatFault_B 0.0\n",
      "FlatFault_B 0.0\n",
      "FlatFault_B 0.0\n",
      "FlatFault_B 0.0\n",
      "FlatFault_B 0.0\n",
      "FlatFault_B 0.0\n",
      "FlatFault_B 0.0\n",
      "FlatVel_A 0.0\n",
      "FlatVel_A 0.0\n",
      "FlatVel_A 0.0\n",
      "FlatVel_A 0.0\n",
      "FlatVel_A 0.0\n",
      "FlatVel_A 0.0\n",
      "FlatVel_A 0.0\n",
      "FlatVel_A 0.0\n",
      "FlatVel_A 0.0\n",
      "FlatVel_A 0.0\n",
      "FlatVel_B 0.0\n",
      "FlatVel_B 0.0\n",
      "FlatVel_B 0.0\n",
      "FlatVel_B 0.0\n",
      "FlatVel_B 0.0\n",
      "FlatVel_B 0.0\n",
      "FlatVel_B 0.0\n",
      "FlatVel_B 0.0\n",
      "FlatVel_B 0.0\n",
      "FlatVel_B 0.0\n",
      "Style_A 0.2532064881616709\n",
      "Style_A 0.2466131965481505\n",
      "Style_A 0.24994444555165815\n",
      "Style_A 0.24782146843112246\n",
      "Style_A 0.24705758231026786\n",
      "Style_A 0.2517697205835459\n",
      "Style_A 0.24752005440848215\n",
      "Style_A 0.248106614716199\n",
      "Style_A 0.2516184779575893\n",
      "Style_A 0.25179388552295917\n",
      "Style_B 0.2519131407445791\n",
      "Style_B 0.2485941984215561\n",
      "Style_B 0.2509303750797194\n",
      "Style_B 0.24780709402901785\n",
      "Style_B 0.2515375378667092\n",
      "Style_B 0.25124561543367346\n",
      "Style_B 0.25028953085140304\n",
      "Style_B 0.24823548608896684\n",
      "Style_B 0.2532576580436862\n",
      "Style_B 0.250291673309949\n"
     ]
    }
   ],
   "source": [
    "import cupy as cp\n",
    "for d in data[::100]:\n",
    "    d.load_to_memory()\n",
    "    print(d.family, cp.mean(cp.abs(d.velocity.data-cp.round(d.velocity.data))))\n",
    "    d.unload()"
   ]
  },
  {
   "cell_type": "code",
   "execution_count": null,
   "id": "e42bf974-a7d3-4832-bd3f-78e9c90eae6e",
   "metadata": {},
   "outputs": [],
   "source": []
  }
 ],
 "metadata": {
  "kernelspec": {
   "display_name": "Python 3 (ipykernel)",
   "language": "python",
   "name": "python3"
  },
  "language_info": {
   "codemirror_mode": {
    "name": "ipython",
    "version": 3
   },
   "file_extension": ".py",
   "mimetype": "text/x-python",
   "name": "python",
   "nbconvert_exporter": "python",
   "pygments_lexer": "ipython3",
   "version": "3.10.14"
  }
 },
 "nbformat": 4,
 "nbformat_minor": 5
}
