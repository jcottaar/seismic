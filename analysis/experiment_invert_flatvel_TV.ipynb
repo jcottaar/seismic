{
 "cells": [
  {
   "cell_type": "code",
   "execution_count": 1,
   "id": "4a420e8d-0c30-4826-a748-d3a7d3352aca",
   "metadata": {},
   "outputs": [
    {
     "data": {
      "text/plain": [
       "<matplotlib.collections.PathCollection at 0x1f64aa30670>"
      ]
     },
     "execution_count": 1,
     "metadata": {},
     "output_type": "execute_result"
    },
    {
     "data": {
      "image/png": "[encoded data removed]",
      "text/plain": [
       "<Figure size 640x480 with 1 Axes>"
      ]
     },
     "metadata": {},
     "output_type": "display_data"
    }
   ],
   "source": [
    "import sys\n",
    "sys.path.append('f:/seismic/code/core')\n",
    "sys.path.append('/seismic/code/core')\n",
    "sys.path.append('/kaggle/input/my-seis-library/')\n",
    "import kaggle_support as kgs\n",
    "import importlib\n",
    "import numpy as np\n",
    "import matplotlib.pyplot as plt\n",
    "import glob\n",
    "import copy\n",
    "import os\n",
    "import seis_forward\n",
    "import seis_test\n",
    "import seis_invert\n",
    "import seis_prior\n",
    "import cupy as cp\n",
    "plt.scatter([0,1],[1,2])\n",
    "#fls.download_kaggle_dataset('jeroencottaar/byu-many-models-2/', fls.result_dir + '/many_full_res/')"
   ]
  },
  {
   "cell_type": "code",
   "execution_count": 2,
   "id": "54edac41-5da1-4e82-81b1-9109f83942f6",
   "metadata": {},
   "outputs": [
    {
     "name": "stdout",
     "output_type": "stream",
     "text": [
      "10000\n",
      "FlatVel_A\n"
     ]
    },
    {
     "data": {
      "image/png": "[encoded data removed]",
      "text/plain": [
       "<Figure size 640x480 with 2 Axes>"
      ]
     },
     "metadata": {},
     "output_type": "display_data"
    }
   ],
   "source": [
    "importlib.reload(kgs)\n",
    "data=kgs.load_all_train_data()\n",
    "print(len(data))\n",
    "for d in data:\n",
    "    d.check_constraints()\n",
    "d = data[6001]\n",
    "print(d.family)\n",
    "d.load_to_memory()\n",
    "plt.figure()\n",
    "plt.imshow(cp.asnumpy(d.velocity.data));plt.colorbar();#plt.clim([-3,3])"
   ]
  },
  {
   "cell_type": "code",
   "execution_count": 3,
   "id": "c04fafa3-4658-4b24-b966-a030aff38165",
   "metadata": {
    "scrolled": true
   },
   "outputs": [
    {
     "name": "stdout",
     "output_type": "stream",
     "text": [
      "1.0971057949745318e-19\n",
      "3.188366779165863e-06\n",
      "base RMS 1.0856655951544898\n",
      "base seis diff 0.010011741893431713\n"
     ]
    }
   ],
   "source": [
    "# TODO: don't use seis_correct, bigger variations, velB\n",
    "seis_correct = seis_forward.vel_to_seis(d.velocity, d.seismogram)[0]\n",
    "offset_vector = cp.array(1e1*np.random.default_rng(seed=0).normal(0,1,size=d.velocity.to_vector().shape), dtype=kgs.base_type_gpu)\n",
    "velocity_offset = copy.deepcopy(d.velocity)\n",
    "velocity_offset.from_vector(velocity_offset.to_vector() + offset_vector)\n",
    "prior = seis_prior.RowTotalVariation(λ=1e-20)\n",
    "basis_functions = prior.basis_functions()\n",
    "print(seis_invert.cost_and_gradient(cp.linalg.solve(basis_functions.T@basis_functions, basis_functions.T@(d.velocity.to_vector())), seis_correct.to_vector(), prior, basis_functions))\n",
    "print(seis_invert.cost_and_gradient(cp.linalg.solve(basis_functions.T@basis_functions, basis_functions.T@(velocity_offset.to_vector())), seis_correct.to_vector(), prior, basis_functions))\n",
    "print('base RMS', kgs.rms(cp.asnumpy(cp.mean(velocity_offset.data - d.velocity.data,axis=0)[:,None] + 0*d.velocity.data)))\n",
    "print('base seis diff', kgs.rms(cp.asnumpy(seis_correct.to_vector() - seis_forward.vel_to_seis(velocity_offset, seis_correct)[0].to_vector())))"
   ]
  },
  {
   "cell_type": "code",
   "execution_count": 4,
   "id": "0caa6c2b-5295-4f4e-871a-6f94522a7fbb",
   "metadata": {},
   "outputs": [],
   "source": [
    "importlib.reload(seis_invert)\n",
    "λ_vals = 10**np.linspace(-13,-7,3)\n",
    "λ_vals = [10**-7]\n",
    "maxiter=100\n",
    "res = [[],[]]\n",
    "rms_vals = [[],[]]\n",
    "cost_vals = [[],[]]\n",
    "res_vals = [[],[]]"
   ]
  },
  {
   "cell_type": "code",
   "execution_count": null,
   "id": "87972c54-d9e1-461b-9a82-f0010e890cd3",
   "metadata": {},
   "outputs": [
    {
     "name": "stdout",
     "output_type": "stream",
     "text": [
      "1.0971057949745318e-06 0.0\n",
      "1.101703022301137e-06 0.12070577325549754\n",
      "1.0968227735832639e-06 0.023300802230899646\n",
      "1.0964940326103016e-06 0.04757763372316436\n",
      "1.0987708920629579e-06 0.0763684219920992\n",
      "1.09645656311752e-06 0.050808755458265104\n"
     ]
    }
   ],
   "source": [
    "for λ in λ_vals:    \n",
    "    prior = seis_prior.RowTotalVariation(λ=λ)\n",
    "    seis_invert.true_vel = d.velocity\n",
    "    res[0].append(seis_invert.seis_to_vel(seis_correct, d.velocity, prior, maxiter=maxiter))\n",
    "    print('done1', λ)\n",
    "    res[1].append(seis_invert.seis_to_vel(seis_correct, velocity_offset, prior,maxiter=maxiter))\n",
    "    print('done2', λ)\n",
    "    for ii in range(2):\n",
    "        rms_vals[ii].append(cp.asnumpy(kgs.rms(res[ii][-1].to_vector()-d.velocity.to_vector())))\n",
    "        cost_vals[ii].append( cp.asnumpy(\n",
    "            seis_invert.cost_and_gradient(cp.linalg.solve(basis_functions.T@basis_functions, basis_functions.T@(res[ii][-1].to_vector())), seis_correct.to_vector(), prior, basis_functions) ))\n",
    "        res_vals[ii].append(cp.asnumpy(kgs.rms( kgs.rms( seis_correct.data - seis_forward.vel_to_seis(res[ii][-1], d.seismogram)[0].data ) )))\n",
    "    print('RMS', λ, rms_vals[0], rms_vals[1])\n",
    "    print('Cost', λ, cost_vals[0], cost_vals[1])\n",
    "    print('res', λ, res_vals[0], res_vals[1])"
   ]
  },
  {
   "cell_type": "code",
   "execution_count": null,
   "id": "6c076782-3333-4e4b-ac26-56a3d57e25b2",
   "metadata": {},
   "outputs": [],
   "source": [
    "%debug"
   ]
  },
  {
   "cell_type": "code",
   "execution_count": null,
   "id": "fdace114-0abb-4531-b3ef-1a39b4e682af",
   "metadata": {},
   "outputs": [],
   "source": [
    "for to_plot in [[rms_vals, 'Velocity RMS error'], [res_vals, 'Seismogram RMS error'], [cost_vals, 'Cost']]:\n",
    "    plt.figure()\n",
    "    plt.loglog(λ_vals[:2], to_plot[0][0])\n",
    "    plt.loglog(λ_vals[:2], to_plot[0][1])\n",
    "    plt.xlabel('λ')\n",
    "    plt.ylabel(to_plot[1])\n",
    "    plt.grid(True)\n",
    "    plt.legend(('Starting from correct', 'Starting from offset'))"
   ]
  },
  {
   "cell_type": "code",
   "execution_count": null,
   "id": "041eadc9-0d31-4a8b-a4a1-aa764662991d",
   "metadata": {},
   "outputs": [],
   "source": [
    "plt.figure()\n",
    "plt.imshow( cp.asnumpy(velocity_offset.data - d.velocity.data));plt.colorbar()\n",
    "plt.figure()\n",
    "plt.imshow( cp.asnumpy(cp.mean(velocity_offset.data - d.velocity.data,axis=0)[:,None] + 0*d.velocity.data));plt.colorbar()\n",
    "plt.title(kgs.rms (cp.mean(velocity_offset.data - d.velocity.data,axis=0)[:,None] + 0*d.velocity.data))\n",
    "for i,λ in enumerate(λ_vals): \n",
    "    _,ax=plt.subplots(1,2,figsize=(12,6))\n",
    "    for ii in range(2):\n",
    "        plt.sca(ax[ii])\n",
    "        plt.imshow( cp.asnumpy(res[ii][i].data - d.velocity.data));plt.colorbar()\n",
    "        plt.title(rms_vals[ii][i])\n",
    "    plt.suptitle(λ)"
   ]
  },
  {
   "cell_type": "code",
   "execution_count": null,
   "id": "0ff2addc-693f-49be-8b61-719e4a3f843e",
   "metadata": {},
   "outputs": [],
   "source": [
    "rms_vals"
   ]
  },
  {
   "cell_type": "code",
   "execution_count": null,
   "id": "c26c3537-47c3-48dc-999e-6dbaa5beb668",
   "metadata": {},
   "outputs": [],
   "source": [
    "cost_vals"
   ]
  },
  {
   "cell_type": "code",
   "execution_count": null,
   "id": "80f38df1-65c5-4d46-925f-da70cc19bc64",
   "metadata": {},
   "outputs": [],
   "source": [
    "res_vals"
   ]
  },
  {
   "cell_type": "code",
   "execution_count": null,
   "id": "ecf17fec-2b68-4fe0-8af7-301b0e54fb90",
   "metadata": {},
   "outputs": [],
   "source": [
    "λ_vals = [-13]"
   ]
  },
  {
   "cell_type": "code",
   "execution_count": null,
   "id": "8ecc2296-d1da-459d-ad8a-bea72ae0f0f7",
   "metadata": {},
   "outputs": [],
   "source": []
  }
 ],
 "metadata": {
  "kernelspec": {
   "display_name": "Python 3 (ipykernel)",
   "language": "python",
   "name": "python3"
  },
  "language_info": {
   "codemirror_mode": {
    "name": "ipython",
    "version": 3
   },
   "file_extension": ".py",
   "mimetype": "text/x-python",
   "name": "python",
   "nbconvert_exporter": "python",
   "pygments_lexer": "ipython3",
   "version": "3.10.14"
  }
 },
 "nbformat": 4,
 "nbformat_minor": 5
}
