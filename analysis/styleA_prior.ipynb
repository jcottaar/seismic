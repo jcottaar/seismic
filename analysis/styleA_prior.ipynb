{
 "cells": [
  {
   "cell_type": "code",
   "execution_count": 1,
   "id": "4a420e8d-0c30-4826-a748-d3a7d3352aca",
   "metadata": {},
   "outputs": [],
   "source": [
    "import sys\n",
    "sys.path.append('f:/seismic/code/core')\n",
    "sys.path.append('/seismic/code/core')\n",
    "sys.path.append('/kaggle/input/my-seis-library/')\n",
    "import kaggle_support as kgs\n",
    "import importlib\n",
    "import numpy as np\n",
    "import matplotlib.pyplot as plt\n",
    "import glob\n",
    "import copy\n",
    "import os\n",
    "import seis_prior\n",
    "#plt.scatter([0,1],[1,2])\n",
    "#fls.download_kaggle_dataset('jeroencottaar/byu-many-models-2/', fls.result_dir + '/many_full_res/')"
   ]
  },
  {
   "cell_type": "code",
   "execution_count": 2,
   "id": "78975eaa-c03b-417d-856c-789afcc7c0cc",
   "metadata": {},
   "outputs": [],
   "source": [
    "# %%time\n",
    "# import seis_test\n",
    "# seis_test.run_all_tests(test_reference_mode=True)\n"
   ]
  },
  {
   "cell_type": "code",
   "execution_count": 3,
   "id": "9f0ca97b-2f20-4b08-ac77-04f23caccbeb",
   "metadata": {},
   "outputs": [
    {
     "name": "stdout",
     "output_type": "stream",
     "text": [
      "27.056060982929022 2732.6832151277017\n",
      "(4900, 200)\n"
     ]
    },
    {
     "data": {
      "image/png": "[encoded data removed]",
      "text/plain": [
       "<Figure size 640x480 with 1 Axes>"
      ]
     },
     "metadata": {},
     "output_type": "display_data"
    }
   ],
   "source": [
    "import cupy as cp\n",
    "from scipy import stats\n",
    "plt.figure()\n",
    "slopes = []\n",
    "intercepts = []\n",
    "yy =[]\n",
    "for d in kgs.load_all_train_data()[8800:9000]:\n",
    "    #d = kgs.load_all_train_data()[8011]   \n",
    "    d.load_to_memory()\n",
    "    #y = d.velocity.to_vector()\n",
    "    #plt.plot(cp.asnumpy(cp.mean(d.velocity.data,axis=1)))\n",
    "    x = np.arange(-35,35)\n",
    "    y = cp.asnumpy(cp.mean(d.velocity.data,axis=1))\n",
    "    \n",
    "    slope, intercept, r_value, p_value, std_err = stats.linregress(x,y)\n",
    "    slopes.append(slope)\n",
    "    intercepts.append(intercept)\n",
    "\n",
    "    yy.append(d.velocity.to_vector()[:-1,:])\n",
    "    \n",
    "    # def cov(hyp):\n",
    "    #     sigma_noise = hyp[0]\n",
    "    #     sigma_mean = hyp[1]\n",
    "    #     sigma_\n",
    "plt.scatter(slopes,intercepts)\n",
    "plt.grid(True)\n",
    "slopes = np.array(slopes);intercepts=np.array(intercepts);\n",
    "full_y = cp.stack(yy)[:,:,0].T\n",
    "#y = y[:,0:1]\n",
    "#y = y-cp.mean(y)\n",
    "print(kgs.rms(slopes), kgs.rms(intercepts))\n",
    "print(full_y.shape)\n"
   ]
  },
  {
   "cell_type": "code",
   "execution_count": 4,
   "id": "47f52f33-3f89-4501-8cd7-300156afedd2",
   "metadata": {},
   "outputs": [],
   "source": [
    "def negative_log_likelihood(hyp_np: np.ndarray) -> float:\n",
    "    \"\"\"\n",
    "    Compute the negative log marginal likelihood for N independent outputs,\n",
    "    each of dimension n = 4901, under a zero-mean Gaussian with covariance K = cov(hyp).\n",
    "    y has shape (n, N).  This operates on the GPU (CuPy) except for returning\n",
    "    a Python float at the end.\n",
    "    \"\"\"\n",
    "    #print(np.exp(hyp_np))\n",
    "    #print(hyp_np[2])\n",
    "    # 1) Convert hyp from NumPy to CuPy:\n",
    "    #hyp_gpu = cp.asarray(hyp_np, dtype=cp.float64)\n",
    "\n",
    "    # 2) Build the n×n covariance matrix on the GPU:\n",
    "    K = cov(hyp_np)  # shape (n, n), dtype=float64\n",
    "    #K = np.exp(hyp_np[0])**2 * cp.eye(4900)\n",
    "\n",
    "    # 3) Add jitter on the diagonal for numerical stability:\n",
    "    n, N = y.shape  # n should be 4901, N is the number of columns\n",
    "    K.flat[0 : n * n : n + 1] += _jitter  # equivalent to K += jitter * I\n",
    "\n",
    "\n",
    "    # 4) Compute the Cholesky decomposition: K = L L^T\n",
    "    #    (CuPy’s Cholesky runs on the GPU)\n",
    "    L = cp.linalg.cholesky(K)  # shape (n, n)\n",
    "\n",
    "    # 5) Solve for A = K^{-1} Y by two triangular solves:\n",
    "    #      L V = Y   →   V = L^{-1} Y   (shape (n, N))\n",
    "    #      L^T A = V →   A = (L^T)^{-1} V   (shape (n, N))\n",
    "    V = cp.linalg.solve(L, y)       # solve L V = y\n",
    "    A = cp.linalg.solve(L.T, V)     # solve L^T A = V\n",
    "\n",
    "    # 6) Compute the log-determinant of K:\n",
    "    #      log |K| = 2 * sum(log(diag(L)))\n",
    "    diag_L = cp.diag(L)             # shape (n,)\n",
    "    logdet_K = 2.0 * cp.sum(cp.log(diag_L))\n",
    "\n",
    "\n",
    "    # 7) Compute the data‐fit term:\n",
    "    #      sum_i y_i^T K^{-1} y_i = trace(Y^T A) = sum(Y * A)\n",
    "    data_fit_term = 0.5 * cp.sum(y * A).item()  # scalar\n",
    "\n",
    "    # 8) Complexity term: N/2 * log |K|\n",
    "    complexity_term = 0.5 * N * logdet_K.item()\n",
    "\n",
    "    # 9) Constant term: N * (n/2) * log(2π)\n",
    "    const_term = 0.5 * N * n * np.log(2.0 * np.pi)\n",
    "\n",
    "    # 10) Negative log‐likelihood:\n",
    "    nll_value = data_fit_term + complexity_term + const_term\n",
    "    return float(nll_value)\n",
    "\n",
    "\n",
    "# ---------------------------------------------------------------------------\n",
    "# CHOOSE AN INITIAL GUESS FOR hyp:\n",
    "#\n",
    "# If hyp has dimension d_hyp, set an initial log‐space guess, for example:\n",
    "#     hyp0 = np.zeros(d_hyp, dtype=np.float64)\n",
    "# Adjust d_hyp to match your model’s hyperparameter count.\n",
    "# ---------------------------------------------------------------------------\n"
   ]
  },
  {
   "cell_type": "code",
   "execution_count": 5,
   "id": "2c981928-fd40-46b6-9c6c-764896a1444c",
   "metadata": {},
   "outputs": [],
   "source": [
    "importlib.reload(seis_prior)\n",
    "def cov(hyp):\n",
    "    prior = seis_prior.SquaredExponential()   \n",
    "    prior.noise = np.exp(hyp[0])\n",
    "    prior.sigma = np.exp(hyp[1])\n",
    "    prior.length_scale = hyp[2]\n",
    "    prior.sigma_slope = np.exp(hyp[3])\n",
    "    prior.sigma_mean = np.exp(hyp[4])\n",
    "    prior.compute_P=False\n",
    "    prior.basis_functions()    \n",
    "    return prior.K\n",
    "hyp0 = np.log(np.array([100., 1000., 10., 3000., 30.]))\n",
    "\n",
    "\n",
    "\n",
    "import cupy as cp\n",
    "import numpy as np\n",
    "from scipy.optimize import minimize"
   ]
  },
  {
   "cell_type": "code",
   "execution_count": 6,
   "id": "ad947483-d6f8-4214-b94a-3023247184da",
   "metadata": {},
   "outputs": [
    {
     "ename": "NameError",
     "evalue": "name 'transform' is not defined",
     "output_type": "error",
     "traceback": [
      "\u001b[1;31m---------------------------------------------------------------------------\u001b[0m",
      "\u001b[1;31mNameError\u001b[0m                                 Traceback (most recent call last)",
      "Cell \u001b[1;32mIn[6], line 13\u001b[0m\n\u001b[0;32m      7\u001b[0m bounds \u001b[38;5;241m=\u001b[39m [(\u001b[38;5;241m0.\u001b[39m, \u001b[38;5;241m4.\u001b[39m),(\u001b[38;5;241m0.\u001b[39m,\u001b[38;5;241m8.\u001b[39m),(\u001b[38;5;241m2.\u001b[39m,\u001b[38;5;241m30.\u001b[39m),(\u001b[38;5;241m0.\u001b[39m,\u001b[38;5;241m5.\u001b[39m),(\u001b[38;5;241m0.\u001b[39m,\u001b[38;5;241m10.\u001b[39m)]\n\u001b[0;32m      9\u001b[0m \u001b[38;5;66;03m# ---------------------------------------------------------------------------\u001b[39;00m\n\u001b[0;32m     10\u001b[0m \u001b[38;5;66;03m# RUN THE OPTIMIZER (e.g., L-BFGS-B without supplying gradients).\u001b[39;00m\n\u001b[0;32m     11\u001b[0m \u001b[38;5;66;03m# This will call negative_log_likelihood(hyp) repeatedly.\u001b[39;00m\n\u001b[0;32m     12\u001b[0m \u001b[38;5;66;03m# ---------------------------------------------------------------------------\u001b[39;00m\n\u001b[1;32m---> 13\u001b[0m result \u001b[38;5;241m=\u001b[39m \u001b[43mminimize\u001b[49m\u001b[43m(\u001b[49m\n\u001b[0;32m     14\u001b[0m \u001b[43m    \u001b[49m\u001b[43mfun\u001b[49m\u001b[38;5;241;43m=\u001b[39;49m\u001b[43mnegative_log_likelihood\u001b[49m\u001b[43m,\u001b[49m\n\u001b[0;32m     15\u001b[0m \u001b[43m    \u001b[49m\u001b[43mx0\u001b[49m\u001b[38;5;241;43m=\u001b[39;49m\u001b[43mhyp0\u001b[49m\u001b[43m,\u001b[49m\n\u001b[0;32m     16\u001b[0m \u001b[43m    \u001b[49m\u001b[43mmethod\u001b[49m\u001b[38;5;241;43m=\u001b[39;49m\u001b[38;5;124;43m\"\u001b[39;49m\u001b[38;5;124;43mL-BFGS-B\u001b[39;49m\u001b[38;5;124;43m\"\u001b[39;49m\u001b[43m,\u001b[49m\n\u001b[0;32m     17\u001b[0m \u001b[43m    \u001b[49m\u001b[43mbounds\u001b[49m\u001b[38;5;241;43m=\u001b[39;49m\u001b[43mbounds\u001b[49m\u001b[43m,\u001b[49m\n\u001b[0;32m     18\u001b[0m \u001b[43m    \u001b[49m\u001b[43moptions\u001b[49m\u001b[38;5;241;43m=\u001b[39;49m\u001b[43m{\u001b[49m\u001b[38;5;124;43m\"\u001b[39;49m\u001b[38;5;124;43mmaxiter\u001b[39;49m\u001b[38;5;124;43m\"\u001b[39;49m\u001b[43m:\u001b[49m\u001b[38;5;241;43m20\u001b[39;49m\u001b[43m,\u001b[49m\u001b[43m \u001b[49m\u001b[38;5;124;43m\"\u001b[39;49m\u001b[38;5;124;43mdisp\u001b[39;49m\u001b[38;5;124;43m\"\u001b[39;49m\u001b[43m:\u001b[49m\u001b[43m \u001b[49m\u001b[38;5;28;43;01mTrue\u001b[39;49;00m\u001b[43m}\u001b[49m\u001b[43m,\u001b[49m\n\u001b[0;32m     19\u001b[0m \u001b[43m)\u001b[49m\n\u001b[0;32m     21\u001b[0m \u001b[38;5;28mprint\u001b[39m(result)\n\u001b[0;32m     22\u001b[0m \u001b[38;5;28mprint\u001b[39m(result\u001b[38;5;241m.\u001b[39mx)\n",
      "File \u001b[1;32m~\\anaconda3\\envs\\jupyterlab-debugger2\\lib\\site-packages\\scipy\\optimize\\_minimize.py:710\u001b[0m, in \u001b[0;36mminimize\u001b[1;34m(fun, x0, args, method, jac, hess, hessp, bounds, constraints, tol, callback, options)\u001b[0m\n\u001b[0;32m    707\u001b[0m     res \u001b[38;5;241m=\u001b[39m _minimize_newtoncg(fun, x0, args, jac, hess, hessp, callback,\n\u001b[0;32m    708\u001b[0m                              \u001b[38;5;241m*\u001b[39m\u001b[38;5;241m*\u001b[39moptions)\n\u001b[0;32m    709\u001b[0m \u001b[38;5;28;01melif\u001b[39;00m meth \u001b[38;5;241m==\u001b[39m \u001b[38;5;124m'\u001b[39m\u001b[38;5;124ml-bfgs-b\u001b[39m\u001b[38;5;124m'\u001b[39m:\n\u001b[1;32m--> 710\u001b[0m     res \u001b[38;5;241m=\u001b[39m _minimize_lbfgsb(fun, x0, args, jac, bounds,\n\u001b[0;32m    711\u001b[0m                            callback\u001b[38;5;241m=\u001b[39mcallback, \u001b[38;5;241m*\u001b[39m\u001b[38;5;241m*\u001b[39moptions)\n\u001b[0;32m    712\u001b[0m \u001b[38;5;28;01melif\u001b[39;00m meth \u001b[38;5;241m==\u001b[39m \u001b[38;5;124m'\u001b[39m\u001b[38;5;124mtnc\u001b[39m\u001b[38;5;124m'\u001b[39m:\n\u001b[0;32m    713\u001b[0m     res \u001b[38;5;241m=\u001b[39m _minimize_tnc(fun, x0, args, jac, bounds, callback\u001b[38;5;241m=\u001b[39mcallback,\n\u001b[0;32m    714\u001b[0m                         \u001b[38;5;241m*\u001b[39m\u001b[38;5;241m*\u001b[39moptions)\n",
      "File \u001b[1;32m~\\anaconda3\\envs\\jupyterlab-debugger2\\lib\\site-packages\\scipy\\optimize\\_lbfgsb_py.py:307\u001b[0m, in \u001b[0;36m_minimize_lbfgsb\u001b[1;34m(fun, x0, args, jac, bounds, disp, maxcor, ftol, gtol, eps, maxfun, maxiter, iprint, callback, maxls, finite_diff_rel_step, **unknown_options)\u001b[0m\n\u001b[0;32m    304\u001b[0m     \u001b[38;5;28;01melse\u001b[39;00m:\n\u001b[0;32m    305\u001b[0m         iprint \u001b[38;5;241m=\u001b[39m disp\n\u001b[1;32m--> 307\u001b[0m sf \u001b[38;5;241m=\u001b[39m \u001b[43m_prepare_scalar_function\u001b[49m\u001b[43m(\u001b[49m\u001b[43mfun\u001b[49m\u001b[43m,\u001b[49m\u001b[43m \u001b[49m\u001b[43mx0\u001b[49m\u001b[43m,\u001b[49m\u001b[43m \u001b[49m\u001b[43mjac\u001b[49m\u001b[38;5;241;43m=\u001b[39;49m\u001b[43mjac\u001b[49m\u001b[43m,\u001b[49m\u001b[43m \u001b[49m\u001b[43margs\u001b[49m\u001b[38;5;241;43m=\u001b[39;49m\u001b[43margs\u001b[49m\u001b[43m,\u001b[49m\u001b[43m \u001b[49m\u001b[43mepsilon\u001b[49m\u001b[38;5;241;43m=\u001b[39;49m\u001b[43meps\u001b[49m\u001b[43m,\u001b[49m\n\u001b[0;32m    308\u001b[0m \u001b[43m                              \u001b[49m\u001b[43mbounds\u001b[49m\u001b[38;5;241;43m=\u001b[39;49m\u001b[43mnew_bounds\u001b[49m\u001b[43m,\u001b[49m\n\u001b[0;32m    309\u001b[0m \u001b[43m                              \u001b[49m\u001b[43mfinite_diff_rel_step\u001b[49m\u001b[38;5;241;43m=\u001b[39;49m\u001b[43mfinite_diff_rel_step\u001b[49m\u001b[43m)\u001b[49m\n\u001b[0;32m    311\u001b[0m func_and_grad \u001b[38;5;241m=\u001b[39m sf\u001b[38;5;241m.\u001b[39mfun_and_grad\n\u001b[0;32m    313\u001b[0m fortran_int \u001b[38;5;241m=\u001b[39m _lbfgsb\u001b[38;5;241m.\u001b[39mtypes\u001b[38;5;241m.\u001b[39mintvar\u001b[38;5;241m.\u001b[39mdtype\n",
      "File \u001b[1;32m~\\anaconda3\\envs\\jupyterlab-debugger2\\lib\\site-packages\\scipy\\optimize\\_optimize.py:383\u001b[0m, in \u001b[0;36m_prepare_scalar_function\u001b[1;34m(fun, x0, jac, args, bounds, epsilon, finite_diff_rel_step, hess)\u001b[0m\n\u001b[0;32m    379\u001b[0m     bounds \u001b[38;5;241m=\u001b[39m (\u001b[38;5;241m-\u001b[39mnp\u001b[38;5;241m.\u001b[39minf, np\u001b[38;5;241m.\u001b[39minf)\n\u001b[0;32m    381\u001b[0m \u001b[38;5;66;03m# ScalarFunction caches. Reuse of fun(x) during grad\u001b[39;00m\n\u001b[0;32m    382\u001b[0m \u001b[38;5;66;03m# calculation reduces overall function evaluations.\u001b[39;00m\n\u001b[1;32m--> 383\u001b[0m sf \u001b[38;5;241m=\u001b[39m \u001b[43mScalarFunction\u001b[49m\u001b[43m(\u001b[49m\u001b[43mfun\u001b[49m\u001b[43m,\u001b[49m\u001b[43m \u001b[49m\u001b[43mx0\u001b[49m\u001b[43m,\u001b[49m\u001b[43m \u001b[49m\u001b[43margs\u001b[49m\u001b[43m,\u001b[49m\u001b[43m \u001b[49m\u001b[43mgrad\u001b[49m\u001b[43m,\u001b[49m\u001b[43m \u001b[49m\u001b[43mhess\u001b[49m\u001b[43m,\u001b[49m\n\u001b[0;32m    384\u001b[0m \u001b[43m                    \u001b[49m\u001b[43mfinite_diff_rel_step\u001b[49m\u001b[43m,\u001b[49m\u001b[43m \u001b[49m\u001b[43mbounds\u001b[49m\u001b[43m,\u001b[49m\u001b[43m \u001b[49m\u001b[43mepsilon\u001b[49m\u001b[38;5;241;43m=\u001b[39;49m\u001b[43mepsilon\u001b[49m\u001b[43m)\u001b[49m\n\u001b[0;32m    386\u001b[0m \u001b[38;5;28;01mreturn\u001b[39;00m sf\n",
      "File \u001b[1;32m~\\anaconda3\\envs\\jupyterlab-debugger2\\lib\\site-packages\\scipy\\optimize\\_differentiable_functions.py:158\u001b[0m, in \u001b[0;36mScalarFunction.__init__\u001b[1;34m(self, fun, x0, args, grad, hess, finite_diff_rel_step, finite_diff_bounds, epsilon)\u001b[0m\n\u001b[0;32m    155\u001b[0m     \u001b[38;5;28mself\u001b[39m\u001b[38;5;241m.\u001b[39mf \u001b[38;5;241m=\u001b[39m fun_wrapped(\u001b[38;5;28mself\u001b[39m\u001b[38;5;241m.\u001b[39mx)\n\u001b[0;32m    157\u001b[0m \u001b[38;5;28mself\u001b[39m\u001b[38;5;241m.\u001b[39m_update_fun_impl \u001b[38;5;241m=\u001b[39m update_fun\n\u001b[1;32m--> 158\u001b[0m \u001b[38;5;28;43mself\u001b[39;49m\u001b[38;5;241;43m.\u001b[39;49m\u001b[43m_update_fun\u001b[49m\u001b[43m(\u001b[49m\u001b[43m)\u001b[49m\n\u001b[0;32m    160\u001b[0m \u001b[38;5;66;03m# Gradient evaluation\u001b[39;00m\n\u001b[0;32m    161\u001b[0m \u001b[38;5;28;01mif\u001b[39;00m \u001b[38;5;28mcallable\u001b[39m(grad):\n",
      "File \u001b[1;32m~\\anaconda3\\envs\\jupyterlab-debugger2\\lib\\site-packages\\scipy\\optimize\\_differentiable_functions.py:251\u001b[0m, in \u001b[0;36mScalarFunction._update_fun\u001b[1;34m(self)\u001b[0m\n\u001b[0;32m    249\u001b[0m \u001b[38;5;28;01mdef\u001b[39;00m \u001b[38;5;21m_update_fun\u001b[39m(\u001b[38;5;28mself\u001b[39m):\n\u001b[0;32m    250\u001b[0m     \u001b[38;5;28;01mif\u001b[39;00m \u001b[38;5;129;01mnot\u001b[39;00m \u001b[38;5;28mself\u001b[39m\u001b[38;5;241m.\u001b[39mf_updated:\n\u001b[1;32m--> 251\u001b[0m         \u001b[38;5;28;43mself\u001b[39;49m\u001b[38;5;241;43m.\u001b[39;49m\u001b[43m_update_fun_impl\u001b[49m\u001b[43m(\u001b[49m\u001b[43m)\u001b[49m\n\u001b[0;32m    252\u001b[0m         \u001b[38;5;28mself\u001b[39m\u001b[38;5;241m.\u001b[39mf_updated \u001b[38;5;241m=\u001b[39m \u001b[38;5;28;01mTrue\u001b[39;00m\n",
      "File \u001b[1;32m~\\anaconda3\\envs\\jupyterlab-debugger2\\lib\\site-packages\\scipy\\optimize\\_differentiable_functions.py:155\u001b[0m, in \u001b[0;36mScalarFunction.__init__.<locals>.update_fun\u001b[1;34m()\u001b[0m\n\u001b[0;32m    154\u001b[0m \u001b[38;5;28;01mdef\u001b[39;00m \u001b[38;5;21mupdate_fun\u001b[39m():\n\u001b[1;32m--> 155\u001b[0m     \u001b[38;5;28mself\u001b[39m\u001b[38;5;241m.\u001b[39mf \u001b[38;5;241m=\u001b[39m \u001b[43mfun_wrapped\u001b[49m\u001b[43m(\u001b[49m\u001b[38;5;28;43mself\u001b[39;49m\u001b[38;5;241;43m.\u001b[39;49m\u001b[43mx\u001b[49m\u001b[43m)\u001b[49m\n",
      "File \u001b[1;32m~\\anaconda3\\envs\\jupyterlab-debugger2\\lib\\site-packages\\scipy\\optimize\\_differentiable_functions.py:137\u001b[0m, in \u001b[0;36mScalarFunction.__init__.<locals>.fun_wrapped\u001b[1;34m(x)\u001b[0m\n\u001b[0;32m    133\u001b[0m \u001b[38;5;28mself\u001b[39m\u001b[38;5;241m.\u001b[39mnfev \u001b[38;5;241m+\u001b[39m\u001b[38;5;241m=\u001b[39m \u001b[38;5;241m1\u001b[39m\n\u001b[0;32m    134\u001b[0m \u001b[38;5;66;03m# Send a copy because the user may overwrite it.\u001b[39;00m\n\u001b[0;32m    135\u001b[0m \u001b[38;5;66;03m# Overwriting results in undefined behaviour because\u001b[39;00m\n\u001b[0;32m    136\u001b[0m \u001b[38;5;66;03m# fun(self.x) will change self.x, with the two no longer linked.\u001b[39;00m\n\u001b[1;32m--> 137\u001b[0m fx \u001b[38;5;241m=\u001b[39m \u001b[43mfun\u001b[49m\u001b[43m(\u001b[49m\u001b[43mnp\u001b[49m\u001b[38;5;241;43m.\u001b[39;49m\u001b[43mcopy\u001b[49m\u001b[43m(\u001b[49m\u001b[43mx\u001b[49m\u001b[43m)\u001b[49m\u001b[43m,\u001b[49m\u001b[43m \u001b[49m\u001b[38;5;241;43m*\u001b[39;49m\u001b[43margs\u001b[49m\u001b[43m)\u001b[49m\n\u001b[0;32m    138\u001b[0m \u001b[38;5;66;03m# Make sure the function returns a true scalar\u001b[39;00m\n\u001b[0;32m    139\u001b[0m \u001b[38;5;28;01mif\u001b[39;00m \u001b[38;5;129;01mnot\u001b[39;00m np\u001b[38;5;241m.\u001b[39misscalar(fx):\n",
      "Cell \u001b[1;32mIn[4], line 14\u001b[0m, in \u001b[0;36mnegative_log_likelihood\u001b[1;34m(hyp_np)\u001b[0m\n\u001b[0;32m      2\u001b[0m \u001b[38;5;250m\u001b[39m\u001b[38;5;124;03m\"\"\"\u001b[39;00m\n\u001b[0;32m      3\u001b[0m \u001b[38;5;124;03mCompute the negative log marginal likelihood for N independent outputs,\u001b[39;00m\n\u001b[0;32m      4\u001b[0m \u001b[38;5;124;03meach of dimension n = 4901, under a zero-mean Gaussian with covariance K = cov(hyp).\u001b[39;00m\n\u001b[0;32m      5\u001b[0m \u001b[38;5;124;03my has shape (n, N).  This operates on the GPU (CuPy) except for returning\u001b[39;00m\n\u001b[0;32m      6\u001b[0m \u001b[38;5;124;03ma Python float at the end.\u001b[39;00m\n\u001b[0;32m      7\u001b[0m \u001b[38;5;124;03m\"\"\"\u001b[39;00m\n\u001b[0;32m      8\u001b[0m \u001b[38;5;66;03m#print(np.exp(hyp_np))\u001b[39;00m\n\u001b[0;32m      9\u001b[0m \u001b[38;5;66;03m#print(hyp_np[2])\u001b[39;00m\n\u001b[0;32m     10\u001b[0m \u001b[38;5;66;03m# 1) Convert hyp from NumPy to CuPy:\u001b[39;00m\n\u001b[0;32m     11\u001b[0m \u001b[38;5;66;03m#hyp_gpu = cp.asarray(hyp_np, dtype=cp.float64)\u001b[39;00m\n\u001b[0;32m     12\u001b[0m \n\u001b[0;32m     13\u001b[0m \u001b[38;5;66;03m# 2) Build the n×n covariance matrix on the GPU:\u001b[39;00m\n\u001b[1;32m---> 14\u001b[0m K \u001b[38;5;241m=\u001b[39m \u001b[43mcov\u001b[49m\u001b[43m(\u001b[49m\u001b[43mhyp_np\u001b[49m\u001b[43m)\u001b[49m  \u001b[38;5;66;03m# shape (n, n), dtype=float64\u001b[39;00m\n\u001b[0;32m     15\u001b[0m \u001b[38;5;66;03m#K = np.exp(hyp_np[0])**2 * cp.eye(4900)\u001b[39;00m\n\u001b[0;32m     16\u001b[0m \n\u001b[0;32m     17\u001b[0m \u001b[38;5;66;03m# 3) Add jitter on the diagonal for numerical stability:\u001b[39;00m\n\u001b[0;32m     18\u001b[0m n, N \u001b[38;5;241m=\u001b[39m y\u001b[38;5;241m.\u001b[39mshape  \u001b[38;5;66;03m# n should be 4901, N is the number of columns\u001b[39;00m\n",
      "Cell \u001b[1;32mIn[5], line 10\u001b[0m, in \u001b[0;36mcov\u001b[1;34m(hyp)\u001b[0m\n\u001b[0;32m      8\u001b[0m prior\u001b[38;5;241m.\u001b[39msigma_mean \u001b[38;5;241m=\u001b[39m np\u001b[38;5;241m.\u001b[39mexp(hyp[\u001b[38;5;241m4\u001b[39m])\n\u001b[0;32m      9\u001b[0m prior\u001b[38;5;241m.\u001b[39mcompute_P\u001b[38;5;241m=\u001b[39m\u001b[38;5;28;01mFalse\u001b[39;00m\n\u001b[1;32m---> 10\u001b[0m \u001b[43mprior\u001b[49m\u001b[38;5;241;43m.\u001b[39;49m\u001b[43mbasis_functions\u001b[49m\u001b[43m(\u001b[49m\u001b[43m)\u001b[49m    \n\u001b[0;32m     11\u001b[0m \u001b[38;5;28;01mreturn\u001b[39;00m prior\u001b[38;5;241m.\u001b[39mK\n",
      "File \u001b[1;32mf:\\seismic/code/core\\seis_prior.py:17\u001b[0m, in \u001b[0;36mPrior.basis_functions\u001b[1;34m(self)\u001b[0m\n\u001b[0;32m     16\u001b[0m \u001b[38;5;28;01mdef\u001b[39;00m \u001b[38;5;21mbasis_functions\u001b[39m(\u001b[38;5;28mself\u001b[39m):\n\u001b[1;32m---> 17\u001b[0m     res \u001b[38;5;241m=\u001b[39m \u001b[38;5;28;43mself\u001b[39;49m\u001b[38;5;241;43m.\u001b[39;49m\u001b[43m_basis_functions\u001b[49m\u001b[43m(\u001b[49m\u001b[43m)\u001b[49m\n\u001b[0;32m     18\u001b[0m     \u001b[38;5;66;03m#assert type(res)==cp.ndarray\u001b[39;00m\n\u001b[0;32m     19\u001b[0m     \u001b[38;5;28;01massert\u001b[39;00m res\u001b[38;5;241m.\u001b[39mdtype \u001b[38;5;241m==\u001b[39m kgs\u001b[38;5;241m.\u001b[39mbase_type_gpu\n",
      "File \u001b[1;32mf:\\seismic/code/core\\seis_prior.py:131\u001b[0m, in \u001b[0;36mSquaredExponential._basis_functions\u001b[1;34m(self)\u001b[0m\n\u001b[0;32m    126\u001b[0m \u001b[38;5;66;03m#import cupyx.scipy.sparse\u001b[39;00m\n\u001b[0;32m    127\u001b[0m \u001b[38;5;66;03m#basis_vectors = cupyx.scipy.sparse.identity(4901, dtype=kgs.base_type_gpu)\u001b[39;00m\n\u001b[0;32m    130\u001b[0m basis_vectors \u001b[38;5;241m=\u001b[39m cp\u001b[38;5;241m.\u001b[39meye(\u001b[38;5;241m4901\u001b[39m, dtype\u001b[38;5;241m=\u001b[39mkgs\u001b[38;5;241m.\u001b[39mbase_type_gpu)\n\u001b[1;32m--> 131\u001b[0m \u001b[38;5;28;01mif\u001b[39;00m \u001b[43mtransform\u001b[49m:\n\u001b[0;32m    132\u001b[0m     \u001b[38;5;28;01mraise\u001b[39;00m \u001b[38;5;124m'\u001b[39m\u001b[38;5;124madd min_vel\u001b[39m\u001b[38;5;124m'\u001b[39m\n\u001b[0;32m    133\u001b[0m     basis_vectors \u001b[38;5;241m=\u001b[39m U\u001b[38;5;241m*\u001b[39mcp\u001b[38;5;241m.\u001b[39mdiag(cp\u001b[38;5;241m.\u001b[39msqrt(s))\n",
      "\u001b[1;31mNameError\u001b[0m: name 'transform' is not defined"
     ]
    }
   ],
   "source": [
    "_jitter = 0.\n",
    "\n",
    "d_hyp = len(hyp0)  # Example: 5 hyperparameters; change as needed.\n",
    "\n",
    "y=full_y\n",
    "# Optionally, specify bounds for log(hyp_j):\n",
    "bounds = [(0., 4.),(0.,8.),(2.,30.),(0.,5.),(0.,10.)]\n",
    "\n",
    "# ---------------------------------------------------------------------------\n",
    "# RUN THE OPTIMIZER (e.g., L-BFGS-B without supplying gradients).\n",
    "# This will call negative_log_likelihood(hyp) repeatedly.\n",
    "# ---------------------------------------------------------------------------\n",
    "result = minimize(\n",
    "    fun=negative_log_likelihood,\n",
    "    x0=hyp0,\n",
    "    method=\"L-BFGS-B\",\n",
    "    bounds=bounds,\n",
    "    options={\"maxiter\":20, \"disp\": True},\n",
    ")\n",
    "\n",
    "print(result)\n",
    "print(result.x)"
   ]
  },
  {
   "cell_type": "code",
   "execution_count": null,
   "id": "c85b1cfa-2e4d-41f6-a163-cf198e4ee0ba",
   "metadata": {},
   "outputs": [],
   "source": [
    "importlib.reload(seis_prior)\n",
    "hyp = copy.deepcopy(result.x)\n",
    "#hyp[3]=np.log(1000)\n",
    "K= cov(hyp)\n",
    "NN=10"
   ]
  },
  {
   "cell_type": "code",
   "execution_count": null,
   "id": "d0b1a14b-7eb3-48d4-bdc7-2eeb7f04999f",
   "metadata": {},
   "outputs": [],
   "source": [
    "samples = np.random.default_rng(seed=0).multivariate_normal(np.zeros(4900), cp.asnumpy(K), size=(NN))"
   ]
  },
  {
   "cell_type": "code",
   "execution_count": null,
   "id": "59079550-bbf1-46f4-8bc4-5f1c80ecc6cd",
   "metadata": {},
   "outputs": [],
   "source": [
    "for ii in range(NN):\n",
    "    _,ax=plt.subplots(1,2,figsize=(12,6))\n",
    "    plt.sca(ax[0])\n",
    "    plt.imshow(np.reshape(samples[ii,:], (70,70)));plt.colorbar()\n",
    "    plt.sca(ax[1])\n",
    "    plt.imshow(cp.asnumpy(cp.reshape(y[:,ii], (70,70))));plt.colorbar()"
   ]
  },
  {
   "cell_type": "code",
   "execution_count": null,
   "id": "aaefb35d-3062-49cb-b374-52f98dd85c8b",
   "metadata": {},
   "outputs": [],
   "source": [
    "NN=10\n",
    "sigma = []\n",
    "length = []\n",
    "for ii in range(NN):\n",
    "    y = full_y[:,ii:ii+1]\n",
    "    hyp0 = copy.deepcopy(result.x)\n",
    "    # Optionally, specify bounds for log(hyp_j):\n",
    "    bounds = [(x,x) for x in hyp0]\n",
    "    bounds[1] = (0,8)\n",
    "    bounds[2] = (2.,30.)\n",
    "    \n",
    "    # ---------------------------------------------------------------------------\n",
    "    # RUN THE OPTIMIZER (e.g., L-BFGS-B without supplying gradients).\n",
    "    # This will call negative_log_likelihood(hyp) repeatedly.\n",
    "    # ---------------------------------------------------------------------------\n",
    "    result2 = minimize(\n",
    "        fun=negative_log_likelihood,\n",
    "        x0=hyp0,\n",
    "        method=\"L-BFGS-B\",\n",
    "        bounds=bounds,\n",
    "        options={\"maxiter\":5, \"disp\": True},\n",
    "    )\n",
    "\n",
    "    sigma.append(np.exp(result2.x[1]))\n",
    "    length.append(result2.x[2])\n",
    "plt.figure()\n",
    "plt.scatter(sigma,length)\n",
    "plt.grid(True)\n",
    "plt.xlabel('sigma')\n",
    "plt.ylabel('length')"
   ]
  },
  {
   "cell_type": "code",
   "execution_count": null,
   "id": "783b7ff9-729a-41a3-af98-cbf4da40de48",
   "metadata": {},
   "outputs": [],
   "source": [
    "full_y.shape"
   ]
  },
  {
   "cell_type": "code",
   "execution_count": null,
   "id": "994a6f49-f32e-42b3-9c81-16bac13ac29d",
   "metadata": {},
   "outputs": [],
   "source": [
    "np.log(73)"
   ]
  },
  {
   "cell_type": "code",
   "execution_count": null,
   "id": "c377e18c-5973-48d7-b5c8-222168a41952",
   "metadata": {},
   "outputs": [],
   "source": []
  }
 ],
 "metadata": {
  "kernelspec": {
   "display_name": "Python 3 (ipykernel)",
   "language": "python",
   "name": "python3"
  },
  "language_info": {
   "codemirror_mode": {
    "name": "ipython",
    "version": 3
   },
   "file_extension": ".py",
   "mimetype": "text/x-python",
   "name": "python",
   "nbconvert_exporter": "python",
   "pygments_lexer": "ipython3",
   "version": "3.10.14"
  }
 },
 "nbformat": 4,
 "nbformat_minor": 5
}
