{
 "cells": [
  {
   "cell_type": "code",
   "execution_count": 1,
   "id": "4a420e8d-0c30-4826-a748-d3a7d3352aca",
   "metadata": {},
   "outputs": [],
   "source": [
    "import sys\n",
    "sys.path.append('f:/seismic/code/core')\n",
    "sys.path.append('/seismic/code/core')\n",
    "sys.path.append('/kaggle/input/my-seismic-library/')\n",
    "import kaggle_support as kgs\n",
    "import importlib\n",
    "import numpy as np\n",
    "import matplotlib.pyplot as plt\n",
    "import glob\n",
    "import copy\n",
    "import os\n",
    "import seis_nn"
   ]
  },
  {
   "cell_type": "code",
   "execution_count": 2,
   "id": "56d1d923-3795-4479-908d-19fe4e434451",
   "metadata": {},
   "outputs": [],
   "source": [
    "# import seis_test\n",
    "# seis_test.run_all_tests()"
   ]
  },
  {
   "cell_type": "code",
   "execution_count": 3,
   "id": "904e4a70-94ed-45e7-b6d6-6591add3ffb9",
   "metadata": {},
   "outputs": [
    {
     "data": {
      "text/plain": [
       "5000"
      ]
     },
     "execution_count": 3,
     "metadata": {},
     "output_type": "execute_result"
    }
   ],
   "source": [
    "importlib.reload(kgs)\n",
    "data=kgs.load_all_train_data(validation_only=True)\n",
    "len(data)"
   ]
  },
  {
   "cell_type": "code",
   "execution_count": 4,
   "id": "723f85cb-6420-4097-9cde-f9ae311df67f",
   "metadata": {},
   "outputs": [
    {
     "name": "stdout",
     "output_type": "stream",
     "text": [
      "F:/seismic/models/brendan/*.pth\n",
      "Loading:  F:/seismic/models/brendan\\unet2d_caformer_seed3_epochbest.pt\n",
      "1\n",
      "n_models: 1\n"
     ]
    }
   ],
   "source": [
    "importlib.reload(seis_nn)\n",
    "model = seis_nn.make_default_pretrained()"
   ]
  },
  {
   "cell_type": "code",
   "execution_count": 5,
   "id": "aec75cd0-9d2c-4256-a1f0-773b0e25563b",
   "metadata": {},
   "outputs": [
    {
     "name": "stderr",
     "output_type": "stream",
     "text": [
      "100%|██████████████████████████████████████████████████████████████████████████████| 1251/1251 [02:02<00:00, 10.17it/s]\n"
     ]
    }
   ],
   "source": [
    "model.read_cache=False\n",
    "data_out = model.infer(data)"
   ]
  },
  {
   "cell_type": "code",
   "execution_count": 6,
   "id": "b798bd79-25a1-42f8-bb0e-3fe5947d53bf",
   "metadata": {},
   "outputs": [
    {
     "name": "stdout",
     "output_type": "stream",
     "text": [
      "         family      score\n",
      "0  CurveFault_A   3.800161\n",
      "1  CurveFault_B  69.521235\n",
      "2    CurveVel_A   9.457390\n",
      "3    CurveVel_B  38.303342\n",
      "4   FlatFault_A   2.421895\n",
      "5   FlatFault_B  24.408523\n",
      "6     FlatVel_A   1.200182\n",
      "7     FlatVel_B   7.354670\n",
      "8       Style_A  35.713605\n",
      "9       Style_B  49.062366\n",
      "Combined:  24.12433676657167\n"
     ]
    }
   ],
   "source": [
    "kgs.score_metric(data_out);\n",
    "del data_out"
   ]
  },
  {
   "cell_type": "code",
   "execution_count": 7,
   "id": "472fac14-ffbd-4e71-a403-13a7d8b947fe",
   "metadata": {},
   "outputs": [],
   "source": [
    "# import cupy as cp\n",
    "# for i_base in range(10):\n",
    "#     for ii in 500*i_base+np.arange(1):\n",
    "#         data_out[ii].velocity.load_to_memory()\n",
    "#         print(ii, data_out[ii].family, cp.mean(cp.abs(data_out[ii].velocity.data-data_out[ii].velocity_guess.data)), (data_out[ii].velocity.data-data_out[ii].velocity_guess.data)[0,0], \n",
    "#              (data_out[ii].velocity.data-data_out[ii].velocity_guess.data)[-1,-1])\n",
    "#         plt.figure();plt.imshow(cp.asnumpy(data_out[ii].velocity.data));plt.colorbar()\n",
    "#         plt.figure();plt.imshow(cp.asnumpy(data_out[ii].velocity_guess.data));plt.colorbar()\n",
    "#         plt.figure();plt.imshow(cp.asnumpy(data_out[ii].velocity.data-data_out[ii].velocity_guess.data));plt.colorbar()        \n",
    "#         plt.pause(0.0001)"
   ]
  },
  {
   "cell_type": "code",
   "execution_count": null,
   "id": "5e144076-aac9-4bf0-9d6e-ca57a61c9f44",
   "metadata": {},
   "outputs": [
    {
     "name": "stdout",
     "output_type": "stream",
     "text": [
      "F:/seismic/models/brendan/*.pth\n",
      "Loading:  F:/seismic/models/brendan\\unet2d_caformer_seed3_epochbest.pt\n",
      "1\n",
      "n_models: 1\n",
      "65818\n",
      "F:/seismic/models/brendan/*.pth\n",
      "Loading:  F:/seismic/models/brendan\\unet2d_caformer_seed3_epochbest.pt\n",
      "1\n",
      "n_models: 1\n"
     ]
    },
    {
     "name": "stderr",
     "output_type": "stream",
     "text": [
      "  5%|███▉                                                                          | 818/16455 [01:36<37:39,  6.92it/s]"
     ]
    }
   ],
   "source": [
    "importlib.reload(kgs)\n",
    "importlib.reload(seis_nn)\n",
    "data = kgs.load_all_test_data()\n",
    "print(len(data))\n",
    "model = seis_nn.make_default_pretrained()\n",
    "data_out = model.infer(data)"
   ]
  },
  {
   "cell_type": "code",
   "execution_count": null,
   "id": "7057cf7d-1072-411c-8aa5-3c35df6914f7",
   "metadata": {},
   "outputs": [],
   "source": [
    "kgs.dill_save(kgs.temp_dir + 'baseline.pickle', data_out)"
   ]
  },
  {
   "cell_type": "code",
   "execution_count": null,
   "id": "f57cbbc3-ffc7-4833-814e-0487a61eed1b",
   "metadata": {},
   "outputs": [],
   "source": [
    "data_out = kgs.dill_load(kgs.temp_dir + 'baseline.pickle')"
   ]
  },
  {
   "cell_type": "code",
   "execution_count": null,
   "id": "9dc5e38f-a089-40ab-a025-0a4fe12a1cef",
   "metadata": {},
   "outputs": [],
   "source": [
    "importlib.reload(kgs)\n",
    "kgs.write_submission_file(data_out)"
   ]
  },
  {
   "cell_type": "code",
   "execution_count": null,
   "id": "aedc1f8f-2458-4151-b3d4-aa24321b4752",
   "metadata": {},
   "outputs": [],
   "source": []
  }
 ],
 "metadata": {
  "kernelspec": {
   "display_name": "Python 3 (ipykernel)",
   "language": "python",
   "name": "python3"
  },
  "language_info": {
   "codemirror_mode": {
    "name": "ipython",
    "version": 3
   },
   "file_extension": ".py",
   "mimetype": "text/x-python",
   "name": "python",
   "nbconvert_exporter": "python",
   "pygments_lexer": "ipython3",
   "version": "3.10.14"
  }
 },
 "nbformat": 4,
 "nbformat_minor": 5
}
