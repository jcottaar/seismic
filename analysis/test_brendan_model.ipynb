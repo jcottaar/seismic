{
 "cells": [
  {
   "cell_type": "code",
   "execution_count": 1,
   "id": "4a420e8d-0c30-4826-a748-d3a7d3352aca",
   "metadata": {},
   "outputs": [
    {
     "data": {
      "text/plain": [
       "<matplotlib.collections.PathCollection at 0x288560548b0>"
      ]
     },
     "execution_count": 1,
     "metadata": {},
     "output_type": "execute_result"
    },
    {
     "data": {
      "image/png": "[encoded data removed]",
      "text/plain": [
       "<Figure size 640x480 with 1 Axes>"
      ]
     },
     "metadata": {},
     "output_type": "display_data"
    }
   ],
   "source": [
    "import sys\n",
    "sys.path.append('f:/seismic/code/core')\n",
    "sys.path.append('/seismic/code/core')\n",
    "sys.path.append('/kaggle/input/my-seismic-library/')\n",
    "import kaggle_support as kgs\n",
    "import importlib\n",
    "import numpy as np\n",
    "import matplotlib.pyplot as plt\n",
    "import glob\n",
    "import copy\n",
    "import os\n",
    "import seis_forward\n",
    "import seis_nn\n",
    "import seis_test\n",
    "plt.scatter([0,1],[1,2])\n",
    "#fls.download_kaggle_dataset('jeroencottaar/byu-many-models-2/', fls.result_dir + '/many_full_res/')"
   ]
  },
  {
   "cell_type": "code",
   "execution_count": 2,
   "id": "56d1d923-3795-4479-908d-19fe4e434451",
   "metadata": {},
   "outputs": [
    {
     "name": "stdout",
     "output_type": "stream",
     "text": [
      "3.544453883175856e-05\n",
      "1.5741465383079042e-05\n",
      "All tests passed!\n"
     ]
    }
   ],
   "source": [
    "import seis_test\n",
    "seis_test.run_all_tests()"
   ]
  },
  {
   "cell_type": "code",
   "execution_count": 3,
   "id": "904e4a70-94ed-45e7-b6d6-6591add3ffb9",
   "metadata": {},
   "outputs": [
    {
     "data": {
      "text/plain": [
       "5000"
      ]
     },
     "execution_count": 3,
     "metadata": {},
     "output_type": "execute_result"
    }
   ],
   "source": [
    "importlib.reload(kgs)\n",
    "data=kgs.load_all_train_data(validation_only=True)\n",
    "len(data)"
   ]
  },
  {
   "cell_type": "code",
   "execution_count": 4,
   "id": "723f85cb-6420-4097-9cde-f9ae311df67f",
   "metadata": {},
   "outputs": [
    {
     "name": "stdout",
     "output_type": "stream",
     "text": [
      "F:/seismic/models/brendan/*.pth\n",
      "Loading:  F:/seismic/models/brendan\\bartley_unet2d_convnext_seed1_epochbest_FT.pth\n",
      "Replacing all activations with GELU...\n",
      "Replacing all norms with InstanceNorm...\n",
      "Replacing forward functions...\n",
      "Loading:  F:/seismic/models/brendan\\bartley_unet2d_convnext_seed2_epochbest_FT.pth\n",
      "Replacing all activations with GELU...\n",
      "Replacing all norms with InstanceNorm...\n",
      "Replacing forward functions...\n",
      "n_models: 2\n"
     ]
    }
   ],
   "source": [
    "importlib.reload(seis_nn)\n",
    "model = seis_nn.make_default_pretrained()"
   ]
  },
  {
   "cell_type": "code",
   "execution_count": 5,
   "id": "aec75cd0-9d2c-4256-a1f0-773b0e25563b",
   "metadata": {},
   "outputs": [
    {
     "name": "stderr",
     "output_type": "stream",
     "text": [
      "\n",
      "00%|██████████████████████████████████████████████████████████████████████████████████| 17/17 [00:53<00:00,  3.15s/it]"
     ]
    }
   ],
   "source": [
    "model.read_cache=False\n",
    "data_out = model.infer(data)"
   ]
  },
  {
   "cell_type": "code",
   "execution_count": 6,
   "id": "b798bd79-25a1-42f8-bb0e-3fe5947d53bf",
   "metadata": {},
   "outputs": [
    {
     "name": "stdout",
     "output_type": "stream",
     "text": [
      "         family      score\n",
      "0  CurveFault_A   4.556020\n",
      "1  CurveFault_B  86.555970\n",
      "2    CurveVel_A  12.532248\n",
      "3    CurveVel_B  46.475796\n",
      "4   FlatFault_A   3.107606\n",
      "5   FlatFault_B  33.492327\n",
      "6     FlatVel_A   1.616611\n",
      "7     FlatVel_B   8.586432\n",
      "8       Style_A  36.136412\n",
      "9       Style_B  55.954558\n",
      "Combined:  28.901398133948504\n"
     ]
    }
   ],
   "source": [
    "kgs.score_metric(data_out);\n",
    "del data_out"
   ]
  },
  {
   "cell_type": "code",
   "execution_count": 7,
   "id": "472fac14-ffbd-4e71-a403-13a7d8b947fe",
   "metadata": {},
   "outputs": [],
   "source": [
    "# import cupy as cp\n",
    "# for i_base in range(10):\n",
    "#     for ii in 500*i_base+np.arange(1):\n",
    "#         data_out[ii].velocity.load_to_memory()\n",
    "#         print(ii, data_out[ii].family, cp.mean(cp.abs(data_out[ii].velocity.data-data_out[ii].velocity_guess.data)), (data_out[ii].velocity.data-data_out[ii].velocity_guess.data)[0,0], \n",
    "#              (data_out[ii].velocity.data-data_out[ii].velocity_guess.data)[-1,-1])\n",
    "#         plt.figure();plt.imshow(cp.asnumpy(data_out[ii].velocity.data));plt.colorbar()\n",
    "#         plt.figure();plt.imshow(cp.asnumpy(data_out[ii].velocity_guess.data));plt.colorbar()\n",
    "#         plt.figure();plt.imshow(cp.asnumpy(data_out[ii].velocity.data-data_out[ii].velocity_guess.data));plt.colorbar()        \n",
    "#         plt.pause(0.0001)"
   ]
  },
  {
   "cell_type": "code",
   "execution_count": 8,
   "id": "5e144076-aac9-4bf0-9d6e-ca57a61c9f44",
   "metadata": {},
   "outputs": [
    {
     "name": "stdout",
     "output_type": "stream",
     "text": [
      "65818\n",
      "F:/seismic/models/brendan/*.pth\n",
      "Loading:  F:/seismic/models/brendan\\bartley_unet2d_convnext_seed1_epochbest_FT.pth\n",
      "Replacing all activations with GELU...\n",
      "Replacing all norms with InstanceNorm...\n",
      "Replacing forward functions...\n",
      "Loading:  F:/seismic/models/brendan\\bartley_unet2d_convnext_seed2_epochbest_FT.pth\n",
      "Replacing all activations with GELU...\n",
      "Replacing all norms with InstanceNorm...\n",
      "Replacing forward functions...\n",
      "n_models: 2\n"
     ]
    }
   ],
   "source": [
    "importlib.reload(kgs)\n",
    "importlib.reload(seis_nn)\n",
    "data = kgs.load_all_test_data()\n",
    "print(len(data))\n",
    "model = seis_nn.make_default_pretrained()\n",
    "data_out = model.infer(data)"
   ]
  },
  {
   "cell_type": "code",
   "execution_count": 9,
   "id": "7057cf7d-1072-411c-8aa5-3c35df6914f7",
   "metadata": {},
   "outputs": [],
   "source": [
    "kgs.dill_save(kgs.temp_dir + 'baseline.pickle', data_out)"
   ]
  },
  {
   "cell_type": "code",
   "execution_count": 10,
   "id": "f57cbbc3-ffc7-4833-814e-0487a61eed1b",
   "metadata": {},
   "outputs": [
    {
     "ename": "TypeError",
     "evalue": "dill_load() takes 1 positional argument but 2 were given",
     "output_type": "error",
     "traceback": [
      "\u001b[1;31m---------------------------------------------------------------------------\u001b[0m",
      "\u001b[1;31mTypeError\u001b[0m                                 Traceback (most recent call last)",
      "Cell \u001b[1;32mIn[10], line 1\u001b[0m\n\u001b[1;32m----> 1\u001b[0m data_out \u001b[38;5;241m=\u001b[39m \u001b[43mkgs\u001b[49m\u001b[38;5;241;43m.\u001b[39;49m\u001b[43mdill_load\u001b[49m\u001b[43m(\u001b[49m\u001b[43mkgs\u001b[49m\u001b[38;5;241;43m.\u001b[39;49m\u001b[43mtemp_dir\u001b[49m\u001b[43m \u001b[49m\u001b[38;5;241;43m+\u001b[39;49m\u001b[43m \u001b[49m\u001b[38;5;124;43m'\u001b[39;49m\u001b[38;5;124;43mbaseline.pickle\u001b[39;49m\u001b[38;5;124;43m'\u001b[39;49m\u001b[43m,\u001b[49m\u001b[43m \u001b[49m\u001b[43mdata_out\u001b[49m\u001b[43m)\u001b[49m\n",
      "\u001b[1;31mTypeError\u001b[0m: dill_load() takes 1 positional argument but 2 were given"
     ]
    }
   ],
   "source": [
    "data_out = kgs.dill_load(kgs.temp_dir + 'baseline.pickle', data_out)"
   ]
  },
  {
   "cell_type": "code",
   "execution_count": null,
   "id": "9dc5e38f-a089-40ab-a025-0a4fe12a1cef",
   "metadata": {},
   "outputs": [],
   "source": [
    "importlib.reload(kgs)\n",
    "kgs.write_submission_file(data_out)"
   ]
  },
  {
   "cell_type": "code",
   "execution_count": null,
   "id": "756e1cf7-b982-48eb-842c-f187be4ff0c7",
   "metadata": {},
   "outputs": [],
   "source": [
    "model.model"
   ]
  },
  {
   "cell_type": "code",
   "execution_count": null,
   "id": "734ffc0f-46e9-41c6-81af-1da4a9561448",
   "metadata": {},
   "outputs": [],
   "source": []
  }
 ],
 "metadata": {
  "kernelspec": {
   "display_name": "Python 3 (ipykernel)",
   "language": "python",
   "name": "python3"
  },
  "language_info": {
   "codemirror_mode": {
    "name": "ipython",
    "version": 3
   },
   "file_extension": ".py",
   "mimetype": "text/x-python",
   "name": "python",
   "nbconvert_exporter": "python",
   "pygments_lexer": "ipython3",
   "version": "3.10.14"
  }
 },
 "nbformat": 4,
 "nbformat_minor": 5
}
