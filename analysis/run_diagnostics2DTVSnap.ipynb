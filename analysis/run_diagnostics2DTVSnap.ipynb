{
 "cells": [
  {
   "cell_type": "code",
   "execution_count": 22,
   "id": "4a420e8d-0c30-4826-a748-d3a7d3352aca",
   "metadata": {},
   "outputs": [],
   "source": [
    "import sys\n",
    "sys.path.append('f:/seismic/code/core')\n",
    "sys.path.append('/seismic/code/core')\n",
    "sys.path.append('/kaggle/input/my-seis-library/')\n",
    "import kaggle_support as kgs\n",
    "import importlib\n",
    "import numpy as np\n",
    "import matplotlib.pyplot as plt\n",
    "import glob\n",
    "import copy\n",
    "import os\n",
    "import seis_test\n",
    "import seis_invert\n",
    "import seis_prior\n",
    "#import seis_nn\n",
    "import cupy as cp\n",
    "import seis_diagnostics\n",
    "import seis_forward\n",
    "import seis_forward2\n",
    "import seis_model\n",
    "import seis_numerics"
   ]
  },
  {
   "cell_type": "code",
   "execution_count": 1,
   "id": "65957361-67c5-41b2-9e3c-ac69261d6163",
   "metadata": {},
   "outputs": [
    {
     "ename": "NameError",
     "evalue": "name 'kgs' is not defined",
     "output_type": "error",
     "traceback": [
      "\u001b[1;31m---------------------------------------------------------------------------\u001b[0m",
      "\u001b[1;31mNameError\u001b[0m                                 Traceback (most recent call last)",
      "Cell \u001b[1;32mIn[1], line 1\u001b[0m\n\u001b[1;32m----> 1\u001b[0m data\u001b[38;5;241m=\u001b[39m\u001b[43mkgs\u001b[49m\u001b[38;5;241m.\u001b[39mload_all_train_data(validation_only\u001b[38;5;241m=\u001b[39m\u001b[38;5;28;01mTrue\u001b[39;00m)[\u001b[38;5;241m1500\u001b[39m:\u001b[38;5;241m2000\u001b[39m][::\u001b[38;5;241m2\u001b[39m]\n\u001b[0;32m      2\u001b[0m data\u001b[38;5;241m=\u001b[39mkgs\u001b[38;5;241m.\u001b[39mload_all_train_data(validation_only\u001b[38;5;241m=\u001b[39m\u001b[38;5;28;01mTrue\u001b[39;00m)[\u001b[38;5;241m0\u001b[39m:\u001b[38;5;241m500\u001b[39m][::\u001b[38;5;241m2\u001b[39m]\n\u001b[0;32m      3\u001b[0m np\u001b[38;5;241m.\u001b[39mrandom\u001b[38;5;241m.\u001b[39mdefault_rng(seed\u001b[38;5;241m=\u001b[39m\u001b[38;5;241m0\u001b[39m)\u001b[38;5;241m.\u001b[39mshuffle(data)\n",
      "\u001b[1;31mNameError\u001b[0m: name 'kgs' is not defined"
     ]
    }
   ],
   "source": [
    "data=kgs.load_all_train_data(validation_only=True)[1500:2000][::2]\n",
    "data=kgs.load_all_train_data(validation_only=True)[0:500][::2]\n",
    "np.random.default_rng(seed=0).shuffle(data)\n",
    "print(data[0].family)"
   ]
  },
  {
   "cell_type": "code",
   "execution_count": null,
   "id": "7cb34d28-88b1-489a-8615-f813f31f0159",
   "metadata": {},
   "outputs": [],
   "source": [
    "importlib.reload(seis_prior)\n",
    "importlib.reload(seis_diagnostics)\n",
    "importlib.reload(seis_invert)\n",
    "importlib.reload(seis_forward)\n",
    "importlib.reload(seis_model)\n",
    "importlib.reload(seis_numerics)\n",
    "kgs.profiling=False\n",
    "seis_invert.profiling=False\n",
    "kgs.debugging_mode = 0\n",
    "seis_forward2.profiling=False\n",
    "seis_forward2.reset_profile()\n",
    "\n",
    "# transform back on, history size to infinite, maxiter down\n",
    "#model = seis_model.default_model().models[1].model_TV2D\n",
    "#model.show_convergence = True\n",
    "#model.iter_list = [1000]\n",
    "\n",
    "#model = copy.deepcopy(seis_model.default_model().models[1].model_TV2D)\n",
    "start_model = seis_model.model_TV2D()\n",
    "start_model.train([],[])\n",
    "\n",
    "model = seis_invert.Snap()\n",
    "model.train([],[])\n",
    "model.show_convergence=True\n",
    "\n",
    "do_which_list = [True,False,True]\n",
    "\n",
    "def param_func(model,value):        \n",
    "    return model\n",
    "    \n",
    "param_values = [0]\n",
    "param_name = \"dummy\"\n",
    "\n",
    "\n",
    "for d in data[0:10]:\n",
    "    results = seis_diagnostics.do_diagnostics_run(d, model, do_which_list, param_func, param_values, param_name, help_fac=0., start_model = start_model)"
   ]
  },
  {
   "cell_type": "code",
   "execution_count": 13,
   "id": "6d9958de-9ef7-4380-81b6-d68c1eb21bfd",
   "metadata": {},
   "outputs": [
    {
     "name": "stdout",
     "output_type": "stream",
     "text": [
      "> \u001b[1;32mf:\\seismic\\code\\core\\kaggle_support.py\u001b[0m(564)\u001b[0;36minfer\u001b[1;34m()\u001b[0m\n",
      "\u001b[1;32m    562 \u001b[1;33m\u001b[1;33m\u001b[0m\u001b[0m\n",
      "\u001b[0m\u001b[1;32m    563 \u001b[1;33m        \u001b[1;32mfor\u001b[0m \u001b[0md\u001b[0m \u001b[1;32min\u001b[0m \u001b[0mtest_data\u001b[0m\u001b[1;33m:\u001b[0m\u001b[1;33m\u001b[0m\u001b[1;33m\u001b[0m\u001b[0m\n",
      "\u001b[0m\u001b[1;32m--> 564 \u001b[1;33m            \u001b[0md\u001b[0m\u001b[1;33m.\u001b[0m\u001b[0mvelocity_guess\u001b[0m\u001b[1;33m.\u001b[0m\u001b[0mdata\u001b[0m \u001b[1;33m+=\u001b[0m \u001b[0mself\u001b[0m\u001b[1;33m.\u001b[0m\u001b[0mapply_offset\u001b[0m\u001b[1;33m\u001b[0m\u001b[1;33m\u001b[0m\u001b[0m\n",
      "\u001b[0m\u001b[1;32m    565 \u001b[1;33m            \u001b[0md\u001b[0m\u001b[1;33m.\u001b[0m\u001b[0mvelocity_guess\u001b[0m\u001b[1;33m.\u001b[0m\u001b[0mmin_vel\u001b[0m \u001b[1;33m+=\u001b[0m \u001b[0mself\u001b[0m\u001b[1;33m.\u001b[0m\u001b[0mapply_offset\u001b[0m\u001b[1;33m\u001b[0m\u001b[1;33m\u001b[0m\u001b[0m\n",
      "\u001b[0m\u001b[1;32m    566 \u001b[1;33m            \u001b[1;32mif\u001b[0m \u001b[0mself\u001b[0m\u001b[1;33m.\u001b[0m\u001b[0mround_results\u001b[0m\u001b[1;33m:\u001b[0m\u001b[1;33m\u001b[0m\u001b[1;33m\u001b[0m\u001b[0m\n",
      "\u001b[0m\n"
     ]
    },
    {
     "name": "stdin",
     "output_type": "stream",
     "text": [
      "ipdb>  d\n"
     ]
    },
    {
     "name": "stdout",
     "output_type": "stream",
     "text": [
      "*** Newest frame\n"
     ]
    },
    {
     "name": "stdin",
     "output_type": "stream",
     "text": [
      "ipdb>  print(d)\n"
     ]
    },
    {
     "name": "stdout",
     "output_type": "stream",
     "text": [
      "Data(is_train=True, family='CurveFault_B', seismogram=Seismogram(filename='f:/seismic/data//train_samples\\\\CurveFault_B/seis6_1_0.npy', ind=282, data=None), velocity=Velocity(filename='f:/seismic/data//train_samples\\\\CurveFault_B/vel6_1_0.npy', ind=282, data=array([[2416., 2416., 2416., ..., 1799., 1799., 1799.],\n",
      "       [2626., 2626., 2626., ..., 1799., 1799., 1799.],\n",
      "       [2626., 2626., 2626., ..., 1799., 1799., 1799.],\n",
      "       ...,\n",
      "       [3967., 3967., 3967., ..., 4439., 4439., 4439.],\n",
      "       [3967., 3967., 3967., ..., 4439., 4439., 4439.],\n",
      "       [3967., 3967., 3967., ..., 4439., 4439., 4439.]]), min_vel=array(1799.)), velocity_guess=None, diagnostics={}, do_not_cache=False)\n"
     ]
    },
    {
     "name": "stdin",
     "output_type": "stream",
     "text": [
      "ipdb>  d.velocity\n"
     ]
    },
    {
     "name": "stdout",
     "output_type": "stream",
     "text": [
      "*** Newest frame\n"
     ]
    },
    {
     "name": "stdin",
     "output_type": "stream",
     "text": [
      "ipdb>  print(d.velocity)\n"
     ]
    },
    {
     "name": "stdout",
     "output_type": "stream",
     "text": [
      "Velocity(filename='f:/seismic/data//train_samples\\\\CurveFault_B/vel6_1_0.npy', ind=282, data=array([[2416., 2416., 2416., ..., 1799., 1799., 1799.],\n",
      "       [2626., 2626., 2626., ..., 1799., 1799., 1799.],\n",
      "       [2626., 2626., 2626., ..., 1799., 1799., 1799.],\n",
      "       ...,\n",
      "       [3967., 3967., 3967., ..., 4439., 4439., 4439.],\n",
      "       [3967., 3967., 3967., ..., 4439., 4439., 4439.],\n",
      "       [3967., 3967., 3967., ..., 4439., 4439., 4439.]]), min_vel=array(1799.))\n"
     ]
    },
    {
     "name": "stdin",
     "output_type": "stream",
     "text": [
      "ipdb>  print(d.velocity_guess)\n"
     ]
    },
    {
     "name": "stdout",
     "output_type": "stream",
     "text": [
      "None\n"
     ]
    },
    {
     "name": "stdin",
     "output_type": "stream",
     "text": [
      "ipdb>  q\n"
     ]
    }
   ],
   "source": [
    "%debug"
   ]
  },
  {
   "cell_type": "code",
   "execution_count": null,
   "id": "954af6ad-0662-4aa1-a256-10b2318ee368",
   "metadata": {},
   "outputs": [],
   "source": []
  }
 ],
 "metadata": {
  "kernelspec": {
   "display_name": "Python 3 (ipykernel)",
   "language": "python",
   "name": "python3"
  },
  "language_info": {
   "codemirror_mode": {
    "name": "ipython",
    "version": 3
   },
   "file_extension": ".py",
   "mimetype": "text/x-python",
   "name": "python",
   "nbconvert_exporter": "python",
   "pygments_lexer": "ipython3",
   "version": "3.10.14"
  }
 },
 "nbformat": 4,
 "nbformat_minor": 5
}
