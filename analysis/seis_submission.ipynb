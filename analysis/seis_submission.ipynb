{
 "cells": [
  {
   "cell_type": "code",
   "execution_count": 1,
   "id": "4a420e8d-0c30-4826-a748-d3a7d3352aca",
   "metadata": {},
   "outputs": [
    {
     "name": "stdout",
     "output_type": "stream",
     "text": [
      "F:/seismic/models/brendan/*.pth\n",
      "Loading:  F:/seismic/models/brendan\\unet2d_caformer_seed3_epochbest.pt\n",
      "n_models: 1\n",
      "maxcor\n"
     ]
    }
   ],
   "source": [
    "#!pip install --no-deps monai -q\n",
    "import sys\n",
    "sys.path.append('f:/seismic/code/core')\n",
    "sys.path.append('/seismic/code/core')\n",
    "sys.path.append('/kaggle/input/my-seismic-library/')\n",
    "import kaggle_support as kgs\n",
    "import importlib\n",
    "import numpy as np\n",
    "import matplotlib.pyplot as plt\n",
    "import glob\n",
    "import copy\n",
    "import os\n",
    "import seis_forward\n",
    "import seis_nn\n",
    "import seis_test\n",
    "import seis_prior\n",
    "import seis_invert\n",
    "import seis_model"
   ]
  },
  {
   "cell_type": "code",
   "execution_count": 2,
   "id": "d07b4273-b924-4ae1-8696-ef242713f702",
   "metadata": {},
   "outputs": [],
   "source": [
    "# import seis_test\n",
    "# seis_test.run_all_tests()"
   ]
  },
  {
   "cell_type": "code",
   "execution_count": 3,
   "id": "b77122e4-f430-4c60-bc20-939e617d42e4",
   "metadata": {},
   "outputs": [],
   "source": [
    "model = seis_model.default_model()\n",
    "data = kgs.load_all_train_data()\n",
    "data = data[::1000]"
   ]
  },
  {
   "cell_type": "code",
   "execution_count": 7,
   "id": "b6f0026a-e423-40b9-bcb3-afe067bfb862",
   "metadata": {},
   "outputs": [
    {
     "name": "stderr",
     "output_type": "stream",
     "text": [
      "Processing: 100%|██████████████████████████████████████████████████████████████████████| 10/10 [01:06<00:00,  6.69s/it]"
     ]
    },
    {
     "name": "stdout",
     "output_type": "stream",
     "text": [
      "         family      score\n",
      "0  CurveFault_A   4.283208\n",
      "1  CurveFault_B  53.390868\n",
      "2    CurveVel_A  11.087661\n",
      "3    CurveVel_B  36.061711\n",
      "4   FlatFault_A   2.269355\n",
      "5   FlatFault_B  13.707571\n",
      "6     FlatVel_A   0.082097\n",
      "7     FlatVel_B   0.062432\n",
      "8       Style_A  29.759687\n",
      "9       Style_B  58.905438\n",
      "Combined:  20.96100267999198\n",
      "CPU times: total: 1.12 s\n",
      "Wall time: 1min 7s\n"
     ]
    },
    {
     "name": "stderr",
     "output_type": "stream",
     "text": [
      "\n"
     ]
    }
   ],
   "source": [
    "%%time\n",
    "data_out=model.infer(data)\n",
    "kgs.score_metric(data_out);"
   ]
  },
  {
   "cell_type": "code",
   "execution_count": 5,
   "id": "6912753c-c976-47aa-9d4c-980f44771b61",
   "metadata": {},
   "outputs": [],
   "source": [
    "kgs.write_submission_file(data_out)"
   ]
  },
  {
   "cell_type": "code",
   "execution_count": 6,
   "id": "30bb12c2-1718-4729-9485-9caf6794fff4",
   "metadata": {},
   "outputs": [],
   "source": [
    "#data_out=model.infer(data)\n",
    "#kgs.score_metric(data_out)"
   ]
  },
  {
   "cell_type": "code",
   "execution_count": null,
   "id": "7f1c3d89-d47c-4f80-8d03-626472ab3532",
   "metadata": {},
   "outputs": [],
   "source": []
  }
 ],
 "metadata": {
  "kaggle": {
   "accelerator": "nvidiaTeslaT4",
   "dataSources": [
    {
     "databundleVersionId": 11756775,
     "sourceId": 39763,
     "sourceType": "competition"
    },
    {
     "datasetId": 7487776,
     "sourceId": 11910577,
     "sourceType": "datasetVersion"
    },
    {
     "datasetId": 7530131,
     "sourceId": 12027242,
     "sourceType": "datasetVersion"
    }
   ],
   "dockerImageVersionId": 31041,
   "isGpuEnabled": true,
   "isInternetEnabled": true,
   "language": "python",
   "sourceType": "notebook"
  },
  "kernelspec": {
   "display_name": "Python 3 (ipykernel)",
   "language": "python",
   "name": "python3"
  },
  "language_info": {
   "codemirror_mode": {
    "name": "ipython",
    "version": 3
   },
   "file_extension": ".py",
   "mimetype": "text/x-python",
   "name": "python",
   "nbconvert_exporter": "python",
   "pygments_lexer": "ipython3",
   "version": "3.10.14"
  }
 },
 "nbformat": 4,
 "nbformat_minor": 5
}
