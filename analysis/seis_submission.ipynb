{
 "cells": [
  {
   "cell_type": "code",
   "execution_count": 1,
   "id": "4a420e8d-0c30-4826-a748-d3a7d3352aca",
   "metadata": {},
   "outputs": [],
   "source": [
    "#!pip install --no-deps monai -q\n",
    "import sys\n",
    "sys.path.append('f:/seismic/code/core')\n",
    "sys.path.append('/seismic/code/core')\n",
    "sys.path.append('/kaggle/input/my-seismic-library/')\n",
    "import kaggle_support as kgs\n",
    "import importlib\n",
    "import numpy as np\n",
    "import matplotlib.pyplot as plt\n",
    "import glob\n",
    "import copy\n",
    "import os\n",
    "import seis_forward\n",
    "import seis_nn\n",
    "import seis_test\n",
    "import seis_prior\n",
    "import seis_invert\n",
    "import seis_model"
   ]
  },
  {
   "cell_type": "code",
   "execution_count": 2,
   "id": "d07b4273-b924-4ae1-8696-ef242713f702",
   "metadata": {},
   "outputs": [
    {
     "name": "stdout",
     "output_type": "stream",
     "text": [
      "Mismatch to hosts: 3.544453883175856e-05\n",
      "adjoint 5.346471963069144e-18 4.9042632427831433e-05\n",
      "diff 1.574739655544795e-13 1.658886008067652e-07\n",
      "Mismatch to hosts: 1.5741465383079042e-05\n",
      "adjoint 8.592302216947623e-18 0.0001352831488805387\n",
      "diff 1.1770732250346666e-13 1.4481413612063529e-07\n",
      "8.23042934313816e-16 1.0896616942090986e-11\n",
      "All tests passed!\n"
     ]
    },
    {
     "data": {
      "image/png": "[encoded data removed]",
      "text/plain": [
       "<Figure size 640x480 with 2 Axes>"
      ]
     },
     "metadata": {},
     "output_type": "display_data"
    }
   ],
   "source": [
    "import seis_test\n",
    "seis_test.run_all_tests()"
   ]
  },
  {
   "cell_type": "code",
   "execution_count": 3,
   "id": "b77122e4-f430-4c60-bc20-939e617d42e4",
   "metadata": {},
   "outputs": [
    {
     "name": "stdout",
     "output_type": "stream",
     "text": [
      "F:/seismic/models/brendan/*.pth\n",
      "Loading:  F:/seismic/models/brendan\\bartley_unet2d_convnext_seed1_epochbest_FT.pth\n",
      "Replacing all activations with GELU...\n",
      "Replacing all norms with InstanceNorm...\n",
      "Replacing forward functions...\n",
      "Loading:  F:/seismic/models/brendan\\bartley_unet2d_convnext_seed2_epochbest_FT.pth\n",
      "Replacing all activations with GELU...\n",
      "Replacing all norms with InstanceNorm...\n",
      "Replacing forward functions...\n",
      "n_models: 2\n"
     ]
    }
   ],
   "source": [
    "model = seis_model.default_model()\n",
    "data = kgs.load_all_train_data()\n",
    "data = data[::1000]"
   ]
  },
  {
   "cell_type": "code",
   "execution_count": 4,
   "id": "b6f0026a-e423-40b9-bcb3-afe067bfb862",
   "metadata": {},
   "outputs": [
    {
     "name": "stdout",
     "output_type": "stream",
     "text": [
      "         family      score\n",
      "0  CurveFault_A   8.354316\n",
      "1  CurveFault_B  74.039184\n",
      "2    CurveVel_A   9.733469\n",
      "3    CurveVel_B  53.315714\n",
      "4   FlatFault_A   2.180591\n",
      "5   FlatFault_B  18.583265\n",
      "6     FlatVel_A   1.857347\n",
      "7     FlatVel_B   2.456327\n",
      "8       Style_A  35.804415\n",
      "9       Style_B  63.399465\n",
      "Combined:  26.972409403898276\n"
     ]
    }
   ],
   "source": [
    "data_out=model.models[0].infer(data)\n",
    "kgs.score_metric(data_out);"
   ]
  },
  {
   "cell_type": "code",
   "execution_count": 5,
   "id": "6f236557-1083-46c4-b3c7-de12401348af",
   "metadata": {},
   "outputs": [
    {
     "name": "stderr",
     "output_type": "stream",
     "text": [
      "Processing: 100%|██████████████████████████████████████████████████████████████████████| 10/10 [03:05<00:00, 18.59s/it]"
     ]
    },
    {
     "name": "stdout",
     "output_type": "stream",
     "text": [
      "         family      score\n",
      "0  CurveFault_A   8.354316\n",
      "1  CurveFault_B  74.039184\n",
      "2    CurveVel_A   9.733469\n",
      "3    CurveVel_B  53.315714\n",
      "4   FlatFault_A   2.180591\n",
      "5   FlatFault_B  18.583265\n",
      "6     FlatVel_A   0.082095\n",
      "7     FlatVel_B   0.062431\n",
      "8       Style_A  35.804415\n",
      "9       Style_B  63.399465\n",
      "Combined:  26.555494694546162\n"
     ]
    },
    {
     "name": "stderr",
     "output_type": "stream",
     "text": [
      "\n"
     ]
    },
    {
     "data": {
      "text/plain": [
       "(26.555494694546162,\n",
       "          family      score\n",
       " 0  CurveFault_A   8.354316\n",
       " 1  CurveFault_B  74.039184\n",
       " 2    CurveVel_A   9.733469\n",
       " 3    CurveVel_B  53.315714\n",
       " 4   FlatFault_A   2.180591\n",
       " 5   FlatFault_B  18.583265\n",
       " 6     FlatVel_A   0.082095\n",
       " 7     FlatVel_B   0.062431\n",
       " 8       Style_A  35.804415\n",
       " 9       Style_B  63.399465,\n",
       " [8.354316256776148,\n",
       "  74.03918367346938,\n",
       "  9.733469387755102,\n",
       "  53.315714285714286,\n",
       "  2.1805908701371175,\n",
       "  18.58326530612245,\n",
       "  0.0820952973778341,\n",
       "  0.06243107848877116,\n",
       "  35.804415432676976,\n",
       "  63.39946535694356])"
      ]
     },
     "execution_count": 5,
     "metadata": {},
     "output_type": "execute_result"
    }
   ],
   "source": [
    "data_out=model.infer(data)\n",
    "kgs.score_metric(data_out)"
   ]
  },
  {
   "cell_type": "code",
   "execution_count": null,
   "id": "7f1c3d89-d47c-4f80-8d03-626472ab3532",
   "metadata": {},
   "outputs": [],
   "source": []
  }
 ],
 "metadata": {
  "kaggle": {
   "accelerator": "nvidiaTeslaT4",
   "dataSources": [
    {
     "databundleVersionId": 11756775,
     "sourceId": 39763,
     "sourceType": "competition"
    },
    {
     "datasetId": 7487776,
     "sourceId": 11910577,
     "sourceType": "datasetVersion"
    },
    {
     "datasetId": 7530131,
     "sourceId": 12027242,
     "sourceType": "datasetVersion"
    }
   ],
   "dockerImageVersionId": 31041,
   "isGpuEnabled": true,
   "isInternetEnabled": true,
   "language": "python",
   "sourceType": "notebook"
  },
  "kernelspec": {
   "display_name": "Python 3 (ipykernel)",
   "language": "python",
   "name": "python3"
  },
  "language_info": {
   "codemirror_mode": {
    "name": "ipython",
    "version": 3
   },
   "file_extension": ".py",
   "mimetype": "text/x-python",
   "name": "python",
   "nbconvert_exporter": "python",
   "pygments_lexer": "ipython3",
   "version": "3.10.14"
  }
 },
 "nbformat": 4,
 "nbformat_minor": 5
}
