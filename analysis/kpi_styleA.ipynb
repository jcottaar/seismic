{
 "cells": [
  {
   "cell_type": "code",
   "execution_count": 1,
   "id": "4a420e8d-0c30-4826-a748-d3a7d3352aca",
   "metadata": {},
   "outputs": [
    {
     "data": {
      "text/plain": [
       "<matplotlib.collections.PathCollection at 0x225b9777f40>"
      ]
     },
     "execution_count": 1,
     "metadata": {},
     "output_type": "execute_result"
    },
    {
     "data": {
      "image/png": "[encoded data removed]",
      "text/plain": [
       "<Figure size 640x480 with 1 Axes>"
      ]
     },
     "metadata": {},
     "output_type": "display_data"
    }
   ],
   "source": [
    "import sys\n",
    "sys.path.append('f:/seismic/code/core')\n",
    "sys.path.append('/seismic/code/core')\n",
    "sys.path.append('/kaggle/input/my-seis-library/')\n",
    "import kaggle_support as kgs\n",
    "import importlib\n",
    "import numpy as np\n",
    "import matplotlib.pyplot as plt\n",
    "import glob\n",
    "import copy\n",
    "import os\n",
    "plt.scatter([0,1],[1,2])\n",
    "#fls.download_kaggle_dataset('jeroencottaar/byu-many-models-2/', fls.result_dir + '/many_full_res/')"
   ]
  },
  {
   "cell_type": "code",
   "execution_count": 2,
   "id": "7ebb9a5f-4998-4f51-b608-b94f36f75e3c",
   "metadata": {},
   "outputs": [
    {
     "name": "stdout",
     "output_type": "stream",
     "text": [
      "10000\n",
      "F:/seismic/models/brendan/*.pth\n",
      "Loading:  F:/seismic/models/brendan\\unet2d_caformer_seed3_epochbest.pt\n",
      "n_models: 1\n"
     ]
    },
    {
     "name": "stderr",
     "output_type": "stream",
     "text": [
      "Importing cache brendan: 100%|██████████████████████████████████████████████████████| 200/200 [00:01<00:00, 190.65it/s]\n"
     ]
    }
   ],
   "source": [
    "importlib.reload(kgs)\n",
    "data=kgs.load_all_train_data(validation_only=True)\n",
    "print(len(data))\n",
    "for d in data:\n",
    "    d.check_constraints()\n",
    "import seis_nn\n",
    "model = seis_nn.default_pretrained\n",
    "model.batch_size = 1\n",
    "data = model.infer(data[::50])"
   ]
  },
  {
   "cell_type": "code",
   "execution_count": null,
   "id": "56de352d-7a6a-449f-9163-6aabfb65079d",
   "metadata": {},
   "outputs": [
    {
     "name": "stdout",
     "output_type": "stream",
     "text": [
      "styleB not active yet\n"
     ]
    },
    {
     "data": {
      "image/png": "[encoded data removed]",
      "text/plain": [
       "<Figure size 640x480 with 1 Axes>"
      ]
     },
     "metadata": {},
     "output_type": "display_data"
    },
    {
     "name": "stderr",
     "output_type": "stream",
     "text": [
      " 66%|████████████████████████████████████████████████████▍                           | 131/200 [01:28<00:46,  1.49it/s]"
     ]
    }
   ],
   "source": [
    "vals_not = []\n",
    "vals_styleA = []\n",
    "vals_styleB = []\n",
    "import seis_prior\n",
    "import seis_model\n",
    "prior = seis_model.default_model().models[1].model_Style_A.prior\n",
    "prior.transform = False\n",
    "prior.prepped = False\n",
    "prior.prep()\n",
    "from tqdm import tqdm\n",
    "import cupy as cp\n",
    "for d in tqdm(data):\n",
    "    d.load_to_memory()\n",
    "    d = model.infer([d])[0]\n",
    "    d.velocity_guess.to_cupy()\n",
    "    x = d.velocity_guess.to_vector()        \n",
    "    kpi = np.log(cp.asnumpy(x[:-1,:].T@(prior.P)@x[:-1,:])[0,0])\n",
    "    #kpi = cp.asnumpy(kgs.rms(d.seismogram.data[0,...] - cp.flip(d.seismogram.data[4,...],axis=1)))\n",
    "    if 'Style_A' in d.family:\n",
    "        vals_styleA.append(kpi)\n",
    "    elif 'Style_B' in d.family:\n",
    "        vals_styleB.append(kpi)\n",
    "    else:\n",
    "        vals_not .append(kpi)\n",
    "        if kpi<1e-4:\n",
    "            plt.figure()\n",
    "            plt.imshow(cp.asnumpy(d.velocity.data))\n",
    "            plt.title(d.family+' '+str(kpi))\n",
    "            plt.pause(0.001)\n",
    "    d.unload()"
   ]
  },
  {
   "cell_type": "code",
   "execution_count": null,
   "id": "44d60f77-d598-4dcd-a58a-395ee0c192c2",
   "metadata": {},
   "outputs": [],
   "source": [
    "plt.figure()\n",
    "plt.hist(vals_not)\n",
    "plt.title('Not style')\n",
    "plt.figure()\n",
    "plt.hist(vals_styleB)\n",
    "plt.title('styleB')\n",
    "plt.figure()\n",
    "plt.hist(vals_styleA)\n",
    "plt.title('styleA')\n",
    "np.min(vals_not), np.min(vals_styleB), np.max(vals_styleA)"
   ]
  }
 ],
 "metadata": {
  "kernelspec": {
   "display_name": "Python 3 (ipykernel)",
   "language": "python",
   "name": "python3"
  },
  "language_info": {
   "codemirror_mode": {
    "name": "ipython",
    "version": 3
   },
   "file_extension": ".py",
   "mimetype": "text/x-python",
   "name": "python",
   "nbconvert_exporter": "python",
   "pygments_lexer": "ipython3",
   "version": "3.10.14"
  }
 },
 "nbformat": 4,
 "nbformat_minor": 5
}
