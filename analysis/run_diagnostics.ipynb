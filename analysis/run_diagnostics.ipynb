{
 "cells": [
  {
   "cell_type": "code",
   "execution_count": null,
   "id": "4a420e8d-0c30-4826-a748-d3a7d3352aca",
   "metadata": {},
   "outputs": [],
   "source": [
    "import sys\n",
    "sys.path.append('f:/seismic/code/core')\n",
    "sys.path.append('/seismic/code/core')\n",
    "sys.path.append('/kaggle/input/my-seis-library/')\n",
    "import kaggle_support as kgs\n",
    "import importlib\n",
    "import numpy as np\n",
    "import matplotlib.pyplot as plt\n",
    "import glob\n",
    "import copy\n",
    "import os\n",
    "import seis_test\n",
    "import seis_invert\n",
    "import seis_prior\n",
    "import seis_nn\n",
    "import cupy as cp\n",
    "import seis_diagnostics"
   ]
  },
  {
   "cell_type": "code",
   "execution_count": null,
   "id": "e1d3241a-c3d3-45d8-8279-484eb091ab8d",
   "metadata": {},
   "outputs": [],
   "source": [
    "data=kgs.load_all_train_data()\n",
    "d = data[7011]"
   ]
  },
  {
   "cell_type": "code",
   "execution_count": null,
   "id": "f179bf99-8a9e-449a-9f2b-e6dd03a2e676",
   "metadata": {},
   "outputs": [],
   "source": [
    "importlib.reload(seis_diagnostics)\n",
    "\n",
    "model = seis_invert.InversionModel()\n",
    "model.state = 1\n",
    "model.maxiter = 3\n",
    "\n",
    "do_which_list = [True,True,True]\n",
    "\n",
    "def param_func(model,value):\n",
    "    model.prior.λ = value\n",
    "    return model\n",
    "param_values = 10**np.linspace(-11,-6,6)\n",
    "param_name = \"prior_λ\"\n",
    "\n",
    "\n",
    "seis_diagnostics.do_diagnostics_run(d, model, do_which_list, param_func, param_values, param_name)"
   ]
  },
  {
   "cell_type": "code",
   "execution_count": null,
   "id": "80f38df1-65c5-4d46-925f-da70cc19bc64",
   "metadata": {},
   "outputs": [],
   "source": [
    "res_vals"
   ]
  },
  {
   "cell_type": "code",
   "execution_count": null,
   "id": "ecf17fec-2b68-4fe0-8af7-301b0e54fb90",
   "metadata": {},
   "outputs": [],
   "source": [
    "λ_vals = [-13]"
   ]
  },
  {
   "cell_type": "code",
   "execution_count": null,
   "id": "8ecc2296-d1da-459d-ad8a-bea72ae0f0f7",
   "metadata": {},
   "outputs": [],
   "source": [
    "NN=2"
   ]
  },
  {
   "cell_type": "code",
   "execution_count": null,
   "id": "5d73f0c0-6026-4745-b289-e2d5b2d3ee2b",
   "metadata": {},
   "outputs": [],
   "source": []
  }
 ],
 "metadata": {
  "kernelspec": {
   "display_name": "Python 3 (ipykernel)",
   "language": "python",
   "name": "python3"
  },
  "language_info": {
   "codemirror_mode": {
    "name": "ipython",
    "version": 3
   },
   "file_extension": ".py",
   "mimetype": "text/x-python",
   "name": "python",
   "nbconvert_exporter": "python",
   "pygments_lexer": "ipython3",
   "version": "3.10.14"
  }
 },
 "nbformat": 4,
 "nbformat_minor": 5
}
