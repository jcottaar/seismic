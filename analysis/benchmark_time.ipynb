{
 "cells": [
  {
   "cell_type": "code",
   "execution_count": 1,
   "id": "865d54d7-b239-49eb-be92-484d63c870d5",
   "metadata": {},
   "outputs": [
    {
     "name": "stdout",
     "output_type": "stream",
     "text": [
      "/seismic/models/brendan/*.pth\n",
      "Loading:  /seismic/models/brendan/unet2d_caformer_seed3_epochbest.pt\n",
      "n_models: 1\n"
     ]
    }
   ],
   "source": [
    "import sys\n",
    "import subprocess\n",
    "sys.path.append('f:/seismic/code/core')\n",
    "sys.path.append('/seismic/code/core')\n",
    "sys.path.append('/kaggle/input/my-seismic-library/')\n",
    "import kaggle_support as kgs\n",
    "import importlib\n",
    "import seis_model\n",
    "import copy"
   ]
  },
  {
   "cell_type": "code",
   "execution_count": 2,
   "id": "b16d7880-48b6-45ad-85f4-2c6f7e09fc35",
   "metadata": {},
   "outputs": [
    {
     "name": "stdout",
     "output_type": "stream",
     "text": [
      "too low\n",
      "False False\n",
      "(4901, 4901)\n",
      "Style_A\n"
     ]
    }
   ],
   "source": [
    "# Set up model and data\n",
    "kgs.disable_caching = True\n",
    "model = seis_model.default_model()\n",
    "model.models[1].model_Style_A.iter_list = [100]\n",
    "data = kgs.load_all_train_data()[8000:8010]\n",
    "print(data[0].family)"
   ]
  },
  {
   "cell_type": "code",
   "execution_count": 3,
   "id": "59af67df-3ecb-495d-ae08-85bf1d0370e7",
   "metadata": {},
   "outputs": [
    {
     "name": "stderr",
     "output_type": "stream",
     "text": [
      "100%|██████████| 1/1 [00:00<00:00,  2.31it/s]\n",
      "Inferring:   0%|          | 0/10 [00:00<?, ?it/s]"
     ]
    },
    {
     "name": "stdout",
     "output_type": "stream",
     "text": [
      "False True\n",
      "(4901, 1073)\n",
      "capturing graph\n",
      "capturing graph\n"
     ]
    },
    {
     "name": "stderr",
     "output_type": "stream",
     "text": [
      "Inferring:  10%|█         | 1/10 [00:19<02:55, 19.55s/it]"
     ]
    },
    {
     "name": "stdout",
     "output_type": "stream",
     "text": [
      "True True\n",
      "(4901, 1073)\n"
     ]
    },
    {
     "name": "stderr",
     "output_type": "stream",
     "text": [
      "Inferring:  20%|██        | 2/10 [00:34<02:12, 16.58s/it]"
     ]
    },
    {
     "name": "stdout",
     "output_type": "stream",
     "text": [
      "True True\n",
      "(4901, 1073)\n"
     ]
    },
    {
     "name": "stderr",
     "output_type": "stream",
     "text": [
      "Inferring:  30%|███       | 3/10 [00:48<01:49, 15.64s/it]"
     ]
    },
    {
     "name": "stdout",
     "output_type": "stream",
     "text": [
      "True True\n",
      "(4901, 1073)\n"
     ]
    },
    {
     "name": "stderr",
     "output_type": "stream",
     "text": [
      "Inferring:  40%|████      | 4/10 [01:03<01:31, 15.30s/it]"
     ]
    },
    {
     "name": "stdout",
     "output_type": "stream",
     "text": [
      "True True\n",
      "(4901, 1073)\n"
     ]
    },
    {
     "name": "stderr",
     "output_type": "stream",
     "text": [
      "Inferring:  50%|█████     | 5/10 [01:17<01:15, 15.06s/it]"
     ]
    },
    {
     "name": "stdout",
     "output_type": "stream",
     "text": [
      "True True\n",
      "(4901, 1073)\n"
     ]
    },
    {
     "name": "stderr",
     "output_type": "stream",
     "text": [
      "Inferring:  60%|██████    | 6/10 [01:32<00:59, 14.87s/it]"
     ]
    },
    {
     "name": "stdout",
     "output_type": "stream",
     "text": [
      "True True\n",
      "(4901, 1073)\n"
     ]
    },
    {
     "name": "stderr",
     "output_type": "stream",
     "text": [
      "Inferring:  70%|███████   | 7/10 [01:46<00:44, 14.71s/it]"
     ]
    },
    {
     "name": "stdout",
     "output_type": "stream",
     "text": [
      "True True\n",
      "(4901, 1073)\n"
     ]
    },
    {
     "name": "stderr",
     "output_type": "stream",
     "text": [
      "Inferring:  80%|████████  | 8/10 [02:01<00:29, 14.64s/it]"
     ]
    },
    {
     "name": "stdout",
     "output_type": "stream",
     "text": [
      "True True\n",
      "(4901, 1073)\n"
     ]
    },
    {
     "name": "stderr",
     "output_type": "stream",
     "text": [
      "Inferring:  90%|█████████ | 9/10 [02:16<00:14, 14.65s/it]"
     ]
    },
    {
     "name": "stdout",
     "output_type": "stream",
     "text": [
      "True True\n",
      "(4901, 1073)\n"
     ]
    },
    {
     "name": "stderr",
     "output_type": "stream",
     "text": [
      "Inferring: 100%|██████████| 10/10 [02:30<00:00, 15.05s/it]"
     ]
    },
    {
     "name": "stdout",
     "output_type": "stream",
     "text": [
      "CPU times: user 2min 36s, sys: 1.55 s, total: 2min 38s\n",
      "Wall time: 2min 31s\n"
     ]
    },
    {
     "name": "stderr",
     "output_type": "stream",
     "text": [
      "\n"
     ]
    }
   ],
   "source": [
    "%%time\n",
    "model.models[1].run_in_parallel = False\n",
    "res1=copy.deepcopy(model).infer(data);"
   ]
  },
  {
   "cell_type": "code",
   "execution_count": 4,
   "id": "5e35b972-888b-4237-ae30-73f3d0804bc8",
   "metadata": {},
   "outputs": [
    {
     "name": "stderr",
     "output_type": "stream",
     "text": [
      "100%|██████████| 6/6 [00:01<00:00,  5.30it/s]\n"
     ]
    },
    {
     "name": "stdout",
     "output_type": "stream",
     "text": [
      "Clearing pytorch\n"
     ]
    },
    {
     "name": "stderr",
     "output_type": "stream",
     "text": [
      "Processing in parallel:   0%|          | 0/80 [00:00<?, ?it/s]"
     ]
    },
    {
     "name": "stdout",
     "output_type": "stream",
     "text": [
      "CUDA_VISIBLE_DEVICES= 7\n",
      "CUDA_VISIBLE_DEVICES= 4\n",
      "CUDA_VISIBLE_DEVICES= 5\n",
      "CUDA_VISIBLE_DEVICES= 1\n",
      "CUDA_VISIBLE_DEVICES= 3\n",
      "CUDA_VISIBLE_DEVICES= 6\n",
      "CUDA_VISIBLE_DEVICES= 0\n",
      "CUDA_VISIBLE_DEVICES= 2\n",
      "/seismic/models/brendan/*.pth\n",
      "Loading:  /seismic/models/brendan/unet2d_caformer_seed3_epochbest.pt\n",
      "/seismic/models/brendan/*.pth\n",
      "Loading:  /seismic/models/brendan/unet2d_caformer_seed3_epochbest.pt\n",
      "/seismic/models/brendan/*.pth\n",
      "Loading:  /seismic/models/brendan/unet2d_caformer_seed3_epochbest.pt\n",
      "/seismic/models/brendan/*.pth\n",
      "Loading:  /seismic/models/brendan/unet2d_caformer_seed3_epochbest.pt\n",
      "/seismic/models/brendan/*.pth\n",
      "Loading:  /seismic/models/brendan/unet2d_caformer_seed3_epochbest.pt\n",
      "/seismic/models/brendan/*.pth\n",
      "Loading:  /seismic/models/brendan/unet2d_caformer_seed3_epochbest.pt\n",
      "/seismic/models/brendan/*.pth\n",
      "Loading:  /seismic/models/brendan/unet2d_caformer_seed3_epochbest.pt\n",
      "/seismic/models/brendan/*.pth\n",
      "Loading:  /seismic/models/brendan/unet2d_caformer_seed3_epochbest.pt\n",
      "n_models: 1\n",
      "False True\n",
      "n_models: 1\n",
      "n_models: 1\n",
      "False True\n",
      "False True\n",
      "n_models: 1\n",
      "(4901, 1073)\n",
      "capturing graph\n",
      "capturing graph\n",
      "n_models: 1\n",
      "False True\n",
      "n_models: 1\n",
      "n_models: 1\n",
      "n_models: 1\n",
      "False True\n",
      "False True\n",
      "False True\n",
      "False True\n",
      "(4901, 1073)\n",
      "capturing graph\n",
      "capturing graph\n",
      "(4901, 1073)\n",
      "capturing graph\n",
      "capturing graph\n",
      "(4901, 1073)\n",
      "capturing graph\n",
      "capturing graph\n",
      "(4901, 1073)\n",
      "capturing graph\n",
      "capturing graph\n",
      "(4901, 1073)\n",
      "capturing graph\n",
      "(4901, 1073)\n",
      "capturing graph\n",
      "capturing graph\n",
      "capturing graph\n",
      "(4901, 1073)\n",
      "capturing graph\n",
      "capturing graph\n",
      "True True\n",
      "(4901, 1073)\n",
      "True True\n",
      "(4901, 1073)\n",
      "True True\n",
      "(4901, 1073)\n",
      "True True\n",
      "(4901, 1073)\n",
      "True True\n",
      "(4901, 1073)\n"
     ]
    },
    {
     "name": "stderr",
     "output_type": "stream",
     "text": [
      "Processing in parallel:   2%|▎         | 2/80 [00:54<29:13, 22.48s/it]  "
     ]
    },
    {
     "name": "stdout",
     "output_type": "stream",
     "text": [
      "True True\n",
      "(4901, 1073)\n",
      "True True\n",
      "(4901, 1073)\n"
     ]
    },
    {
     "name": "stderr",
     "output_type": "stream",
     "text": [
      "Processing in parallel:   5%|▌         | 4/80 [00:54<10:43,  8.47s/it]"
     ]
    },
    {
     "name": "stdout",
     "output_type": "stream",
     "text": [
      "True True\n",
      "(4901, 1073)\n"
     ]
    },
    {
     "name": "stderr",
     "output_type": "stream",
     "text": [
      "Processing in parallel:  11%|█▏        | 9/80 [01:03<04:26,  3.76s/it]"
     ]
    },
    {
     "name": "stdout",
     "output_type": "stream",
     "text": [
      "True True\n",
      "(4901, 1073)\n"
     ]
    },
    {
     "name": "stderr",
     "output_type": "stream",
     "text": [
      "Processing in parallel:  12%|█▎        | 10/80 [01:05<04:02,  3.46s/it]"
     ]
    },
    {
     "name": "stdout",
     "output_type": "stream",
     "text": [
      "True True\n",
      "(4901, 1073)\n",
      "True True\n",
      "(4901, 1073)\n"
     ]
    },
    {
     "name": "stderr",
     "output_type": "stream",
     "text": [
      "Processing in parallel:  15%|█▌        | 12/80 [01:08<03:17,  2.90s/it]"
     ]
    },
    {
     "name": "stdout",
     "output_type": "stream",
     "text": [
      "True True\n",
      "(4901, 1073)\n",
      "True True\n",
      "(4901, 1073)\n",
      "True True\n",
      "(4901, 1073)\n"
     ]
    },
    {
     "name": "stderr",
     "output_type": "stream",
     "text": [
      "Processing in parallel:  18%|█▊        | 14/80 [01:09<02:19,  2.12s/it]"
     ]
    },
    {
     "name": "stdout",
     "output_type": "stream",
     "text": [
      "True True\n",
      "(4901, 1073)\n",
      "True True\n",
      "(4901, 1073)\n"
     ]
    },
    {
     "name": "stderr",
     "output_type": "stream",
     "text": [
      "Processing in parallel:  21%|██▏       | 17/80 [01:17<02:28,  2.36s/it]"
     ]
    },
    {
     "name": "stdout",
     "output_type": "stream",
     "text": [
      "True True\n",
      "(4901, 1073)\n"
     ]
    },
    {
     "name": "stderr",
     "output_type": "stream",
     "text": [
      "Processing in parallel:  22%|██▎       | 18/80 [01:19<02:22,  2.30s/it]"
     ]
    },
    {
     "name": "stdout",
     "output_type": "stream",
     "text": [
      "True True\n",
      "(4901, 1073)\n"
     ]
    },
    {
     "name": "stderr",
     "output_type": "stream",
     "text": [
      "Processing in parallel:  24%|██▍       | 19/80 [01:19<01:56,  1.92s/it]"
     ]
    },
    {
     "name": "stdout",
     "output_type": "stream",
     "text": [
      "True True\n",
      "(4901, 1073)\n"
     ]
    },
    {
     "name": "stderr",
     "output_type": "stream",
     "text": [
      "Processing in parallel:  25%|██▌       | 20/80 [01:22<02:12,  2.21s/it]"
     ]
    },
    {
     "name": "stdout",
     "output_type": "stream",
     "text": [
      "True True\n",
      "(4901, 1073)\n",
      "True True\n",
      "(4901, 1073)\n"
     ]
    },
    {
     "name": "stderr",
     "output_type": "stream",
     "text": [
      "Processing in parallel:  28%|██▊       | 22/80 [01:23<01:26,  1.48s/it]"
     ]
    },
    {
     "name": "stdout",
     "output_type": "stream",
     "text": [
      "True True\n",
      "(4901, 1073)\n",
      "True True\n",
      "(4901, 1073)\n"
     ]
    },
    {
     "name": "stderr",
     "output_type": "stream",
     "text": [
      "Processing in parallel:  30%|███       | 24/80 [01:24<00:59,  1.07s/it]"
     ]
    },
    {
     "name": "stdout",
     "output_type": "stream",
     "text": [
      "True True\n",
      "(4901, 1073)\n"
     ]
    },
    {
     "name": "stderr",
     "output_type": "stream",
     "text": [
      "Processing in parallel:  31%|███▏      | 25/80 [01:31<02:11,  2.38s/it]"
     ]
    },
    {
     "name": "stdout",
     "output_type": "stream",
     "text": [
      "True True\n",
      "(4901, 1073)\n"
     ]
    },
    {
     "name": "stderr",
     "output_type": "stream",
     "text": [
      "Processing in parallel:  32%|███▎      | 26/80 [01:33<02:04,  2.30s/it]"
     ]
    },
    {
     "name": "stdout",
     "output_type": "stream",
     "text": [
      "True True\n",
      "(4901, 1073)\n"
     ]
    },
    {
     "name": "stderr",
     "output_type": "stream",
     "text": [
      "Processing in parallel:  34%|███▍      | 27/80 [01:33<01:35,  1.80s/it]"
     ]
    },
    {
     "name": "stdout",
     "output_type": "stream",
     "text": [
      "True True\n",
      "(4901, 1073)\n"
     ]
    },
    {
     "name": "stderr",
     "output_type": "stream",
     "text": [
      "Processing in parallel:  35%|███▌      | 28/80 [01:37<01:54,  2.19s/it]"
     ]
    },
    {
     "name": "stdout",
     "output_type": "stream",
     "text": [
      "True True\n",
      "(4901, 1073)\n"
     ]
    },
    {
     "name": "stderr",
     "output_type": "stream",
     "text": [
      "Processing in parallel:  36%|███▋      | 29/80 [01:37<01:26,  1.69s/it]"
     ]
    },
    {
     "name": "stdout",
     "output_type": "stream",
     "text": [
      "True True\n",
      "(4901, 1073)\n"
     ]
    },
    {
     "name": "stderr",
     "output_type": "stream",
     "text": [
      "Processing in parallel:  38%|███▊      | 30/80 [01:37<01:06,  1.32s/it]"
     ]
    },
    {
     "name": "stdout",
     "output_type": "stream",
     "text": [
      "True True\n",
      "(4901, 1073)\n",
      "True True\n",
      "(4901, 1073)\n"
     ]
    },
    {
     "name": "stderr",
     "output_type": "stream",
     "text": [
      "Processing in parallel:  40%|████      | 32/80 [01:38<00:43,  1.09it/s]"
     ]
    },
    {
     "name": "stdout",
     "output_type": "stream",
     "text": [
      "True True\n",
      "(4901, 1073)\n"
     ]
    },
    {
     "name": "stderr",
     "output_type": "stream",
     "text": [
      "Processing in parallel:  41%|████▏     | 33/80 [01:46<01:54,  2.45s/it]"
     ]
    },
    {
     "name": "stdout",
     "output_type": "stream",
     "text": [
      "True True\n",
      "(4901, 1073)\n"
     ]
    },
    {
     "name": "stderr",
     "output_type": "stream",
     "text": [
      "Processing in parallel:  42%|████▎     | 34/80 [01:48<01:52,  2.44s/it]"
     ]
    },
    {
     "name": "stdout",
     "output_type": "stream",
     "text": [
      "True True\n",
      "(4901, 1073)\n",
      "True True\n",
      "(4901, 1073)\n"
     ]
    },
    {
     "name": "stderr",
     "output_type": "stream",
     "text": [
      "Processing in parallel:  45%|████▌     | 36/80 [01:51<01:31,  2.08s/it]"
     ]
    },
    {
     "name": "stdout",
     "output_type": "stream",
     "text": [
      "True True\n",
      "(4901, 1073)\n"
     ]
    },
    {
     "name": "stderr",
     "output_type": "stream",
     "text": [
      "Processing in parallel:  46%|████▋     | 37/80 [01:52<01:11,  1.67s/it]"
     ]
    },
    {
     "name": "stdout",
     "output_type": "stream",
     "text": [
      "True True\n",
      "(4901, 1073)\n"
     ]
    },
    {
     "name": "stderr",
     "output_type": "stream",
     "text": [
      "Processing in parallel:  48%|████▊     | 38/80 [01:52<00:56,  1.34s/it]"
     ]
    },
    {
     "name": "stdout",
     "output_type": "stream",
     "text": [
      "True True\n",
      "(4901, 1073)\n"
     ]
    },
    {
     "name": "stderr",
     "output_type": "stream",
     "text": [
      "Processing in parallel:  49%|████▉     | 39/80 [01:52<00:43,  1.06s/it]"
     ]
    },
    {
     "name": "stdout",
     "output_type": "stream",
     "text": [
      "True True\n",
      "(4901, 1073)\n"
     ]
    },
    {
     "name": "stderr",
     "output_type": "stream",
     "text": [
      "Processing in parallel:  50%|█████     | 40/80 [01:53<00:38,  1.03it/s]"
     ]
    },
    {
     "name": "stdout",
     "output_type": "stream",
     "text": [
      "True True\n",
      "(4901, 1073)\n"
     ]
    },
    {
     "name": "stderr",
     "output_type": "stream",
     "text": [
      "Processing in parallel:  51%|█████▏    | 41/80 [02:00<01:44,  2.68s/it]"
     ]
    },
    {
     "name": "stdout",
     "output_type": "stream",
     "text": [
      "True True\n",
      "(4901, 1073)\n"
     ]
    },
    {
     "name": "stderr",
     "output_type": "stream",
     "text": [
      "Processing in parallel:  52%|█████▎    | 42/80 [02:02<01:40,  2.65s/it]"
     ]
    },
    {
     "name": "stdout",
     "output_type": "stream",
     "text": [
      "True True\n",
      "(4901, 1073)\n",
      "True True\n",
      "(4901, 1073)\n"
     ]
    },
    {
     "name": "stderr",
     "output_type": "stream",
     "text": [
      "Processing in parallel:  55%|█████▌    | 44/80 [02:06<01:20,  2.24s/it]"
     ]
    },
    {
     "name": "stdout",
     "output_type": "stream",
     "text": [
      "True True\n",
      "(4901, 1073)\n",
      "True True\n",
      "(4901, 1073)\n"
     ]
    },
    {
     "name": "stderr",
     "output_type": "stream",
     "text": [
      "Processing in parallel:  57%|█████▊    | 46/80 [02:06<00:48,  1.41s/it]"
     ]
    },
    {
     "name": "stdout",
     "output_type": "stream",
     "text": [
      "True True\n",
      "(4901, 1073)\n"
     ]
    },
    {
     "name": "stderr",
     "output_type": "stream",
     "text": [
      "Processing in parallel:  59%|█████▉    | 47/80 [02:06<00:38,  1.15s/it]"
     ]
    },
    {
     "name": "stdout",
     "output_type": "stream",
     "text": [
      "True True\n",
      "(4901, 1073)\n"
     ]
    },
    {
     "name": "stderr",
     "output_type": "stream",
     "text": [
      "Processing in parallel:  60%|██████    | 48/80 [02:07<00:35,  1.11s/it]"
     ]
    },
    {
     "name": "stdout",
     "output_type": "stream",
     "text": [
      "True True\n",
      "(4901, 1073)\n"
     ]
    },
    {
     "name": "stderr",
     "output_type": "stream",
     "text": [
      "Processing in parallel:  61%|██████▏   | 49/80 [02:15<01:21,  2.64s/it]"
     ]
    },
    {
     "name": "stdout",
     "output_type": "stream",
     "text": [
      "True True\n",
      "(4901, 1073)\n"
     ]
    },
    {
     "name": "stderr",
     "output_type": "stream",
     "text": [
      "Processing in parallel:  62%|██████▎   | 50/80 [02:17<01:16,  2.55s/it]"
     ]
    },
    {
     "name": "stdout",
     "output_type": "stream",
     "text": [
      "True True\n",
      "(4901, 1073)\n",
      "True True\n",
      "(4901, 1073)\n",
      "True True\n",
      "(4901, 1073)\n"
     ]
    },
    {
     "name": "stderr",
     "output_type": "stream",
     "text": [
      "Processing in parallel:  65%|██████▌   | 52/80 [02:21<01:02,  2.25s/it]"
     ]
    },
    {
     "name": "stdout",
     "output_type": "stream",
     "text": [
      "True True\n",
      "(4901, 1073)\n"
     ]
    },
    {
     "name": "stderr",
     "output_type": "stream",
     "text": [
      "Processing in parallel:  68%|██████▊   | 54/80 [02:21<00:38,  1.47s/it]"
     ]
    },
    {
     "name": "stdout",
     "output_type": "stream",
     "text": [
      "True True\n",
      "(4901, 1073)\n",
      "True True\n",
      "(4901, 1073)\n"
     ]
    },
    {
     "name": "stderr",
     "output_type": "stream",
     "text": [
      "Processing in parallel:  70%|███████   | 56/80 [02:22<00:26,  1.10s/it]"
     ]
    },
    {
     "name": "stdout",
     "output_type": "stream",
     "text": [
      "True True\n",
      "(4901, 1073)\n"
     ]
    },
    {
     "name": "stderr",
     "output_type": "stream",
     "text": [
      "Processing in parallel:  71%|███████▏  | 57/80 [02:29<00:52,  2.30s/it]"
     ]
    },
    {
     "name": "stdout",
     "output_type": "stream",
     "text": [
      "True True\n",
      "(4901, 1073)\n"
     ]
    },
    {
     "name": "stderr",
     "output_type": "stream",
     "text": [
      "Processing in parallel:  74%|███████▍  | 59/80 [02:31<00:37,  1.80s/it]"
     ]
    },
    {
     "name": "stdout",
     "output_type": "stream",
     "text": [
      "True True\n",
      "(4901, 1073)\n",
      "True True\n",
      "(4901, 1073)\n"
     ]
    },
    {
     "name": "stderr",
     "output_type": "stream",
     "text": [
      "Processing in parallel:  75%|███████▌  | 60/80 [02:35<00:44,  2.21s/it]"
     ]
    },
    {
     "name": "stdout",
     "output_type": "stream",
     "text": [
      "True True\n",
      "(4901, 1073)\n",
      "True True\n",
      "(4901, 1073)\n"
     ]
    },
    {
     "name": "stderr",
     "output_type": "stream",
     "text": [
      "Processing in parallel:  78%|███████▊  | 62/80 [02:35<00:24,  1.39s/it]"
     ]
    },
    {
     "name": "stdout",
     "output_type": "stream",
     "text": [
      "True True\n",
      "(4901, 1073)\n",
      "True True\n",
      "(4901, 1073)\n"
     ]
    },
    {
     "name": "stderr",
     "output_type": "stream",
     "text": [
      "Processing in parallel:  80%|████████  | 64/80 [02:37<00:17,  1.11s/it]"
     ]
    },
    {
     "name": "stdout",
     "output_type": "stream",
     "text": [
      "True True\n",
      "(4901, 1073)\n"
     ]
    },
    {
     "name": "stderr",
     "output_type": "stream",
     "text": [
      "Processing in parallel:  81%|████████▏ | 65/80 [02:43<00:33,  2.26s/it]"
     ]
    },
    {
     "name": "stdout",
     "output_type": "stream",
     "text": [
      "True True\n",
      "(4901, 1073)\n"
     ]
    },
    {
     "name": "stderr",
     "output_type": "stream",
     "text": [
      "Processing in parallel:  84%|████████▍ | 67/80 [02:46<00:22,  1.77s/it]"
     ]
    },
    {
     "name": "stdout",
     "output_type": "stream",
     "text": [
      "True True\n",
      "(4901, 1073)\n",
      "True True\n",
      "(4901, 1073)\n"
     ]
    },
    {
     "name": "stderr",
     "output_type": "stream",
     "text": [
      "Processing in parallel:  85%|████████▌ | 68/80 [02:49<00:26,  2.23s/it]"
     ]
    },
    {
     "name": "stdout",
     "output_type": "stream",
     "text": [
      "True True\n",
      "(4901, 1073)\n"
     ]
    },
    {
     "name": "stderr",
     "output_type": "stream",
     "text": [
      "Processing in parallel:  86%|████████▋ | 69/80 [02:50<00:18,  1.69s/it]"
     ]
    },
    {
     "name": "stdout",
     "output_type": "stream",
     "text": [
      "True True\n",
      "(4901, 1073)\n",
      "True True\n",
      "(4901, 1073)\n"
     ]
    },
    {
     "name": "stderr",
     "output_type": "stream",
     "text": [
      "Processing in parallel:  88%|████████▊ | 70/80 [02:50<00:12,  1.28s/it]"
     ]
    },
    {
     "name": "stdout",
     "output_type": "stream",
     "text": [
      "True True\n",
      "(4901, 1073)\n"
     ]
    },
    {
     "name": "stderr",
     "output_type": "stream",
     "text": [
      "Processing in parallel:  90%|█████████ | 72/80 [02:51<00:08,  1.06s/it]"
     ]
    },
    {
     "name": "stdout",
     "output_type": "stream",
     "text": [
      "True True\n",
      "(4901, 1073)\n"
     ]
    },
    {
     "name": "stderr",
     "output_type": "stream",
     "text": [
      "Processing in parallel: 100%|██████████| 80/80 [03:06<00:00,  2.33s/it]\n"
     ]
    },
    {
     "name": "stdout",
     "output_type": "stream",
     "text": [
      "CPU times: user 2.4 s, sys: 1.05 s, total: 3.45 s\n",
      "Wall time: 3min 10s\n"
     ]
    }
   ],
   "source": [
    "%%time\n",
    "model.models[1].run_in_parallel = True\n",
    "res2=copy.deepcopy(model).infer(data*8);"
   ]
  },
  {
   "cell_type": "code",
   "execution_count": null,
   "id": "1533e377-a0ce-43a5-874c-41f92e88018d",
   "metadata": {},
   "outputs": [],
   "source": []
  }
 ],
 "metadata": {
  "kernelspec": {
   "display_name": "Python3 (ipykernel)",
   "language": "python",
   "name": "python3"
  },
  "language_info": {
   "codemirror_mode": {
    "name": "ipython",
    "version": 3
   },
   "file_extension": ".py",
   "mimetype": "text/x-python",
   "name": "python",
   "nbconvert_exporter": "python",
   "pygments_lexer": "ipython3",
   "version": "3.10.12"
  }
 },
 "nbformat": 4,
 "nbformat_minor": 5
}
