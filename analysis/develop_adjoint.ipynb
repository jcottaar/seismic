{
 "cells": [
  {
   "cell_type": "code",
   "execution_count": 30,
   "id": "4a420e8d-0c30-4826-a748-d3a7d3352aca",
   "metadata": {},
   "outputs": [
    {
     "data": {
      "text/plain": [
       "<matplotlib.collections.PathCollection at 0x167ceda6770>"
      ]
     },
     "execution_count": 30,
     "metadata": {},
     "output_type": "execute_result"
    },
    {
     "data": {
      "image/png": "[encoded data removed]",
      "text/plain": [
       "<Figure size 640x480 with 1 Axes>"
      ]
     },
     "metadata": {},
     "output_type": "display_data"
    }
   ],
   "source": [
    "import sys\n",
    "sys.path.append('f:/seismic/code/core')\n",
    "sys.path.append('/seismic/code/core')\n",
    "sys.path.append('/kaggle/input/my-seis-library/')\n",
    "import kaggle_support as kgs\n",
    "import importlib\n",
    "import numpy as np\n",
    "import matplotlib.pyplot as plt\n",
    "import glob\n",
    "import copy\n",
    "import os\n",
    "import seis_forward\n",
    "import seis_forward2\n",
    "import seis_test\n",
    "plt.scatter([0,1],[1,2])\n",
    "#fls.download_kaggle_dataset('jeroencottaar/byu-many-models-2/', fls.result_dir + '/many_full_res/')"
   ]
  },
  {
   "cell_type": "code",
   "execution_count": null,
   "id": "78975eaa-c03b-417d-856c-789afcc7c0cc",
   "metadata": {},
   "outputs": [],
   "source": [
    "%%time\n",
    "importlib.reload(kgs)\n",
    "importlib.reload(seis_test)\n",
    "importlib.reload(seis_forward2)\n",
    "seis_test.run_all_tests(test_reference_mode=True)\n"
   ]
  },
  {
   "cell_type": "code",
   "execution_count": 24,
   "id": "71488e80-b433-4f8d-b4b2-80f2a657c460",
   "metadata": {},
   "outputs": [
    {
     "name": "stdout",
     "output_type": "stream",
     "text": [
      "Timer unit: 1e-07 s\n",
      "\n",
      "Total time: 0.408616 s\n",
      "File: f:\\seismic/code/core\\seis_forward2.py\n",
      "Function: vel_to_seis at line 12\n",
      "\n",
      "Line #      Hits         Time  Per Hit   % Time  Line Contents\n",
      "==============================================================\n",
      "    12                                           @kgs.profile_each_line\n",
      "    13                                           def vel_to_seis(vec, vec_diff=None, vec_adjoint=None, adjoint_on_residual=False):\n",
      "    14                                               # Outputs:\n",
      "    15                                               # result: the seismogram associated with velocity field vec\n",
      "    16                                               # result_diff: J@vec_diff, where J is the Jacobian of the operation above\n",
      "    17                                               # result_adjoint: J^T@vec_adjoint, or J^T@(result-vec_adjoint) if adjoint_on_residual=True\n",
      "    18         1         12.0     12.0      0.0      assert vec.shape == (4901,1)\n",
      "    19         1          3.0      3.0      0.0      assert vec_adjoint is None or vec_adjoint.shape == (5*999*70,1)\n",
      "    20         1          2.0      2.0      0.0      assert vec_diff is None or vec_diff.shape == (4901,1)\n",
      "    21         1          3.0      3.0      0.0      do_diff = not (vec_diff is None)\n",
      "    22         1          3.0      3.0      0.0      do_adjoint = not (vec_adjoint is None)\n",
      "    23                                           \n",
      "    24                                           \n",
      "    25                                               # PREPARATION\n",
      "    26         1       9412.0   9412.0      0.2      v,temp1,temp2,alpha = prep_run(vec)\n",
      "    27                                           \n",
      "    28         1        308.0    308.0      0.0      seis_combined = cp.zeros((5,999,70),dtype=kgs.base_type_gpu)\n",
      "    29         1          4.0      4.0      0.0      p_complete_list = []\n",
      "    30                                               \n",
      "    31         1          3.0      3.0      0.0      if do_diff:\n",
      "    32                                                   v_diff,temp1_diff,temp2_diff,alpha_diff = prep_run_diff(vec_diff,v)        \n",
      "    33                                                   seis_combined_diff = cp.zeros((5,999,70),dtype=kgs.base_type_gpu)\n",
      "    34                                           \n",
      "    35         1          3.0      3.0      0.0      if do_adjoint:        \n",
      "    36                                                   alpha_adjoint = cp.zeros_like(alpha)\n",
      "    37                                                   temp1_adjoint = cp.zeros_like(alpha)\n",
      "    38                                                   temp2_adjoint = cp.zeros_like(alpha)\n",
      "    39                                                   v_adjoint = cp.zeros_like(v)  \n",
      "    40                                                   seis_combined_adjoint = cp.reshape(vec_adjoint, (5,999,70))\n",
      "    41                                           \n",
      "    42         1          3.0      3.0      0.0      tx, ty = 16, 16\n",
      "    43         1          9.0      9.0      0.0      bx = (nx + tx - 1) // tx\n",
      "    44         1          6.0      6.0      0.0      by = (nz + ty - 1) // ty  \n",
      "    45                                           \n",
      "    46                                           \n",
      "    47                                               # LOOP\n",
      "    48                                               \n",
      "    49         6         42.0      7.0      0.0      for i_source in range(N_source_to_do):     \n",
      "    50         5         54.0     10.8      0.0          src_idx = src_idx_list[i_source]\n",
      "    51         5    2036723.0 407344.6     49.8          bdt = (cp.asnumpy(v[isz_list[i_source], isx_list[i_source]])*dt)**2\n",
      "    52         5        556.0    111.2      0.0          s_mod = bdt*s\n",
      "    53                                           \n",
      "    54         5       2476.0    495.2      0.1          p_complete = cp.zeros((nt+2,temp1.shape[0],temp1.shape[1]), dtype=kgs.base_type_gpu)\n",
      "    55         5       1210.0    242.0      0.0          lapg_store = cp.zeros((nt,temp1.shape[0],temp1.shape[1]), dtype=kgs.base_type_gpu)\n",
      "    56                                           \n",
      "    57         5        657.0    131.4      0.0          temp1_flat = temp1.ravel();temp2_flat = temp2.ravel();alpha_flat = alpha.ravel()\n",
      "    58         5        434.0     86.8      0.0          p_complete_flat = p_complete.ravel();lapg_store_flat=lapg_store.ravel()\n",
      "    59                                                   \n",
      "    60      5000      20203.0      4.0      0.5          for it in range(0, nt):\n",
      "    61                                           \n",
      "    62      9990    1794658.0    179.6     43.9              update_p(\n",
      "    63      4995      20279.0      4.1      0.5                          (bx, by), (tx, ty),\n",
      "    64      4995      15204.0      3.0      0.4                          (\n",
      "    65      4995      12901.0      2.6      0.3                              temp1_flat, temp2_flat, alpha_flat,\n",
      "    66      4995      11426.0      2.3      0.3                              p_complete_flat,\n",
      "    67      4995      11589.0      2.3      0.3                              lapg_store_flat,\n",
      "    68      4995      21884.0      4.4      0.5                              (it)*(nx*nz),\n",
      "    69      4995      22340.0      4.5      0.5                              (it+1)*(nx*nz),\n",
      "    70      4995      19857.0      4.0      0.5                              (it+2)*(nx*nz),\n",
      "    71      4995      14197.0      2.8      0.3                              nx, nz,\n",
      "    72      4995      14894.0      3.0      0.4                              c2, c3,\n",
      "    73      4995      30539.0      6.1      0.7                              src_idx, s_mod[it]\n",
      "    74                                                                   )\n",
      "    75                                                               )\n",
      "    76                                           \n",
      "    77         5      23733.0   4746.6      0.6          seis_combined[i_source,...] = p_complete[2:,igz,igx]\n",
      "    78                                           \n",
      "    79         5         33.0      6.6      0.0          if do_diff:\n",
      "    80                                                       bdt_diff = 2*((cp.asnumpy(v[isz_list[i_source], isx_list[i_source]]*v_diff[isz_list[i_source], isx_list[i_source]])))* dt**2\n",
      "    81                                                       s_mod_diff = bdt_diff*s\n",
      "    82                                                       p_complete_diff = cp.zeros((nt+2,temp1.shape[0],temp1.shape[1]), dtype=kgs.base_type_gpu)\n",
      "    83                                               \n",
      "    84                                                       for it in range(0, nt):\n",
      "    85                                                           p1_diff = p_complete_diff[it+1,...]\n",
      "    86                                                           p0_diff = p_complete_diff[it,...]\n",
      "    87                                                           p1 = p_complete[it+1,...]\n",
      "    88                                                           p0 = p_complete[it,...]\n",
      "    89                                                           lapg_store_diff = (cp.array(c2) * (cp.roll(p1_diff, 1, axis=1) + cp.roll(p1_diff, -1, axis=1) +\n",
      "    90                                                                          cp.roll(p1_diff, 1, axis=0) + cp.roll(p1_diff, -1, axis=0)) +\n",
      "    91                                                                    cp.array(c3) * (cp.roll(p1_diff, 2, axis=1) + cp.roll(p1_diff, -2, axis=1) +\n",
      "    92                                                                          cp.roll(p1_diff, 2, axis=0) + cp.roll(p1_diff, -2, axis=0)))\n",
      "    93                                                           p_complete_diff[it+2,...] = (temp1 * p1_diff + temp1_diff*p1 - temp2_diff * p0 - temp2*p0_diff + \n",
      "    94                                                                alpha_diff * lapg_store[it,...] + alpha*lapg_store_diff)\n",
      "    95                                                           p_complete_diff[it+2,...].ravel()[src_idx] += s_mod_diff[it]   \n",
      "    96                                               \n",
      "    97                                                       seis_combined_diff[i_source,...] = p_complete_diff[2:,igz,igx]\n",
      "    98                                                       del p_complete_diff\n",
      "    99                                                       \n",
      "   100         5         38.0      7.6      0.0          if do_adjoint:     \n",
      "   101                                                       p_complete_adjoint =  cp.zeros((nt+2,temp1.shape[0],temp1.shape[1]), dtype=kgs.base_type_gpu)\n",
      "   102                                                       if adjoint_on_residual:\n",
      "   103                                                           p_complete_adjoint[2:,igz,igx] = seis_combined[i_source,...]-seis_combined_adjoint[i_source,...]\n",
      "   104                                                       else:\n",
      "   105                                                           p_complete_adjoint[2:,igz,igx] = seis_combined_adjoint[i_source,...]\n",
      "   106                                               \n",
      "   107                                                       s_mod_adjoint = cp.zeros_like(s_mod)\n",
      "   108                                                       s_mod_adjoint_flat = s_mod_adjoint.ravel(); p_complete_adjoint_flat = p_complete_adjoint.ravel();\n",
      "   109                                                       temp1_adjoint_flat = temp1_adjoint.ravel();temp2_adjoint_flat = temp2_adjoint.ravel();\n",
      "   110                                                       alpha_adjoint_flat = alpha_adjoint.ravel();\n",
      "   111                                                       for it in np.arange(nt-1,-1,-1):\n",
      "   112                                           \n",
      "   113                                                           s_mod_adjoint[it] = p_complete_adjoint[it+2,...].ravel()[src_idx]\n",
      "   114                                                           \n",
      "   115                                                           update_p_adjoint(\n",
      "   116                                                                   (bx, by), (tx, ty),\n",
      "   117                                                                   (\n",
      "   118                                                                       temp1_flat, temp2_flat, alpha_flat,\n",
      "   119                                                                       p_complete_flat,\n",
      "   120                                                                       lapg_store_flat,\n",
      "   121                                                                       s_mod_adjoint_flat, p_complete_adjoint_flat, temp1_adjoint_flat, temp2_adjoint_flat, alpha_adjoint_flat,\n",
      "   122                                                                       (it)*(nx*nz),\n",
      "   123                                                                       (it+1)*(nx*nz),\n",
      "   124                                                                       (it+2)*(nx*nz),\n",
      "   125                                                                       nx, nz, it,\n",
      "   126                                                                       c2, c3,\n",
      "   127                                                                       src_idx\n",
      "   128                                                                   )\n",
      "   129                                                               )\n",
      "   130                                                           \n",
      "   131                                                           \n",
      "   132                                                           #p_complete_adjoint[it+1,...] += temp1 * p_complete_adjoint[it+2,...]\n",
      "   133                                                           #temp1_adjoint+=p_complete[it+1,...] * p_complete_adjoint[it+2,...]\n",
      "   134                                                           #p_complete_adjoint[it,...] -= temp2 * p_complete_adjoint[it+2,...]\n",
      "   135                                                           #temp2_adjoint-=p_complete[it,...] * p_complete_adjoint[it+2,...]\n",
      "   136                                                           #alpha_adjoint+=lapg_store[it,...] * p_complete_adjoint[it+2,...]\n",
      "   137                                                           # lapg_store_adjoint = alpha*p_complete_adjoint[it+2,...]\n",
      "   138                                                           # p1_adjoint = (cp.array(c2) * (cp.roll(lapg_store_adjoint, -1, axis=1) + cp.roll(lapg_store_adjoint, 1, axis=1) +\n",
      "   139                                                           #                   cp.roll(lapg_store_adjoint, -1, axis=0) + cp.roll(lapg_store_adjoint, 1, axis=0)) +\n",
      "   140                                                           #   cp.array(c3) * (cp.roll(lapg_store_adjoint, -2, axis=1) + cp.roll(lapg_store_adjoint, 2, axis=1) +\n",
      "   141                                                           #                   cp.roll(lapg_store_adjoint, -2, axis=0) + cp.roll(lapg_store_adjoint, 2, axis=0)))\n",
      "   142                                                           # p_complete_adjoint[it+1,...]+= p1_adjoint\n",
      "   143                                                           \n",
      "   144                                               \n",
      "   145                                                       bdt_adjoint = cp.sum(s_mod_adjoint*cp.array(s))\n",
      "   146                                                       v_adjoint[isz_list[i_source], isx_list[i_source]] += 2*dt**2 * v[isz_list[i_source], isx_list[i_source]] * bdt_adjoint\n",
      "   147                                                       del p_complete_adjoint\n",
      "   148                                                       \n",
      "   149                                           \n",
      "   150                                               # FINALIZE\n",
      "   151         1         11.0     11.0      0.0      assert seis_combined.shape == (5,999,70)\n",
      "   152         1        437.0    437.0      0.0      result =  seis_combined.flatten()[:,None]\n",
      "   153         1          3.0      3.0      0.0      if do_diff:\n",
      "   154                                                   assert seis_combined_diff.shape == (5,999,70)\n",
      "   155                                                   result_diff =  seis_combined_diff.flatten()[:,None]\n",
      "   156                                               else:\n",
      "   157         1          2.0      2.0      0.0          result_diff = None\n",
      "   158         1          1.0      1.0      0.0      if do_adjoint:\n",
      "   159                                                   result_adjoint = prep_run_adjoint(v_adjoint,temp1_adjoint,temp2_adjoint,alpha_adjoint,v)\n",
      "   160                                               else:\n",
      "   161         1          3.0      3.0      0.0          result_adjoint = None\n",
      "   162                                           \n",
      "   163         1          2.0      2.0      0.0      return result, result_diff, result_adjoint\n",
      "\n"
     ]
    }
   ],
   "source": [
    "import cupy as cp\n",
    "importlib.reload(seis_forward2)\n",
    "\n",
    "d = kgs.load_all_train_data()[0]\n",
    "d.load_to_memory()    \n",
    "vec = d.velocity.to_vector()\n",
    "\n",
    "kgs.profiling=True\n",
    "result, result_diff, result_adjoint = seis_forward2.vel_to_seis(vec)"
   ]
  },
  {
   "cell_type": "code",
   "execution_count": 4,
   "id": "1dca0adf-0274-45a1-8844-c985e4e70a99",
   "metadata": {},
   "outputs": [
    {
     "ename": "NameError",
     "evalue": "name 'vec_diff' is not defined",
     "output_type": "error",
     "traceback": [
      "\u001b[1;31m---------------------------------------------------------------------------\u001b[0m",
      "\u001b[1;31mNameError\u001b[0m                                 Traceback (most recent call last)",
      "Cell \u001b[1;32mIn[4], line 1\u001b[0m\n\u001b[1;32m----> 1\u001b[0m vec[\u001b[38;5;241m0\u001b[39m]\u001b[38;5;241m+\u001b[39m\u001b[43mvec_diff\u001b[49m[\u001b[38;5;241m0\u001b[39m], vec[\u001b[38;5;241m0\u001b[39m]\n",
      "\u001b[1;31mNameError\u001b[0m: name 'vec_diff' is not defined"
     ]
    }
   ],
   "source": [
    "vec[0]+vec_diff[0], vec[0]"
   ]
  },
  {
   "cell_type": "code",
   "execution_count": null,
   "id": "a5f8918a-55a1-4234-9539-ac09a1f95f0d",
   "metadata": {},
   "outputs": [],
   "source": [
    "np.arange(0,5)"
   ]
  },
  {
   "cell_type": "code",
   "execution_count": null,
   "id": "ef272b49-7a17-4f69-84a5-bc2aa1cdb676",
   "metadata": {},
   "outputs": [],
   "source": [
    "np.arange(4,-1,-1)"
   ]
  },
  {
   "cell_type": "code",
   "execution_count": null,
   "id": "83323e4c-cb9d-4c56-b758-0dcdf7c729a3",
   "metadata": {},
   "outputs": [],
   "source": []
  }
 ],
 "metadata": {
  "kernelspec": {
   "display_name": "Python 3 (ipykernel)",
   "language": "python",
   "name": "python3"
  },
  "language_info": {
   "codemirror_mode": {
    "name": "ipython",
    "version": 3
   },
   "file_extension": ".py",
   "mimetype": "text/x-python",
   "name": "python",
   "nbconvert_exporter": "python",
   "pygments_lexer": "ipython3",
   "version": "3.10.14"
  }
 },
 "nbformat": 4,
 "nbformat_minor": 5
}
