{
 "cells": [
  {
   "cell_type": "code",
   "execution_count": 1,
   "id": "4a420e8d-0c30-4826-a748-d3a7d3352aca",
   "metadata": {},
   "outputs": [
    {
     "data": {
      "text/plain": [
       "<matplotlib.collections.PathCollection at 0x23018930640>"
      ]
     },
     "execution_count": 1,
     "metadata": {},
     "output_type": "execute_result"
    },
    {
     "data": {
      "image/png": "[encoded data removed]",
      "text/plain": [
       "<Figure size 640x480 with 1 Axes>"
      ]
     },
     "metadata": {},
     "output_type": "display_data"
    }
   ],
   "source": [
    "import sys\n",
    "sys.path.append('f:/seismic/code/core')\n",
    "sys.path.append('/seismic/code/core')\n",
    "sys.path.append('/kaggle/input/my-seis-library/')\n",
    "import kaggle_support as kgs\n",
    "import importlib\n",
    "import numpy as np\n",
    "import matplotlib.pyplot as plt\n",
    "import glob\n",
    "import copy\n",
    "import os\n",
    "import seis_forward\n",
    "import seis_test\n",
    "plt.scatter([0,1],[1,2])\n",
    "#fls.download_kaggle_dataset('jeroencottaar/byu-many-models-2/', fls.result_dir + '/many_full_res/')"
   ]
  },
  {
   "cell_type": "code",
   "execution_count": 2,
   "id": "78975eaa-c03b-417d-856c-789afcc7c0cc",
   "metadata": {},
   "outputs": [
    {
     "data": {
      "text/plain": [
       "<module 'seis_forward' from 'f:\\\\seismic/code/core\\\\seis_forward.py'>"
      ]
     },
     "execution_count": 2,
     "metadata": {},
     "output_type": "execute_result"
    }
   ],
   "source": [
    "importlib.reload(kgs)\n",
    "importlib.reload(seis_test)\n",
    "importlib.reload(seis_forward)\n",
    "#seis_test.run_all_tests(test_reference_mode=True)\n"
   ]
  },
  {
   "cell_type": "code",
   "execution_count": 3,
   "id": "56de352d-7a6a-449f-9163-6aabfb65079d",
   "metadata": {},
   "outputs": [
    {
     "name": "stderr",
     "output_type": "stream",
     "text": [
      "ERROR:root:No traceback has been produced, nothing to debug.\n"
     ]
    }
   ],
   "source": [
    "%debug"
   ]
  },
  {
   "cell_type": "code",
   "execution_count": 22,
   "id": "18e27412-497e-49d1-ae79-3e3bc7eb215d",
   "metadata": {},
   "outputs": [],
   "source": [
    "from seis_forward import *\n",
    "import seis_numerics\n",
    "importlib.reload(seis_numerics)\n",
    "@kgs.profile_each_line\n",
    "def vel_to_seis_ref_dev(vec, vec_diff, vec_adjoint):\n",
    "    assert vec.shape == (4901,1)\n",
    "    #assert adjoint_vec.shape == (5*999*70,1)\n",
    "    assert vec_diff.shape == (4901,1)\n",
    "    v=cp.reshape(vec[:-1,0], (70,70))\n",
    "    min_vel = vec[-1,0]\n",
    "    \n",
    "    v = cp.pad(v, ((nbc, nbc), (nbc, nbc)), mode='edge')\n",
    "    abc = min_vel*damp\n",
    "    v2 = v**2\n",
    "\n",
    "    alpha = v2* (dt / dx)**2\n",
    "    kappa = abc * dt\n",
    "    temp1 = 2 + 2 * c1 * alpha - kappa\n",
    "    temp2 = 1 - kappa\n",
    "\n",
    "    #result = cp.concatenate((alpha.flatten(),temp1.flatten(),temp2.flatten()))[:,None]\n",
    "\n",
    "    seis_combined = cp.zeros((5,999,70),dtype=kgs.base_type_gpu)\n",
    "    p_complete_list = []\n",
    "\n",
    "    for i_source in range(5):    #XXX    \n",
    "        src_idx = src_idx_list[i_source]\n",
    "        bdt = (cp.asnumpy(v[isz_list[i_source], isx_list[i_source]])*dt)**2\n",
    "        s_mod = bdt*s\n",
    "\n",
    "        p_complete = cp.zeros((nt+2,temp1.shape[0],temp1.shape[1]), dtype=kgs.base_type_gpu)\n",
    "        lapg_store = cp.zeros_like(p_complete)\n",
    "        \n",
    "        for it in range(0, nt):\n",
    "\n",
    "            p1 = p_complete[it+1,...]\n",
    "            p0 = p_complete[it,...]\n",
    "            lapg_store[it+2,...] = (cp.array(c2) * (cp.roll(p1, 1, axis=1) + cp.roll(p1, -1, axis=1) +\n",
    "                           cp.roll(p1, 1, axis=0) + cp.roll(p1, -1, axis=0)) +\n",
    "                     cp.array(c3) * (cp.roll(p1, 2, axis=1) + cp.roll(p1, -2, axis=1) +\n",
    "                           cp.roll(p1, 2, axis=0) + cp.roll(p1, -2, axis=0)))\n",
    "            p_complete[it+2,...] = (temp1 * p1 - temp2 * p0 +\n",
    "                 alpha * lapg_store[it+2,...])\n",
    "            #p_complete[it+2,...] = i_source*it*temp1+temp2+alpha\n",
    "            p_complete[it+2,...].ravel()[src_idx] += s_mod[it]   \n",
    "\n",
    "        seis_combined[i_source,...] = p_complete[2:,igz,igx]\n",
    "        p_complete_list.append((cp.asnumpy(p_complete), cp.asnumpy(lapg_store)))\n",
    "\n",
    "    assert seis_combined.shape == (5,999,70)\n",
    "    result =  seis_combined.flatten()[:,None]\n",
    "\n",
    "    # DIFF\n",
    "\n",
    "    v_diff=cp.reshape(vec_diff[:-1,0], (70,70))\n",
    "    min_vel_diff = vec_diff[-1,0]\n",
    "    \n",
    "    v_diff = cp.pad(v_diff, ((nbc, nbc), (nbc, nbc)), mode='edge')\n",
    "    abc_diff = min_vel_diff*damp\n",
    "    v2_diff = 2*v*v_diff\n",
    "\n",
    "    alpha_diff = v2_diff* (dt / dx)**2\n",
    "    kappa_diff = abc_diff * dt\n",
    "    temp1_diff = 2 * c1 * alpha_diff - kappa_diff\n",
    "    temp2_diff = -kappa_diff\n",
    "\n",
    "    #result_diff = cp.concatenate((alpha_diff.flatten(),temp1_diff.flatten(),temp2_diff.flatten()))[:,None]\n",
    "\n",
    "    seis_combined_diff = cp.zeros((5,999,70),dtype=kgs.base_type_gpu)\n",
    "    for i_source in range(5):\n",
    "        src_idx = src_idx_list[i_source]\n",
    "        bdt_diff = 2*((cp.asnumpy(v[isz_list[i_source], isx_list[i_source]]*v_diff[isz_list[i_source], isx_list[i_source]])))* dt**2\n",
    "        s_mod_diff = bdt_diff*s\n",
    "        \n",
    "        (p_complete, lapg_store) = p_complete_list[i_source]\n",
    "        p_complete = cp.array(p_complete)\n",
    "        lapg_store = cp.array(lapg_store)\n",
    "        p_complete_diff = cp.zeros((nt+2,temp1.shape[0],temp1.shape[1]), dtype=kgs.base_type_gpu)\n",
    "\n",
    "        for it in range(0, nt):\n",
    "            p1_diff = p_complete_diff[it+1,...]\n",
    "            p0_diff = p_complete_diff[it,...]\n",
    "            p1 = p_complete[it+1,...]\n",
    "            p0 = p_complete[it,...]\n",
    "            lapg_store_diff = (cp.array(c2) * (cp.roll(p1_diff, 1, axis=1) + cp.roll(p1_diff, -1, axis=1) +\n",
    "                           cp.roll(p1_diff, 1, axis=0) + cp.roll(p1_diff, -1, axis=0)) +\n",
    "                     cp.array(c3) * (cp.roll(p1_diff, 2, axis=1) + cp.roll(p1_diff, -2, axis=1) +\n",
    "                           cp.roll(p1_diff, 2, axis=0) + cp.roll(p1_diff, -2, axis=0)))\n",
    "            p_complete_diff[it+2,...] = (temp1 * p1_diff + temp1_diff*p1 - temp2_diff * p0 - temp2*p0_diff + \n",
    "                 alpha_diff * lapg_store[it+2,...] + alpha*lapg_store_diff)\n",
    "            #p_complete_diff[it+2,...] = i_source*it*temp1_diff+temp2_diff+alpha_diff\n",
    "            p_complete_diff[it+2,...].ravel()[src_idx] += s_mod_diff[it]   \n",
    "\n",
    "        seis_combined_diff[i_source,...] = p_complete_diff[2:,igz,igx]\n",
    "\n",
    "    assert seis_combined_diff.shape == (5,999,70)\n",
    "    result_diff =  seis_combined_diff.flatten()[:,None]\n",
    "\n",
    "        \n",
    "\n",
    "    # ADJOINT\n",
    "\n",
    "    seis_combined_adjoint = cp.reshape(vec_adjoint, (5,999,70))\n",
    "    alpha_adjoint = cp.zeros_like(alpha)\n",
    "    temp1_adjoint = cp.zeros_like(alpha)\n",
    "    temp2_adjoint = cp.zeros_like(alpha)\n",
    "    v_adjoint = cp.zeros_like(v)\n",
    "    for i_source in range(5):\n",
    "        src_idx = src_idx_list[i_source]\n",
    "        \n",
    "        (p_complete, lapg_store) = p_complete_list[i_source]\n",
    "        p_complete = cp.array(p_complete)\n",
    "        lapg_store = cp.array(lapg_store)\n",
    "\n",
    "        p_complete_adjoint =  cp.zeros((nt+2,temp1.shape[0],temp1.shape[1]), dtype=kgs.base_type_gpu)\n",
    "        p_complete_adjoint[2:,igz,igx] = seis_combined_adjoint[i_source,...]\n",
    "\n",
    "        s_mod_adjoint = cp.zeros_like(s_mod)\n",
    "        for it in np.arange(nt-1,-1,-1):\n",
    "            s_mod_adjoint[it] = p_complete_adjoint[it+2,...].ravel()[src_idx]\n",
    "            p_complete_adjoint[it+1,...] += temp1 * p_complete_adjoint[it+2,...]\n",
    "            temp1_adjoint+=p_complete[it+1,...] * p_complete_adjoint[it+2,...]\n",
    "            p_complete_adjoint[it,...] -= temp2 * p_complete_adjoint[it+2,...]\n",
    "            temp2_adjoint-=p_complete[it,...] * p_complete_adjoint[it+2,...]\n",
    "            alpha_adjoint+=lapg_store[it+2,...] * p_complete_adjoint[it+2,...]\n",
    "            lapg_store_adjoint = alpha*p_complete_adjoint[it+2,...]\n",
    "            p1_adjoint = (cp.array(c2) * (cp.roll(lapg_store_adjoint, -1, axis=1) + cp.roll(lapg_store_adjoint, 1, axis=1) +\n",
    "                              cp.roll(lapg_store_adjoint, -1, axis=0) + cp.roll(lapg_store_adjoint, 1, axis=0)) +\n",
    "              cp.array(c3) * (cp.roll(lapg_store_adjoint, -2, axis=1) + cp.roll(lapg_store_adjoint, 2, axis=1) +\n",
    "                              cp.roll(lapg_store_adjoint, -2, axis=0) + cp.roll(lapg_store_adjoint, 2, axis=0)))\n",
    "            p_complete_adjoint[it+1,...]+= p1_adjoint\n",
    "            \n",
    "\n",
    "        bdt_adjoint = cp.sum(s_mod_adjoint*cp.array(s))\n",
    "        v_adjoint[isz_list[i_source], isx_list[i_source]] += 2*dt**2 * v[isz_list[i_source], isx_list[i_source]] * bdt_adjoint\n",
    "        \n",
    "        \n",
    "    \n",
    "    # N = vec_adjoint.shape[0]   \n",
    "    # alpha_adjoint = cp.reshape(vec_adjoint[:N//3,0], temp2_diff.shape)\n",
    "    # temp1_adjoint = cp.reshape(vec_adjoint[N//3:2*N//3,0], temp2_diff.shape)\n",
    "    # temp2_adjoint = cp.reshape(vec_adjoint[2*N//3:,0], temp2_diff.shape)\n",
    "    #temp1_adjoint = \n",
    "    kappa_adjoint = -temp2_adjoint\n",
    "    alpha_adjoint += 2 * c1 * temp1_adjoint\n",
    "    kappa_adjoint += -temp1_adjoint\n",
    "    abc_adjoint = kappa_adjoint * dt\n",
    "    v2_adjoint = alpha_adjoint * (dt/dx)**2\n",
    "\n",
    "    v_adjoint += 2*v*v2_adjoint\n",
    "    min_vel_adjoint = cp.sum(abc_adjoint*damp)\n",
    "    v_adjoint = seis_numerics.unpad_edge_padded_gradient(v_adjoint,nbc)#v_adjoint[nbc:-nbc,nbc:-nbc]\n",
    "\n",
    "    result_adjoint = cp.zeros(vec.shape)\n",
    "    result_adjoint[-1,0] = min_vel_adjoint\n",
    "    result_adjoint[:-1,0] = v_adjoint.flatten()\n",
    "\n",
    "\n",
    "    return result, result_diff, result_adjoint\n",
    "\n",
    "    return\n",
    "\n",
    "    seis_combined = cp.empty((5,999,70),dtype=kgs.base_type_gpu)\n",
    "\n",
    "    for i_source in range(2):        \n",
    "        src_idx = src_idx_list[i_source]\n",
    "        bdt = (cp.asnumpy(v[isz_list[i_source], isx_list[i_source]])*dt)**2\n",
    "        s_mod = bdt*s\n",
    "\n",
    "        p_complete = cp.zeros((nt+2,temp1.shape[0],temp1.shape[1]), dtype=kgs.base_type_gpu)\n",
    "        \n",
    "        for it in range(0, nt):\n",
    "\n",
    "            p1 = p_complete[it+1,...]\n",
    "            p0 = p_complete[it,...]\n",
    "            lapg_store = (cp.array(c2) * (cp.roll(p1, 1, axis=1) + cp.roll(p1, -1, axis=1) +\n",
    "                           cp.roll(p1, 1, axis=0) + cp.roll(p1, -1, axis=0)) +\n",
    "                     cp.array(c3) * (cp.roll(p1, 2, axis=1) + cp.roll(p1, -2, axis=1) +\n",
    "                           cp.roll(p1, 2, axis=0) + cp.roll(p1, -2, axis=0)))\n",
    "            p_complete[it+2,...] = (temp1 * p1 - temp2 * p0 +\n",
    "                 alpha * lapg_store)\n",
    "            p_complete[it+2,...].ravel()[src_idx] += s_mod[it]   \n",
    "\n",
    "        seis_combined[i_source,...] = p_complete[2:,igz,igx]\n",
    "\n",
    "    seis_combined = cp.stack(seis_combined)\n",
    "    assert seis_combined.shape == (5,999,70)\n",
    "    results =  seis_combined.flatten()[:,None]\n",
    "\n",
    "    # Now create code to generate results_adjoint, such that:\n",
    "    # results_adjoint == J.T * adjoint_vec\n",
    "    # With J the Jacobian of vel_to_seis_ref at location vec\n",
    "\n",
    "    return results"
   ]
  },
  {
   "cell_type": "code",
   "execution_count": null,
   "id": "71488e80-b433-4f8d-b4b2-80f2a657c460",
   "metadata": {},
   "outputs": [],
   "source": [
    "import cupy as cp\n",
    "\n",
    "d = kgs.load_all_train_data()[0]\n",
    "d.load_to_memory()    \n",
    "vec = d.velocity.to_vector()\n",
    "r= np.random.default_rng(seed=0)\n",
    "vec_diff = cp.asarray(1e-2*r.normal(0,1,vec.shape))\n",
    "#vec_diff[:-1,0]=0\n",
    "vec_adjoint = cp.asarray(1e-2*r.normal(0,1,(349650,1)))\n",
    "vec_adjoint[vec_adjoint.shape[0]//3:2*vec_adjoint.shape[0]//3]=0\n",
    "\n",
    "kgs.profiling=True\n",
    "result, result_diff, result_adjoint = vel_to_seis_ref_dev(vec, vec_diff, vec_adjoint)\n",
    "kgs.profiling=False\n",
    "print(result.shape)\n",
    "\n",
    "print(kgs.rms(result - seis_forward.vel_to_seis_ref(vec)))\n",
    "\n",
    "res1 = cp.sum(vec_adjoint*result_diff)\n",
    "res2 = cp.sum(result_adjoint*vec_diff)\n",
    "\n",
    "print('adjoint', cp.abs(res1-res2), res1)\n",
    "\n",
    "result_offset = vel_to_seis_ref_dev(vec+vec_diff, vec_diff, vec_adjoint)[0]\n",
    "\n",
    "print(kgs.rms(result_offset-result-result_diff), kgs.rms(result_offset-result))\n",
    "\n"
   ]
  },
  {
   "cell_type": "code",
   "execution_count": 6,
   "id": "1dca0adf-0274-45a1-8844-c985e4e70a99",
   "metadata": {},
   "outputs": [
    {
     "name": "stderr",
     "output_type": "stream",
     "text": [
      "ERROR:root:No traceback has been produced, nothing to debug.\n"
     ]
    }
   ],
   "source": [
    "%debug"
   ]
  },
  {
   "cell_type": "code",
   "execution_count": 7,
   "id": "a5f8918a-55a1-4234-9539-ac09a1f95f0d",
   "metadata": {},
   "outputs": [
    {
     "data": {
      "text/plain": [
       "array([0, 1, 2, 3, 4])"
      ]
     },
     "execution_count": 7,
     "metadata": {},
     "output_type": "execute_result"
    }
   ],
   "source": [
    "np.arange(0,5)"
   ]
  },
  {
   "cell_type": "code",
   "execution_count": 8,
   "id": "ef272b49-7a17-4f69-84a5-bc2aa1cdb676",
   "metadata": {},
   "outputs": [
    {
     "data": {
      "text/plain": [
       "array([4, 3, 2, 1, 0])"
      ]
     },
     "execution_count": 8,
     "metadata": {},
     "output_type": "execute_result"
    }
   ],
   "source": [
    "np.arange(4,-1,-1)"
   ]
  },
  {
   "cell_type": "code",
   "execution_count": null,
   "id": "83323e4c-cb9d-4c56-b758-0dcdf7c729a3",
   "metadata": {},
   "outputs": [],
   "source": []
  }
 ],
 "metadata": {
  "kernelspec": {
   "display_name": "Python 3 (ipykernel)",
   "language": "python",
   "name": "python3"
  },
  "language_info": {
   "codemirror_mode": {
    "name": "ipython",
    "version": 3
   },
   "file_extension": ".py",
   "mimetype": "text/x-python",
   "name": "python",
   "nbconvert_exporter": "python",
   "pygments_lexer": "ipython3",
   "version": "3.10.14"
  }
 },
 "nbformat": 4,
 "nbformat_minor": 5
}
