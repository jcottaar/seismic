{
 "cells": [
  {
   "cell_type": "code",
   "execution_count": 1,
   "id": "4a420e8d-0c30-4826-a748-d3a7d3352aca",
   "metadata": {},
   "outputs": [
    {
     "data": {
      "text/plain": [
       "<matplotlib.collections.PathCollection at 0x241e29f8bb0>"
      ]
     },
     "execution_count": 1,
     "metadata": {},
     "output_type": "execute_result"
    },
    {
     "data": {
      "image/png": "[encoded data removed]",
      "text/plain": [
       "<Figure size 640x480 with 1 Axes>"
      ]
     },
     "metadata": {},
     "output_type": "display_data"
    }
   ],
   "source": [
    "import sys\n",
    "sys.path.append('f:/seismic/code/core')\n",
    "sys.path.append('/seismic/code/core')\n",
    "sys.path.append('/kaggle/input/my-seis-library/')\n",
    "import kaggle_support as kgs\n",
    "import importlib\n",
    "import numpy as np\n",
    "import matplotlib.pyplot as plt\n",
    "import glob\n",
    "import copy\n",
    "import os\n",
    "import seis_forward\n",
    "import seis_forward2\n",
    "import seis_test\n",
    "#plt.scatter([0,1],[1,2])\n",
    "#fls.download_kaggle_dataset('jeroencottaar/byu-many-models-2/', fls.result_dir + '/many_full_res/')"
   ]
  },
  {
   "cell_type": "code",
   "execution_count": 31,
   "id": "78975eaa-c03b-417d-856c-789afcc7c0cc",
   "metadata": {},
   "outputs": [
    {
     "name": "stdout",
     "output_type": "stream",
     "text": [
      "Mismatch to hosts: 3.544453883175856e-05\n",
      "adjoint 5.346471963069144e-18 4.9042632427831433e-05\n",
      "diff 1.574739655544795e-13 1.658886008067652e-07\n",
      "Mismatch to hosts: 1.5741465383079042e-05\n",
      "adjoint 8.592302216947623e-18 0.0001352831488805387\n",
      "diff 1.1770732250346666e-13 1.4481413612063529e-07\n",
      "7.688010805914319e-16 1.0873080213968933e-11\n",
      "All tests passed!\n",
      "CPU times: total: 18.7 s\n",
      "Wall time: 19.6 s\n"
     ]
    },
    {
     "data": {
      "image/png": "[encoded data removed]",
      "text/plain": [
       "<Figure size 640x480 with 2 Axes>"
      ]
     },
     "metadata": {},
     "output_type": "display_data"
    }
   ],
   "source": [
    "%%time\n",
    "importlib.reload(kgs)\n",
    "importlib.reload(seis_test)\n",
    "importlib.reload(seis_forward2)\n",
    "seis_test.run_all_tests(test_reference_mode=True)\n"
   ]
  },
  {
   "cell_type": "code",
   "execution_count": 8,
   "id": "71488e80-b433-4f8d-b4b2-80f2a657c460",
   "metadata": {},
   "outputs": [
    {
     "name": "stdout",
     "output_type": "stream",
     "text": [
      "3.274694026346925e-05\n",
      "3.176099982855424e-05\n",
      "2.141552448272705\n",
      "init: 0.00\n",
      "prep for source loop: 0.01\n",
      "prep for time loop: 0.01\n",
      "time loop: 2.09\n",
      "extract seis: 0.03\n",
      "finish: 0.00\n"
     ]
    }
   ],
   "source": [
    "import cupy as cp\n",
    "import time\n",
    "importlib.reload(seis_forward2)\n",
    "\n",
    "d = kgs.load_all_train_data()[0]\n",
    "d.load_to_memory()    \n",
    "vec = d.velocity.to_vector()\n",
    "d2 = kgs.load_all_train_data()[1]\n",
    "d2.load_to_memory()    \n",
    "vec2 = d2.velocity.to_vector()\n",
    "\n",
    "kgs.profiling=False\n",
    "seis_forward2.profiling=True\n",
    "seis_forward2.reset_profile()\n",
    "t=time.time()\n",
    "for ii in range(5):\n",
    "    result, result_diff, result_adjoint = seis_forward2.vel_to_seis(vec)#, vec_adjoint = cp.zeros((5*999*70,1), dtype=kgs.base_type_gpu))\n",
    "    result2, result_diff, result_adjoint = seis_forward2.vel_to_seis(vec2)\n",
    "print(kgs.rms(result - d.seismogram.to_vector()))\n",
    "print(kgs.rms(result2 - d2.seismogram.to_vector()))\n",
    "print(time.time()-t)\n",
    "seis_forward2.show_profile()"
   ]
  },
  {
   "cell_type": "code",
   "execution_count": 12,
   "id": "1dca0adf-0274-45a1-8844-c985e4e70a99",
   "metadata": {},
   "outputs": [
    {
     "name": "stdout",
     "output_type": "stream",
     "text": [
      "Timer unit: 1e-07 s\n",
      "\n",
      "Total time: 0.274313 s\n",
      "File: f:\\seismic/code/core\\seis_forward_temp.py\n",
      "Function: vel_to_seis at line 12\n",
      "\n",
      "Line #      Hits         Time  Per Hit   % Time  Line Contents\n",
      "==============================================================\n",
      "    12                                           @kgs.profile_each_line\n",
      "    13                                           def vel_to_seis(vec, vec_diff=None, vec_adjoint=None, adjoint_on_residual=False):\n",
      "    14                                               # Outputs:\n",
      "    15                                               # result: the seismogram associated with velocity field vec\n",
      "    16                                               # result_diff: J@vec_diff, where J is the Jacobian of the operation above\n",
      "    17                                               # result_adjoint: J^T@vec_adjoint, or J^T@(result-vec_adjoint) if adjoint_on_residual=True\n",
      "    18         1         12.0     12.0      0.0      assert vec.shape == (4901,1)\n",
      "    19         1          3.0      3.0      0.0      assert vec_adjoint is None or vec_adjoint.shape == (5*999*70,1)\n",
      "    20         1          1.0      1.0      0.0      assert vec_diff is None or vec_diff.shape == (4901,1)\n",
      "    21         1          1.0      1.0      0.0      do_diff = not (vec_diff is None)\n",
      "    22         1          2.0      2.0      0.0      do_adjoint = not (vec_adjoint is None)\n",
      "    23                                           \n",
      "    24                                           \n",
      "    25                                               # PREPARATION\n",
      "    26         1       4665.0   4665.0      0.2      v,temp1,temp2,alpha = prep_run(vec)\n",
      "    27                                           \n",
      "    28         1        197.0    197.0      0.0      seis_combined = cp.zeros((5,999,70),dtype=kgs.base_type_gpu)\n",
      "    29         1          2.0      2.0      0.0      p_complete_list = []\n",
      "    30                                               \n",
      "    31         1          2.0      2.0      0.0      if do_diff:\n",
      "    32                                                   v_diff,temp1_diff,temp2_diff,alpha_diff = prep_run_diff(vec_diff,v)        \n",
      "    33                                                   seis_combined_diff = cp.zeros((5,999,70),dtype=kgs.base_type_gpu)\n",
      "    34                                           \n",
      "    35         1          1.0      1.0      0.0      if do_adjoint:        \n",
      "    36                                                   alpha_adjoint = cp.zeros_like(alpha)\n",
      "    37                                                   temp1_adjoint = cp.zeros_like(alpha)\n",
      "    38                                                   temp2_adjoint = cp.zeros_like(alpha)\n",
      "    39                                                   v_adjoint = cp.zeros_like(v)  \n",
      "    40                                                   seis_combined_adjoint = cp.reshape(vec_adjoint, (5,999,70))\n",
      "    41                                           \n",
      "    42         1          2.0      2.0      0.0      tx, ty = 16, 16\n",
      "    43         1          5.0      5.0      0.0      bx = (nx + tx - 1) // tx\n",
      "    44         1          3.0      3.0      0.0      by = (nz + ty - 1) // ty  \n",
      "    45                                           \n",
      "    46                                           \n",
      "    47                                               # LOOP\n",
      "    48                                           \n",
      "    49                                               \n",
      "    50                                           \n",
      "    51         1         48.0     48.0      0.0      temp1_flat = temp1.ravel();temp2_flat = temp2.ravel();alpha_flat = alpha.ravel()\n",
      "    52         1        730.0    730.0      0.0      s_mod = cp.array(s, dtype=kgs.base_type_gpu)\n",
      "    53         1        335.0    335.0      0.0      ss = cp.array(s)\n",
      "    54                                           \n",
      "    55         1        166.0    166.0      0.0      p_complete = cp.zeros((nt+2,temp1.shape[0],temp1.shape[1]), dtype=kgs.base_type_gpu)\n",
      "    56         1         83.0     83.0      0.0      lapg_store = cp.zeros((nt,temp1.shape[0],temp1.shape[1]), dtype=kgs.base_type_gpu)\n",
      "    57                                           \n",
      "    58         1        100.0    100.0      0.0      p_complete_flat = p_complete.ravel();lapg_store_flat=lapg_store.ravel()\n",
      "    59                                           \n",
      "    60         1         98.0     98.0      0.0      stream = cp.cuda.Stream(non_blocking=True)\n",
      "    61                                           \n",
      "    62         1    1859039.0    2e+06     67.8      cp.cuda.Stream.null.synchronize()\n",
      "    63         6         60.0     10.0      0.0      for i_source in range(N_source_to_do):     \n",
      "    64         5        166.0     33.2      0.0          cp.cuda.Stream.null.synchronize()\n",
      "    65         5         53.0     10.6      0.0          src_idx = src_idx_list[i_source]\n",
      "    66         5       6541.0   1308.2      0.2          bdt = (v[isz_list[i_source], isx_list[i_source]]*dt)**2\n",
      "    67                                                   #s_mod[...] = cp.array(bdt*s)\n",
      "    68                                                   #s_mod = bdt*s\n",
      "    69                                                   #print(kgs.rms(s_mod - cp.array(bdt*s)))\n",
      "    70         5       1946.0    389.2      0.1          s_mod[...] = bdt*ss\n",
      "    71                                           \n",
      "    72         5        290.0     58.0      0.0          cp.cuda.Stream.null.synchronize()\n",
      "    73                                           \n",
      "    74         5        783.0    156.6      0.0          p_complete[...] = 0\n",
      "    75         5        462.0     92.4      0.0          lapg_store[...] = 0    \n",
      "    76                                           \n",
      "    77         5     300859.0  60171.8     11.0          cp.cuda.Stream.null.synchronize()\n",
      "    78         5         48.0      9.6      0.0          if i_source==0:            \n",
      "    79         1         96.0     96.0      0.0              stream.begin_capture()\n",
      "    80         2        135.0     67.5      0.0              with stream:\n",
      "    81                                                           \n",
      "    82      1000       3595.0      3.6      0.1                  for it in range(0, nt):\n",
      "    83                                                   \n",
      "    84      1998     115728.0     57.9      4.2                      update_p(\n",
      "    85       999       1921.0      1.9      0.1                                  (bx, by), (tx, ty),\n",
      "    86       999       1409.0      1.4      0.1                                  (\n",
      "    87       999       1472.0      1.5      0.1                                      temp1_flat, temp2_flat, alpha_flat,\n",
      "    88       999       1239.0      1.2      0.0                                      p_complete_flat,\n",
      "    89       999       1253.0      1.3      0.0                                      lapg_store_flat,\n",
      "    90       999       2262.0      2.3      0.1                                      (it)*(nx*nz),\n",
      "    91       999       2287.0      2.3      0.1                                      (it+1)*(nx*nz),\n",
      "    92       999       2156.0      2.2      0.1                                      (it+2)*(nx*nz),\n",
      "    93       999       1709.0      1.7      0.1                                      nx, nz, it,\n",
      "    94       999       1661.0      1.7      0.1                                      c2, c3,\n",
      "    95       999       1429.0      1.4      0.1                                      src_idx, s_mod\n",
      "    96                                                                           )\n",
      "    97                                                                       )\n",
      "    98                                                   \n",
      "    99                                                               \n",
      "   100                                           \n",
      "   101         1      15861.0  15861.0      0.6              graph = stream.end_capture()\n",
      "   102         1       7709.0   7709.0      0.3              graph.upload(stream)\n",
      "   103         5      13414.0   2682.8      0.5          graph.launch(stream)\n",
      "   104         5     368197.0  73639.4     13.4          stream.synchronize()\n",
      "   105         5      21893.0   4378.6      0.8          seis_combined[i_source,...] = p_complete[2:,igz,igx]\n",
      "   106         5        226.0     45.2      0.0          cp.cuda.Stream.null.synchronize()\n",
      "   107                                                   #  # ← not strictly required right here\n",
      "   108                                           \n",
      "   109                                                   \n",
      "   110         5         25.0      5.0      0.0          if do_diff:\n",
      "   111                                                       bdt_diff = 2*((cp.asnumpy(v[isz_list[i_source], isx_list[i_source]]*v_diff[isz_list[i_source], isx_list[i_source]])))* dt**2\n",
      "   112                                                       s_mod_diff = bdt_diff*s\n",
      "   113                                                       p_complete_diff = cp.zeros((nt+2,temp1.shape[0],temp1.shape[1]), dtype=kgs.base_type_gpu)\n",
      "   114                                               \n",
      "   115                                                       for it in range(0, nt):\n",
      "   116                                                           p1_diff = p_complete_diff[it+1,...]\n",
      "   117                                                           p0_diff = p_complete_diff[it,...]\n",
      "   118                                                           p1 = p_complete[it+1,...]\n",
      "   119                                                           p0 = p_complete[it,...]\n",
      "   120                                                           lapg_store_diff = (cp.array(c2) * (cp.roll(p1_diff, 1, axis=1) + cp.roll(p1_diff, -1, axis=1) +\n",
      "   121                                                                          cp.roll(p1_diff, 1, axis=0) + cp.roll(p1_diff, -1, axis=0)) +\n",
      "   122                                                                    cp.array(c3) * (cp.roll(p1_diff, 2, axis=1) + cp.roll(p1_diff, -2, axis=1) +\n",
      "   123                                                                          cp.roll(p1_diff, 2, axis=0) + cp.roll(p1_diff, -2, axis=0)))\n",
      "   124                                                           p_complete_diff[it+2,...] = (temp1 * p1_diff + temp1_diff*p1 - temp2_diff * p0 - temp2*p0_diff + \n",
      "   125                                                                alpha_diff * lapg_store[it,...] + alpha*lapg_store_diff)\n",
      "   126                                                           p_complete_diff[it+2,...].ravel()[src_idx] += s_mod_diff[it]   \n",
      "   127                                               \n",
      "   128                                                       seis_combined_diff[i_source,...] = p_complete_diff[2:,igz,igx]\n",
      "   129                                                       del p_complete_diff\n",
      "   130                                                       \n",
      "   131         5         29.0      5.8      0.0          if do_adjoint:     \n",
      "   132                                                       p_complete_adjoint =  cp.zeros((nt+2,temp1.shape[0],temp1.shape[1]), dtype=kgs.base_type_gpu)\n",
      "   133                                                       if adjoint_on_residual:\n",
      "   134                                                           p_complete_adjoint[2:,igz,igx] = seis_combined[i_source,...]-seis_combined_adjoint[i_source,...]\n",
      "   135                                                       else:\n",
      "   136                                                           p_complete_adjoint[2:,igz,igx] = seis_combined_adjoint[i_source,...]\n",
      "   137                                               \n",
      "   138                                                       s_mod_adjoint = cp.zeros_like(s_mod)\n",
      "   139                                                       s_mod_adjoint_flat = s_mod_adjoint.ravel(); p_complete_adjoint_flat = p_complete_adjoint.ravel();\n",
      "   140                                                       temp1_adjoint_flat = temp1_adjoint.ravel();temp2_adjoint_flat = temp2_adjoint.ravel();\n",
      "   141                                                       alpha_adjoint_flat = alpha_adjoint.ravel();\n",
      "   142                                                       for it in np.arange(nt-1,-1,-1):\n",
      "   143                                           \n",
      "   144                                                           \n",
      "   145                                                           \n",
      "   146                                                           update_p_adjoint(\n",
      "   147                                                                   (bx, by), (tx, ty),\n",
      "   148                                                                   (\n",
      "   149                                                                       temp1_flat, temp2_flat, alpha_flat,\n",
      "   150                                                                       p_complete_flat,\n",
      "   151                                                                       lapg_store_flat,\n",
      "   152                                                                       s_mod_adjoint_flat, p_complete_adjoint_flat, temp1_adjoint_flat, temp2_adjoint_flat, alpha_adjoint_flat,\n",
      "   153                                                                       (it)*(nx*nz),\n",
      "   154                                                                       (it+1)*(nx*nz),\n",
      "   155                                                                       (it+2)*(nx*nz),\n",
      "   156                                                                       nx, nz, it,\n",
      "   157                                                                       c2, c3,\n",
      "   158                                                                       src_idx\n",
      "   159                                                                   )\n",
      "   160                                                               )\n",
      "   161                                                           \n",
      "   162                                           \n",
      "   163                                                           # s_mod_adjoint[it] = p_complete_adjoint[it+2,...].ravel()[src_idx]\n",
      "   164                                                           # p_complete_adjoint[it+1,...] += temp1 * p_complete_adjoint[it+2,...]\n",
      "   165                                                           # temp1_adjoint+=p_complete[it+1,...] * p_complete_adjoint[it+2,...]\n",
      "   166                                                           # p_complete_adjoint[it,...] -= temp2 * p_complete_adjoint[it+2,...]\n",
      "   167                                                           # temp2_adjoint-=p_complete[it,...] * p_complete_adjoint[it+2,...]\n",
      "   168                                                           # alpha_adjoint+=lapg_store[it,...] * p_complete_adjoint[it+2,...]\n",
      "   169                                                           # lapg_store_adjoint = alpha*p_complete_adjoint[it+2,...]\n",
      "   170                                                           # p1_adjoint = (cp.array(c2) * (cp.roll(lapg_store_adjoint, -1, axis=1) + cp.roll(lapg_store_adjoint, 1, axis=1) +\n",
      "   171                                                           #                   cp.roll(lapg_store_adjoint, -1, axis=0) + cp.roll(lapg_store_adjoint, 1, axis=0)) +\n",
      "   172                                                           #   cp.array(c3) * (cp.roll(lapg_store_adjoint, -2, axis=1) + cp.roll(lapg_store_adjoint, 2, axis=1) +\n",
      "   173                                                           #                   cp.roll(lapg_store_adjoint, -2, axis=0) + cp.roll(lapg_store_adjoint, 2, axis=0)))\n",
      "   174                                                           # p_complete_adjoint[it+1,...]+= p1_adjoint\n",
      "   175                                                           \n",
      "   176                                               \n",
      "   177                                                       bdt_adjoint = cp.sum(s_mod_adjoint*cp.array(s))\n",
      "   178                                                       v_adjoint[isz_list[i_source], isx_list[i_source]] += 2*dt**2 * v[isz_list[i_source], isx_list[i_source]] * bdt_adjoint\n",
      "   179                                                       del p_complete_adjoint\n",
      "   180                                                       \n",
      "   181                                           \n",
      "   182                                               # FINALIZE\n",
      "   183         1         13.0     13.0      0.0      assert seis_combined.shape == (5,999,70)\n",
      "   184         1        683.0    683.0      0.0      result =  seis_combined.flatten()[:,None]\n",
      "   185         1          5.0      5.0      0.0      if do_diff:\n",
      "   186                                                   assert seis_combined_diff.shape == (5,999,70)\n",
      "   187                                                   result_diff =  seis_combined_diff.flatten()[:,None]\n",
      "   188                                               else:\n",
      "   189         1          4.0      4.0      0.0          result_diff = None\n",
      "   190         1          4.0      4.0      0.0      if do_adjoint:\n",
      "   191                                                   result_adjoint = prep_run_adjoint(v_adjoint,temp1_adjoint,temp2_adjoint,alpha_adjoint,v)\n",
      "   192                                               else:\n",
      "   193         1          4.0      4.0      0.0          result_adjoint = None\n",
      "   194                                           \n",
      "   195         1          4.0      4.0      0.0      return result, result_diff, result_adjoint\n",
      "\n"
     ]
    },
    {
     "data": {
      "text/plain": [
       "array(1.74392932)"
      ]
     },
     "execution_count": 12,
     "metadata": {},
     "output_type": "execute_result"
    }
   ],
   "source": [
    "import seis_forward_temp\n",
    "kgs.profiling=True\n",
    "importlib.reload(seis_forward_temp)\n",
    "result2 = seis_forward_temp.vel_to_seis(vec)[0]\n",
    "kgs.rms(result2-result)"
   ]
  },
  {
   "cell_type": "code",
   "execution_count": null,
   "id": "a5f8918a-55a1-4234-9539-ac09a1f95f0d",
   "metadata": {},
   "outputs": [],
   "source": [
    "np.arange(0,5)"
   ]
  },
  {
   "cell_type": "code",
   "execution_count": null,
   "id": "ef272b49-7a17-4f69-84a5-bc2aa1cdb676",
   "metadata": {},
   "outputs": [],
   "source": [
    "np.arange(4,-1,-1)"
   ]
  },
  {
   "cell_type": "code",
   "execution_count": null,
   "id": "83323e4c-cb9d-4c56-b758-0dcdf7c729a3",
   "metadata": {},
   "outputs": [],
   "source": []
  }
 ],
 "metadata": {
  "kernelspec": {
   "display_name": "Python 3 (ipykernel)",
   "language": "python",
   "name": "python3"
  },
  "language_info": {
   "codemirror_mode": {
    "name": "ipython",
    "version": 3
   },
   "file_extension": ".py",
   "mimetype": "text/x-python",
   "name": "python",
   "nbconvert_exporter": "python",
   "pygments_lexer": "ipython3",
   "version": "3.10.14"
  }
 },
 "nbformat": 4,
 "nbformat_minor": 5
}
