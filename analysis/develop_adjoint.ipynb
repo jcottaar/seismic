{
 "cells": [
  {
   "cell_type": "code",
   "execution_count": 1,
   "id": "4a420e8d-0c30-4826-a748-d3a7d3352aca",
   "metadata": {},
   "outputs": [],
   "source": [
    "import sys\n",
    "sys.path.append('f:/seismic/code/core')\n",
    "sys.path.append('/seismic/code/core')\n",
    "sys.path.append('/kaggle/input/my-seis-library/')\n",
    "import kaggle_support as kgs\n",
    "import importlib\n",
    "import numpy as np\n",
    "import matplotlib.pyplot as plt\n",
    "import glob\n",
    "import copy\n",
    "import os\n",
    "import seis_forward\n",
    "import seis_forward2\n",
    "import seis_test\n",
    "#plt.scatter([0,1],[1,2])\n",
    "#fls.download_kaggle_dataset('jeroencottaar/byu-many-models-2/', fls.result_dir + '/many_full_res/')"
   ]
  },
  {
   "cell_type": "code",
   "execution_count": 6,
   "id": "78975eaa-c03b-417d-856c-789afcc7c0cc",
   "metadata": {},
   "outputs": [
    {
     "name": "stdout",
     "output_type": "stream",
     "text": [
      "Mismatch to hosts: 3.5444538831673834e-05\n",
      "adjoint 0.00010606051115244113 0.00015510314358026803\n"
     ]
    },
    {
     "ename": "AssertionError",
     "evalue": "",
     "output_type": "error",
     "traceback": [
      "\u001b[1;31m---------------------------------------------------------------------------\u001b[0m",
      "\u001b[1;31mAssertionError\u001b[0m                            Traceback (most recent call last)",
      "File \u001b[1;32m<timed exec>:4\u001b[0m\n",
      "File \u001b[1;32mf:\\seismic/code/core\\seis_test.py:88\u001b[0m, in \u001b[0;36mrun_all_tests\u001b[1;34m(test_reference_mode)\u001b[0m\n\u001b[0;32m     82\u001b[0m \u001b[38;5;28;01mdef\u001b[39;00m \u001b[38;5;21mrun_all_tests\u001b[39m(test_reference_mode \u001b[38;5;241m=\u001b[39m \u001b[38;5;28;01mFalse\u001b[39;00m):\n\u001b[0;32m     83\u001b[0m     \u001b[38;5;66;03m#kgs.debugging_mode = 3\u001b[39;00m\n\u001b[0;32m     84\u001b[0m     \u001b[38;5;66;03m#kgs.profiling=False\u001b[39;00m\n\u001b[0;32m     85\u001b[0m     \u001b[38;5;66;03m#seis_forward.reference_mode = False\u001b[39;00m\n\u001b[0;32m     86\u001b[0m     data \u001b[38;5;241m=\u001b[39m kgs\u001b[38;5;241m.\u001b[39mload_all_train_data()\n\u001b[1;32m---> 88\u001b[0m     \u001b[43mtest_stuff_on_one_case\u001b[49m\u001b[43m(\u001b[49m\u001b[43mdata\u001b[49m\u001b[43m[\u001b[49m\u001b[38;5;241;43m2059\u001b[39;49m\u001b[43m]\u001b[49m\u001b[43m,\u001b[49m\u001b[43m \u001b[49m\u001b[38;5;241;43m1e-4\u001b[39;49m\u001b[43m,\u001b[49m\u001b[43m \u001b[49m\u001b[43mtest_reference_mode\u001b[49m\u001b[38;5;241;43m=\u001b[39;49m\u001b[43mtest_reference_mode\u001b[49m\u001b[43m)\u001b[49m\n\u001b[0;32m     89\u001b[0m     test_stuff_on_one_case(data[\u001b[38;5;241m-\u001b[39m\u001b[38;5;241m1001\u001b[39m], \u001b[38;5;241m1e-4\u001b[39m, test_reference_mode\u001b[38;5;241m=\u001b[39mtest_reference_mode)\n\u001b[0;32m     91\u001b[0m     test_prior(seis_prior\u001b[38;5;241m.\u001b[39mRowTotalVariation())\n",
      "File \u001b[1;32mf:\\seismic/code/core\\seis_test.py:36\u001b[0m, in \u001b[0;36mtest_stuff_on_one_case\u001b[1;34m(d, expected_match, test_reference_mode)\u001b[0m\n\u001b[0;32m     34\u001b[0m res2 \u001b[38;5;241m=\u001b[39m cp\u001b[38;5;241m.\u001b[39msum(result_adjoint\u001b[38;5;241m*\u001b[39moffset_vec1)\n\u001b[0;32m     35\u001b[0m \u001b[38;5;28mprint\u001b[39m(\u001b[38;5;124m'\u001b[39m\u001b[38;5;124madjoint\u001b[39m\u001b[38;5;124m'\u001b[39m, cp\u001b[38;5;241m.\u001b[39mabs(res1\u001b[38;5;241m-\u001b[39mres2), res1)\n\u001b[1;32m---> 36\u001b[0m \u001b[38;5;28;01massert\u001b[39;00m cp\u001b[38;5;241m.\u001b[39mabs(res1\u001b[38;5;241m-\u001b[39mres2)\u001b[38;5;241m/\u001b[39mcp\u001b[38;5;241m.\u001b[39mabs(res1)\u001b[38;5;241m<\u001b[39m\u001b[38;5;241m1e-10\u001b[39m\n\u001b[0;32m     37\u001b[0m \u001b[38;5;66;03m#base_file = kgs.dill_load(kgs.temp_dir + 'nondiff')\u001b[39;00m\n\u001b[0;32m     39\u001b[0m result_offset \u001b[38;5;241m=\u001b[39m seis_forward2\u001b[38;5;241m.\u001b[39mvel_to_seis(d\u001b[38;5;241m.\u001b[39mvelocity\u001b[38;5;241m.\u001b[39mto_vector()\u001b[38;5;241m+\u001b[39moffset_vec1, \u001b[38;5;28;01mNone\u001b[39;00m,\u001b[38;5;28;01mNone\u001b[39;00m)[\u001b[38;5;241m0\u001b[39m]\n",
      "\u001b[1;31mAssertionError\u001b[0m: "
     ]
    }
   ],
   "source": [
    "%%time\n",
    "importlib.reload(kgs)\n",
    "importlib.reload(seis_test)\n",
    "importlib.reload(seis_forward2)\n",
    "seis_test.run_all_tests(test_reference_mode=True)\n"
   ]
  },
  {
   "cell_type": "code",
   "execution_count": 12,
   "id": "71488e80-b433-4f8d-b4b2-80f2a657c460",
   "metadata": {},
   "outputs": [
    {
     "name": "stdout",
     "output_type": "stream",
     "text": [
      "3.274694026346925e-05\n",
      "3.176099982855424e-05\n",
      "3.6895391941070557\n",
      "init: 0.00\n",
      "prep for source loop: 0.10\n",
      "prep for time loop: 0.14\n",
      "stream capture: 0.04\n",
      "time loop: 3.63\n",
      "extract seis: 0.12\n",
      "finish: 0.01\n"
     ]
    }
   ],
   "source": [
    "import cupy as cp\n",
    "import time\n",
    "importlib.reload(seis_forward2)\n",
    "\n",
    "d = kgs.load_all_train_data()[0]\n",
    "d.load_to_memory()    \n",
    "vec = d.velocity.to_vector()\n",
    "d2 = kgs.load_all_train_data()[1]\n",
    "d2.load_to_memory()    \n",
    "vec2 = d2.velocity.to_vector()\n",
    "\n",
    "kgs.profiling=False\n",
    "seis_forward2.profiling=True\n",
    "result, result_diff, result_adjoint = seis_forward2.vel_to_seis(vec)#, vec_adjoint = cp.zeros((5*999*70,1), dtype=kgs.base_type_gpu))\n",
    "result2, result_diff, result_adjoint = seis_forward2.vel_to_seis(vec2)\n",
    "print(kgs.rms(result - d.seismogram.to_vector()))\n",
    "print(kgs.rms(result2 - d2.seismogram.to_vector()))\n",
    "seis_forward2.reset_profile()\n",
    "t=time.time()\n",
    "for ii in range(50):\n",
    "    result, result_diff, result_adjoint = seis_forward2.vel_to_seis(vec)#, vec_adjoint = cp.zeros((5*999*70,1), dtype=kgs.base_type_gpu))\n",
    "    result2, result_diff, result_adjoint = seis_forward2.vel_to_seis(vec2)\n",
    "print(time.time()-t)\n",
    "seis_forward2.show_profile()"
   ]
  },
  {
   "cell_type": "code",
   "execution_count": 4,
   "id": "05d64516-a480-4701-9e45-13c48e3aa4cb",
   "metadata": {},
   "outputs": [
    {
     "name": "stdout",
     "output_type": "stream",
     "text": [
      "14856\n"
     ]
    }
   ],
   "source": [
    "import os\n",
    "print(os.getpid())"
   ]
  },
  {
   "cell_type": "code",
   "execution_count": 5,
   "id": "498f6a98-0376-4ba4-a97c-2bda6e86feb2",
   "metadata": {},
   "outputs": [
    {
     "ename": "SyntaxError",
     "evalue": "invalid syntax (4089807190.py, line 1)",
     "output_type": "error",
     "traceback": [
      "\u001b[1;36m  Cell \u001b[1;32mIn[5], line 1\u001b[1;36m\u001b[0m\n\u001b[1;33m    ncu --section source --metrics sm_efficiency,achieved_occupancy,global_load_throughput,global_store_throughput --target-processes all  --target-pid 17980\u001b[0m\n\u001b[1;37m                  ^\u001b[0m\n\u001b[1;31mSyntaxError\u001b[0m\u001b[1;31m:\u001b[0m invalid syntax\n"
     ]
    }
   ],
   "source": [
    "ncu --section source --metrics sm_efficiency,achieved_occupancy,global_load_throughput,global_store_throughput --target-processes all  --target-pid 17980"
   ]
  }
 ],
 "metadata": {
  "kernelspec": {
   "display_name": "Python 3 (ipykernel)",
   "language": "python",
   "name": "python3"
  },
  "language_info": {
   "codemirror_mode": {
    "name": "ipython",
    "version": 3
   },
   "file_extension": ".py",
   "mimetype": "text/x-python",
   "name": "python",
   "nbconvert_exporter": "python",
   "pygments_lexer": "ipython3",
   "version": "3.10.14"
  }
 },
 "nbformat": 4,
 "nbformat_minor": 5
}
