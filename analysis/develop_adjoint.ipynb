{
 "cells": [
  {
   "cell_type": "code",
   "execution_count": 1,
   "id": "4a420e8d-0c30-4826-a748-d3a7d3352aca",
   "metadata": {},
   "outputs": [],
   "source": [
    "import sys\n",
    "sys.path.append('f:/seismic/code/core')\n",
    "sys.path.append('/seismic/code/core')\n",
    "sys.path.append('/kaggle/input/my-seis-library/')\n",
    "import kaggle_support as kgs\n",
    "import importlib\n",
    "import numpy as np\n",
    "import matplotlib.pyplot as plt\n",
    "import glob\n",
    "import copy\n",
    "import os\n",
    "import seis_forward\n",
    "import seis_forward2\n",
    "import seis_test\n",
    "#plt.scatter([0,1],[1,2])\n",
    "#fls.download_kaggle_dataset('jeroencottaar/byu-many-models-2/', fls.result_dir + '/many_full_res/')"
   ]
  },
  {
   "cell_type": "code",
   "execution_count": 2,
   "id": "78975eaa-c03b-417d-856c-789afcc7c0cc",
   "metadata": {},
   "outputs": [
    {
     "name": "stdout",
     "output_type": "stream",
     "text": [
      "capturing graph\n",
      "capturing graph\n",
      "Mismatch to hosts: 3.5444538831673834e-05\n",
      "adjoint 8.673617379884035e-18 4.9042632427835574e-05\n",
      "diff 1.5727204179012753e-13 1.6588860071825717e-07\n",
      "Mismatch to hosts: 1.5741465383079042e-05\n",
      "adjoint 8.592302216947623e-18 0.0001352831488805387\n",
      "diff 1.17634803081803e-13 1.4481413610833205e-07\n",
      "8.23042934313816e-16 1.0896616942090986e-11\n",
      "All tests passed!\n",
      "CPU times: total: 18.3 s\n",
      "Wall time: 19 s\n"
     ]
    },
    {
     "data": {
      "image/png": "[encoded data removed]",
      "text/plain": [
       "<Figure size 640x480 with 2 Axes>"
      ]
     },
     "metadata": {},
     "output_type": "display_data"
    }
   ],
   "source": [
    "%%time\n",
    "importlib.reload(kgs)\n",
    "importlib.reload(seis_test)\n",
    "importlib.reload(seis_forward2)\n",
    "seis_test.run_all_tests(test_reference_mode=True)\n"
   ]
  },
  {
   "cell_type": "code",
   "execution_count": 6,
   "id": "71488e80-b433-4f8d-b4b2-80f2a657c460",
   "metadata": {},
   "outputs": [
    {
     "name": "stdout",
     "output_type": "stream",
     "text": [
      "capturing graph\n",
      "capturing graph\n",
      "3.274694026346925e-05\n",
      "3.176099982855424e-05\n",
      "0.10358171463012696\n",
      "init: 0.0000\n",
      "prep for source loop: 0.0010\n",
      "prep for time loop: 0.0014\n",
      "time loop: 0.0344\n",
      "extract seis: 0.0009\n",
      "prep for time loop adjoint: 0.0008\n",
      "time loop adjoint: 0.0613\n",
      "end adjoint: 0.0020\n",
      "finish: 0.0016\n"
     ]
    }
   ],
   "source": [
    "import cupy as cp\n",
    "import time\n",
    "importlib.reload(seis_forward2)\n",
    "\n",
    "d = kgs.load_all_train_data()[0]\n",
    "d.load_to_memory()    \n",
    "vec = d.velocity.to_vector()\n",
    "d2 = kgs.load_all_train_data()[1]\n",
    "d2.load_to_memory()    \n",
    "vec2 = d2.velocity.to_vector()\n",
    "\n",
    "kgs.profiling=False\n",
    "seis_forward2.profiling=True\n",
    "result, result_diff, result_adjoint = seis_forward2.vel_to_seis(vec, vec_adjoint = cp.zeros((5*999*70,1)))#, vec_adjoint = cp.zeros((5*999*70,1), dtype=kgs.base_type_gpu))\n",
    "result2, result_diff, result_adjoint = seis_forward2.vel_to_seis(vec2, vec_adjoint = cp.zeros((5*999*70,1)))\n",
    "print(kgs.rms(result - d.seismogram.to_vector()))\n",
    "print(kgs.rms(result2 - d2.seismogram.to_vector()))\n",
    "seis_forward2.reset_profile()\n",
    "t=time.time()\n",
    "NN=20\n",
    "for ii in range(NN):\n",
    "    result, result_diff, result_adjoint = seis_forward2.vel_to_seis(vec, vec_adjoint = cp.zeros((5*999*70,1)))#, vec_adjoint = cp.zeros((5*999*70,1), dtype=kgs.base_type_gpu))\n",
    "    result2, result_diff, result_adjoint = seis_forward2.vel_to_seis(vec2, vec_adjoint = cp.zeros((5*999*70,1)))\n",
    "print((time.time()-t)/(2*NN))\n",
    "seis_forward2.show_profile(2*NN)"
   ]
  },
  {
   "cell_type": "code",
   "execution_count": 4,
   "id": "05d64516-a480-4701-9e45-13c48e3aa4cb",
   "metadata": {},
   "outputs": [
    {
     "name": "stdout",
     "output_type": "stream",
     "text": [
      "3488\n"
     ]
    }
   ],
   "source": [
    "import os\n",
    "print(os.getpid())"
   ]
  },
  {
   "cell_type": "code",
   "execution_count": 5,
   "id": "498f6a98-0376-4ba4-a97c-2bda6e86feb2",
   "metadata": {},
   "outputs": [
    {
     "ename": "SyntaxError",
     "evalue": "invalid syntax (4089807190.py, line 1)",
     "output_type": "error",
     "traceback": [
      "\u001b[1;36m  Cell \u001b[1;32mIn[5], line 1\u001b[1;36m\u001b[0m\n\u001b[1;33m    ncu --section source --metrics sm_efficiency,achieved_occupancy,global_load_throughput,global_store_throughput --target-processes all  --target-pid 17980\u001b[0m\n\u001b[1;37m                  ^\u001b[0m\n\u001b[1;31mSyntaxError\u001b[0m\u001b[1;31m:\u001b[0m invalid syntax\n"
     ]
    }
   ],
   "source": [
    "ncu --section source --metrics sm_efficiency,achieved_occupancy,global_load_throughput,global_store_throughput --target-processes all  --target-pid 17980"
   ]
  }
 ],
 "metadata": {
  "kernelspec": {
   "display_name": "Python 3 (ipykernel)",
   "language": "python",
   "name": "python3"
  },
  "language_info": {
   "codemirror_mode": {
    "name": "ipython",
    "version": 3
   },
   "file_extension": ".py",
   "mimetype": "text/x-python",
   "name": "python",
   "nbconvert_exporter": "python",
   "pygments_lexer": "ipython3",
   "version": "3.10.14"
  }
 },
 "nbformat": 4,
 "nbformat_minor": 5
}
