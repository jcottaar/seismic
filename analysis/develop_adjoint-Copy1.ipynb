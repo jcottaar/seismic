{
 "cells": [
  {
   "cell_type": "code",
   "execution_count": 11,
   "id": "4a420e8d-0c30-4826-a748-d3a7d3352aca",
   "metadata": {},
   "outputs": [],
   "source": [
    "import sys\n",
    "sys.path.append('f:/seismic/code/core')\n",
    "sys.path.append('/seismic/code/core')\n",
    "sys.path.append('/kaggle/input/my-seis-library/')\n",
    "import kaggle_support as kgs\n",
    "import importlib\n",
    "import numpy as np\n",
    "import matplotlib.pyplot as plt\n",
    "import glob\n",
    "import copy\n",
    "import os\n",
    "import seis_forward\n",
    "import seis_forward2\n",
    "import seis_test\n",
    "import seis_prior\n",
    "#plt.scatter([0,1],[1,2])\n",
    "#fls.download_kaggle_dataset('jeroencottaar/byu-many-models-2/', fls.result_dir + '/many_full_res/')"
   ]
  },
  {
   "cell_type": "code",
   "execution_count": null,
   "id": "78975eaa-c03b-417d-856c-789afcc7c0cc",
   "metadata": {},
   "outputs": [
    {
     "name": "stdout",
     "output_type": "stream",
     "text": [
      "prior test 44.46157497167587 88851826.703125\n",
      "prior test 1.123679396601053e-13 1.4104176818463543e-05\n",
      "capturing graph\n"
     ]
    }
   ],
   "source": [
    "%%time\n",
    "importlib.reload(kgs)\n",
    "importlib.reload(seis_test)\n",
    "importlib.reload(seis_forward2)\n",
    "importlib.reload(seis_prior)\n",
    "seis_test.run_all_tests(test_reference_mode=True)\n"
   ]
  },
  {
   "cell_type": "code",
   "execution_count": 9,
   "id": "71488e80-b433-4f8d-b4b2-80f2a657c460",
   "metadata": {},
   "outputs": [
    {
     "name": "stdout",
     "output_type": "stream",
     "text": [
      "capturing graph\n",
      "capturing graph\n",
      "3.274694026346925e-05\n",
      "3.176099982855424e-05\n",
      "0.0998832643032074\n",
      "init: 0.0000\n",
      "prep for source loop: 0.0010\n",
      "prep for time loop: 0.0017\n",
      "time loop: 0.0332\n",
      "extract seis: 0.0013\n",
      "prep for time loop adjoint: 0.0012\n",
      "time loop adjoint: 0.0581\n",
      "end adjoint: 0.0017\n",
      "finish: 0.0017\n"
     ]
    }
   ],
   "source": [
    "import cupy as cp\n",
    "import time\n",
    "importlib.reload(seis_forward2)\n",
    "\n",
    "d = kgs.load_all_train_data()[0]\n",
    "d.load_to_memory()    \n",
    "vec = d.velocity.to_vector()\n",
    "d2 = kgs.load_all_train_data()[1]\n",
    "d2.load_to_memory()    \n",
    "vec2 = d2.velocity.to_vector()\n",
    "\n",
    "kgs.profiling=False\n",
    "seis_forward2.profiling=True\n",
    "result, result_diff, result_adjoint = seis_forward2.vel_to_seis(vec, vec_adjoint = cp.zeros((5*999*70,1)))#, vec_adjoint = cp.zeros((5*999*70,1), dtype=kgs.base_type_gpu))\n",
    "result2, result_diff, result_adjoint = seis_forward2.vel_to_seis(vec2, vec_adjoint = cp.zeros((5*999*70,1)))\n",
    "print(kgs.rms(result - d.seismogram.to_vector()))\n",
    "print(kgs.rms(result2 - d2.seismogram.to_vector()))\n",
    "seis_forward2.reset_profile()\n",
    "t=time.time()\n",
    "NN=20\n",
    "for ii in range(NN):\n",
    "    result, result_diff, result_adjoint = seis_forward2.vel_to_seis(vec, vec_adjoint = cp.zeros((5*999*70,1)))#, vec_adjoint = cp.zeros((5*999*70,1), dtype=kgs.base_type_gpu))\n",
    "    result2, result_diff, result_adjoint = seis_forward2.vel_to_seis(vec2, vec_adjoint = cp.zeros((5*999*70,1)))\n",
    "print((time.time()-t)/(2*NN))\n",
    "seis_forward2.show_profile(2*NN)"
   ]
  },
  {
   "cell_type": "code",
   "execution_count": null,
   "id": "9f0ca97b-2f20-4b08-ac77-04f23caccbeb",
   "metadata": {},
   "outputs": [],
   "source": []
  }
 ],
 "metadata": {
  "kernelspec": {
   "display_name": "Python 3 (ipykernel)",
   "language": "python",
   "name": "python3"
  },
  "language_info": {
   "codemirror_mode": {
    "name": "ipython",
    "version": 3
   },
   "file_extension": ".py",
   "mimetype": "text/x-python",
   "name": "python",
   "nbconvert_exporter": "python",
   "pygments_lexer": "ipython3",
   "version": "3.10.14"
  }
 },
 "nbformat": 4,
 "nbformat_minor": 5
}
