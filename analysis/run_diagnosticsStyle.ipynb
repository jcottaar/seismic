{
 "cells": [
  {
   "cell_type": "code",
   "execution_count": 2,
   "id": "4a420e8d-0c30-4826-a748-d3a7d3352aca",
   "metadata": {},
   "outputs": [
    {
     "name": "stdout",
     "output_type": "stream",
     "text": [
      "F:/seismic/models/brendan/*.pth\n",
      "Loading:  F:/seismic/models/brendan\\unet2d_caformer_seed3_epochbest.pt\n",
      "n_models: 1\n"
     ]
    }
   ],
   "source": [
    "import sys\n",
    "sys.path.append('f:/seismic/code/core')\n",
    "sys.path.append('/seismic/code/core')\n",
    "sys.path.append('/kaggle/input/my-seis-library/')\n",
    "import kaggle_support as kgs\n",
    "import importlib\n",
    "import numpy as np\n",
    "import matplotlib.pyplot as plt\n",
    "import glob\n",
    "import copy\n",
    "import os\n",
    "import seis_test\n",
    "import seis_invert\n",
    "import seis_prior\n",
    "#import seis_nn\n",
    "import cupy as cp\n",
    "import seis_diagnostics\n",
    "import seis_forward\n",
    "import seis_forward2"
   ]
  },
  {
   "cell_type": "code",
   "execution_count": null,
   "id": "65957361-67c5-41b2-9e3c-ac69261d6163",
   "metadata": {},
   "outputs": [],
   "source": [
    "data=kgs.load_all_train_data()\n",
    "d = data[8011]\n",
    "print(d.family)"
   ]
  },
  {
   "cell_type": "code",
   "execution_count": null,
   "id": "32d3f611-b8ec-437b-8515-89bd3facb2bc",
   "metadata": {},
   "outputs": [],
   "source": [
    "# importlib.reload(seis_prior)\n",
    "# importlib.reload(seis_diagnostics)\n",
    "# importlib.reload(seis_invert)\n",
    "# kgs.profiling=False\n",
    "# kgs.debugging_mode = 0\n",
    "# seis_forward2.profiling=False\n",
    "# seis_forward2.reset_profile()\n",
    "\n",
    "# model = seis_invert.InversionModel()\n",
    "# model.state = 1\n",
    "# model.method = 'L-BFGS-B'\n",
    "# model.maxiter = 5000\n",
    "# model.prior = seis_prior.SquaredExponential()\n",
    "\n",
    "\n",
    "# model.prior.basis_functions();\n",
    "# w = cp.linalg.eigvalsh(model.prior.P)   \n",
    "# plt.figure()\n",
    "# plt.semilogy(cp.asnumpy(cp.abs(w)))"
   ]
  },
  {
   "cell_type": "code",
   "execution_count": null,
   "id": "7cb34d28-88b1-489a-8615-f813f31f0159",
   "metadata": {},
   "outputs": [],
   "source": [
    "importlib.reload(seis_prior)\n",
    "importlib.reload(seis_diagnostics)\n",
    "importlib.reload(seis_invert)\n",
    "importlib.reload(seis_forward)\n",
    "kgs.profiling=False\n",
    "kgs.debugging_mode = 0\n",
    "seis_forward2.profiling=False\n",
    "seis_forward2.reset_profile()\n",
    "\n",
    "# transform back on, history size to infinite, maxiter down\n",
    "model = seis_invert.InversionModel()\n",
    "model.state = 1\n",
    "model.maxiter = 10\n",
    "model.history_size = 10000\n",
    "model.prior = seis_prior.SquaredExponential()\n",
    "model.prior.transform = False\n",
    "print('transform')\n",
    "model.prior.svd_cutoff = 1.\n",
    "model.prior.λ = 10**-11\n",
    "model.do_gn=False\n",
    "model.show_convergence=True\n",
    "#model.prior.basis_functions()\n",
    "#KK = cp.pad(model.prior.K, ((0, 1), (0, 1)), mode='constant', constant_values=0)\n",
    "#KK[-1,-1] = 10000.\n",
    "#U,s,_=cp.linalg.svd(model.prior.K,compute_uv=True)\n",
    "#model.prec_matrix = (U@cp.diag(cp.sqrt(s)))\n",
    "#model.prec_matrix = cp.pad(model.prec_matrix, ((0, 1), (0, 1)), mode='constant', constant_values=0)\n",
    "#model.prec_matrix = cp.diag(cp.sqrt(1/cp.diag(kgs.dill_load(kgs.temp_dir + 'JTJ'))))\n",
    "#plt.figure()\n",
    "#plt.imshow(cp.asnumpy(cp.log(cp.reshape(cp.diag(kgs.dill_load(kgs.temp_dir + 'JTJ'))[:-1],(70,70)))/cp.log(10)))\n",
    "#plt.colorbar()\n",
    "#model.prior.use_full=True\n",
    "\n",
    "do_which_list = [True,False,True]\n",
    "\n",
    "def param_func(model,value):\n",
    "    if value:\n",
    "        #model.prec_matrix = cp.diag(cp.sqrt(1/cp.diag(kgs.dill_load(kgs.temp_dir + 'JTJ'))))\n",
    "        model.prior.basis_functions()\n",
    "        #KK = cp.pad(model.prior.K, ((0, 1), (0, 1)), mode='constant', constant_values=0)\n",
    "        #KK[-1,-1] = 10000.\n",
    "        U,s,_=cp.linalg.svd(model.prior.P+(1/model.prior.λ)*cp.diag(kgs.dill_load(kgs.temp_dir + 'JTJ'))[:-1],compute_uv=True)\n",
    "        model.prec_matrix = (U@cp.diag(1/cp.sqrt(s)))\n",
    "        model.prec_matrix = cp.pad(model.prec_matrix, ((0, 1), (0, 1)), mode='constant', constant_values=0)\n",
    "        model.prec_matrix[-1,-1] = 1.\n",
    "        #model.prec_matrix = cp.diag(cp.sqrt(1/cp.diag(kgs.dill_load(kgs.temp_dir + 'JTJ'))))\n",
    "        # U,s,_=cp.linalg.svd(model.prior.K,compute_uv=True)\n",
    "        # model.prec_matrix = (U@cp.diag(cp.sqrt(s)))\n",
    "        # model.prec_matrix = cp.pad(model.prec_matrix, ((0, 1), (0, 1)), mode='constant', constant_values=0)\n",
    "        # model.prec_matrix[-1,-1] = 1.\n",
    "    #model.prior.transform = value\n",
    "    return model\n",
    "param_values = [False]\n",
    "param_name = \"prec\"\n",
    "\n",
    "\n",
    "for d in data[8000:8001]:\n",
    "    results = seis_diagnostics.do_diagnostics_run(d, model, do_which_list, param_func, param_values, param_name, help_fac=0.99)"
   ]
  },
  {
   "cell_type": "code",
   "execution_count": null,
   "id": "1e9de0f1-2634-453b-923e-feb4b6fcf216",
   "metadata": {},
   "outputs": [],
   "source": [
    "%debug"
   ]
  },
  {
   "cell_type": "code",
   "execution_count": null,
   "id": "8ee8cd8f-f090-4837-8e7c-b55f19e0e886",
   "metadata": {},
   "outputs": [],
   "source": [
    "seis_forward2.show_profile(1)"
   ]
  },
  {
   "cell_type": "code",
   "execution_count": null,
   "id": "66b65764-0f40-404d-8498-280513bb0be4",
   "metadata": {},
   "outputs": [],
   "source": []
  }
 ],
 "metadata": {
  "kernelspec": {
   "display_name": "Python 3 (ipykernel)",
   "language": "python",
   "name": "python3"
  },
  "language_info": {
   "codemirror_mode": {
    "name": "ipython",
    "version": 3
   },
   "file_extension": ".py",
   "mimetype": "text/x-python",
   "name": "python",
   "nbconvert_exporter": "python",
   "pygments_lexer": "ipython3",
   "version": "3.10.14"
  }
 },
 "nbformat": 4,
 "nbformat_minor": 5
}
