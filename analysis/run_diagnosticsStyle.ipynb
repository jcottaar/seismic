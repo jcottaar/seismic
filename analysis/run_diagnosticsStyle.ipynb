{
 "cells": [
  {
   "cell_type": "code",
   "execution_count": null,
   "id": "4a420e8d-0c30-4826-a748-d3a7d3352aca",
   "metadata": {},
   "outputs": [
    {
     "name": "stdout",
     "output_type": "stream",
     "text": [
      "maxcor\n",
      "F:/seismic/models/brendan/*.pth\n",
      "Loading:  F:/seismic/models/brendan\\unet2d_caformer_seed3_epochbest.pt\n"
     ]
    }
   ],
   "source": [
    "import sys\n",
    "sys.path.append('f:/seismic/code/core')\n",
    "sys.path.append('/seismic/code/core')\n",
    "sys.path.append('/kaggle/input/my-seis-library/')\n",
    "import kaggle_support as kgs\n",
    "import importlib\n",
    "import numpy as np\n",
    "import matplotlib.pyplot as plt\n",
    "import glob\n",
    "import copy\n",
    "import os\n",
    "import seis_test\n",
    "import seis_invert\n",
    "import seis_prior\n",
    "#import seis_nn\n",
    "import cupy as cp\n",
    "import seis_diagnostics\n",
    "import seis_forward2"
   ]
  },
  {
   "cell_type": "code",
   "execution_count": null,
   "id": "a4d91fd4-ee93-4783-8999-9e4973d99269",
   "metadata": {},
   "outputs": [],
   "source": [
    "import numpy as np\n",
    "np.log(32.4)"
   ]
  },
  {
   "cell_type": "code",
   "execution_count": null,
   "id": "65957361-67c5-41b2-9e3c-ac69261d6163",
   "metadata": {},
   "outputs": [],
   "source": [
    "data=kgs.load_all_train_data()\n",
    "d = data[8011]\n",
    "print(d.family)"
   ]
  },
  {
   "cell_type": "code",
   "execution_count": null,
   "id": "32d3f611-b8ec-437b-8515-89bd3facb2bc",
   "metadata": {},
   "outputs": [],
   "source": [
    "# importlib.reload(seis_prior)\n",
    "# importlib.reload(seis_diagnostics)\n",
    "# importlib.reload(seis_invert)\n",
    "# kgs.profiling=False\n",
    "# kgs.debugging_mode = 0\n",
    "# seis_forward2.profiling=False\n",
    "# seis_forward2.reset_profile()\n",
    "\n",
    "# model = seis_invert.InversionModel()\n",
    "# model.state = 1\n",
    "# model.method = 'L-BFGS-B'\n",
    "# model.maxiter = 5000\n",
    "# model.prior = seis_prior.SquaredExponential()\n",
    "\n",
    "\n",
    "# model.prior.basis_functions();\n",
    "# w = cp.linalg.eigvalsh(model.prior.P)   \n",
    "# plt.figure()\n",
    "# plt.semilogy(cp.asnumpy(cp.abs(w)))"
   ]
  },
  {
   "cell_type": "code",
   "execution_count": null,
   "id": "7cb34d28-88b1-489a-8615-f813f31f0159",
   "metadata": {},
   "outputs": [],
   "source": [
    "importlib.reload(seis_prior)\n",
    "importlib.reload(seis_diagnostics)\n",
    "importlib.reload(seis_invert)\n",
    "kgs.profiling=False\n",
    "kgs.debugging_mode = 0\n",
    "seis_forward2.profiling=False\n",
    "seis_forward2.reset_profile()\n",
    "\n",
    "model = seis_invert.InversionModel()\n",
    "model.state = 1\n",
    "model.method = 'L-BFGS-B'\n",
    "model.maxiter = 1000\n",
    "model.prior = seis_prior.SquaredExponential()\n",
    "model.prior.transform = True\n",
    "model.prior.svd_cutoff = 1.\n",
    "\n",
    "do_which_list = [False,False,True]\n",
    "\n",
    "def param_func(model,value):\n",
    "    model.prior.λ = 10**value\n",
    "    return model\n",
    "param_values = np.linspace(-11,-11,1)\n",
    "param_name = \"log_prior_λ\"\n",
    "model.prior.λ = 10**-11\n",
    "\n",
    "def param_func(model,value):\n",
    "    model.prior.svd_cutoff = 10**value\n",
    "    if value<0.009:\n",
    "        model.prior.transform =False\n",
    "    return model\n",
    "param_values = np.linspace(-3,2,6)\n",
    "param_name = \"svd_cutoff (smallest is no transform)\"\n",
    "\n",
    "\n",
    "for d in data[8000:8001]:\n",
    "    seis_diagnostics.do_diagnostics_run(d, model, do_which_list, param_func, param_values, param_name)"
   ]
  },
  {
   "cell_type": "code",
   "execution_count": null,
   "id": "1e9de0f1-2634-453b-923e-feb4b6fcf216",
   "metadata": {},
   "outputs": [],
   "source": [
    "%debug"
   ]
  },
  {
   "cell_type": "code",
   "execution_count": null,
   "id": "8ee8cd8f-f090-4837-8e7c-b55f19e0e886",
   "metadata": {},
   "outputs": [],
   "source": [
    "seis_forward2.show_profile(1)"
   ]
  },
  {
   "cell_type": "code",
   "execution_count": null,
   "id": "66b65764-0f40-404d-8498-280513bb0be4",
   "metadata": {},
   "outputs": [],
   "source": []
  }
 ],
 "metadata": {
  "kernelspec": {
   "display_name": "Python 3 (ipykernel)",
   "language": "python",
   "name": "python3"
  },
  "language_info": {
   "codemirror_mode": {
    "name": "ipython",
    "version": 3
   },
   "file_extension": ".py",
   "mimetype": "text/x-python",
   "name": "python",
   "nbconvert_exporter": "python",
   "pygments_lexer": "ipython3",
   "version": "3.10.14"
  }
 },
 "nbformat": 4,
 "nbformat_minor": 5
}
