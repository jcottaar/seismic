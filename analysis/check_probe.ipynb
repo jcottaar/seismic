{
 "cells": [
  {
   "cell_type": "code",
   "execution_count": 1,
   "id": "865d54d7-b239-49eb-be92-484d63c870d5",
   "metadata": {},
   "outputs": [
    {
     "name": "stdout",
     "output_type": "stream",
     "text": [
      "F:/seismic/models/brendan/*.pth\n",
      "Loading:  F:/seismic/models/brendan\\unet2d_caformer_seed3_epochbest.pt\n",
      "n_models: 1\n"
     ]
    }
   ],
   "source": [
    "import sys\n",
    "import subprocess\n",
    "sys.path.append('f:/seismic/code/core')\n",
    "sys.path.append('/seismic/code/core')\n",
    "sys.path.append('/kaggle/input/my-seismic-library/')\n",
    "import kaggle_support as kgs\n",
    "kgs.preallocate_matrices=False\n",
    "import importlib\n",
    "import time\n",
    "import pandas as pd\n",
    "import numpy as np\n",
    "import glob\n",
    "import os\n",
    "import matplotlib.pyplot as plt\n",
    "from tqdm import tqdm\n",
    "import cupy as cp\n",
    "import copy\n",
    "import seis_forward2\n",
    "import seis_model"
   ]
  },
  {
   "cell_type": "code",
   "execution_count": 2,
   "id": "9afef11d-777f-4324-a714-f4492870497e",
   "metadata": {},
   "outputs": [],
   "source": [
    "data = kgs.load_all_train_data(validation_only=True)[::20][-40:]"
   ]
  },
  {
   "cell_type": "code",
   "execution_count": 3,
   "id": "271506ae-d9ab-4ef5-b5b6-7dcd66a4fae4",
   "metadata": {},
   "outputs": [
    {
     "ename": "KeyboardInterrupt",
     "evalue": "",
     "output_type": "error",
     "traceback": [
      "\u001b[1;31m---------------------------------------------------------------------------\u001b[0m",
      "\u001b[1;31mKeyboardInterrupt\u001b[0m                         Traceback (most recent call last)",
      "Cell \u001b[1;32mIn[3], line 1\u001b[0m\n\u001b[1;32m----> 1\u001b[0m model\u001b[38;5;241m=\u001b[39m \u001b[43mseis_model\u001b[49m\u001b[38;5;241;43m.\u001b[39;49m\u001b[43mdefault_model\u001b[49m\u001b[43m(\u001b[49m\u001b[43m)\u001b[49m\n\u001b[0;32m      2\u001b[0m model\u001b[38;5;241m.\u001b[39mread_cache\u001b[38;5;241m=\u001b[39m\u001b[38;5;28;01mFalse\u001b[39;00m\n\u001b[0;32m      3\u001b[0m model\u001b[38;5;241m.\u001b[39mwrite_cache\u001b[38;5;241m=\u001b[39m\u001b[38;5;28;01mFalse\u001b[39;00m\n",
      "File \u001b[1;32mf:\\seismic/code/core\\seis_model.py:235\u001b[0m, in \u001b[0;36mdefault_model\u001b[1;34m()\u001b[0m\n\u001b[0;32m    233\u001b[0m model\u001b[38;5;241m.\u001b[39mread_cache \u001b[38;5;241m=\u001b[39m \u001b[38;5;28;01mTrue\u001b[39;00m\n\u001b[0;32m    234\u001b[0m model\u001b[38;5;241m.\u001b[39mmodels[\u001b[38;5;241m-\u001b[39m\u001b[38;5;241m1\u001b[39m]\u001b[38;5;241m.\u001b[39mrun_in_parallel \u001b[38;5;241m=\u001b[39m \u001b[38;5;28;01mFalse\u001b[39;00m\n\u001b[1;32m--> 235\u001b[0m \u001b[43mmodel\u001b[49m\u001b[38;5;241;43m.\u001b[39;49m\u001b[43mtrain\u001b[49m\u001b[43m(\u001b[49m\u001b[43m[\u001b[49m\u001b[43m]\u001b[49m\u001b[43m,\u001b[49m\u001b[43m \u001b[49m\u001b[43m[\u001b[49m\u001b[43m]\u001b[49m\u001b[43m)\u001b[49m \u001b[38;5;66;03m# dummy\u001b[39;00m\n\u001b[0;32m    237\u001b[0m \u001b[38;5;28;01mreturn\u001b[39;00m model\n",
      "File \u001b[1;32mf:\\seismic/code/core\\kaggle_support.py:498\u001b[0m, in \u001b[0;36mModel.train\u001b[1;34m(self, train_data, validation_data)\u001b[0m\n\u001b[0;32m    496\u001b[0m \u001b[38;5;28;01mfor\u001b[39;00m d \u001b[38;5;129;01min\u001b[39;00m validation_data:\n\u001b[0;32m    497\u001b[0m     d\u001b[38;5;241m.\u001b[39munload()\n\u001b[1;32m--> 498\u001b[0m \u001b[38;5;28;43mself\u001b[39;49m\u001b[38;5;241;43m.\u001b[39;49m\u001b[43m_train\u001b[49m\u001b[43m(\u001b[49m\u001b[43mtrain_data\u001b[49m\u001b[43m,\u001b[49m\u001b[43m \u001b[49m\u001b[43mvalidation_data\u001b[49m\u001b[43m)\u001b[49m\n\u001b[0;32m    499\u001b[0m \u001b[38;5;28;01mfor\u001b[39;00m d \u001b[38;5;129;01min\u001b[39;00m train_data:\n\u001b[0;32m    500\u001b[0m     d\u001b[38;5;241m.\u001b[39munload()\n",
      "File \u001b[1;32mf:\\seismic/code/core\\kaggle_support.py:610\u001b[0m, in \u001b[0;36mChainedModel._train\u001b[1;34m(self, train_data, validation_data)\u001b[0m\n\u001b[0;32m    608\u001b[0m \u001b[38;5;28;01mdef\u001b[39;00m \u001b[38;5;21m_train\u001b[39m(\u001b[38;5;28mself\u001b[39m,train_data, validation_data):\n\u001b[0;32m    609\u001b[0m     \u001b[38;5;28;01mfor\u001b[39;00m m \u001b[38;5;129;01min\u001b[39;00m \u001b[38;5;28mself\u001b[39m\u001b[38;5;241m.\u001b[39mmodels:\n\u001b[1;32m--> 610\u001b[0m         \u001b[43mm\u001b[49m\u001b[38;5;241;43m.\u001b[39;49m\u001b[43mtrain\u001b[49m\u001b[43m(\u001b[49m\u001b[43mtrain_data\u001b[49m\u001b[43m,\u001b[49m\u001b[43m \u001b[49m\u001b[43mvalidation_data\u001b[49m\u001b[43m)\u001b[49m\n",
      "File \u001b[1;32mf:\\seismic/code/core\\kaggle_support.py:498\u001b[0m, in \u001b[0;36mModel.train\u001b[1;34m(self, train_data, validation_data)\u001b[0m\n\u001b[0;32m    496\u001b[0m \u001b[38;5;28;01mfor\u001b[39;00m d \u001b[38;5;129;01min\u001b[39;00m validation_data:\n\u001b[0;32m    497\u001b[0m     d\u001b[38;5;241m.\u001b[39munload()\n\u001b[1;32m--> 498\u001b[0m \u001b[38;5;28;43mself\u001b[39;49m\u001b[38;5;241;43m.\u001b[39;49m\u001b[43m_train\u001b[49m\u001b[43m(\u001b[49m\u001b[43mtrain_data\u001b[49m\u001b[43m,\u001b[49m\u001b[43m \u001b[49m\u001b[43mvalidation_data\u001b[49m\u001b[43m)\u001b[49m\n\u001b[0;32m    499\u001b[0m \u001b[38;5;28;01mfor\u001b[39;00m d \u001b[38;5;129;01min\u001b[39;00m train_data:\n\u001b[0;32m    500\u001b[0m     d\u001b[38;5;241m.\u001b[39munload()\n",
      "File \u001b[1;32mf:\\seismic/code/core\\seis_model.py:150\u001b[0m, in \u001b[0;36mModelSplit._train\u001b[1;34m(self, train_data, validation_data)\u001b[0m\n\u001b[0;32m    147\u001b[0m \u001b[38;5;28mself\u001b[39m\u001b[38;5;241m.\u001b[39mP_identify_style_A \u001b[38;5;241m=\u001b[39m prior_style_A\u001b[38;5;241m.\u001b[39mP\n\u001b[0;32m    149\u001b[0m \u001b[38;5;28mself\u001b[39m\u001b[38;5;241m.\u001b[39mmodel_FlatVel\u001b[38;5;241m.\u001b[39mtrain(train_data, validation_data)\n\u001b[1;32m--> 150\u001b[0m \u001b[38;5;28;43mself\u001b[39;49m\u001b[38;5;241;43m.\u001b[39;49m\u001b[43mmodel_Style_A\u001b[49m\u001b[38;5;241;43m.\u001b[39;49m\u001b[43mtrain\u001b[49m\u001b[43m(\u001b[49m\u001b[43mtrain_data\u001b[49m\u001b[43m,\u001b[49m\u001b[43m \u001b[49m\u001b[43mvalidation_data\u001b[49m\u001b[43m)\u001b[49m\n\u001b[0;32m    151\u001b[0m \u001b[38;5;28mself\u001b[39m\u001b[38;5;241m.\u001b[39mmodel_Style_B\u001b[38;5;241m.\u001b[39mtrain(train_data, validation_data)\n\u001b[0;32m    152\u001b[0m \u001b[38;5;28mself\u001b[39m\u001b[38;5;241m.\u001b[39mmodel_TV2D\u001b[38;5;241m.\u001b[39mtrain(train_data, validation_data)\n",
      "File \u001b[1;32mf:\\seismic/code/core\\kaggle_support.py:498\u001b[0m, in \u001b[0;36mModel.train\u001b[1;34m(self, train_data, validation_data)\u001b[0m\n\u001b[0;32m    496\u001b[0m \u001b[38;5;28;01mfor\u001b[39;00m d \u001b[38;5;129;01min\u001b[39;00m validation_data:\n\u001b[0;32m    497\u001b[0m     d\u001b[38;5;241m.\u001b[39munload()\n\u001b[1;32m--> 498\u001b[0m \u001b[38;5;28;43mself\u001b[39;49m\u001b[38;5;241;43m.\u001b[39;49m\u001b[43m_train\u001b[49m\u001b[43m(\u001b[49m\u001b[43mtrain_data\u001b[49m\u001b[43m,\u001b[49m\u001b[43m \u001b[49m\u001b[43mvalidation_data\u001b[49m\u001b[43m)\u001b[49m\n\u001b[0;32m    499\u001b[0m \u001b[38;5;28;01mfor\u001b[39;00m d \u001b[38;5;129;01min\u001b[39;00m train_data:\n\u001b[0;32m    500\u001b[0m     d\u001b[38;5;241m.\u001b[39munload()\n",
      "File \u001b[1;32mf:\\seismic/code/core\\kaggle_support.py:610\u001b[0m, in \u001b[0;36mChainedModel._train\u001b[1;34m(self, train_data, validation_data)\u001b[0m\n\u001b[0;32m    608\u001b[0m \u001b[38;5;28;01mdef\u001b[39;00m \u001b[38;5;21m_train\u001b[39m(\u001b[38;5;28mself\u001b[39m,train_data, validation_data):\n\u001b[0;32m    609\u001b[0m     \u001b[38;5;28;01mfor\u001b[39;00m m \u001b[38;5;129;01min\u001b[39;00m \u001b[38;5;28mself\u001b[39m\u001b[38;5;241m.\u001b[39mmodels:\n\u001b[1;32m--> 610\u001b[0m         \u001b[43mm\u001b[49m\u001b[38;5;241;43m.\u001b[39;49m\u001b[43mtrain\u001b[49m\u001b[43m(\u001b[49m\u001b[43mtrain_data\u001b[49m\u001b[43m,\u001b[49m\u001b[43m \u001b[49m\u001b[43mvalidation_data\u001b[49m\u001b[43m)\u001b[49m\n",
      "File \u001b[1;32mf:\\seismic/code/core\\kaggle_support.py:498\u001b[0m, in \u001b[0;36mModel.train\u001b[1;34m(self, train_data, validation_data)\u001b[0m\n\u001b[0;32m    496\u001b[0m \u001b[38;5;28;01mfor\u001b[39;00m d \u001b[38;5;129;01min\u001b[39;00m validation_data:\n\u001b[0;32m    497\u001b[0m     d\u001b[38;5;241m.\u001b[39munload()\n\u001b[1;32m--> 498\u001b[0m \u001b[38;5;28;43mself\u001b[39;49m\u001b[38;5;241;43m.\u001b[39;49m\u001b[43m_train\u001b[49m\u001b[43m(\u001b[49m\u001b[43mtrain_data\u001b[49m\u001b[43m,\u001b[49m\u001b[43m \u001b[49m\u001b[43mvalidation_data\u001b[49m\u001b[43m)\u001b[49m\n\u001b[0;32m    499\u001b[0m \u001b[38;5;28;01mfor\u001b[39;00m d \u001b[38;5;129;01min\u001b[39;00m train_data:\n\u001b[0;32m    500\u001b[0m     d\u001b[38;5;241m.\u001b[39munload()\n",
      "File \u001b[1;32mf:\\seismic/code/core\\seis_invert.py:361\u001b[0m, in \u001b[0;36mInversionModel._train\u001b[1;34m(self, train_data, validation_data)\u001b[0m\n\u001b[0;32m    360\u001b[0m \u001b[38;5;28;01mdef\u001b[39;00m \u001b[38;5;21m_train\u001b[39m(\u001b[38;5;28mself\u001b[39m, train_data, validation_data):\n\u001b[1;32m--> 361\u001b[0m     \u001b[38;5;28;43mself\u001b[39;49m\u001b[38;5;241;43m.\u001b[39;49m\u001b[43mprior\u001b[49m\u001b[38;5;241;43m.\u001b[39;49m\u001b[43mprep\u001b[49m\u001b[43m(\u001b[49m\u001b[43m)\u001b[49m\n",
      "File \u001b[1;32mf:\\seismic/code/core\\seis_prior.py:25\u001b[0m, in \u001b[0;36mPrior.prep\u001b[1;34m(self)\u001b[0m\n\u001b[0;32m     23\u001b[0m \u001b[38;5;28;01mdef\u001b[39;00m \u001b[38;5;21mprep\u001b[39m(\u001b[38;5;28mself\u001b[39m):\n\u001b[0;32m     24\u001b[0m     \u001b[38;5;28;01mif\u001b[39;00m \u001b[38;5;129;01mnot\u001b[39;00m \u001b[38;5;28mself\u001b[39m\u001b[38;5;241m.\u001b[39mprepped:\n\u001b[1;32m---> 25\u001b[0m         \u001b[38;5;28;43mself\u001b[39;49m\u001b[38;5;241;43m.\u001b[39;49m\u001b[43m_prep\u001b[49m\u001b[43m(\u001b[49m\u001b[43m)\u001b[49m\n\u001b[0;32m     26\u001b[0m     \u001b[38;5;28mself\u001b[39m\u001b[38;5;241m.\u001b[39mprepped \u001b[38;5;241m=\u001b[39m \u001b[38;5;28;01mTrue\u001b[39;00m\n\u001b[0;32m     27\u001b[0m     \u001b[38;5;28;01massert\u001b[39;00m \u001b[38;5;28mself\u001b[39m\u001b[38;5;241m.\u001b[39mbasis_vectors\u001b[38;5;241m.\u001b[39mdtype \u001b[38;5;241m==\u001b[39m kgs\u001b[38;5;241m.\u001b[39mbase_type_gpu\n",
      "File \u001b[1;32mf:\\seismic/code/core\\seis_prior.py:210\u001b[0m, in \u001b[0;36mSquaredExponential._prep\u001b[1;34m(self)\u001b[0m\n\u001b[0;32m    208\u001b[0m basis_vectors \u001b[38;5;241m=\u001b[39m cp\u001b[38;5;241m.\u001b[39meye(\u001b[38;5;241m4901\u001b[39m, dtype\u001b[38;5;241m=\u001b[39mkgs\u001b[38;5;241m.\u001b[39mbase_type_gpu)\n\u001b[0;32m    209\u001b[0m \u001b[38;5;28;01mif\u001b[39;00m \u001b[38;5;28mself\u001b[39m\u001b[38;5;241m.\u001b[39mtransform:\n\u001b[1;32m--> 210\u001b[0m     U,s,_\u001b[38;5;241m=\u001b[39m\u001b[43mcp\u001b[49m\u001b[38;5;241;43m.\u001b[39;49m\u001b[43mlinalg\u001b[49m\u001b[38;5;241;43m.\u001b[39;49m\u001b[43msvd\u001b[49m\u001b[43m(\u001b[49m\u001b[43mK\u001b[49m\u001b[43m,\u001b[49m\u001b[43mcompute_uv\u001b[49m\u001b[38;5;241;43m=\u001b[39;49m\u001b[38;5;28;43;01mTrue\u001b[39;49;00m\u001b[43m)\u001b[49m\n\u001b[0;32m    211\u001b[0m     \u001b[38;5;66;03m#plt.figure();plt.semilogy(s.get());plt.grid(True);plt.pause(0.001)\u001b[39;00m\n\u001b[0;32m    212\u001b[0m     to_keep \u001b[38;5;241m=\u001b[39m s\u001b[38;5;241m>\u001b[39m\u001b[38;5;28mself\u001b[39m\u001b[38;5;241m.\u001b[39msvd_cutoff\n",
      "File \u001b[1;32m~\\anaconda3\\envs\\jupyterlab-debugger2\\lib\\site-packages\\cupy\\linalg\\_decomposition.py:578\u001b[0m, in \u001b[0;36msvd\u001b[1;34m(a, full_matrices, compute_uv)\u001b[0m\n\u001b[0;32m    576\u001b[0m     rwork \u001b[38;5;241m=\u001b[39m cupy\u001b[38;5;241m.\u001b[39mempty(\u001b[38;5;28mmin\u001b[39m(m, n)\u001b[38;5;241m-\u001b[39m\u001b[38;5;241m1\u001b[39m, dtype\u001b[38;5;241m=\u001b[39ms_dtype)\n\u001b[0;32m    577\u001b[0m     rwork_ptr \u001b[38;5;241m=\u001b[39m rwork\u001b[38;5;241m.\u001b[39mdata\u001b[38;5;241m.\u001b[39mptr\n\u001b[1;32m--> 578\u001b[0m \u001b[43mgesvd\u001b[49m\u001b[43m(\u001b[49m\n\u001b[0;32m    579\u001b[0m \u001b[43m    \u001b[49m\u001b[43mhandle\u001b[49m\u001b[43m,\u001b[49m\u001b[43m \u001b[49m\u001b[43mjob_u\u001b[49m\u001b[43m,\u001b[49m\u001b[43m \u001b[49m\u001b[43mjob_vt\u001b[49m\u001b[43m,\u001b[49m\u001b[43m \u001b[49m\u001b[43mm\u001b[49m\u001b[43m,\u001b[49m\u001b[43m \u001b[49m\u001b[43mn\u001b[49m\u001b[43m,\u001b[49m\u001b[43m \u001b[49m\u001b[43mx\u001b[49m\u001b[38;5;241;43m.\u001b[39;49m\u001b[43mdata\u001b[49m\u001b[38;5;241;43m.\u001b[39;49m\u001b[43mptr\u001b[49m\u001b[43m,\u001b[49m\u001b[43m \u001b[49m\u001b[43mm\u001b[49m\u001b[43m,\u001b[49m\u001b[43m \u001b[49m\u001b[43ms\u001b[49m\u001b[38;5;241;43m.\u001b[39;49m\u001b[43mdata\u001b[49m\u001b[38;5;241;43m.\u001b[39;49m\u001b[43mptr\u001b[49m\u001b[43m,\u001b[49m\u001b[43m \u001b[49m\u001b[43mu_ptr\u001b[49m\u001b[43m,\u001b[49m\u001b[43m \u001b[49m\u001b[43mm\u001b[49m\u001b[43m,\u001b[49m\n\u001b[0;32m    580\u001b[0m \u001b[43m    \u001b[49m\u001b[43mvt_ptr\u001b[49m\u001b[43m,\u001b[49m\u001b[43m \u001b[49m\u001b[43mn\u001b[49m\u001b[43m,\u001b[49m\u001b[43m \u001b[49m\u001b[43mworkspace\u001b[49m\u001b[38;5;241;43m.\u001b[39;49m\u001b[43mdata\u001b[49m\u001b[38;5;241;43m.\u001b[39;49m\u001b[43mptr\u001b[49m\u001b[43m,\u001b[49m\u001b[43m \u001b[49m\u001b[43mbuffersize\u001b[49m\u001b[43m,\u001b[49m\u001b[43m \u001b[49m\u001b[43mrwork_ptr\u001b[49m\u001b[43m,\u001b[49m\n\u001b[0;32m    581\u001b[0m \u001b[43m    \u001b[49m\u001b[43mdev_info\u001b[49m\u001b[38;5;241;43m.\u001b[39;49m\u001b[43mdata\u001b[49m\u001b[38;5;241;43m.\u001b[39;49m\u001b[43mptr\u001b[49m\u001b[43m)\u001b[49m\n\u001b[0;32m    582\u001b[0m cupy\u001b[38;5;241m.\u001b[39mlinalg\u001b[38;5;241m.\u001b[39m_util\u001b[38;5;241m.\u001b[39m_check_cusolver_dev_info_if_synchronization_allowed(\n\u001b[0;32m    583\u001b[0m     gesvd, dev_info)\n\u001b[0;32m    585\u001b[0m s \u001b[38;5;241m=\u001b[39m s\u001b[38;5;241m.\u001b[39mastype(s_dtype, copy\u001b[38;5;241m=\u001b[39m\u001b[38;5;28;01mFalse\u001b[39;00m)\n",
      "\u001b[1;31mKeyboardInterrupt\u001b[0m: "
     ]
    }
   ],
   "source": [
    "model= seis_model.default_model()\n",
    "model.read_cache=False\n",
    "model.write_cache=False\n",
    "model.models[1].model_TV2D_refine = seis_model.DummyModel()\n",
    "score0 = kgs.score_metric(model.infer(data))[0]\n",
    "model.models[1].model_Style_A.apply_offset = -10000.\n",
    "scorem = kgs.score_metric(model.infer(data))[0]\n",
    "model.models[1].model_Style_A.apply_offset = 10000.\n",
    "scorep = kgs.score_metric(model.infer(data))[0]\n",
    "model.models[1].model_Style_A.apply_offset = 5000.\n",
    "scorep2 = kgs.score_metric(model.infer(data))[0]"
   ]
  },
  {
   "cell_type": "code",
   "execution_count": null,
   "id": "1736768c-3321-43ce-b50b-c10c5574470a",
   "metadata": {},
   "outputs": [],
   "source": [
    "score0,scorem,scorep"
   ]
  },
  {
   "cell_type": "code",
   "execution_count": null,
   "id": "334067b8-5b6a-4955-ac6c-683b25c12588",
   "metadata": {},
   "outputs": [],
   "source": [
    "x=150/400\n",
    "10000-1/(2*x)*(scorep+scorem-2*score0)"
   ]
  },
  {
   "cell_type": "code",
   "execution_count": 8,
   "id": "c53c68f9-54d0-46ca-a032-4a4e7f1f669e",
   "metadata": {},
   "outputs": [
    {
     "data": {
      "text/plain": [
       "(-325.394879039377, -1.1622461592797981)"
      ]
     },
     "execution_count": 8,
     "metadata": {},
     "output_type": "execute_result"
    }
   ],
   "source": []
  },
  {
   "cell_type": "code",
   "execution_count": 9,
   "id": "24a4fe8a-1863-4d17-ac11-551165930ee3",
   "metadata": {},
   "outputs": [
    {
     "data": {
      "text/plain": [
       "0.08604029292898599"
      ]
     },
     "execution_count": 9,
     "metadata": {},
     "output_type": "execute_result"
    }
   ],
   "source": [
    "x"
   ]
  },
  {
   "cell_type": "code",
   "execution_count": 9,
   "id": "94a9b050-829f-4b63-880a-94ed0dd32387",
   "metadata": {},
   "outputs": [
    {
     "data": {
      "text/plain": [
       "53.094047221124924"
      ]
     },
     "execution_count": 9,
     "metadata": {},
     "output_type": "execute_result"
    }
   ],
   "source": [
    "x*564"
   ]
  },
  {
   "cell_type": "code",
   "execution_count": 10,
   "id": "3b7cd2a9-eaf9-4b94-b711-7fd7b853532c",
   "metadata": {},
   "outputs": [
    {
     "data": {
      "text/plain": [
       "888.2"
      ]
     },
     "execution_count": 10,
     "metadata": {},
     "output_type": "execute_result"
    }
   ],
   "source": [
    "(905-16.8)"
   ]
  },
  {
   "cell_type": "code",
   "execution_count": 11,
   "id": "b9a38a1b-f71f-4365-a2cb-93d399b1f959",
   "metadata": {},
   "outputs": [
    {
     "data": {
      "text/plain": [
       "941.1014008325991"
      ]
     },
     "execution_count": 11,
     "metadata": {},
     "output_type": "execute_result"
    }
   ],
   "source": [
    "x*(10000-3)"
   ]
  },
  {
   "cell_type": "code",
   "execution_count": 5,
   "id": "8cab990c-b6e5-489c-8392-c4794cce4c79",
   "metadata": {},
   "outputs": [
    {
     "data": {
      "text/plain": [
       "5694"
      ]
     },
     "execution_count": 5,
     "metadata": {},
     "output_type": "execute_result"
    }
   ],
   "source": [
    "import sys\n",
    "sys.path.append('f:/seismic/code/core')\n",
    "sys.path.append('/seismic/code/core')\n",
    "sys.path.append('/kaggle/input/my-seismic-library/')\n",
    "import glob\n",
    "import kaggle_support as kgs\n",
    "len(glob.glob(kgs.cache_dir_read + '/Style_A/*test*'))"
   ]
  },
  {
   "cell_type": "code",
   "execution_count": 21,
   "id": "b7621533-5846-41fe-9518-0494cbd8e0ef",
   "metadata": {},
   "outputs": [
    {
     "data": {
      "text/plain": [
       "65818"
      ]
     },
     "execution_count": 21,
     "metadata": {},
     "output_type": "execute_result"
    }
   ],
   "source": [
    "len(kgs.load_all_test_data())"
   ]
  },
  {
   "cell_type": "code",
   "execution_count": 22,
   "id": "3604a687-e872-411c-92b6-96dd60563a31",
   "metadata": {},
   "outputs": [
    {
     "data": {
      "text/plain": [
       "0.08651128870521742"
      ]
     },
     "execution_count": 22,
     "metadata": {},
     "output_type": "execute_result"
    }
   ],
   "source": [
    "5694/65818"
   ]
  },
  {
   "cell_type": "code",
   "execution_count": 23,
   "id": "d802d7c7-caa4-4f7f-a63e-ab1b393fd819",
   "metadata": {},
   "outputs": [
    {
     "data": {
      "text/plain": [
       "865.1128870521742"
      ]
     },
     "execution_count": 23,
     "metadata": {},
     "output_type": "execute_result"
    }
   ],
   "source": [
    "10000*x"
   ]
  },
  {
   "cell_type": "code",
   "execution_count": 5,
   "id": "9f281ddb-763e-4ac2-8dfd-4741d681b938",
   "metadata": {},
   "outputs": [
    {
     "data": {
      "text/plain": [
       "962.8065270898538"
      ]
     },
     "execution_count": 5,
     "metadata": {},
     "output_type": "execute_result"
    }
   ],
   "source": [
    "10000*6337/65818"
   ]
  },
  {
   "cell_type": "code",
   "execution_count": 14,
   "id": "cc23c044-095e-42ed-b9c0-9abe8bbc4549",
   "metadata": {},
   "outputs": [
    {
     "data": {
      "text/plain": [
       "-9.059419880941277e-14"
      ]
     },
     "execution_count": 14,
     "metadata": {},
     "output_type": "execute_result"
    }
   ],
   "source": [
    "scorep2 = 1791.3\n",
    "scorep1 = 903.1\n",
    "scorep0 = 14.9\n",
    "x=(scorep2-scorep1)/5000\n",
    "-2*scorep1 + scorep2 + scorep0"
   ]
  },
  {
   "cell_type": "code",
   "execution_count": 15,
   "id": "d35e38ef-d2ff-452e-8706-599d72998648",
   "metadata": {},
   "outputs": [
    {
     "data": {
      "text/plain": [
       "0.0"
      ]
     },
     "execution_count": 15,
     "metadata": {},
     "output_type": "execute_result"
    }
   ],
   "source": [
    "scorem2 = 1791.3\n",
    "x*(10000-1/(2*x)*(scorep2+scorem2-2*scorep0))"
   ]
  },
  {
   "cell_type": "code",
   "execution_count": 1,
   "id": "3b304623-b564-4c3b-bf22-056f33ce41ea",
   "metadata": {},
   "outputs": [
    {
     "data": {
      "text/plain": [
       "0.08847999999999999"
      ]
     },
     "execution_count": 1,
     "metadata": {},
     "output_type": "execute_result"
    }
   ],
   "source": [
    "(904.8-20)/10000"
   ]
  },
  {
   "cell_type": "code",
   "execution_count": 2,
   "id": "afac6135-51f1-4309-ab96-2caf0236bcf6",
   "metadata": {},
   "outputs": [
    {
     "data": {
      "text/plain": [
       "0.08604029292898599"
      ]
     },
     "execution_count": 2,
     "metadata": {},
     "output_type": "execute_result"
    }
   ],
   "source": [
    "5663/65818"
   ]
  },
  {
   "cell_type": "code",
   "execution_count": null,
   "id": "b3d41aec-4285-4c53-819a-893694dce52c",
   "metadata": {},
   "outputs": [],
   "source": []
  }
 ],
 "metadata": {
  "kernelspec": {
   "display_name": "Python 3 (ipykernel)",
   "language": "python",
   "name": "python3"
  },
  "language_info": {
   "codemirror_mode": {
    "name": "ipython",
    "version": 3
   },
   "file_extension": ".py",
   "mimetype": "text/x-python",
   "name": "python",
   "nbconvert_exporter": "python",
   "pygments_lexer": "ipython3",
   "version": "3.10.14"
  }
 },
 "nbformat": 4,
 "nbformat_minor": 5
}
