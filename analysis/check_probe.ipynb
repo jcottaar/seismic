{
 "cells": [
  {
   "cell_type": "code",
   "execution_count": 1,
   "id": "865d54d7-b239-49eb-be92-484d63c870d5",
   "metadata": {},
   "outputs": [
    {
     "name": "stdout",
     "output_type": "stream",
     "text": [
      "F:/seismic/models/brendan/*.pth\n",
      "Loading:  F:/seismic/models/brendan\\unet2d_caformer_seed3_epochbest.pt\n",
      "n_models: 1\n"
     ]
    }
   ],
   "source": [
    "import sys\n",
    "import subprocess\n",
    "sys.path.append('f:/seismic/code/core')\n",
    "sys.path.append('/seismic/code/core')\n",
    "sys.path.append('/kaggle/input/my-seismic-library/')\n",
    "import kaggle_support as kgs\n",
    "kgs.preallocate_matrices=False\n",
    "import importlib\n",
    "import time\n",
    "import pandas as pd\n",
    "import numpy as np\n",
    "import glob\n",
    "import os\n",
    "import matplotlib.pyplot as plt\n",
    "from tqdm import tqdm\n",
    "import cupy as cp\n",
    "import copy\n",
    "import seis_forward2\n",
    "import seis_model"
   ]
  },
  {
   "cell_type": "code",
   "execution_count": 2,
   "id": "9afef11d-777f-4324-a714-f4492870497e",
   "metadata": {},
   "outputs": [],
   "source": [
    "data = kgs.load_all_train_data(validation_only=True)[::20][-40:]"
   ]
  },
  {
   "cell_type": "code",
   "execution_count": 5,
   "id": "271506ae-d9ab-4ef5-b5b6-7dcd66a4fae4",
   "metadata": {},
   "outputs": [
    {
     "name": "stderr",
     "output_type": "stream",
     "text": [
      "Importing cache brendan: 100%|███████████████████████████████████████████████████████| 40/40 [00:00<00:00, 3807.72it/s]\n",
      "Inferring : 100%|██████████████████████████████████████████████████████████████████████| 40/40 [00:04<00:00,  8.48it/s]\n"
     ]
    },
    {
     "name": "stdout",
     "output_type": "stream",
     "text": [
      "    family      score\n",
      "0  Style_A   2.266699\n",
      "1  Style_B  31.705297\n",
      "Combined:  20.665823079634684\n"
     ]
    },
    {
     "name": "stderr",
     "output_type": "stream",
     "text": [
      "Importing cache brendan: 100%|██████████████████████████████████████████████████████| 40/40 [00:00<00:00, 13334.30it/s]\n",
      "Inferring : 100%|██████████████████████████████████████████████████████████████████████| 40/40 [00:04<00:00,  8.22it/s]\n"
     ]
    },
    {
     "name": "stdout",
     "output_type": "stream",
     "text": [
      "    family        score\n",
      "0  Style_A  9999.982731\n",
      "1  Style_B    31.705297\n",
      "Combined:  3769.809334983981\n"
     ]
    },
    {
     "name": "stderr",
     "output_type": "stream",
     "text": [
      "Importing cache brendan: 100%|██████████████████████████████████████████████████████| 40/40 [00:00<00:00, 11429.40it/s]\n",
      "Inferring : 100%|██████████████████████████████████████████████████████████████████████| 40/40 [00:04<00:00,  8.13it/s]\n"
     ]
    },
    {
     "name": "stdout",
     "output_type": "stream",
     "text": [
      "    family         score\n",
      "0  Style_A  10000.017269\n",
      "1  Style_B     31.705297\n",
      "Combined:  3769.8222868471726\n"
     ]
    },
    {
     "name": "stderr",
     "output_type": "stream",
     "text": [
      "Importing cache brendan: 100%|██████████████████████████████████████████████████████| 40/40 [00:00<00:00, 16001.16it/s]\n",
      "Inferring : 100%|██████████████████████████████████████████████████████████████████████| 40/40 [00:04<00:00,  8.54it/s]"
     ]
    },
    {
     "name": "stdout",
     "output_type": "stream",
     "text": [
      "    family        score\n",
      "0  Style_A  5000.017269\n",
      "1  Style_B    31.705297\n",
      "Combined:  1894.822286847173\n"
     ]
    },
    {
     "name": "stderr",
     "output_type": "stream",
     "text": [
      "\n"
     ]
    }
   ],
   "source": [
    "model= seis_model.default_model()\n",
    "model.read_cache=False\n",
    "model.write_cache=False\n",
    "model.models[1].model_TV2D_refine = seis_model.DummyModel()\n",
    "scorep0 = kgs.score_metric(model.infer(data))[0]\n",
    "model.models[1].model_Style_A.apply_offset = -10000.\n",
    "scorem2 = kgs.score_metric(model.infer(data))[0]\n",
    "model.models[1].model_Style_A.apply_offset = 10000.\n",
    "scorep2 = kgs.score_metric(model.infer(data))[0]\n",
    "model.models[1].model_Style_A.apply_offset = 5000.\n",
    "scorep1 = kgs.score_metric(model.infer(data))[0]"
   ]
  },
  {
   "cell_type": "code",
   "execution_count": 6,
   "id": "334067b8-5b6a-4955-ac6c-683b25c12588",
   "metadata": {},
   "outputs": [
    {
     "data": {
      "text/plain": [
       "(0.3749999999999999, 0.8435362324612115)"
      ]
     },
     "execution_count": 6,
     "metadata": {},
     "output_type": "execute_result"
    }
   ],
   "source": [
    "x=(scorep2-scorep1)/5000\n",
    "x, -2*scorep1 + scorep2 + scorep0"
   ]
  },
  {
   "cell_type": "code",
   "execution_count": 7,
   "id": "c53c68f9-54d0-46ca-a032-4a4e7f1f669e",
   "metadata": {},
   "outputs": [
    {
     "data": {
      "text/plain": [
       "(0.8500121640568066, 0.017269150922099172)"
      ]
     },
     "execution_count": 7,
     "metadata": {},
     "output_type": "execute_result"
    }
   ],
   "source": [
    "x*(10000-1/(2*x)*(scorep2+scorem2-2*scorep0)), (scorep2-scorem2)/(2*x)"
   ]
  },
  {
   "cell_type": "code",
   "execution_count": 8,
   "id": "24a4fe8a-1863-4d17-ac11-551165930ee3",
   "metadata": {},
   "outputs": [
    {
     "data": {
      "text/plain": [
       "2.266699104151485"
      ]
     },
     "execution_count": 8,
     "metadata": {},
     "output_type": "execute_result"
    }
   ],
   "source": [
    "(10000-1/(2*x)*(scorep2+scorem2-2*scorep0))"
   ]
  },
  {
   "cell_type": "code",
   "execution_count": 9,
   "id": "94a9b050-829f-4b63-880a-94ed0dd32387",
   "metadata": {},
   "outputs": [
    {
     "data": {
      "text/plain": [
       "53.094047221124924"
      ]
     },
     "execution_count": 9,
     "metadata": {},
     "output_type": "execute_result"
    }
   ],
   "source": [
    "x*564"
   ]
  },
  {
   "cell_type": "code",
   "execution_count": 10,
   "id": "3b7cd2a9-eaf9-4b94-b711-7fd7b853532c",
   "metadata": {},
   "outputs": [
    {
     "data": {
      "text/plain": [
       "888.2"
      ]
     },
     "execution_count": 10,
     "metadata": {},
     "output_type": "execute_result"
    }
   ],
   "source": [
    "(905-16.8)"
   ]
  },
  {
   "cell_type": "code",
   "execution_count": 11,
   "id": "b9a38a1b-f71f-4365-a2cb-93d399b1f959",
   "metadata": {},
   "outputs": [
    {
     "data": {
      "text/plain": [
       "941.1014008325991"
      ]
     },
     "execution_count": 11,
     "metadata": {},
     "output_type": "execute_result"
    }
   ],
   "source": [
    "x*(10000-3)"
   ]
  },
  {
   "cell_type": "code",
   "execution_count": 5,
   "id": "8cab990c-b6e5-489c-8392-c4794cce4c79",
   "metadata": {},
   "outputs": [
    {
     "data": {
      "text/plain": [
       "5694"
      ]
     },
     "execution_count": 5,
     "metadata": {},
     "output_type": "execute_result"
    }
   ],
   "source": [
    "import sys\n",
    "sys.path.append('f:/seismic/code/core')\n",
    "sys.path.append('/seismic/code/core')\n",
    "sys.path.append('/kaggle/input/my-seismic-library/')\n",
    "import glob\n",
    "import kaggle_support as kgs\n",
    "len(glob.glob(kgs.cache_dir_read + '/Style_A/*test*'))"
   ]
  },
  {
   "cell_type": "code",
   "execution_count": 21,
   "id": "b7621533-5846-41fe-9518-0494cbd8e0ef",
   "metadata": {},
   "outputs": [
    {
     "data": {
      "text/plain": [
       "65818"
      ]
     },
     "execution_count": 21,
     "metadata": {},
     "output_type": "execute_result"
    }
   ],
   "source": [
    "len(kgs.load_all_test_data())"
   ]
  },
  {
   "cell_type": "code",
   "execution_count": 22,
   "id": "3604a687-e872-411c-92b6-96dd60563a31",
   "metadata": {},
   "outputs": [
    {
     "data": {
      "text/plain": [
       "0.08651128870521742"
      ]
     },
     "execution_count": 22,
     "metadata": {},
     "output_type": "execute_result"
    }
   ],
   "source": [
    "5694/65818"
   ]
  },
  {
   "cell_type": "code",
   "execution_count": 23,
   "id": "d802d7c7-caa4-4f7f-a63e-ab1b393fd819",
   "metadata": {},
   "outputs": [
    {
     "data": {
      "text/plain": [
       "865.1128870521742"
      ]
     },
     "execution_count": 23,
     "metadata": {},
     "output_type": "execute_result"
    }
   ],
   "source": [
    "10000*x"
   ]
  },
  {
   "cell_type": "code",
   "execution_count": 5,
   "id": "9f281ddb-763e-4ac2-8dfd-4741d681b938",
   "metadata": {},
   "outputs": [
    {
     "data": {
      "text/plain": [
       "962.8065270898538"
      ]
     },
     "execution_count": 5,
     "metadata": {},
     "output_type": "execute_result"
    }
   ],
   "source": [
    "10000*6337/65818"
   ]
  },
  {
   "cell_type": "code",
   "execution_count": 1,
   "id": "cc23c044-095e-42ed-b9c0-9abe8bbc4549",
   "metadata": {},
   "outputs": [
    {
     "data": {
      "text/plain": [
       "(0.06915999999999999, 0.5999999999999321)"
      ]
     },
     "execution_count": 1,
     "metadata": {},
     "output_type": "execute_result"
    }
   ],
   "source": [
    "scorep2 = 699.9\n",
    "scorep1 = 354.1\n",
    "scorep0 = 8.9\n",
    "x=(scorep2-scorep1)/5000\n",
    "x, -2*scorep1 + scorep2 + scorep0"
   ]
  },
  {
   "cell_type": "code",
   "execution_count": 3,
   "id": "d35e38ef-d2ff-452e-8706-599d72998648",
   "metadata": {},
   "outputs": [
    {
     "data": {
      "text/plain": [
       "(0.5999999999998232, 0.0)"
      ]
     },
     "execution_count": 3,
     "metadata": {},
     "output_type": "execute_result"
    }
   ],
   "source": [
    "scorem2 = 699.9\n",
    "x*(10000-1/(2*x)*(scorep2+scorem2-2*scorep0)), (scorep2-scorem2)/(2*x)"
   ]
  },
  {
   "cell_type": "code",
   "execution_count": 1,
   "id": "3b304623-b564-4c3b-bf22-056f33ce41ea",
   "metadata": {},
   "outputs": [
    {
     "data": {
      "text/plain": [
       "0.08847999999999999"
      ]
     },
     "execution_count": 1,
     "metadata": {},
     "output_type": "execute_result"
    }
   ],
   "source": [
    "(904.8-20)/10000"
   ]
  },
  {
   "cell_type": "code",
   "execution_count": 2,
   "id": "afac6135-51f1-4309-ab96-2caf0236bcf6",
   "metadata": {},
   "outputs": [
    {
     "data": {
      "text/plain": [
       "0.08604029292898599"
      ]
     },
     "execution_count": 2,
     "metadata": {},
     "output_type": "execute_result"
    }
   ],
   "source": [
    "5663/65818"
   ]
  },
  {
   "cell_type": "code",
   "execution_count": null,
   "id": "b3d41aec-4285-4c53-819a-893694dce52c",
   "metadata": {},
   "outputs": [],
   "source": []
  },
  {
   "cell_type": "code",
   "execution_count": null,
   "id": "21cb12d9-f352-4fc1-80be-3cc1a88b100f",
   "metadata": {},
   "outputs": [],
   "source": []
  }
 ],
 "metadata": {
  "kernelspec": {
   "display_name": "Python 3 (ipykernel)",
   "language": "python",
   "name": "python3"
  },
  "language_info": {
   "codemirror_mode": {
    "name": "ipython",
    "version": 3
   },
   "file_extension": ".py",
   "mimetype": "text/x-python",
   "name": "python",
   "nbconvert_exporter": "python",
   "pygments_lexer": "ipython3",
   "version": "3.10.14"
  }
 },
 "nbformat": 4,
 "nbformat_minor": 5
}
