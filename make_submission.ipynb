{
 "cells": [
  {
   "cell_type": "code",
   "execution_count": 1,
   "id": "865d54d7-b239-49eb-be92-484d63c870d5",
   "metadata": {},
   "outputs": [
    {
     "name": "stdout",
     "output_type": "stream",
     "text": [
      "/seismic/models/brendan/*.pth\n",
      "Loading:  /seismic/models/brendan/unet2d_caformer_seed3_epochbest.pt\n",
      "n_models: 1\n"
     ]
    }
   ],
   "source": [
    "import sys\n",
    "import subprocess\n",
    "sys.path.append('f:/seismic/code/core')\n",
    "sys.path.append('/seismic/code/core')\n",
    "sys.path.append('/kaggle/input/my-seismic-library/')\n",
    "import kaggle_support as kgs\n",
    "kgs.preallocate_matrices = False\n",
    "kgs.calculate_P_matrices = False\n",
    "import importlib\n",
    "import seis_model\n",
    "import numpy as np"
   ]
  },
  {
   "cell_type": "code",
   "execution_count": 2,
   "id": "68282e56-a29e-4fbf-bc32-c968600b7f0d",
   "metadata": {},
   "outputs": [
    {
     "name": "stdout",
     "output_type": "stream",
     "text": [
      "11468 2306 65818 3991 0.5778000501127537 0.014963027403218792\n",
      "0.30155423203468623 45970.30355594102\n",
      "687.8549118418317 22.928497061394392\n"
     ]
    }
   ],
   "source": [
    "import glob\n",
    "n_ultimo_done = len(glob.glob('/seismic/cache/TV2D_ultimo/*test*'))\n",
    "n_ultimo0_done = len(glob.glob('/seismic/cache/TV2D_ultimo/0*test*'))\n",
    "n_all = len(glob.glob('/seismic/data/test/*'))\n",
    "n_all0 = len(glob.glob('/seismic/data/test/0*'))\n",
    "ratio_ultimo = n_ultimo0_done/n_all0\n",
    "ratio_done = (n_ultimo_done/n_all)/ratio_ultimo\n",
    "n_to_do = (n_all)*(1-ratio_done)\n",
    "hour_per = (25+48/60)/6897*4\n",
    "gpu_hours_left = hour_per*n_to_do\n",
    "n_gpus_x_hours = gpu_hours_left/30\n",
    "print(n_ultimo_done, n_ultimo0_done, n_all, n_all0, ratio_ultimo, hour_per)\n",
    "print(ratio_done, n_to_do)\n",
    "print(gpu_hours_left, n_gpus_x_hours)"
   ]
  },
  {
   "cell_type": "code",
   "execution_count": 3,
   "id": "24e6cfca-04f1-4f5f-8a05-ac2a47d0ed7e",
   "metadata": {},
   "outputs": [
    {
     "name": "stdout",
     "output_type": "stream",
     "text": [
      "Clearing cupy\n",
      "Clearing pytorch\n"
     ]
    }
   ],
   "source": [
    "# Set up model\n",
    "model = seis_model.default_model()\n",
    "model.models[1].run_in_parallel = True\n",
    "model.read_cache=False\n",
    "\n",
    "kgs.claim_gpu('cupy')\n",
    "kgs.claim_gpu('pytorch')\n",
    "kgs.claim_gpu('')\n",
    "\n",
    "# model.models[1].model_TV2Deasy = seis_model.DummyModel()\n",
    "# model.models[1].model_TV2Deasy.state = 1\n",
    "\n",
    "# #model.models[1].model_TV2Drefine = seis_model.DummyModel()\n",
    "model.models[1].model_TV2D_ultimo = seis_model.DummyModel()\n",
    "model.models[1].model_TV2D_ultimo.cache_name = 'TV2D_ultimo'\n",
    "model.models[1].model_TV2D_ultimo.write_cache = False\n",
    "model.models[1].model_TV2D_ultimo.read_cache = True\n",
    "model.models[1].model_TV2D_ultimo.do_not_cache_mode = False\n",
    "model.models[1].model_TV2D_ultimo.state = 1"
   ]
  },
  {
   "cell_type": "code",
   "execution_count": null,
   "id": "5e35b972-888b-4237-ae30-73f3d0804bc8",
   "metadata": {},
   "outputs": [
    {
     "name": "stderr",
     "output_type": "stream",
     "text": [
      "Importing cache brendan: 100%|██████████| 65818/65818 [00:09<00:00, 7117.16it/s]\n"
     ]
    },
    {
     "name": "stdout",
     "output_type": "stream",
     "text": [
      "Clearing cupy\n",
      "Clearing pytorch\n"
     ]
    },
    {
     "name": "stderr",
     "output_type": "stream",
     "text": [
      "Processing in parallel :   0%|          | 0/65818 [00:00<?, ?it/s]"
     ]
    },
    {
     "name": "stdout",
     "output_type": "stream",
     "text": [
      "SpawnPoolWorker-4 4\n",
      "CUDA_VISIBLE_DEVICES= 4\n",
      "SpawnPoolWorker-7 7\n",
      "CUDA_VISIBLE_DEVICES= 7\n",
      "SpawnPoolWorker-2 2\n",
      "CUDA_VISIBLE_DEVICES= 2\n",
      "SpawnPoolWorker-1 1\n",
      "CUDA_VISIBLE_DEVICES= 1\n",
      "SpawnPoolWorker-3 3\n",
      "CUDA_VISIBLE_DEVICES= 3\n",
      "SpawnPoolWorker-8 8\n",
      "CUDA_VISIBLE_DEVICES= 0\n",
      "SpawnPoolWorker-6 6\n",
      "CUDA_VISIBLE_DEVICES= 6\n",
      "SpawnPoolWorker-5 5\n",
      "CUDA_VISIBLE_DEVICES= 5\n",
      "/seismic/models/brendan/*.pth\n",
      "Loading:  /seismic/models/brendan/unet2d_caformer_seed3_epochbest.pt\n",
      "/seismic/models/brendan/*.pth\n",
      "Loading:  /seismic/models/brendan/unet2d_caformer_seed3_epochbest.pt\n",
      "/seismic/models/brendan/*.pth\n",
      "Loading:  /seismic/models/brendan/unet2d_caformer_seed3_epochbest.pt\n",
      "/seismic/models/brendan/*.pth\n",
      "Loading:  /seismic/models/brendan/unet2d_caformer_seed3_epochbest.pt\n",
      "/seismic/models/brendan/*.pth\n",
      "Loading:  /seismic/models/brendan/unet2d_caformer_seed3_epochbest.pt\n",
      "/seismic/models/brendan/*.pth\n",
      "Loading:  /seismic/models/brendan/unet2d_caformer_seed3_epochbest.pt\n",
      "/seismic/models/brendan/*.pth\n",
      "Loading:  /seismic/models/brendan/unet2d_caformer_seed3_epochbest.pt\n",
      "/seismic/models/brendan/*.pth\n",
      "Loading:  /seismic/models/brendan/unet2d_caformer_seed3_epochbest.pt\n",
      "n_models: 1\n",
      "n_models: 1\n",
      "n_models: 1\n",
      "n_models: 1\n",
      "n_models: 1\n",
      "n_models: 1\n",
      "n_models: 1\n",
      "n_models: 1\n"
     ]
    },
    {
     "name": "stderr",
     "output_type": "stream",
     "text": [
      "Processing in parallel :   7%|▋         | 4934/65818 [02:37<25:45, 39.39it/s] "
     ]
    }
   ],
   "source": [
    "# Full run\n",
    "kgs.disable_caching = False\n",
    "data_out = model.infer(kgs.load_all_test_data())\n",
    "kgs.write_submission_file(data_out)\n",
    "#kgs.upload_cache()"
   ]
  },
  {
   "cell_type": "code",
   "execution_count": null,
   "id": "79db94a3-f8b6-4a91-899d-e80a1119b418",
   "metadata": {},
   "outputs": [],
   "source": [
    "# Upload cache\n",
    "#kgs.upload_cache()"
   ]
  },
  {
   "cell_type": "code",
   "execution_count": null,
   "id": "140d051f-6524-46da-b314-153363a28832",
   "metadata": {},
   "outputs": [],
   "source": [
    "len(kgs.load_all_test_data())"
   ]
  },
  {
   "cell_type": "code",
   "execution_count": 2,
   "id": "c797a425-9782-47e4-abeb-7c4ffe1ed009",
   "metadata": {},
   "outputs": [
    {
     "data": {
      "text/plain": [
       "(0.7071067811865475, 0.5946035575013605)"
      ]
     },
     "execution_count": 2,
     "metadata": {},
     "output_type": "execute_result"
    }
   ],
   "source": [
    "import numpy as np\n",
    "1/np.sqrt(2), 2**-0.75/1"
   ]
  },
  {
   "cell_type": "code",
   "execution_count": null,
   "id": "e37f38f4-53b9-4dd2-a743-28cf115a1529",
   "metadata": {},
   "outputs": [],
   "source": []
  }
 ],
 "metadata": {
  "kernelspec": {
   "display_name": "Python 3 (ipykernel)",
   "language": "python",
   "name": "python3"
  },
  "language_info": {
   "codemirror_mode": {
    "name": "ipython",
    "version": 3
   },
   "file_extension": ".py",
   "mimetype": "text/x-python",
   "name": "python",
   "nbconvert_exporter": "python",
   "pygments_lexer": "ipython3",
   "version": "3.10.14"
  }
 },
 "nbformat": 4,
 "nbformat_minor": 5
}
