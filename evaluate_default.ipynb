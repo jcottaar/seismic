{
 "cells": [
  {
   "cell_type": "code",
   "execution_count": 1,
   "id": "865d54d7-b239-49eb-be92-484d63c870d5",
   "metadata": {},
   "outputs": [
    {
     "name": "stdout",
     "output_type": "stream",
     "text": [
      "F:/seismic/models/brendan/*.pth\n",
      "Loading:  F:/seismic/models/brendan\\unet2d_caformer_seed3_epochbest.pt\n",
      "n_models: 1\n"
     ]
    }
   ],
   "source": [
    "import sys\n",
    "import subprocess\n",
    "sys.path.append('f:/seismic/code/core')\n",
    "sys.path.append('/seismic/code/core')\n",
    "sys.path.append('/kaggle/input/my-seismic-library/')\n",
    "import kaggle_support as kgs\n",
    "kgs.preallocate_matrices=False\n",
    "import importlib\n",
    "import seis_model\n",
    "import time\n",
    "import pandas as pd\n",
    "import numpy as np\n",
    "#kgs.cache_dir_write = kgs.cache_dir_write+'/../cache_evaluate/'\n",
    "#kgs.cache_dir_read = kgs.cache_dir_write"
   ]
  },
  {
   "cell_type": "code",
   "execution_count": 2,
   "id": "b16d7880-48b6-45ad-85f4-2c6f7e09fc35",
   "metadata": {},
   "outputs": [],
   "source": [
    "# Set up model\n",
    "importlib.reload(seis_model)\n",
    "model = seis_model.default_model()\n",
    "# model.models[1].model_FlatVel = seis_model.DummyModel()\n",
    "# model.models[1].model_FlatVel.state=1\n",
    "# model.models[1].model_Style_A = seis_model.DummyModel()\n",
    "# model.models[1].model_Style_A.state=1\n",
    "# model.models[1].model_TV2D = seis_model.DummyModel()\n",
    "# model.models[1].model_TV2D.state=1\n",
    "model.read_cache = False"
   ]
  },
  {
   "cell_type": "code",
   "execution_count": 6,
   "id": "a1d6e126-494b-4429-a887-480ca94bc1a0",
   "metadata": {},
   "outputs": [
    {
     "name": "stderr",
     "output_type": "stream",
     "text": [
      "Importing cache brendan: 100%|█████████████████████████████████████████████████████| 250/250 [00:00<00:00, 5049.68it/s]\n",
      "Inferring :  10%|██████▉                                                              | 25/250 [00:05<00:46,  4.82it/s]"
     ]
    },
    {
     "name": "stdout",
     "output_type": "stream",
     "text": [
      "capturing graph\n"
     ]
    },
    {
     "name": "stderr",
     "output_type": "stream",
     "text": [
      "Inferring :  10%|███████▏                                                             | 26/250 [00:06<00:57,  3.88it/s]"
     ]
    },
    {
     "name": "stdout",
     "output_type": "stream",
     "text": [
      "6.606731070343904e-05 6.606731070343904e-05\n"
     ]
    },
    {
     "name": "stderr",
     "output_type": "stream",
     "text": [
      "Inferring :  11%|███████▍                                                             | 27/250 [00:06<01:00,  3.68it/s]"
     ]
    },
    {
     "name": "stdout",
     "output_type": "stream",
     "text": [
      "5.57080993092734e-05 5.57080993092734e-05\n"
     ]
    },
    {
     "name": "stderr",
     "output_type": "stream",
     "text": [
      "Inferring :  11%|███████▋                                                             | 28/250 [00:07<01:02,  3.54it/s]"
     ]
    },
    {
     "name": "stdout",
     "output_type": "stream",
     "text": [
      "0.0001020237668865852 0.0001020237668865852\n"
     ]
    },
    {
     "name": "stderr",
     "output_type": "stream",
     "text": [
      "Inferring :  12%|████████                                                             | 29/250 [00:07<01:04,  3.41it/s]"
     ]
    },
    {
     "name": "stdout",
     "output_type": "stream",
     "text": [
      "0.0001127092115933274 0.0001127092115933274\n"
     ]
    },
    {
     "name": "stderr",
     "output_type": "stream",
     "text": [
      "Inferring :  12%|████████▎                                                            | 30/250 [00:08<01:06,  3.30it/s]"
     ]
    },
    {
     "name": "stdout",
     "output_type": "stream",
     "text": [
      "4.926501222860533e-05 4.926501222860533e-05\n"
     ]
    },
    {
     "name": "stderr",
     "output_type": "stream",
     "text": [
      "Inferring :  12%|████████▌                                                            | 31/250 [00:08<01:08,  3.20it/s]"
     ]
    },
    {
     "name": "stdout",
     "output_type": "stream",
     "text": [
      "8.278911723771451e-05 8.278911723771451e-05\n"
     ]
    },
    {
     "name": "stderr",
     "output_type": "stream",
     "text": [
      "Inferring :  13%|████████▊                                                            | 32/250 [00:08<01:09,  3.12it/s]"
     ]
    },
    {
     "name": "stdout",
     "output_type": "stream",
     "text": [
      "7.054283953032308e-05 7.054283953032308e-05\n"
     ]
    },
    {
     "name": "stderr",
     "output_type": "stream",
     "text": [
      "Inferring :  13%|█████████                                                            | 33/250 [00:09<01:11,  3.04it/s]"
     ]
    },
    {
     "name": "stdout",
     "output_type": "stream",
     "text": [
      "4.582691593231701e-05 4.582691593231701e-05\n"
     ]
    },
    {
     "name": "stderr",
     "output_type": "stream",
     "text": [
      "Inferring :  14%|█████████▍                                                           | 34/250 [00:09<01:12,  2.97it/s]"
     ]
    },
    {
     "name": "stdout",
     "output_type": "stream",
     "text": [
      "6.528007467991218e-05 6.528007467991218e-05\n"
     ]
    },
    {
     "name": "stderr",
     "output_type": "stream",
     "text": [
      "Inferring :  14%|█████████▋                                                           | 35/250 [00:10<01:13,  2.91it/s]"
     ]
    },
    {
     "name": "stdout",
     "output_type": "stream",
     "text": [
      "5.675270802745474e-05 5.675270802745474e-05\n"
     ]
    },
    {
     "name": "stderr",
     "output_type": "stream",
     "text": [
      "Inferring :  14%|█████████▉                                                           | 36/250 [00:10<01:14,  2.86it/s]"
     ]
    },
    {
     "name": "stdout",
     "output_type": "stream",
     "text": [
      "0.00011406184328663198 0.00011406184328663198\n"
     ]
    },
    {
     "name": "stderr",
     "output_type": "stream",
     "text": [
      "Inferring :  15%|██████████▏                                                          | 37/250 [00:11<01:18,  2.71it/s]"
     ]
    },
    {
     "name": "stdout",
     "output_type": "stream",
     "text": [
      "7.825856984207761e-05 7.825856984207761e-05\n"
     ]
    },
    {
     "name": "stderr",
     "output_type": "stream",
     "text": [
      "Inferring :  15%|██████████▍                                                          | 38/250 [00:11<01:19,  2.68it/s]"
     ]
    },
    {
     "name": "stdout",
     "output_type": "stream",
     "text": [
      "9.15069504522854e-05 9.15069504522854e-05\n"
     ]
    },
    {
     "name": "stderr",
     "output_type": "stream",
     "text": [
      "Inferring :  16%|██████████▊                                                          | 39/250 [00:12<01:19,  2.65it/s]"
     ]
    },
    {
     "name": "stdout",
     "output_type": "stream",
     "text": [
      "6.235484298031146e-05 6.235484298031146e-05\n"
     ]
    },
    {
     "name": "stderr",
     "output_type": "stream",
     "text": [
      "Inferring :  16%|███████████                                                          | 40/250 [00:12<01:20,  2.62it/s]"
     ]
    },
    {
     "name": "stdout",
     "output_type": "stream",
     "text": [
      "7.611848384444665e-05 7.611848384444665e-05\n"
     ]
    },
    {
     "name": "stderr",
     "output_type": "stream",
     "text": [
      "Inferring :  16%|███████████▎                                                         | 41/250 [00:13<01:20,  2.59it/s]"
     ]
    },
    {
     "name": "stdout",
     "output_type": "stream",
     "text": [
      "5.285701543565428e-05 5.285701543565428e-05\n"
     ]
    },
    {
     "name": "stderr",
     "output_type": "stream",
     "text": [
      "Inferring :  17%|███████████▌                                                         | 42/250 [00:13<01:20,  2.57it/s]"
     ]
    },
    {
     "name": "stdout",
     "output_type": "stream",
     "text": [
      "7.35035487470683e-05 7.35035487470683e-05\n"
     ]
    },
    {
     "name": "stderr",
     "output_type": "stream",
     "text": [
      "Inferring :  17%|███████████▊                                                         | 43/250 [00:14<01:21,  2.54it/s]"
     ]
    },
    {
     "name": "stdout",
     "output_type": "stream",
     "text": [
      "7.8194152795803e-05 7.8194152795803e-05\n"
     ]
    },
    {
     "name": "stderr",
     "output_type": "stream",
     "text": [
      "Inferring :  18%|████████████▏                                                        | 44/250 [00:14<01:21,  2.53it/s]"
     ]
    },
    {
     "name": "stdout",
     "output_type": "stream",
     "text": [
      "9.399238865550512e-05 9.399238865550512e-05\n"
     ]
    },
    {
     "name": "stderr",
     "output_type": "stream",
     "text": [
      "Inferring :  18%|████████████▍                                                        | 45/250 [00:15<01:21,  2.51it/s]"
     ]
    },
    {
     "name": "stdout",
     "output_type": "stream",
     "text": [
      "7.287721974132349e-05 7.287721974132349e-05\n"
     ]
    },
    {
     "name": "stderr",
     "output_type": "stream",
     "text": [
      "Inferring :  18%|████████████▋                                                        | 46/250 [00:15<01:21,  2.49it/s]"
     ]
    },
    {
     "name": "stdout",
     "output_type": "stream",
     "text": [
      "9.482677747152645e-05 9.482677747152645e-05\n"
     ]
    },
    {
     "name": "stderr",
     "output_type": "stream",
     "text": [
      "Inferring :  19%|████████████▉                                                        | 47/250 [00:15<01:22,  2.47it/s]"
     ]
    },
    {
     "name": "stdout",
     "output_type": "stream",
     "text": [
      "8.862057181625471e-05 8.862057181625471e-05\n"
     ]
    },
    {
     "name": "stderr",
     "output_type": "stream",
     "text": [
      "Inferring :  19%|█████████████▏                                                       | 48/250 [00:16<01:22,  2.46it/s]"
     ]
    },
    {
     "name": "stdout",
     "output_type": "stream",
     "text": [
      "0.00010739448242339342 0.00010739448242339342\n"
     ]
    },
    {
     "name": "stderr",
     "output_type": "stream",
     "text": [
      "Inferring :  20%|█████████████▌                                                       | 49/250 [00:16<01:21,  2.45it/s]"
     ]
    },
    {
     "name": "stdout",
     "output_type": "stream",
     "text": [
      "8.05770892544399e-05 8.05770892544399e-05\n"
     ]
    },
    {
     "name": "stderr",
     "output_type": "stream",
     "text": [
      "Inferring :  20%|█████████████▊                                                       | 50/250 [00:17<01:21,  2.44it/s]"
     ]
    },
    {
     "name": "stdout",
     "output_type": "stream",
     "text": [
      "7.79539744114704e-05 7.79539744114704e-05\n"
     ]
    },
    {
     "name": "stderr",
     "output_type": "stream",
     "text": [
      "Inferring :  20%|██████████████                                                       | 51/250 [00:17<01:22,  2.42it/s]"
     ]
    },
    {
     "name": "stdout",
     "output_type": "stream",
     "text": [
      "3.256194398807815e-05 3.256194398807815e-05\n"
     ]
    },
    {
     "name": "stderr",
     "output_type": "stream",
     "text": [
      "Inferring :  21%|██████████████▎                                                      | 52/250 [00:18<01:22,  2.41it/s]"
     ]
    },
    {
     "name": "stdout",
     "output_type": "stream",
     "text": [
      "3.772918468715651e-05 3.772918468715651e-05\n"
     ]
    },
    {
     "name": "stderr",
     "output_type": "stream",
     "text": [
      "Inferring :  21%|██████████████▋                                                      | 53/250 [00:18<01:22,  2.40it/s]"
     ]
    },
    {
     "name": "stdout",
     "output_type": "stream",
     "text": [
      "4.692605963665492e-05 4.692605963665492e-05\n"
     ]
    },
    {
     "name": "stderr",
     "output_type": "stream",
     "text": [
      "Inferring :  22%|██████████████▉                                                      | 54/250 [00:19<01:22,  2.38it/s]"
     ]
    },
    {
     "name": "stdout",
     "output_type": "stream",
     "text": [
      "3.1548736143978705e-05 3.1548736143978705e-05\n"
     ]
    },
    {
     "name": "stderr",
     "output_type": "stream",
     "text": [
      "Inferring :  22%|███████████████▏                                                     | 55/250 [00:19<01:22,  2.36it/s]"
     ]
    },
    {
     "name": "stdout",
     "output_type": "stream",
     "text": [
      "4.314316897260839e-05 4.314316897260839e-05\n"
     ]
    },
    {
     "name": "stderr",
     "output_type": "stream",
     "text": [
      "Inferring :  22%|███████████████▍                                                     | 56/250 [00:20<01:22,  2.35it/s]"
     ]
    },
    {
     "name": "stdout",
     "output_type": "stream",
     "text": [
      "2.9535802629439444e-05 2.9535802629439444e-05\n"
     ]
    },
    {
     "name": "stderr",
     "output_type": "stream",
     "text": [
      "Inferring :  23%|███████████████▋                                                     | 57/250 [00:20<01:22,  2.34it/s]"
     ]
    },
    {
     "name": "stdout",
     "output_type": "stream",
     "text": [
      "4.0620158966948546e-05 4.0620158966948546e-05\n"
     ]
    },
    {
     "name": "stderr",
     "output_type": "stream",
     "text": [
      "Inferring :  23%|████████████████                                                     | 58/250 [00:20<01:22,  2.33it/s]"
     ]
    },
    {
     "name": "stdout",
     "output_type": "stream",
     "text": [
      "2.7216978250313564e-05 2.7216978250313564e-05\n"
     ]
    },
    {
     "name": "stderr",
     "output_type": "stream",
     "text": [
      "Inferring :  24%|████████████████▎                                                    | 59/250 [00:21<01:22,  2.33it/s]"
     ]
    },
    {
     "name": "stdout",
     "output_type": "stream",
     "text": [
      "4.876266760212837e-05 4.876266760212837e-05\n"
     ]
    },
    {
     "name": "stderr",
     "output_type": "stream",
     "text": [
      "Inferring :  24%|████████████████▌                                                    | 60/250 [00:21<01:21,  2.32it/s]"
     ]
    },
    {
     "name": "stdout",
     "output_type": "stream",
     "text": [
      "2.8916927092254202e-05 2.8916927092254202e-05\n"
     ]
    },
    {
     "name": "stderr",
     "output_type": "stream",
     "text": [
      "Inferring :  24%|████████████████▊                                                    | 61/250 [00:22<01:21,  2.31it/s]"
     ]
    },
    {
     "name": "stdout",
     "output_type": "stream",
     "text": [
      "4.386878044011193e-05 4.386878044011193e-05\n"
     ]
    },
    {
     "name": "stderr",
     "output_type": "stream",
     "text": [
      "Inferring :  25%|█████████████████                                                    | 62/250 [00:22<01:21,  2.30it/s]"
     ]
    },
    {
     "name": "stdout",
     "output_type": "stream",
     "text": [
      "2.2434027682650018e-05 2.2434027682650018e-05\n"
     ]
    },
    {
     "name": "stderr",
     "output_type": "stream",
     "text": [
      "Inferring :  25%|█████████████████▍                                                   | 63/250 [00:23<01:21,  2.29it/s]"
     ]
    },
    {
     "name": "stdout",
     "output_type": "stream",
     "text": [
      "4.717248768126934e-05 4.717248768126934e-05\n"
     ]
    },
    {
     "name": "stderr",
     "output_type": "stream",
     "text": [
      "Inferring :  26%|█████████████████▋                                                   | 64/250 [00:23<01:21,  2.29it/s]"
     ]
    },
    {
     "name": "stdout",
     "output_type": "stream",
     "text": [
      "2.130357550778846e-05 2.130357550778846e-05\n"
     ]
    },
    {
     "name": "stderr",
     "output_type": "stream",
     "text": [
      "Inferring :  26%|█████████████████▉                                                   | 65/250 [00:24<01:21,  2.28it/s]"
     ]
    },
    {
     "name": "stdout",
     "output_type": "stream",
     "text": [
      "4.205329021797882e-05 4.205329021797882e-05\n"
     ]
    },
    {
     "name": "stderr",
     "output_type": "stream",
     "text": [
      "Inferring :  26%|██████████████████▏                                                  | 66/250 [00:24<01:20,  2.27it/s]"
     ]
    },
    {
     "name": "stdout",
     "output_type": "stream",
     "text": [
      "3.6310560973011705e-05 3.6310560973011705e-05\n"
     ]
    },
    {
     "name": "stderr",
     "output_type": "stream",
     "text": [
      "Inferring :  27%|██████████████████▍                                                  | 67/250 [00:25<01:20,  2.27it/s]"
     ]
    },
    {
     "name": "stdout",
     "output_type": "stream",
     "text": [
      "2.79265990661256e-05 2.79265990661256e-05\n"
     ]
    },
    {
     "name": "stderr",
     "output_type": "stream",
     "text": [
      "Inferring :  27%|██████████████████▊                                                  | 68/250 [00:25<01:20,  2.26it/s]"
     ]
    },
    {
     "name": "stdout",
     "output_type": "stream",
     "text": [
      "4.713661252667618e-05 4.713661252667618e-05\n"
     ]
    },
    {
     "name": "stderr",
     "output_type": "stream",
     "text": [
      "Inferring :  28%|███████████████████                                                  | 69/250 [00:26<01:20,  2.26it/s]"
     ]
    },
    {
     "name": "stdout",
     "output_type": "stream",
     "text": [
      "4.230686390851592e-05 4.230686390851592e-05\n"
     ]
    },
    {
     "name": "stderr",
     "output_type": "stream",
     "text": [
      "Inferring :  28%|███████████████████▎                                                 | 70/250 [00:26<01:19,  2.25it/s]"
     ]
    },
    {
     "name": "stdout",
     "output_type": "stream",
     "text": [
      "4.165790426488009e-05 4.165790426488009e-05\n"
     ]
    },
    {
     "name": "stderr",
     "output_type": "stream",
     "text": [
      "Inferring :  28%|███████████████████▌                                                 | 71/250 [00:26<01:19,  2.25it/s]"
     ]
    },
    {
     "name": "stdout",
     "output_type": "stream",
     "text": [
      "3.401445126150858e-05 3.401445126150858e-05\n"
     ]
    },
    {
     "name": "stderr",
     "output_type": "stream",
     "text": [
      "Inferring :  29%|███████████████████▊                                                 | 72/250 [00:27<01:21,  2.19it/s]"
     ]
    },
    {
     "name": "stdout",
     "output_type": "stream",
     "text": [
      "4.8815340351799735e-05 4.8815340351799735e-05\n"
     ]
    },
    {
     "name": "stderr",
     "output_type": "stream",
     "text": [
      "Inferring :  29%|████████████████████▏                                                | 73/250 [00:28<01:21,  2.18it/s]"
     ]
    },
    {
     "name": "stdout",
     "output_type": "stream",
     "text": [
      "3.885026532451726e-05 3.885026532451726e-05\n"
     ]
    },
    {
     "name": "stderr",
     "output_type": "stream",
     "text": [
      "Inferring :  30%|████████████████████▍                                                | 74/250 [00:28<01:20,  2.18it/s]"
     ]
    },
    {
     "name": "stdout",
     "output_type": "stream",
     "text": [
      "6.702736186394046e-05 6.702736186394046e-05\n"
     ]
    },
    {
     "name": "stderr",
     "output_type": "stream",
     "text": [
      "Inferring :  30%|████████████████████▋                                                | 75/250 [00:29<01:20,  2.18it/s]"
     ]
    },
    {
     "name": "stdout",
     "output_type": "stream",
     "text": [
      "4.854815320055439e-05 4.854815320055439e-05\n"
     ]
    },
    {
     "name": "stderr",
     "output_type": "stream",
     "text": [
      "Inferring :  30%|████████████████████▉                                                | 76/250 [00:29<01:19,  2.18it/s]"
     ]
    },
    {
     "name": "stdout",
     "output_type": "stream",
     "text": [
      "5.698804106076135e-05 5.698804106076135e-05\n"
     ]
    },
    {
     "name": "stderr",
     "output_type": "stream",
     "text": [
      "Inferring :  31%|█████████████████████▎                                               | 77/250 [00:29<01:19,  2.18it/s]"
     ]
    },
    {
     "name": "stdout",
     "output_type": "stream",
     "text": [
      "3.192887817533405e-05 3.192887817533405e-05\n"
     ]
    },
    {
     "name": "stderr",
     "output_type": "stream",
     "text": [
      "Inferring :  31%|█████████████████████▌                                               | 78/250 [00:30<01:18,  2.18it/s]"
     ]
    },
    {
     "name": "stdout",
     "output_type": "stream",
     "text": [
      "3.931487199165059e-05 3.931487199165059e-05\n"
     ]
    },
    {
     "name": "stderr",
     "output_type": "stream",
     "text": [
      "Inferring :  32%|█████████████████████▊                                               | 79/250 [00:30<01:18,  2.18it/s]"
     ]
    },
    {
     "name": "stdout",
     "output_type": "stream",
     "text": [
      "2.5635181296031018e-05 2.5635181296031018e-05\n"
     ]
    },
    {
     "name": "stderr",
     "output_type": "stream",
     "text": [
      "Inferring :  32%|██████████████████████                                               | 80/250 [00:31<01:18,  2.18it/s]"
     ]
    },
    {
     "name": "stdout",
     "output_type": "stream",
     "text": [
      "2.7942128577303526e-05 2.7942128577303526e-05\n"
     ]
    },
    {
     "name": "stderr",
     "output_type": "stream",
     "text": [
      "Inferring :  32%|██████████████████████▎                                              | 81/250 [00:31<01:17,  2.18it/s]"
     ]
    },
    {
     "name": "stdout",
     "output_type": "stream",
     "text": [
      "3.148017850444506e-05 3.148017850444506e-05\n"
     ]
    },
    {
     "name": "stderr",
     "output_type": "stream",
     "text": [
      "Inferring :  33%|██████████████████████▋                                              | 82/250 [00:32<01:17,  2.18it/s]"
     ]
    },
    {
     "name": "stdout",
     "output_type": "stream",
     "text": [
      "4.2395642922147185e-05 4.2395642922147185e-05\n"
     ]
    },
    {
     "name": "stderr",
     "output_type": "stream",
     "text": [
      "Inferring :  33%|██████████████████████▉                                              | 83/250 [00:32<01:16,  2.18it/s]"
     ]
    },
    {
     "name": "stdout",
     "output_type": "stream",
     "text": [
      "6.288423512334887e-05 6.288423512334887e-05\n"
     ]
    },
    {
     "name": "stderr",
     "output_type": "stream",
     "text": [
      "Inferring :  34%|███████████████████████▏                                             | 84/250 [00:33<01:16,  2.18it/s]"
     ]
    },
    {
     "name": "stdout",
     "output_type": "stream",
     "text": [
      "3.0406574398133803e-05 3.0406574398133803e-05\n"
     ]
    },
    {
     "name": "stderr",
     "output_type": "stream",
     "text": [
      "Inferring :  34%|███████████████████████▍                                             | 85/250 [00:33<01:15,  2.18it/s]"
     ]
    },
    {
     "name": "stdout",
     "output_type": "stream",
     "text": [
      "4.063974505055099e-05 4.063974505055099e-05\n"
     ]
    },
    {
     "name": "stderr",
     "output_type": "stream",
     "text": [
      "Inferring :  34%|███████████████████████▋                                             | 86/250 [00:34<01:15,  2.17it/s]"
     ]
    },
    {
     "name": "stdout",
     "output_type": "stream",
     "text": [
      "3.131466648225528e-05 3.131466648225528e-05\n"
     ]
    },
    {
     "name": "stderr",
     "output_type": "stream",
     "text": [
      "Inferring :  35%|████████████████████████                                             | 87/250 [00:34<01:14,  2.18it/s]"
     ]
    },
    {
     "name": "stdout",
     "output_type": "stream",
     "text": [
      "5.210598920757489e-05 5.210598920757489e-05\n"
     ]
    },
    {
     "name": "stderr",
     "output_type": "stream",
     "text": [
      "Inferring :  35%|████████████████████████▎                                            | 88/250 [00:35<01:14,  2.17it/s]"
     ]
    },
    {
     "name": "stdout",
     "output_type": "stream",
     "text": [
      "5.951988682924351e-05 5.951988682924351e-05\n"
     ]
    },
    {
     "name": "stderr",
     "output_type": "stream",
     "text": [
      "Inferring :  36%|████████████████████████▌                                            | 89/250 [00:35<01:14,  2.17it/s]"
     ]
    },
    {
     "name": "stdout",
     "output_type": "stream",
     "text": [
      "5.772118043463536e-05 5.772118043463536e-05\n"
     ]
    },
    {
     "name": "stderr",
     "output_type": "stream",
     "text": [
      "Inferring :  36%|████████████████████████▊                                            | 90/250 [00:35<01:13,  2.17it/s]"
     ]
    },
    {
     "name": "stdout",
     "output_type": "stream",
     "text": [
      "6.535818941902896e-05 6.535818941902896e-05\n"
     ]
    },
    {
     "name": "stderr",
     "output_type": "stream",
     "text": [
      "Inferring :  36%|█████████████████████████                                            | 91/250 [00:36<01:13,  2.18it/s]"
     ]
    },
    {
     "name": "stdout",
     "output_type": "stream",
     "text": [
      "0.00011472304636275696 0.00011472304636275696\n"
     ]
    },
    {
     "name": "stderr",
     "output_type": "stream",
     "text": [
      "Inferring :  37%|█████████████████████████▍                                           | 92/250 [00:36<01:12,  2.18it/s]"
     ]
    },
    {
     "name": "stdout",
     "output_type": "stream",
     "text": [
      "7.983708346278394e-05 7.983708346278394e-05\n"
     ]
    },
    {
     "name": "stderr",
     "output_type": "stream",
     "text": [
      "Inferring :  37%|█████████████████████████▋                                           | 93/250 [00:37<01:12,  2.17it/s]"
     ]
    },
    {
     "name": "stdout",
     "output_type": "stream",
     "text": [
      "3.116172888670626e-05 3.116172888670626e-05\n"
     ]
    },
    {
     "name": "stderr",
     "output_type": "stream",
     "text": [
      "Inferring :  38%|█████████████████████████▉                                           | 94/250 [00:37<01:11,  2.17it/s]"
     ]
    },
    {
     "name": "stdout",
     "output_type": "stream",
     "text": [
      "3.292987937706599e-05 3.292987937706599e-05\n"
     ]
    },
    {
     "name": "stderr",
     "output_type": "stream",
     "text": [
      "Inferring :  38%|██████████████████████████▏                                          | 95/250 [00:38<01:11,  2.17it/s]"
     ]
    },
    {
     "name": "stdout",
     "output_type": "stream",
     "text": [
      "6.21307777997417e-05 6.21307777997417e-05\n"
     ]
    },
    {
     "name": "stderr",
     "output_type": "stream",
     "text": [
      "Inferring :  38%|██████████████████████████▍                                          | 96/250 [00:38<01:09,  2.20it/s]"
     ]
    },
    {
     "name": "stdout",
     "output_type": "stream",
     "text": [
      "3.7836665320072406e-05 3.7836665320072406e-05\n"
     ]
    },
    {
     "name": "stderr",
     "output_type": "stream",
     "text": [
      "Inferring :  39%|██████████████████████████▊                                          | 97/250 [00:38<01:08,  2.25it/s]"
     ]
    },
    {
     "name": "stdout",
     "output_type": "stream",
     "text": [
      "4.0839742570166726e-05 4.0839742570166726e-05\n"
     ]
    },
    {
     "name": "stderr",
     "output_type": "stream",
     "text": [
      "Inferring :  39%|███████████████████████████                                          | 98/250 [00:39<01:07,  2.25it/s]"
     ]
    },
    {
     "name": "stdout",
     "output_type": "stream",
     "text": [
      "4.5329434087164176e-05 4.5329434087164176e-05\n"
     ]
    },
    {
     "name": "stderr",
     "output_type": "stream",
     "text": [
      "Inferring :  40%|███████████████████████████▎                                         | 99/250 [00:39<01:05,  2.30it/s]"
     ]
    },
    {
     "name": "stdout",
     "output_type": "stream",
     "text": [
      "2.365455919310222e-05 2.365455919310222e-05\n"
     ]
    },
    {
     "name": "stderr",
     "output_type": "stream",
     "text": [
      "Inferring :  41%|███████████████████████████▋                                        | 102/250 [00:40<00:58,  2.52it/s]"
     ]
    },
    {
     "name": "stdout",
     "output_type": "stream",
     "text": [
      "3.2971946766025136e-05 3.2971946766025136e-05\n"
     ]
    },
    {
     "name": "stderr",
     "output_type": "stream",
     "text": [
      "Inferring :  50%|██████████████████████████████████▎                                 | 126/250 [00:42<00:27,  4.54it/s]"
     ]
    },
    {
     "name": "stdout",
     "output_type": "stream",
     "text": [
      "3.965686668643488e-05 3.965686668643488e-05\n"
     ]
    },
    {
     "name": "stderr",
     "output_type": "stream",
     "text": [
      "Inferring :  51%|██████████████████████████████████▌                                 | 127/250 [00:43<00:27,  4.49it/s]"
     ]
    },
    {
     "name": "stdout",
     "output_type": "stream",
     "text": [
      "6.18427125664454e-05 6.18427125664454e-05\n"
     ]
    },
    {
     "name": "stderr",
     "output_type": "stream",
     "text": [
      "Inferring :  51%|██████████████████████████████████▊                                 | 128/250 [00:43<00:27,  4.36it/s]"
     ]
    },
    {
     "name": "stdout",
     "output_type": "stream",
     "text": [
      "3.086134693757839e-05 3.086134693757839e-05\n"
     ]
    },
    {
     "name": "stderr",
     "output_type": "stream",
     "text": [
      "Inferring :  52%|███████████████████████████████████                                 | 129/250 [00:43<00:27,  4.33it/s]"
     ]
    },
    {
     "name": "stdout",
     "output_type": "stream",
     "text": [
      "3.676748323279642e-05 3.676748323279642e-05\n"
     ]
    },
    {
     "name": "stderr",
     "output_type": "stream",
     "text": [
      "Inferring :  52%|███████████████████████████████████▎                                | 130/250 [00:44<00:27,  4.29it/s]"
     ]
    },
    {
     "name": "stdout",
     "output_type": "stream",
     "text": [
      "6.09567351199014e-05 6.09567351199014e-05\n"
     ]
    },
    {
     "name": "stderr",
     "output_type": "stream",
     "text": [
      "Inferring :  52%|███████████████████████████████████▋                                | 131/250 [00:44<00:27,  4.26it/s]"
     ]
    },
    {
     "name": "stdout",
     "output_type": "stream",
     "text": [
      "5.545688415167073e-05 5.545688415167073e-05\n"
     ]
    },
    {
     "name": "stderr",
     "output_type": "stream",
     "text": [
      "Inferring :  53%|███████████████████████████████████▉                                | 132/250 [00:44<00:28,  4.16it/s]"
     ]
    },
    {
     "name": "stdout",
     "output_type": "stream",
     "text": [
      "2.9852688481113007e-05 2.9852688481113007e-05\n"
     ]
    },
    {
     "name": "stderr",
     "output_type": "stream",
     "text": [
      "Inferring :  53%|████████████████████████████████████▏                               | 133/250 [00:44<00:28,  4.14it/s]"
     ]
    },
    {
     "name": "stdout",
     "output_type": "stream",
     "text": [
      "5.353272530589113e-05 5.353272530589113e-05\n"
     ]
    },
    {
     "name": "stderr",
     "output_type": "stream",
     "text": [
      "Inferring :  54%|████████████████████████████████████▍                               | 134/250 [00:45<00:28,  4.10it/s]"
     ]
    },
    {
     "name": "stdout",
     "output_type": "stream",
     "text": [
      "3.42332132332894e-05 3.42332132332894e-05\n"
     ]
    },
    {
     "name": "stderr",
     "output_type": "stream",
     "text": [
      "Inferring :  54%|████████████████████████████████████▋                               | 135/250 [00:45<00:28,  4.07it/s]"
     ]
    },
    {
     "name": "stdout",
     "output_type": "stream",
     "text": [
      "3.2672694264218565e-05 3.2672694264218565e-05\n"
     ]
    },
    {
     "name": "stderr",
     "output_type": "stream",
     "text": [
      "Inferring :  54%|████████████████████████████████████▉                               | 136/250 [00:45<00:28,  4.06it/s]"
     ]
    },
    {
     "name": "stdout",
     "output_type": "stream",
     "text": [
      "7.178557827011627e-05 7.178557827011627e-05\n"
     ]
    },
    {
     "name": "stderr",
     "output_type": "stream",
     "text": [
      "Inferring :  55%|█████████████████████████████████████▎                              | 137/250 [00:46<00:27,  4.04it/s]"
     ]
    },
    {
     "name": "stdout",
     "output_type": "stream",
     "text": [
      "7.36513392134576e-05 7.36513392134576e-05\n"
     ]
    },
    {
     "name": "stderr",
     "output_type": "stream",
     "text": [
      "Inferring :  55%|█████████████████████████████████████▌                              | 138/250 [00:46<00:28,  3.88it/s]"
     ]
    },
    {
     "name": "stdout",
     "output_type": "stream",
     "text": [
      "5.7245081529172124e-05 5.7245081529172124e-05\n"
     ]
    },
    {
     "name": "stderr",
     "output_type": "stream",
     "text": [
      "Inferring :  56%|█████████████████████████████████████▊                              | 139/250 [00:46<00:28,  3.87it/s]"
     ]
    },
    {
     "name": "stdout",
     "output_type": "stream",
     "text": [
      "5.158645373913156e-05 5.158645373913156e-05\n"
     ]
    },
    {
     "name": "stderr",
     "output_type": "stream",
     "text": [
      "Inferring :  56%|██████████████████████████████████████                              | 140/250 [00:47<00:28,  3.85it/s]"
     ]
    },
    {
     "name": "stdout",
     "output_type": "stream",
     "text": [
      "6.678213863215617e-05 6.678213863215617e-05\n"
     ]
    },
    {
     "name": "stderr",
     "output_type": "stream",
     "text": [
      "Inferring :  56%|██████████████████████████████████████▎                             | 141/250 [00:47<00:29,  3.73it/s]"
     ]
    },
    {
     "name": "stdout",
     "output_type": "stream",
     "text": [
      "5.658449614268378e-05 5.658449614268378e-05\n"
     ]
    },
    {
     "name": "stderr",
     "output_type": "stream",
     "text": [
      "Inferring :  57%|██████████████████████████████████████▌                             | 142/250 [00:47<00:29,  3.72it/s]"
     ]
    },
    {
     "name": "stdout",
     "output_type": "stream",
     "text": [
      "5.393766951878821e-05 5.393766951878821e-05\n"
     ]
    },
    {
     "name": "stderr",
     "output_type": "stream",
     "text": [
      "Inferring :  57%|██████████████████████████████████████▉                             | 143/250 [00:48<00:29,  3.69it/s]"
     ]
    },
    {
     "name": "stdout",
     "output_type": "stream",
     "text": [
      "6.413865898317964e-05 6.413865898317964e-05\n"
     ]
    },
    {
     "name": "stderr",
     "output_type": "stream",
     "text": [
      "Inferring :  58%|███████████████████████████████████████▏                            | 144/250 [00:48<00:28,  3.69it/s]"
     ]
    },
    {
     "name": "stdout",
     "output_type": "stream",
     "text": [
      "4.453024825185386e-05 4.453024825185386e-05\n"
     ]
    },
    {
     "name": "stderr",
     "output_type": "stream",
     "text": [
      "Inferring :  58%|███████████████████████████████████████▍                            | 145/250 [00:48<00:28,  3.69it/s]"
     ]
    },
    {
     "name": "stdout",
     "output_type": "stream",
     "text": [
      "7.25478146921323e-05 7.25478146921323e-05\n"
     ]
    },
    {
     "name": "stderr",
     "output_type": "stream",
     "text": [
      "Inferring :  58%|███████████████████████████████████████▋                            | 146/250 [00:49<00:28,  3.68it/s]"
     ]
    },
    {
     "name": "stdout",
     "output_type": "stream",
     "text": [
      "3.883874900187482e-05 3.883874900187482e-05\n"
     ]
    },
    {
     "name": "stderr",
     "output_type": "stream",
     "text": [
      "Inferring :  59%|███████████████████████████████████████▉                            | 147/250 [00:49<00:28,  3.66it/s]"
     ]
    },
    {
     "name": "stdout",
     "output_type": "stream",
     "text": [
      "4.0347619375894044e-05 4.0347619375894044e-05\n"
     ]
    },
    {
     "name": "stderr",
     "output_type": "stream",
     "text": [
      "Inferring :  59%|████████████████████████████████████████▎                           | 148/250 [00:49<00:27,  3.64it/s]"
     ]
    },
    {
     "name": "stdout",
     "output_type": "stream",
     "text": [
      "4.581420548036639e-05 4.581420548036639e-05\n"
     ]
    },
    {
     "name": "stderr",
     "output_type": "stream",
     "text": [
      "Inferring :  60%|████████████████████████████████████████▌                           | 149/250 [00:49<00:28,  3.58it/s]"
     ]
    },
    {
     "name": "stdout",
     "output_type": "stream",
     "text": [
      "5.222575799955865e-05 5.222575799955865e-05\n"
     ]
    },
    {
     "name": "stderr",
     "output_type": "stream",
     "text": [
      "Inferring :  61%|█████████████████████████████████████████▎                          | 152/250 [00:50<00:25,  3.80it/s]"
     ]
    },
    {
     "name": "stdout",
     "output_type": "stream",
     "text": [
      "3.455831806233989e-05 3.455831806233989e-05\n"
     ]
    },
    {
     "name": "stderr",
     "output_type": "stream",
     "text": [
      "Inferring : 100%|████████████████████████████████████████████████████████████████████| 250/250 [00:59<00:00,  4.24it/s]\n"
     ]
    },
    {
     "name": "stdout",
     "output_type": "stream",
     "text": [
      "CPU times: total: 56.1 s\n",
      "Wall time: 1min\n"
     ]
    }
   ],
   "source": [
    "%%time\n",
    "data = kgs.load_all_train_data(validation_only=True)[::2]\n",
    "model.models[1].run_in_parallel = True\n",
    "model.models[1].model_Style_A.models = model.models[1].model_Style_A.models[0:1]\n",
    "data_out = model.infer(data)"
   ]
  },
  {
   "cell_type": "code",
   "execution_count": 7,
   "id": "831375a6-79c2-49a7-bd8e-5dada7c28fc9",
   "metadata": {},
   "outputs": [],
   "source": [
    "dfTimings = pd.read_csv(kgs.timing_filename)\n",
    "dfTimings = dfTimings.groupby('family')['time_taken'].mean().to_frame('time_taken')"
   ]
  },
  {
   "cell_type": "code",
   "execution_count": 8,
   "id": "14b3e28c-483f-43be-9086-466c3cc67c1a",
   "metadata": {},
   "outputs": [
    {
     "name": "stderr",
     "output_type": "stream",
     "text": [
      "Importing cache brendan: 100%|██████████████████████████████████████████████████████| 25/25 [00:00<00:00, 12472.65it/s]\n",
      "Importing cache brendan: 100%|███████████████████████████████████████████████████████| 25/25 [00:00<00:00, 6251.57it/s]\n",
      "Importing cache brendan: 100%|███████████████████████████████████████████████████████| 25/25 [00:00<00:00, 4995.60it/s]\n",
      "Importing cache brendan: 100%|███████████████████████████████████████████████████████| 25/25 [00:00<00:00, 6247.47it/s]\n",
      "Importing cache brendan: 100%|██████████████████████████████████████████████████████| 25/25 [00:00<00:00, 12460.80it/s]\n",
      "Importing cache brendan: 100%|██████████████████████████████████████████████████████| 25/25 [00:00<00:00, 12503.89it/s]\n",
      "Importing cache brendan: 100%|██████████████████████████████████████████████████████| 25/25 [00:00<00:00, 12443.05it/s]\n",
      "Importing cache brendan: 100%|███████████████████████████████████████████████████████| 25/25 [00:00<00:00, 6250.83it/s]\n",
      "Importing cache brendan: 100%|███████████████████████████████████████████████████████| 25/25 [00:00<00:00, 8332.61it/s]\n",
      "Importing cache brendan: 100%|███████████████████████████████████████████████████████| 25/25 [00:00<00:00, 4999.65it/s]"
     ]
    },
    {
     "name": "stdout",
     "output_type": "stream",
     "text": [
      "\n",
      "\n",
      "Brendan local score:  23.33086302485252\n",
      "My local score:  7.995248444375797\n",
      "Estimate public LB:  9.869465820991785\n"
     ]
    },
    {
     "name": "stderr",
     "output_type": "stream",
     "text": [
      "\n"
     ]
    },
    {
     "data": {
      "text/html": [
       "<div>\n",
       "<style scoped>\n",
       "    .dataframe tbody tr th:only-of-type {\n",
       "        vertical-align: middle;\n",
       "    }\n",
       "\n",
       "    .dataframe tbody tr th {\n",
       "        vertical-align: top;\n",
       "    }\n",
       "\n",
       "    .dataframe thead th {\n",
       "        text-align: right;\n",
       "    }\n",
       "</style>\n",
       "<table border=\"1\" class=\"dataframe\">\n",
       "  <thead>\n",
       "    <tr style=\"text-align: right;\">\n",
       "      <th></th>\n",
       "      <th>family</th>\n",
       "      <th>score_brendan</th>\n",
       "      <th>score_mine</th>\n",
       "      <th>score_mine_max</th>\n",
       "      <th>time_taken</th>\n",
       "    </tr>\n",
       "  </thead>\n",
       "  <tbody>\n",
       "    <tr>\n",
       "      <th>0</th>\n",
       "      <td>CurveFault_A</td>\n",
       "      <td>3.306740</td>\n",
       "      <td>3.306740</td>\n",
       "      <td>9.265849</td>\n",
       "      <td>0</td>\n",
       "    </tr>\n",
       "    <tr>\n",
       "      <th>1</th>\n",
       "      <td>CurveFault_B</td>\n",
       "      <td>74.582465</td>\n",
       "      <td>19.826906</td>\n",
       "      <td>39.138776</td>\n",
       "      <td>0</td>\n",
       "    </tr>\n",
       "    <tr>\n",
       "      <th>2</th>\n",
       "      <td>CurveVel_A</td>\n",
       "      <td>8.772963</td>\n",
       "      <td>4.332114</td>\n",
       "      <td>9.837551</td>\n",
       "      <td>0</td>\n",
       "    </tr>\n",
       "    <tr>\n",
       "      <th>3</th>\n",
       "      <td>CurveVel_B</td>\n",
       "      <td>26.563902</td>\n",
       "      <td>5.481069</td>\n",
       "      <td>16.276327</td>\n",
       "      <td>0</td>\n",
       "    </tr>\n",
       "    <tr>\n",
       "      <th>4</th>\n",
       "      <td>FlatFault_A</td>\n",
       "      <td>2.258997</td>\n",
       "      <td>2.258997</td>\n",
       "      <td>6.267089</td>\n",
       "      <td>0</td>\n",
       "    </tr>\n",
       "    <tr>\n",
       "      <th>5</th>\n",
       "      <td>FlatFault_B</td>\n",
       "      <td>27.190645</td>\n",
       "      <td>7.736392</td>\n",
       "      <td>17.294898</td>\n",
       "      <td>0</td>\n",
       "    </tr>\n",
       "    <tr>\n",
       "      <th>6</th>\n",
       "      <td>FlatVel_A</td>\n",
       "      <td>1.168041</td>\n",
       "      <td>0.041143</td>\n",
       "      <td>0.214286</td>\n",
       "      <td>0</td>\n",
       "    </tr>\n",
       "    <tr>\n",
       "      <th>7</th>\n",
       "      <td>FlatVel_B</td>\n",
       "      <td>4.845314</td>\n",
       "      <td>0.009714</td>\n",
       "      <td>0.085714</td>\n",
       "      <td>0</td>\n",
       "    </tr>\n",
       "    <tr>\n",
       "      <th>8</th>\n",
       "      <td>Style_A</td>\n",
       "      <td>37.007648</td>\n",
       "      <td>5.167781</td>\n",
       "      <td>9.543121</td>\n",
       "      <td>0</td>\n",
       "    </tr>\n",
       "    <tr>\n",
       "      <th>9</th>\n",
       "      <td>Style_B</td>\n",
       "      <td>47.611914</td>\n",
       "      <td>31.791628</td>\n",
       "      <td>40.132522</td>\n",
       "      <td>0</td>\n",
       "    </tr>\n",
       "  </tbody>\n",
       "</table>\n",
       "</div>"
      ],
      "text/plain": [
       "         family  score_brendan  score_mine  score_mine_max  time_taken\n",
       "0  CurveFault_A       3.306740    3.306740        9.265849           0\n",
       "1  CurveFault_B      74.582465   19.826906       39.138776           0\n",
       "2    CurveVel_A       8.772963    4.332114        9.837551           0\n",
       "3    CurveVel_B      26.563902    5.481069       16.276327           0\n",
       "4   FlatFault_A       2.258997    2.258997        6.267089           0\n",
       "5   FlatFault_B      27.190645    7.736392       17.294898           0\n",
       "6     FlatVel_A       1.168041    0.041143        0.214286           0\n",
       "7     FlatVel_B       4.845314    0.009714        0.085714           0\n",
       "8       Style_A      37.007648    5.167781        9.543121           0\n",
       "9       Style_B      47.611914   31.791628       40.132522           0"
      ]
     },
     "execution_count": 8,
     "metadata": {},
     "output_type": "execute_result"
    }
   ],
   "source": [
    "#kgs.disable_caching = True\n",
    "families = list(set([d.family for d in data]))\n",
    "families.sort()\n",
    "res = dict()\n",
    "res['family'], res['score_brendan'], res['score_mine'], res['score_mine_max'], res['time_taken'] = [],[],[],[],[]\n",
    "for f in families:\n",
    "    res['family'].append(f)\n",
    "    this_data_out = []\n",
    "    for d in data_out:\n",
    "        if d.family==f:\n",
    "            this_data_out.append(d)\n",
    "    data_out_brendan = model.models[0].infer(this_data_out)\n",
    "    res['score_brendan'].append(kgs.score_metric(data_out_brendan,show_diagnostics=False)[0])\n",
    "    #data_out = model.infer(this_data[:1])\n",
    "    t=time.time()\n",
    "    try:\n",
    "        res['time_taken'].append(dfTimings.loc[f].to_numpy()[0])\n",
    "    except:\n",
    "        res['time_taken'].append(0)\n",
    "    score,_,res_all = kgs.score_metric(this_data_out,show_diagnostics=False)\n",
    "    res['score_mine'].append(score)\n",
    "    res['score_mine_max'].append(np.max(res_all))\n",
    "    #print(pd.DataFrame(res))\n",
    "df = pd.DataFrame(res)\n",
    "print('')\n",
    "print('')\n",
    "print('Brendan local score: ', np.mean(df['score_brendan']))\n",
    "print('My local score: ', np.mean(df['score_mine']))\n",
    "print('Estimate public LB: ', 28.8*np.mean(df['score_mine'])/np.mean(df['score_brendan']))\n",
    "df"
   ]
  },
  {
   "cell_type": "code",
   "execution_count": null,
   "id": "e2013b7b-4639-4d4d-ac34-2f18e6767195",
   "metadata": {},
   "outputs": [],
   "source": [
    "# No extra model: 28.8\n",
    "# FlatVel:\n",
    "# StyleA: "
   ]
  },
  {
   "cell_type": "code",
   "execution_count": null,
   "id": "db361615-b80f-4527-bca2-48a6bcc8a969",
   "metadata": {},
   "outputs": [],
   "source": []
  },
  {
   "cell_type": "code",
   "execution_count": null,
   "id": "3dc8b219-3ec5-4700-86db-8f09214b86d3",
   "metadata": {},
   "outputs": [],
   "source": [
    "28-30*0.081"
   ]
  },
  {
   "cell_type": "code",
   "execution_count": null,
   "id": "72d6e291-4f42-4fad-a54a-ebb7f615d464",
   "metadata": {},
   "outputs": [],
   "source": [
    "65000*0.09*0.15/4"
   ]
  },
  {
   "cell_type": "code",
   "execution_count": null,
   "id": "ba112b63-fcbc-4213-8350-2643d46fd974",
   "metadata": {},
   "outputs": [],
   "source": [
    "8"
   ]
  }
 ],
 "metadata": {
  "kernelspec": {
   "display_name": "Python 3 (ipykernel)",
   "language": "python",
   "name": "python3"
  },
  "language_info": {
   "codemirror_mode": {
    "name": "ipython",
    "version": 3
   },
   "file_extension": ".py",
   "mimetype": "text/x-python",
   "name": "python",
   "nbconvert_exporter": "python",
   "pygments_lexer": "ipython3",
   "version": "3.10.14"
  }
 },
 "nbformat": 4,
 "nbformat_minor": 5
}
