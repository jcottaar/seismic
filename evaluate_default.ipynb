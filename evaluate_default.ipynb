{
 "cells": [
  {
   "cell_type": "code",
   "execution_count": 1,
   "id": "865d54d7-b239-49eb-be92-484d63c870d5",
   "metadata": {},
   "outputs": [
    {
     "name": "stdout",
     "output_type": "stream",
     "text": [
      "/seismic/models/brendan/*.pth\n",
      "Loading:  /seismic/models/brendan/unet2d_caformer_seed3_epochbest.pt\n",
      "n_models: 1\n"
     ]
    }
   ],
   "source": [
    "import sys\n",
    "import subprocess\n",
    "sys.path.append('f:/seismic/code/core')\n",
    "sys.path.append('/seismic/code/core')\n",
    "sys.path.append('/kaggle/input/my-seismic-library/')\n",
    "import kaggle_support as kgs\n",
    "import importlib\n",
    "import seis_model\n",
    "import time\n",
    "import pandas as pd\n",
    "import numpy as np\n",
    "kgs.cache_dir_write = kgs.cache_dir_write+'/../cache_evaluate/'\n",
    "kgs.cache_dir_read = kgs.cache_dir_write"
   ]
  },
  {
   "cell_type": "code",
   "execution_count": 2,
   "id": "b16d7880-48b6-45ad-85f4-2c6f7e09fc35",
   "metadata": {},
   "outputs": [
    {
     "name": "stdout",
     "output_type": "stream",
     "text": [
      "too low\n",
      "only doing style A in test mode\n",
      "styleB not active yet\n",
      "False False\n",
      "(4901, 4901)\n"
     ]
    }
   ],
   "source": [
    "# Set up model\n",
    "importlib.reload(seis_model)\n",
    "model = seis_model.default_model()\n",
    "kgs.disable_caching = True"
   ]
  },
  {
   "cell_type": "code",
   "execution_count": 3,
   "id": "a1d6e126-494b-4429-a887-480ca94bc1a0",
   "metadata": {},
   "outputs": [
    {
     "name": "stderr",
     "output_type": "stream",
     "text": [
      "100%|██████████| 21/21 [00:01<00:00, 15.13it/s]\n"
     ]
    },
    {
     "name": "stdout",
     "output_type": "stream",
     "text": [
      "Clearing pytorch\n"
     ]
    },
    {
     "name": "stderr",
     "output_type": "stream",
     "text": [
      "Processing in parallel:   0%|          | 0/20 [00:00<?, ?it/s]"
     ]
    },
    {
     "name": "stdout",
     "output_type": "stream",
     "text": [
      "CUDA_VISIBLE_DEVICES= 5\n",
      "CUDA_VISIBLE_DEVICES= 3\n",
      "CUDA_VISIBLE_DEVICES= 6\n",
      "CUDA_VISIBLE_DEVICES= 1\n",
      "CUDA_VISIBLE_DEVICES= 0\n",
      "CUDA_VISIBLE_DEVICES= 4\n",
      "CUDA_VISIBLE_DEVICES= 2\n",
      "CUDA_VISIBLE_DEVICES= 7\n",
      "/seismic/models/brendan/*.pth\n",
      "Loading:  /seismic/models/brendan/unet2d_caformer_seed3_epochbest.pt\n",
      "/seismic/models/brendan/*.pth\n",
      "Loading:  /seismic/models/brendan/unet2d_caformer_seed3_epochbest.pt\n",
      "/seismic/models/brendan/*.pth\n",
      "Loading:  /seismic/models/brendan/unet2d_caformer_seed3_epochbest.pt\n",
      "/seismic/models/brendan/*.pth\n",
      "Loading:  /seismic/models/brendan/unet2d_caformer_seed3_epochbest.pt\n",
      "/seismic/models/brendan/*.pth\n",
      "Loading:  /seismic/models/brendan/unet2d_caformer_seed3_epochbest.pt\n",
      "/seismic/models/brendan/*.pth\n",
      "Loading:  /seismic/models/brendan/unet2d_caformer_seed3_epochbest.pt\n",
      "/seismic/models/brendan/*.pth\n",
      "Loading:  /seismic/models/brendan/unet2d_caformer_seed3_epochbest.pt\n",
      "/seismic/models/brendan/*.pth\n",
      "Loading:  /seismic/models/brendan/unet2d_caformer_seed3_epochbest.pt\n",
      "n_models: 1\n",
      "capturing graph\n",
      "capturing graph\n",
      "n_models: 1\n"
     ]
    },
    {
     "name": "stderr",
     "output_type": "stream",
     "text": [
      "Processing in parallel:   5%|▌         | 1/20 [00:31<10:05, 31.85s/it]"
     ]
    },
    {
     "name": "stdout",
     "output_type": "stream",
     "text": [
      "capturing graph\n",
      "capturing graph\n",
      "n_models: 1\n",
      "capturing graph\n",
      "capturing graph\n",
      "n_models: 1\n",
      "capturing graph\n",
      "n_models: 1\n",
      "capturing graph\n",
      "n_models: 1\n",
      "n_models: 1\n",
      "n_models: 1\n"
     ]
    },
    {
     "name": "stderr",
     "output_type": "stream",
     "text": [
      "Processing in parallel: 100%|██████████| 20/20 [01:06<00:00,  3.32s/it]\n"
     ]
    }
   ],
   "source": [
    "data = kgs.load_all_train_data(validation_only=True)[::25]\n",
    "model.models[0].batch_size = 1\n",
    "model.models[1].run_in_parallel = True\n",
    "data_out = model.infer(data)\n",
    "model.models[1].run_in_parallel = False"
   ]
  },
  {
   "cell_type": "code",
   "execution_count": 4,
   "id": "4996070a-01b8-4782-bd3d-5deeecaf0c8a",
   "metadata": {},
   "outputs": [
    {
     "name": "stderr",
     "output_type": "stream",
     "text": [
      "100%|██████████| 3/3 [00:00<00:00, 27.43it/s]\n",
      "100%|██████████| 3/3 [00:00<00:00, 30.41it/s]\n",
      "Inferring: 100%|██████████| 2/2 [00:00<00:00, 180.38it/s]\n",
      "100%|██████████| 3/3 [00:00<00:00, 30.47it/s]\n",
      "100%|██████████| 3/3 [00:00<00:00, 29.42it/s]\n",
      "Inferring: 100%|██████████| 2/2 [00:00<00:00, 482.85it/s]\n",
      "100%|██████████| 3/3 [00:00<00:00, 30.37it/s]\n",
      "100%|██████████| 3/3 [00:00<00:00, 30.36it/s]\n",
      "Inferring: 100%|██████████| 2/2 [00:00<00:00, 482.91it/s]\n",
      "100%|██████████| 3/3 [00:00<00:00, 30.09it/s]\n",
      "100%|██████████| 3/3 [00:00<00:00, 30.34it/s]\n",
      "Inferring: 100%|██████████| 2/2 [00:00<00:00, 475.65it/s]\n",
      "100%|██████████| 3/3 [00:00<00:00, 30.34it/s]\n",
      "100%|██████████| 3/3 [00:00<00:00, 30.36it/s]\n",
      "Inferring: 100%|██████████| 2/2 [00:00<00:00, 484.64it/s]\n",
      "100%|██████████| 3/3 [00:00<00:00, 29.42it/s]\n",
      "100%|██████████| 3/3 [00:00<00:00, 30.37it/s]\n",
      "Inferring: 100%|██████████| 2/2 [00:00<00:00, 464.67it/s]\n",
      "100%|██████████| 3/3 [00:00<00:00, 30.35it/s]\n",
      "100%|██████████| 3/3 [00:00<00:00, 28.30it/s]\n",
      "Inferring:   0%|          | 0/2 [00:00<?, ?it/s]"
     ]
    },
    {
     "name": "stdout",
     "output_type": "stream",
     "text": [
      "capturing graph\n",
      "capturing graph\n"
     ]
    },
    {
     "name": "stderr",
     "output_type": "stream",
     "text": [
      "Inferring: 100%|██████████| 2/2 [01:11<00:00, 35.66s/it]\n",
      "100%|██████████| 3/3 [00:00<00:00, 28.85it/s]\n",
      "100%|██████████| 3/3 [00:00<00:00, 30.19it/s]\n",
      "Inferring: 100%|██████████| 2/2 [00:39<00:00, 19.66s/it]\n",
      "100%|██████████| 3/3 [00:00<00:00, 28.88it/s]\n",
      "100%|██████████| 3/3 [00:00<00:00, 30.18it/s]\n",
      "Inferring: 100%|██████████| 2/2 [00:00<00:00, 463.48it/s]\n",
      "100%|██████████| 3/3 [00:00<00:00, 30.17it/s]\n",
      "100%|██████████| 3/3 [00:00<00:00, 30.16it/s]\n",
      "Inferring: 100%|██████████| 2/2 [00:00<00:00, 481.36it/s]"
     ]
    },
    {
     "name": "stdout",
     "output_type": "stream",
     "text": [
      "\n",
      "\n",
      "Brendan local score:  24.62020399568519\n",
      "My local score:  24.381877465072947\n",
      "Estimate public LB:  28.521212542234196\n"
     ]
    },
    {
     "name": "stderr",
     "output_type": "stream",
     "text": [
      "\n"
     ]
    },
    {
     "data": {
      "text/html": [
       "<div>\n",
       "<style scoped>\n",
       "    .dataframe tbody tr th:only-of-type {\n",
       "        vertical-align: middle;\n",
       "    }\n",
       "\n",
       "    .dataframe tbody tr th {\n",
       "        vertical-align: top;\n",
       "    }\n",
       "\n",
       "    .dataframe thead th {\n",
       "        text-align: right;\n",
       "    }\n",
       "</style>\n",
       "<table border=\"1\" class=\"dataframe\">\n",
       "  <thead>\n",
       "    <tr style=\"text-align: right;\">\n",
       "      <th></th>\n",
       "      <th>family</th>\n",
       "      <th>score_brendan</th>\n",
       "      <th>score_mine</th>\n",
       "      <th>score_mine_max</th>\n",
       "      <th>time_taken</th>\n",
       "    </tr>\n",
       "  </thead>\n",
       "  <tbody>\n",
       "    <tr>\n",
       "      <th>0</th>\n",
       "      <td>CurveFault_A</td>\n",
       "      <td>4.267983</td>\n",
       "      <td>4.267983</td>\n",
       "      <td>4.311425</td>\n",
       "      <td>0.002560</td>\n",
       "    </tr>\n",
       "    <tr>\n",
       "      <th>1</th>\n",
       "      <td>CurveFault_B</td>\n",
       "      <td>67.045000</td>\n",
       "      <td>67.045000</td>\n",
       "      <td>80.715306</td>\n",
       "      <td>0.002421</td>\n",
       "    </tr>\n",
       "    <tr>\n",
       "      <th>2</th>\n",
       "      <td>CurveVel_A</td>\n",
       "      <td>8.593265</td>\n",
       "      <td>8.593265</td>\n",
       "      <td>11.073265</td>\n",
       "      <td>0.002373</td>\n",
       "    </tr>\n",
       "    <tr>\n",
       "      <th>3</th>\n",
       "      <td>CurveVel_B</td>\n",
       "      <td>21.281122</td>\n",
       "      <td>21.281122</td>\n",
       "      <td>36.010816</td>\n",
       "      <td>0.002358</td>\n",
       "    </tr>\n",
       "    <tr>\n",
       "      <th>4</th>\n",
       "      <td>FlatFault_A</td>\n",
       "      <td>2.070574</td>\n",
       "      <td>2.070574</td>\n",
       "      <td>2.159416</td>\n",
       "      <td>0.002361</td>\n",
       "    </tr>\n",
       "    <tr>\n",
       "      <th>5</th>\n",
       "      <td>FlatFault_B</td>\n",
       "      <td>15.675408</td>\n",
       "      <td>15.675408</td>\n",
       "      <td>17.655510</td>\n",
       "      <td>0.002363</td>\n",
       "    </tr>\n",
       "    <tr>\n",
       "      <th>6</th>\n",
       "      <td>FlatVel_A</td>\n",
       "      <td>0.988163</td>\n",
       "      <td>0.007143</td>\n",
       "      <td>0.014286</td>\n",
       "      <td>0.596734</td>\n",
       "    </tr>\n",
       "    <tr>\n",
       "      <th>7</th>\n",
       "      <td>FlatVel_B</td>\n",
       "      <td>1.402245</td>\n",
       "      <td>0.000000</td>\n",
       "      <td>0.000000</td>\n",
       "      <td>0.330118</td>\n",
       "    </tr>\n",
       "    <tr>\n",
       "      <th>8</th>\n",
       "      <td>Style_A</td>\n",
       "      <td>60.971014</td>\n",
       "      <td>60.971014</td>\n",
       "      <td>92.180601</td>\n",
       "      <td>0.002418</td>\n",
       "    </tr>\n",
       "    <tr>\n",
       "      <th>9</th>\n",
       "      <td>Style_B</td>\n",
       "      <td>63.907265</td>\n",
       "      <td>63.907265</td>\n",
       "      <td>68.927527</td>\n",
       "      <td>0.002357</td>\n",
       "    </tr>\n",
       "  </tbody>\n",
       "</table>\n",
       "</div>"
      ],
      "text/plain": [
       "         family  score_brendan  score_mine  score_mine_max  time_taken\n",
       "0  CurveFault_A       4.267983    4.267983        4.311425    0.002560\n",
       "1  CurveFault_B      67.045000   67.045000       80.715306    0.002421\n",
       "2    CurveVel_A       8.593265    8.593265       11.073265    0.002373\n",
       "3    CurveVel_B      21.281122   21.281122       36.010816    0.002358\n",
       "4   FlatFault_A       2.070574    2.070574        2.159416    0.002361\n",
       "5   FlatFault_B      15.675408   15.675408       17.655510    0.002363\n",
       "6     FlatVel_A       0.988163    0.007143        0.014286    0.596734\n",
       "7     FlatVel_B       1.402245    0.000000        0.000000    0.330118\n",
       "8       Style_A      60.971014   60.971014       92.180601    0.002418\n",
       "9       Style_B      63.907265   63.907265       68.927527    0.002357"
      ]
     },
     "execution_count": 4,
     "metadata": {},
     "output_type": "execute_result"
    }
   ],
   "source": [
    "model.models[1].run_in_parallel = False\n",
    "families = list(set([d.family for d in data]))\n",
    "families.sort()\n",
    "res = dict()\n",
    "res['family'], res['score_brendan'], res['score_mine'], res['score_mine_max'], res['time_taken'] = [],[],[],[],[]\n",
    "for f in families:\n",
    "    res['family'].append(f)\n",
    "    this_data_out = []\n",
    "    for d in data_out:\n",
    "        if d.family==f:\n",
    "            this_data_out.append(d)\n",
    "    data_out_brendan = model.models[0].infer(this_data_out)\n",
    "    res['score_brendan'].append(kgs.score_metric(data_out_brendan,show_diagnostics=False)[0])\n",
    "    #data_out = model.infer(this_data[:1])\n",
    "    t=time.time()\n",
    "    model.infer(this_data_out[:2])\n",
    "    res['time_taken'].append((time.time()-t)/len(this_data_out[:2])/60)\n",
    "    score,_,res_all = kgs.score_metric(this_data_out,show_diagnostics=False)\n",
    "    res['score_mine'].append(score)\n",
    "    res['score_mine_max'].append(np.max(res_all))\n",
    "    #print(pd.DataFrame(res))\n",
    "df = pd.DataFrame(res)\n",
    "print('')\n",
    "print('')\n",
    "print('Brendan local score: ', np.mean(df['score_brendan']))\n",
    "print('My local score: ', np.mean(df['score_mine']))\n",
    "print('Estimate public LB: ', 28.8*np.mean(df['score_mine'])/np.mean(df['score_brendan']))\n",
    "df"
   ]
  },
  {
   "cell_type": "code",
   "execution_count": null,
   "id": "e2013b7b-4639-4d4d-ac34-2f18e6767195",
   "metadata": {},
   "outputs": [],
   "source": []
  }
 ],
 "metadata": {
  "kernelspec": {
   "display_name": "Python3 (ipykernel)",
   "language": "python",
   "name": "python3"
  },
  "language_info": {
   "codemirror_mode": {
    "name": "ipython",
    "version": 3
   },
   "file_extension": ".py",
   "mimetype": "text/x-python",
   "name": "python",
   "nbconvert_exporter": "python",
   "pygments_lexer": "ipython3",
   "version": "3.10.12"
  }
 },
 "nbformat": 4,
 "nbformat_minor": 5
}
