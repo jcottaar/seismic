{
 "cells": [
  {
   "cell_type": "code",
   "execution_count": 1,
   "id": "865d54d7-b239-49eb-be92-484d63c870d5",
   "metadata": {},
   "outputs": [
    {
     "name": "stdout",
     "output_type": "stream",
     "text": [
      "F:/seismic/models/brendan/*.pth\n",
      "Loading:  F:/seismic/models/brendan\\unet2d_caformer_seed3_epochbest.pt\n",
      "n_models: 1\n"
     ]
    }
   ],
   "source": [
    "import sys\n",
    "import subprocess\n",
    "sys.path.append('f:/seismic/code/core')\n",
    "sys.path.append('/seismic/code/core')\n",
    "sys.path.append('/kaggle/input/my-seismic-library/')\n",
    "import kaggle_support as kgs\n",
    "import importlib\n",
    "import seis_model\n",
    "import time\n",
    "import pandas as pd\n",
    "import numpy as np\n",
    "kgs.cache_dir_write = kgs.cache_dir_write+'/../cache_evaluate/'\n",
    "kgs.cache_dir_read = kgs.cache_dir_write"
   ]
  },
  {
   "cell_type": "code",
   "execution_count": 2,
   "id": "b16d7880-48b6-45ad-85f4-2c6f7e09fc35",
   "metadata": {},
   "outputs": [],
   "source": [
    "# Set up model\n",
    "importlib.reload(seis_model)\n",
    "model = seis_model.default_model()\n",
    "model.write_cache = False"
   ]
  },
  {
   "cell_type": "code",
   "execution_count": null,
   "id": "955a9e09-8b64-41b3-9fc4-7eaafd4cb222",
   "metadata": {},
   "outputs": [
    {
     "name": "stderr",
     "output_type": "stream",
     "text": [
      "Importing cache: 100%|██████████████████████████████████████████████████████████████| 20/20 [00:00<00:00, 10228.76it/s]\n",
      "100%|██████████████████████████████████████████████████████████████████████████████████| 19/19 [00:02<00:00,  8.82it/s]\n",
      "Importing cache: 100%|██████████████████████████████████████████████████████████████| 19/19 [00:00<00:00, 19005.91it/s]\n",
      "Importing cache: 100%|████████████████████████████████████████████████████████████████| 19/19 [00:00<00:00, 256.75it/s]\n",
      "Inferring: 100%|██████████████████████████████████████████████████████████████████████| 19/19 [00:00<00:00, 391.69it/s]\n"
     ]
    },
    {
     "name": "stdout",
     "output_type": "stream",
     "text": [
      "         family  score_brendan  score_mine  score_mine_max  time_taken\n",
      "0  CurveFault_A       3.510337    3.510337        6.826997    0.007419\n"
     ]
    },
    {
     "name": "stderr",
     "output_type": "stream",
     "text": [
      "Importing cache: 100%|██████████████████████████████████████████████████████████████| 20/20 [00:00<00:00, 19987.15it/s]\n",
      "100%|██████████████████████████████████████████████████████████████████████████████████| 19/19 [00:01<00:00, 10.75it/s]\n",
      "Importing cache: 100%|█████████████████████████████████████████████████████████████████████████| 19/19 [00:00<?, ?it/s]\n",
      "Importing cache: 100%|████████████████████████████████████████████████████████████████| 19/19 [00:00<00:00, 256.52it/s]\n",
      "Inferring: 100%|██████████████████████████████████████████████████████████████████████| 19/19 [00:00<00:00, 391.68it/s]\n"
     ]
    },
    {
     "name": "stdout",
     "output_type": "stream",
     "text": [
      "         family  score_brendan  score_mine  score_mine_max  time_taken\n",
      "0  CurveFault_A       3.510337    3.510337        6.826997    0.007419\n",
      "1  CurveFault_B      78.843337   78.843337      151.991837    0.007451\n"
     ]
    },
    {
     "name": "stderr",
     "output_type": "stream",
     "text": [
      "Importing cache: 100%|█████████████████████████████████████████████████████████████████████████| 20/20 [00:00<?, ?it/s]\n",
      "100%|██████████████████████████████████████████████████████████████████████████████████| 19/19 [00:01<00:00, 10.83it/s]\n",
      "Importing cache: 100%|█████████████████████████████████████████████████████████████████████████| 19/19 [00:00<?, ?it/s]\n",
      "Importing cache: 100%|████████████████████████████████████████████████████████████████| 19/19 [00:00<00:00, 251.62it/s]\n",
      "Inferring: 100%|██████████████████████████████████████████████████████████████████████| 19/19 [00:00<00:00, 383.78it/s]\n"
     ]
    },
    {
     "name": "stdout",
     "output_type": "stream",
     "text": [
      "         family  score_brendan  score_mine  score_mine_max  time_taken\n",
      "0  CurveFault_A       3.510337    3.510337        6.826997    0.007419\n",
      "1  CurveFault_B      78.843337   78.843337      151.991837    0.007451\n",
      "2    CurveVel_A       8.350388    8.350388       15.488571    0.007738\n"
     ]
    },
    {
     "name": "stderr",
     "output_type": "stream",
     "text": [
      "Importing cache: 100%|██████████████████████████████████████████████████████████████| 20/20 [00:00<00:00, 19996.68it/s]\n",
      "100%|██████████████████████████████████████████████████████████████████████████████████| 19/19 [00:01<00:00, 10.83it/s]\n",
      "Importing cache: 100%|█████████████████████████████████████████████████████████████████████████| 19/19 [00:00<?, ?it/s]\n",
      "Importing cache: 100%|████████████████████████████████████████████████████████████████| 19/19 [00:00<00:00, 192.88it/s]\n",
      "Inferring: 100%|██████████████████████████████████████████████████████████████████████| 19/19 [00:00<00:00, 333.34it/s]\n"
     ]
    },
    {
     "name": "stdout",
     "output_type": "stream",
     "text": [
      "         family  score_brendan  score_mine  score_mine_max  time_taken\n",
      "0  CurveFault_A       3.510337    3.510337        6.826997    0.007419\n",
      "1  CurveFault_B      78.843337   78.843337      151.991837    0.007451\n",
      "2    CurveVel_A       8.350388    8.350388       15.488571    0.007738\n",
      "3    CurveVel_B      41.801908   41.801908      174.948571    0.009317\n"
     ]
    },
    {
     "name": "stderr",
     "output_type": "stream",
     "text": [
      "Importing cache: 100%|██████████████████████████████████████████████████████████████| 20/20 [00:00<00:00, 19987.15it/s]\n",
      "100%|██████████████████████████████████████████████████████████████████████████████████| 19/19 [00:01<00:00, 10.92it/s]\n",
      "Importing cache: 100%|█████████████████████████████████████████████████████████████████████████| 19/19 [00:00<?, ?it/s]\n",
      "Importing cache: 100%|████████████████████████████████████████████████████████████████| 19/19 [00:00<00:00, 249.99it/s]\n",
      "Inferring: 100%|██████████████████████████████████████████████████████████████████████| 19/19 [00:00<00:00, 387.76it/s]\n"
     ]
    },
    {
     "name": "stdout",
     "output_type": "stream",
     "text": [
      "         family  score_brendan  score_mine  score_mine_max  time_taken\n",
      "0  CurveFault_A       3.510337    3.510337        6.826997    0.007419\n",
      "1  CurveFault_B      78.843337   78.843337      151.991837    0.007451\n",
      "2    CurveVel_A       8.350388    8.350388       15.488571    0.007738\n",
      "3    CurveVel_B      41.801908   41.801908      174.948571    0.009317\n",
      "4   FlatFault_A       2.969474    2.969474       20.227192    0.007760\n"
     ]
    },
    {
     "name": "stderr",
     "output_type": "stream",
     "text": [
      "Importing cache: 100%|██████████████████████████████████████████████████████████████| 20/20 [00:00<00:00, 19996.68it/s]\n",
      "100%|██████████████████████████████████████████████████████████████████████████████████| 19/19 [00:01<00:00, 10.80it/s]\n",
      "Importing cache: 100%|█████████████████████████████████████████████████████████████████████████| 19/19 [00:00<?, ?it/s]\n",
      "Importing cache: 100%|████████████████████████████████████████████████████████████████| 19/19 [00:00<00:00, 243.58it/s]\n",
      "Inferring: 100%|██████████████████████████████████████████████████████████████████████| 19/19 [00:00<00:00, 351.50it/s]\n"
     ]
    },
    {
     "name": "stdout",
     "output_type": "stream",
     "text": [
      "         family  score_brendan  score_mine  score_mine_max  time_taken\n",
      "0  CurveFault_A       3.510337    3.510337        6.826997    0.007419\n",
      "1  CurveFault_B      78.843337   78.843337      151.991837    0.007451\n",
      "2    CurveVel_A       8.350388    8.350388       15.488571    0.007738\n",
      "3    CurveVel_B      41.801908   41.801908      174.948571    0.009317\n",
      "4   FlatFault_A       2.969474    2.969474       20.227192    0.007760\n",
      "5   FlatFault_B      28.441020   28.441020      105.257551    0.008268\n"
     ]
    },
    {
     "name": "stderr",
     "output_type": "stream",
     "text": [
      "Importing cache: 100%|██████████████████████████████████████████████████████████████| 20/20 [00:00<00:00, 20001.45it/s]\n",
      "100%|██████████████████████████████████████████████████████████████████████████████████| 19/19 [00:01<00:00, 10.85it/s]\n",
      "Importing cache: 100%|███████████████████████████████████████████████████████████████| 19/19 [00:00<00:00, 2712.27it/s]\n",
      "Importing cache: 100%|████████████████████████████████████████████████████████████████| 18/18 [00:00<00:00, 213.01it/s]\n",
      "Inferring:   0%|                                                                                | 0/18 [00:00<?, ?it/s]"
     ]
    },
    {
     "name": "stdout",
     "output_type": "stream",
     "text": [
      "capturing graph\n",
      "capturing graph\n"
     ]
    },
    {
     "name": "stderr",
     "output_type": "stream",
     "text": [
      "Inferring:   6%|████                                                                    | 1/18 [00:18<05:17, 18.66s/it]"
     ]
    }
   ],
   "source": [
    "data = kgs.load_all_train_data(validation_only=True)[::25]\n",
    "model.models[0].batch_size = 1\n",
    "families = list(set([d.family for d in data]))\n",
    "families.sort()\n",
    "res = dict()\n",
    "res['family'], res['score_brendan'], res['score_mine'], res['score_mine_max'], res['time_taken'] = [],[],[],[],[]\n",
    "for f in families:\n",
    "    res['family'].append(f)\n",
    "    this_data = []\n",
    "    for d in data:\n",
    "        if d.family==f:\n",
    "            this_data.append(d)\n",
    "    data_out_brendan = model.models[0].infer(this_data)\n",
    "    res['score_brendan'].append(kgs.score_metric(data_out_brendan,show_diagnostics=False)[0])\n",
    "    data_out = model.infer(this_data[:1])\n",
    "    t=time.time()\n",
    "    data_out = data_out+model.infer(this_data[1:])\n",
    "    res['time_taken'].append((time.time()-t)/len(this_data[1:]))\n",
    "    score,_,res_all = kgs.score_metric(data_out,show_diagnostics=False)\n",
    "    res['score_mine'].append(score)\n",
    "    res['score_mine_max'].append(np.max(res_all))\n",
    "    print(pd.DataFrame(res))\n",
    "df = pd.DataFrame(res)\n",
    "print('Brendan local score: ', np.mean(df['score_brendan']))\n",
    "print('My local score: ', np.mean(df['score_mine']))\n",
    "print('Estimate public LB: ', 28.8*np.mean(df['score_mine'])/np.mean(df['score_brendan']))\n",
    "df"
   ]
  },
  {
   "cell_type": "code",
   "execution_count": null,
   "id": "7c35b2fc-593f-46a4-b4ad-2767545f05bd",
   "metadata": {},
   "outputs": [],
   "source": []
  }
 ],
 "metadata": {
  "kernelspec": {
   "display_name": "Python 3 (ipykernel)",
   "language": "python",
   "name": "python3"
  },
  "language_info": {
   "codemirror_mode": {
    "name": "ipython",
    "version": 3
   },
   "file_extension": ".py",
   "mimetype": "text/x-python",
   "name": "python",
   "nbconvert_exporter": "python",
   "pygments_lexer": "ipython3",
   "version": "3.10.14"
  }
 },
 "nbformat": 4,
 "nbformat_minor": 5
}
