{
 "cells": [
  {
   "cell_type": "code",
   "execution_count": 1,
   "id": "865d54d7-b239-49eb-be92-484d63c870d5",
   "metadata": {},
   "outputs": [
    {
     "name": "stdout",
     "output_type": "stream",
     "text": [
      "F:/seismic/models/brendan/*.pth\n",
      "Loading:  F:/seismic/models/brendan\\unet2d_caformer_seed3_epochbest.pt\n",
      "n_models: 1\n"
     ]
    }
   ],
   "source": [
    "import sys\n",
    "import subprocess\n",
    "sys.path.append('f:/seismic/code/core')\n",
    "sys.path.append('/seismic/code/core')\n",
    "sys.path.append('/kaggle/input/my-seismic-library/')\n",
    "import kaggle_support as kgs\n",
    "kgs.preallocate_matrices=False\n",
    "import importlib\n",
    "import seis_model\n",
    "import time\n",
    "import pandas as pd\n",
    "import numpy as np\n",
    "#kgs.cache_dir_write = kgs.cache_dir_write+'/../cache_evaluate/'\n",
    "#kgs.cache_dir_read = kgs.cache_dir_write"
   ]
  },
  {
   "cell_type": "code",
   "execution_count": 2,
   "id": "b16d7880-48b6-45ad-85f4-2c6f7e09fc35",
   "metadata": {},
   "outputs": [],
   "source": [
    "# Set up model\n",
    "importlib.reload(seis_model)\n",
    "model = seis_model.default_model()\n",
    "model.models[1].model_FlatVel = seis_model.DummyModel()\n",
    "model.models[1].model_FlatVel.state=1\n",
    "model.models[1].model_Style_A = seis_model.DummyModel()\n",
    "model.models[1].model_Style_A.state=1\n",
    "model.models[1].model_TV2D = seis_model.DummyModel()\n",
    "model.models[1].model_TV2D.state=1\n",
    "model.read_cache = False"
   ]
  },
  {
   "cell_type": "code",
   "execution_count": 3,
   "id": "a1d6e126-494b-4429-a887-480ca94bc1a0",
   "metadata": {},
   "outputs": [
    {
     "name": "stderr",
     "output_type": "stream",
     "text": [
      "Importing cache brendan: 100%|██████████████████████████████████████████████████████| 200/200 [00:00<00:00, 273.56it/s]\n",
      "Processing in parallel : 100%|███████████████████████████████████████████████████████| 200/200 [00:41<00:00,  4.86it/s]\n"
     ]
    },
    {
     "name": "stdout",
     "output_type": "stream",
     "text": [
      "CPU times: total: 2.7 s\n",
      "Wall time: 46.1 s\n"
     ]
    }
   ],
   "source": [
    "%%time\n",
    "data = kgs.load_all_train_data(validation_only=True)[::25]\n",
    "model.models[1].run_in_parallel = True\n",
    "data_out = model.infer(data)"
   ]
  },
  {
   "cell_type": "code",
   "execution_count": 4,
   "id": "831375a6-79c2-49a7-bd8e-5dada7c28fc9",
   "metadata": {},
   "outputs": [],
   "source": [
    "dfTimings = pd.read_csv(kgs.timing_filename)\n",
    "dfTimings = dfTimings.groupby('family')['time_taken'].mean().to_frame('time_taken')"
   ]
  },
  {
   "cell_type": "code",
   "execution_count": 5,
   "id": "14b3e28c-483f-43be-9086-466c3cc67c1a",
   "metadata": {},
   "outputs": [
    {
     "name": "stderr",
     "output_type": "stream",
     "text": [
      "Importing cache brendan: 100%|██████████████████████████████████████████████████████| 20/20 [00:00<00:00, 20001.45it/s]\n",
      "Importing cache brendan: 100%|███████████████████████████████████████████████████████| 20/20 [00:00<00:00, 9965.08it/s]\n",
      "Importing cache brendan: 100%|███████████████████████████████████████████████████████| 20/20 [00:00<00:00, 9993.58it/s]\n",
      "Importing cache brendan: 100%|██████████████████████████████████████████████████████| 20/20 [00:00<00:00, 19953.87it/s]\n",
      "Importing cache brendan: 100%|██████████████████████████████████████████████████████| 20/20 [00:00<00:00, 19558.42it/s]\n",
      "Importing cache brendan: 100%|███████████████████████████████████████████████████████| 20/20 [00:00<00:00, 4991.14it/s]\n",
      "Importing cache brendan: 100%|███████████████████████████████████████████████████████| 20/20 [00:00<00:00, 9968.64it/s]\n",
      "Importing cache brendan: 100%|███████████████████████████████████████████████████████| 20/20 [00:00<00:00, 9991.20it/s]\n",
      "Importing cache brendan: 100%|███████████████████████████████████████████████████████| 20/20 [00:00<00:00, 9990.01it/s]\n",
      "Importing cache brendan: 100%|███████████████████████████████████████████████████████| 20/20 [00:00<00:00, 9948.54it/s]"
     ]
    },
    {
     "name": "stdout",
     "output_type": "stream",
     "text": [
      "\n",
      "\n",
      "Brendan local score:  25.6438103677555\n",
      "My local score:  26.192869116958303\n",
      "Estimate public LB:  29.41663581777706\n"
     ]
    },
    {
     "name": "stderr",
     "output_type": "stream",
     "text": [
      "\n"
     ]
    },
    {
     "data": {
      "text/html": [
       "<div>\n",
       "<style scoped>\n",
       "    .dataframe tbody tr th:only-of-type {\n",
       "        vertical-align: middle;\n",
       "    }\n",
       "\n",
       "    .dataframe tbody tr th {\n",
       "        vertical-align: top;\n",
       "    }\n",
       "\n",
       "    .dataframe thead th {\n",
       "        text-align: right;\n",
       "    }\n",
       "</style>\n",
       "<table border=\"1\" class=\"dataframe\">\n",
       "  <thead>\n",
       "    <tr style=\"text-align: right;\">\n",
       "      <th></th>\n",
       "      <th>family</th>\n",
       "      <th>score_brendan</th>\n",
       "      <th>score_mine</th>\n",
       "      <th>score_mine_max</th>\n",
       "      <th>time_taken</th>\n",
       "    </tr>\n",
       "  </thead>\n",
       "  <tbody>\n",
       "    <tr>\n",
       "      <th>0</th>\n",
       "      <td>CurveFault_A</td>\n",
       "      <td>3.507875</td>\n",
       "      <td>3.507875</td>\n",
       "      <td>6.833073</td>\n",
       "      <td>0.750085</td>\n",
       "    </tr>\n",
       "    <tr>\n",
       "      <th>1</th>\n",
       "      <td>CurveFault_B</td>\n",
       "      <td>78.828673</td>\n",
       "      <td>78.828673</td>\n",
       "      <td>151.928980</td>\n",
       "      <td>0.212596</td>\n",
       "    </tr>\n",
       "    <tr>\n",
       "      <th>2</th>\n",
       "      <td>CurveVel_A</td>\n",
       "      <td>8.347847</td>\n",
       "      <td>8.347847</td>\n",
       "      <td>15.502449</td>\n",
       "      <td>0.176444</td>\n",
       "    </tr>\n",
       "    <tr>\n",
       "      <th>3</th>\n",
       "      <td>CurveVel_B</td>\n",
       "      <td>41.790949</td>\n",
       "      <td>41.790949</td>\n",
       "      <td>174.873469</td>\n",
       "      <td>0.205876</td>\n",
       "    </tr>\n",
       "    <tr>\n",
       "      <th>4</th>\n",
       "      <td>FlatFault_A</td>\n",
       "      <td>2.964055</td>\n",
       "      <td>2.964055</td>\n",
       "      <td>20.262268</td>\n",
       "      <td>0.216852</td>\n",
       "    </tr>\n",
       "    <tr>\n",
       "      <th>5</th>\n",
       "      <td>FlatFault_B</td>\n",
       "      <td>28.442969</td>\n",
       "      <td>28.442969</td>\n",
       "      <td>105.244286</td>\n",
       "      <td>0.195994</td>\n",
       "    </tr>\n",
       "    <tr>\n",
       "      <th>6</th>\n",
       "      <td>FlatVel_A</td>\n",
       "      <td>1.069388</td>\n",
       "      <td>1.069388</td>\n",
       "      <td>2.304898</td>\n",
       "      <td>0.008951</td>\n",
       "    </tr>\n",
       "    <tr>\n",
       "      <th>7</th>\n",
       "      <td>FlatVel_B</td>\n",
       "      <td>8.323959</td>\n",
       "      <td>8.323959</td>\n",
       "      <td>56.527755</td>\n",
       "      <td>0.009185</td>\n",
       "    </tr>\n",
       "    <tr>\n",
       "      <th>8</th>\n",
       "      <td>Style_A</td>\n",
       "      <td>33.722460</td>\n",
       "      <td>33.722460</td>\n",
       "      <td>92.180529</td>\n",
       "      <td>0.029228</td>\n",
       "    </tr>\n",
       "    <tr>\n",
       "      <th>9</th>\n",
       "      <td>Style_B</td>\n",
       "      <td>49.439928</td>\n",
       "      <td>54.930515</td>\n",
       "      <td>86.619562</td>\n",
       "      <td>0.036548</td>\n",
       "    </tr>\n",
       "  </tbody>\n",
       "</table>\n",
       "</div>"
      ],
      "text/plain": [
       "         family  score_brendan  score_mine  score_mine_max  time_taken\n",
       "0  CurveFault_A       3.507875    3.507875        6.833073    0.750085\n",
       "1  CurveFault_B      78.828673   78.828673      151.928980    0.212596\n",
       "2    CurveVel_A       8.347847    8.347847       15.502449    0.176444\n",
       "3    CurveVel_B      41.790949   41.790949      174.873469    0.205876\n",
       "4   FlatFault_A       2.964055    2.964055       20.262268    0.216852\n",
       "5   FlatFault_B      28.442969   28.442969      105.244286    0.195994\n",
       "6     FlatVel_A       1.069388    1.069388        2.304898    0.008951\n",
       "7     FlatVel_B       8.323959    8.323959       56.527755    0.009185\n",
       "8       Style_A      33.722460   33.722460       92.180529    0.029228\n",
       "9       Style_B      49.439928   54.930515       86.619562    0.036548"
      ]
     },
     "execution_count": 5,
     "metadata": {},
     "output_type": "execute_result"
    }
   ],
   "source": [
    "#kgs.disable_caching = True\n",
    "families = list(set([d.family for d in data]))\n",
    "families.sort()\n",
    "res = dict()\n",
    "res['family'], res['score_brendan'], res['score_mine'], res['score_mine_max'], res['time_taken'] = [],[],[],[],[]\n",
    "for f in families:\n",
    "    res['family'].append(f)\n",
    "    this_data_out = []\n",
    "    for d in data_out:\n",
    "        if d.family==f:\n",
    "            this_data_out.append(d)\n",
    "    data_out_brendan = model.models[0].infer(this_data_out)\n",
    "    res['score_brendan'].append(kgs.score_metric(data_out_brendan,show_diagnostics=False)[0])\n",
    "    #data_out = model.infer(this_data[:1])\n",
    "    t=time.time()\n",
    "    try:\n",
    "        res['time_taken'].append(dfTimings.loc[f].to_numpy()[0])\n",
    "    except:\n",
    "        res['time_taken'].append(0)\n",
    "    score,_,res_all = kgs.score_metric(this_data_out,show_diagnostics=False)\n",
    "    res['score_mine'].append(score)\n",
    "    res['score_mine_max'].append(np.max(res_all))\n",
    "    #print(pd.DataFrame(res))\n",
    "df = pd.DataFrame(res)\n",
    "print('')\n",
    "print('')\n",
    "print('Brendan local score: ', np.mean(df['score_brendan']))\n",
    "print('My local score: ', np.mean(df['score_mine']))\n",
    "print('Estimate public LB: ', 28.8*np.mean(df['score_mine'])/np.mean(df['score_brendan']))\n",
    "df"
   ]
  },
  {
   "cell_type": "code",
   "execution_count": 6,
   "id": "e2013b7b-4639-4d4d-ac34-2f18e6767195",
   "metadata": {},
   "outputs": [],
   "source": [
    "# No extra model: 28.8\n",
    "# FlatVel:\n",
    "# StyleA: "
   ]
  },
  {
   "cell_type": "code",
   "execution_count": null,
   "id": "db361615-b80f-4527-bca2-48a6bcc8a969",
   "metadata": {},
   "outputs": [],
   "source": []
  },
  {
   "cell_type": "code",
   "execution_count": 7,
   "id": "3dc8b219-3ec5-4700-86db-8f09214b86d3",
   "metadata": {},
   "outputs": [
    {
     "data": {
      "text/plain": [
       "25.57"
      ]
     },
     "execution_count": 7,
     "metadata": {},
     "output_type": "execute_result"
    }
   ],
   "source": [
    "28-30*0.081"
   ]
  },
  {
   "cell_type": "code",
   "execution_count": null,
   "id": "72d6e291-4f42-4fad-a54a-ebb7f615d464",
   "metadata": {},
   "outputs": [],
   "source": []
  }
 ],
 "metadata": {
  "kernelspec": {
   "display_name": "Python 3 (ipykernel)",
   "language": "python",
   "name": "python3"
  },
  "language_info": {
   "codemirror_mode": {
    "name": "ipython",
    "version": 3
   },
   "file_extension": ".py",
   "mimetype": "text/x-python",
   "name": "python",
   "nbconvert_exporter": "python",
   "pygments_lexer": "ipython3",
   "version": "3.10.14"
  }
 },
 "nbformat": 4,
 "nbformat_minor": 5
}
