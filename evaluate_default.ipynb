{
 "cells": [
  {
   "cell_type": "code",
   "execution_count": 1,
   "id": "865d54d7-b239-49eb-be92-484d63c870d5",
   "metadata": {},
   "outputs": [
    {
     "name": "stdout",
     "output_type": "stream",
     "text": [
      "/seismic/models/brendan/*.pth\n",
      "Loading:  /seismic/models/brendan/unet2d_caformer_seed3_epochbest.pt\n",
      "n_models: 1\n"
     ]
    }
   ],
   "source": [
    "import sys\n",
    "import subprocess\n",
    "sys.path.append('f:/seismic/code/core')\n",
    "sys.path.append('/seismic/code/core')\n",
    "sys.path.append('/kaggle/input/my-seismic-library/')\n",
    "import kaggle_support as kgs\n",
    "import importlib\n",
    "import seis_model\n",
    "import time\n",
    "import pandas as pd\n",
    "import numpy as np\n",
    "kgs.cache_dir_write = kgs.cache_dir_write+'/../cache_evaluate/'\n",
    "kgs.cache_dir_read = kgs.cache_dir_write"
   ]
  },
  {
   "cell_type": "code",
   "execution_count": 2,
   "id": "b16d7880-48b6-45ad-85f4-2c6f7e09fc35",
   "metadata": {},
   "outputs": [
    {
     "name": "stdout",
     "output_type": "stream",
     "text": [
      "too low\n",
      "only doing style A in test mode\n",
      "styleB not active yet\n",
      "False False\n",
      "(4901, 4901)\n"
     ]
    }
   ],
   "source": [
    "# Set up model\n",
    "importlib.reload(seis_model)\n",
    "model = seis_model.default_model()\n",
    "kgs.disable_caching = True"
   ]
  },
  {
   "cell_type": "code",
   "execution_count": 3,
   "id": "a1d6e126-494b-4429-a887-480ca94bc1a0",
   "metadata": {},
   "outputs": [
    {
     "name": "stderr",
     "output_type": "stream",
     "text": [
      "100%|██████████| 21/21 [00:01<00:00, 15.13it/s]\n"
     ]
    },
    {
     "name": "stdout",
     "output_type": "stream",
     "text": [
      "Clearing pytorch\n"
     ]
    },
    {
     "name": "stderr",
     "output_type": "stream",
     "text": [
      "Processing in parallel:   0%|          | 0/20 [00:00<?, ?it/s]"
     ]
    },
    {
     "name": "stdout",
     "output_type": "stream",
     "text": [
      "CUDA_VISIBLE_DEVICES= 5\n",
      "CUDA_VISIBLE_DEVICES= 3\n",
      "CUDA_VISIBLE_DEVICES= 6\n",
      "CUDA_VISIBLE_DEVICES= 1\n",
      "CUDA_VISIBLE_DEVICES= 0\n",
      "CUDA_VISIBLE_DEVICES= 4\n",
      "CUDA_VISIBLE_DEVICES= 2\n",
      "CUDA_VISIBLE_DEVICES= 7\n",
      "/seismic/models/brendan/*.pth\n",
      "Loading:  /seismic/models/brendan/unet2d_caformer_seed3_epochbest.pt\n",
      "/seismic/models/brendan/*.pth\n",
      "Loading:  /seismic/models/brendan/unet2d_caformer_seed3_epochbest.pt\n",
      "/seismic/models/brendan/*.pth\n",
      "Loading:  /seismic/models/brendan/unet2d_caformer_seed3_epochbest.pt\n",
      "/seismic/models/brendan/*.pth\n",
      "Loading:  /seismic/models/brendan/unet2d_caformer_seed3_epochbest.pt\n",
      "/seismic/models/brendan/*.pth\n",
      "Loading:  /seismic/models/brendan/unet2d_caformer_seed3_epochbest.pt\n",
      "/seismic/models/brendan/*.pth\n",
      "Loading:  /seismic/models/brendan/unet2d_caformer_seed3_epochbest.pt\n",
      "/seismic/models/brendan/*.pth\n",
      "Loading:  /seismic/models/brendan/unet2d_caformer_seed3_epochbest.pt\n",
      "/seismic/models/brendan/*.pth\n",
      "Loading:  /seismic/models/brendan/unet2d_caformer_seed3_epochbest.pt\n",
      "n_models: 1\n",
      "capturing graph\n",
      "capturing graph\n",
      "n_models: 1\n"
     ]
    },
    {
     "name": "stderr",
     "output_type": "stream",
     "text": [
      "Processing in parallel:   5%|▌         | 1/20 [00:31<10:05, 31.85s/it]"
     ]
    },
    {
     "name": "stdout",
     "output_type": "stream",
     "text": [
      "capturing graph\n",
      "capturing graph\n",
      "n_models: 1\n",
      "capturing graph\n",
      "capturing graph\n",
      "n_models: 1\n",
      "capturing graph\n",
      "n_models: 1\n",
      "capturing graph\n",
      "n_models: 1\n",
      "n_models: 1\n",
      "n_models: 1\n"
     ]
    },
    {
     "name": "stderr",
     "output_type": "stream",
     "text": [
      "Processing in parallel: 100%|██████████| 20/20 [01:06<00:00,  3.32s/it]\n"
     ]
    }
   ],
   "source": [
    "data = kgs.load_all_train_data(validation_only=True)[::25]\n",
    "model.models[0].batch_size = 1\n",
    "model.models[1].run_in_parallel = True\n",
    "data_out = model.infer(data)\n",
    "model.models[1].run_in_parallel = False"
   ]
  },
  {
   "cell_type": "code",
   "execution_count": 1,
   "id": "4996070a-01b8-4782-bd3d-5deeecaf0c8a",
   "metadata": {},
   "outputs": [
    {
     "ename": "NameError",
     "evalue": "name 'model' is not defined",
     "output_type": "error",
     "traceback": [
      "\u001b[1;31m---------------------------------------------------------------------------\u001b[0m",
      "\u001b[1;31mNameError\u001b[0m                                 Traceback (most recent call last)",
      "Cell \u001b[1;32mIn[1], line 1\u001b[0m\n\u001b[1;32m----> 1\u001b[0m \u001b[43mmodel\u001b[49m\u001b[38;5;241m.\u001b[39mmodels[\u001b[38;5;241m1\u001b[39m]\u001b[38;5;241m.\u001b[39mrun_in_parallel \u001b[38;5;241m=\u001b[39m \u001b[38;5;28;01mFalse\u001b[39;00m\n\u001b[0;32m      2\u001b[0m families \u001b[38;5;241m=\u001b[39m \u001b[38;5;28mlist\u001b[39m(\u001b[38;5;28mset\u001b[39m([d\u001b[38;5;241m.\u001b[39mfamily \u001b[38;5;28;01mfor\u001b[39;00m d \u001b[38;5;129;01min\u001b[39;00m data]))\n\u001b[0;32m      3\u001b[0m families\u001b[38;5;241m.\u001b[39msort()\n",
      "\u001b[1;31mNameError\u001b[0m: name 'model' is not defined"
     ]
    }
   ],
   "source": [
    "model.models[1].run_in_parallel = False\n",
    "families = list(set([d.family for d in data]))\n",
    "families.sort()\n",
    "res = dict()\n",
    "res['family'], res['score_brendan'], res['score_mine'], res['score_mine_max'], res['time_taken'] = [],[],[],[],[]\n",
    "for f in families:\n",
    "    res['family'].append(f)\n",
    "    this_data_out = []\n",
    "    for d in data_out:\n",
    "        if d.family==f:\n",
    "            this_data_out.append(d)\n",
    "    data_out_brendan = model.models[0].infer(this_data_out)\n",
    "    res['score_brendan'].append(kgs.score_metric(data_out_brendan,show_diagnostics=False)[0])\n",
    "    #data_out = model.infer(this_data[:1])\n",
    "    t=time.time()\n",
    "    #model.infer(this_data_out[:2])\n",
    "    res['time_taken'].append((time.time()-t)/len(this_data_out[:2])/60)\n",
    "    score,_,res_all = kgs.score_metric(this_data_out,show_diagnostics=False)\n",
    "    res['score_mine'].append(score)\n",
    "    res['score_mine_max'].append(np.max(res_all))\n",
    "    print(d.family, res_all)\n",
    "    #print(pd.DataFrame(res))\n",
    "df = pd.DataFrame(res)\n",
    "print('')\n",
    "print('')\n",
    "print('Brendan local score: ', np.mean(df['score_brendan']))\n",
    "print('My local score: ', np.mean(df['score_mine']))\n",
    "print('Estimate public LB: ', 28.8*np.mean(df['score_mine'])/np.mean(df['score_brendan']))\n",
    "df"
   ]
  },
  {
   "cell_type": "code",
   "execution_count": null,
   "id": "e2013b7b-4639-4d4d-ac34-2f18e6767195",
   "metadata": {},
   "outputs": [],
   "source": []
  }
 ],
 "metadata": {
  "kernelspec": {
   "display_name": "Python 3 (ipykernel)",
   "language": "python",
   "name": "python3"
  },
  "language_info": {
   "codemirror_mode": {
    "name": "ipython",
    "version": 3
   },
   "file_extension": ".py",
   "mimetype": "text/x-python",
   "name": "python",
   "nbconvert_exporter": "python",
   "pygments_lexer": "ipython3",
   "version": "3.10.14"
  }
 },
 "nbformat": 4,
 "nbformat_minor": 5
}
