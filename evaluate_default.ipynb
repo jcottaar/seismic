{
 "cells": [
  {
   "cell_type": "code",
   "execution_count": 1,
   "id": "865d54d7-b239-49eb-be92-484d63c870d5",
   "metadata": {},
   "outputs": [
    {
     "name": "stdout",
     "output_type": "stream",
     "text": [
      "F:/seismic/models/brendan/*.pth\n",
      "Loading:  F:/seismic/models/brendan\\unet2d_caformer_seed3_epochbest.pt\n",
      "n_models: 1\n"
     ]
    }
   ],
   "source": [
    "import sys\n",
    "import subprocess\n",
    "sys.path.append('f:/seismic/code/core')\n",
    "sys.path.append('/seismic/code/core')\n",
    "sys.path.append('/kaggle/input/my-seismic-library/')\n",
    "import kaggle_support as kgs\n",
    "kgs.preallocate_matrices=False\n",
    "import importlib\n",
    "import seis_model\n",
    "import time\n",
    "import pandas as pd\n",
    "import numpy as np\n",
    "#kgs.cache_dir_write = kgs.cache_dir_write+'/../cache_evaluate/'\n",
    "#kgs.cache_dir_read = kgs.cache_dir_write"
   ]
  },
  {
   "cell_type": "code",
   "execution_count": 2,
   "id": "b16d7880-48b6-45ad-85f4-2c6f7e09fc35",
   "metadata": {},
   "outputs": [],
   "source": [
    "# Set up model\n",
    "importlib.reload(seis_model)\n",
    "model = seis_model.default_model()\n",
    "# model.models[1].model_FlatVel = seis_model.DummyModel()\n",
    "# model.models[1].model_FlatVel.state=1\n",
    "# model.models[1].model_Style_A = seis_model.DummyModel()\n",
    "# model.models[1].model_Style_A.state=1\n",
    "# model.models[1].model_TV2D = seis_model.DummyModel()\n",
    "# model.models[1].model_TV2D.state=1\n",
    "model.read_cache = False"
   ]
  },
  {
   "cell_type": "code",
   "execution_count": 3,
   "id": "a1d6e126-494b-4429-a887-480ca94bc1a0",
   "metadata": {},
   "outputs": [
    {
     "name": "stderr",
     "output_type": "stream",
     "text": [
      "Importing cache brendan: 100%|███████████████████████████████████████████████████████| 10/10 [00:00<00:00, 1000.22it/s]\n",
      "Processing in parallel : 100%|█████████████████████████████████████████████████████████| 10/10 [00:13<00:00,  1.38s/it]\n"
     ]
    },
    {
     "name": "stdout",
     "output_type": "stream",
     "text": [
      "CPU times: total: 2.05 s\n",
      "Wall time: 20.2 s\n"
     ]
    }
   ],
   "source": [
    "%%time\n",
    "data = kgs.load_all_train_data(validation_only=True)[::500]\n",
    "model.models[1].run_in_parallel = True\n",
    "model.models[1].model_Style_A.models = model.models[1].model_Style_A.models[0:1]\n",
    "data_out = model.infer(data)"
   ]
  },
  {
   "cell_type": "code",
   "execution_count": 4,
   "id": "831375a6-79c2-49a7-bd8e-5dada7c28fc9",
   "metadata": {},
   "outputs": [],
   "source": [
    "dfTimings = pd.read_csv(kgs.timing_filename)\n",
    "dfTimings = dfTimings.groupby('family')['time_taken'].mean().to_frame('time_taken')"
   ]
  },
  {
   "cell_type": "code",
   "execution_count": 5,
   "id": "14b3e28c-483f-43be-9086-466c3cc67c1a",
   "metadata": {},
   "outputs": [
    {
     "name": "stdout",
     "output_type": "stream",
     "text": [
      "\n",
      "\n",
      "Brendan local score:  21.10849830098055\n",
      "My local score:  7.931421027981505\n",
      "Estimate public LB:  10.82146737057351\n"
     ]
    },
    {
     "data": {
      "text/html": [
       "<div>\n",
       "<style scoped>\n",
       "    .dataframe tbody tr th:only-of-type {\n",
       "        vertical-align: middle;\n",
       "    }\n",
       "\n",
       "    .dataframe tbody tr th {\n",
       "        vertical-align: top;\n",
       "    }\n",
       "\n",
       "    .dataframe thead th {\n",
       "        text-align: right;\n",
       "    }\n",
       "</style>\n",
       "<table border=\"1\" class=\"dataframe\">\n",
       "  <thead>\n",
       "    <tr style=\"text-align: right;\">\n",
       "      <th></th>\n",
       "      <th>family</th>\n",
       "      <th>score_brendan</th>\n",
       "      <th>score_mine</th>\n",
       "      <th>score_mine_max</th>\n",
       "      <th>time_taken</th>\n",
       "    </tr>\n",
       "  </thead>\n",
       "  <tbody>\n",
       "    <tr>\n",
       "      <th>0</th>\n",
       "      <td>CurveFault_A</td>\n",
       "      <td>4.223399</td>\n",
       "      <td>4.223399</td>\n",
       "      <td>4.223399</td>\n",
       "      <td>0.428802</td>\n",
       "    </tr>\n",
       "    <tr>\n",
       "      <th>1</th>\n",
       "      <td>CurveFault_B</td>\n",
       "      <td>53.323469</td>\n",
       "      <td>12.834694</td>\n",
       "      <td>12.834694</td>\n",
       "      <td>0.626699</td>\n",
       "    </tr>\n",
       "    <tr>\n",
       "      <th>2</th>\n",
       "      <td>CurveVel_A</td>\n",
       "      <td>11.058163</td>\n",
       "      <td>2.745102</td>\n",
       "      <td>2.745102</td>\n",
       "      <td>0.302696</td>\n",
       "    </tr>\n",
       "    <tr>\n",
       "      <th>3</th>\n",
       "      <td>CurveVel_B</td>\n",
       "      <td>35.980816</td>\n",
       "      <td>11.154490</td>\n",
       "      <td>11.154490</td>\n",
       "      <td>0.378848</td>\n",
       "    </tr>\n",
       "    <tr>\n",
       "      <th>4</th>\n",
       "      <td>FlatFault_A</td>\n",
       "      <td>2.156559</td>\n",
       "      <td>2.156559</td>\n",
       "      <td>2.156559</td>\n",
       "      <td>0.171584</td>\n",
       "    </tr>\n",
       "    <tr>\n",
       "      <th>5</th>\n",
       "      <td>FlatFault_B</td>\n",
       "      <td>13.678367</td>\n",
       "      <td>5.901020</td>\n",
       "      <td>5.901020</td>\n",
       "      <td>0.353245</td>\n",
       "    </tr>\n",
       "    <tr>\n",
       "      <th>6</th>\n",
       "      <td>FlatVel_A</td>\n",
       "      <td>1.304286</td>\n",
       "      <td>0.014286</td>\n",
       "      <td>0.014286</td>\n",
       "      <td>0.281469</td>\n",
       "    </tr>\n",
       "    <tr>\n",
       "      <th>7</th>\n",
       "      <td>FlatVel_B</td>\n",
       "      <td>0.697347</td>\n",
       "      <td>0.000000</td>\n",
       "      <td>0.000000</td>\n",
       "      <td>0.143508</td>\n",
       "    </tr>\n",
       "    <tr>\n",
       "      <th>8</th>\n",
       "      <td>Style_A</td>\n",
       "      <td>29.772975</td>\n",
       "      <td>3.052164</td>\n",
       "      <td>3.052164</td>\n",
       "      <td>0.159782</td>\n",
       "    </tr>\n",
       "    <tr>\n",
       "      <th>9</th>\n",
       "      <td>Style_B</td>\n",
       "      <td>58.889601</td>\n",
       "      <td>37.232496</td>\n",
       "      <td>37.232496</td>\n",
       "      <td>0.152753</td>\n",
       "    </tr>\n",
       "  </tbody>\n",
       "</table>\n",
       "</div>"
      ],
      "text/plain": [
       "         family  score_brendan  score_mine  score_mine_max  time_taken\n",
       "0  CurveFault_A       4.223399    4.223399        4.223399    0.428802\n",
       "1  CurveFault_B      53.323469   12.834694       12.834694    0.626699\n",
       "2    CurveVel_A      11.058163    2.745102        2.745102    0.302696\n",
       "3    CurveVel_B      35.980816   11.154490       11.154490    0.378848\n",
       "4   FlatFault_A       2.156559    2.156559        2.156559    0.171584\n",
       "5   FlatFault_B      13.678367    5.901020        5.901020    0.353245\n",
       "6     FlatVel_A       1.304286    0.014286        0.014286    0.281469\n",
       "7     FlatVel_B       0.697347    0.000000        0.000000    0.143508\n",
       "8       Style_A      29.772975    3.052164        3.052164    0.159782\n",
       "9       Style_B      58.889601   37.232496       37.232496    0.152753"
      ]
     },
     "execution_count": 5,
     "metadata": {},
     "output_type": "execute_result"
    }
   ],
   "source": [
    "#kgs.disable_caching = True\n",
    "families = list(set([d.family for d in data]))\n",
    "families.sort()\n",
    "res = dict()\n",
    "res['family'], res['score_brendan'], res['score_mine'], res['score_mine_max'], res['time_taken'] = [],[],[],[],[]\n",
    "for f in families:\n",
    "    res['family'].append(f)\n",
    "    this_data_out = []\n",
    "    for d in data_out:\n",
    "        if d.family==f:\n",
    "            this_data_out.append(d)\n",
    "    data_out_brendan = model.models[0].infer(this_data_out)\n",
    "    res['score_brendan'].append(kgs.score_metric(data_out_brendan,show_diagnostics=False)[0])\n",
    "    #data_out = model.infer(this_data[:1])\n",
    "    t=time.time()\n",
    "    try:\n",
    "        res['time_taken'].append(dfTimings.loc[f].to_numpy()[0])\n",
    "    except:\n",
    "        res['time_taken'].append(0)\n",
    "    score,_,res_all = kgs.score_metric(this_data_out,show_diagnostics=False)\n",
    "    res['score_mine'].append(score)\n",
    "    res['score_mine_max'].append(np.max(res_all))\n",
    "    #print(pd.DataFrame(res))\n",
    "df = pd.DataFrame(res)\n",
    "print('')\n",
    "print('')\n",
    "print('Brendan local score: ', np.mean(df['score_brendan']))\n",
    "print('My local score: ', np.mean(df['score_mine']))\n",
    "print('Estimate public LB: ', 28.8*np.mean(df['score_mine'])/np.mean(df['score_brendan']))\n",
    "df"
   ]
  },
  {
   "cell_type": "code",
   "execution_count": 6,
   "id": "e2013b7b-4639-4d4d-ac34-2f18e6767195",
   "metadata": {},
   "outputs": [],
   "source": [
    "# No extra model: 28.8\n",
    "# FlatVel:\n",
    "# StyleA: "
   ]
  },
  {
   "cell_type": "code",
   "execution_count": null,
   "id": "db361615-b80f-4527-bca2-48a6bcc8a969",
   "metadata": {},
   "outputs": [],
   "source": []
  },
  {
   "cell_type": "code",
   "execution_count": 7,
   "id": "3dc8b219-3ec5-4700-86db-8f09214b86d3",
   "metadata": {},
   "outputs": [
    {
     "data": {
      "text/plain": [
       "25.57"
      ]
     },
     "execution_count": 7,
     "metadata": {},
     "output_type": "execute_result"
    }
   ],
   "source": [
    "28-30*0.081"
   ]
  },
  {
   "cell_type": "code",
   "execution_count": 8,
   "id": "72d6e291-4f42-4fad-a54a-ebb7f615d464",
   "metadata": {},
   "outputs": [
    {
     "data": {
      "text/plain": [
       "219.375"
      ]
     },
     "execution_count": 8,
     "metadata": {},
     "output_type": "execute_result"
    }
   ],
   "source": [
    "65000*0.09*0.15/4"
   ]
  },
  {
   "cell_type": "code",
   "execution_count": 9,
   "id": "ba112b63-fcbc-4213-8350-2643d46fd974",
   "metadata": {},
   "outputs": [
    {
     "data": {
      "text/plain": [
       "8"
      ]
     },
     "execution_count": 9,
     "metadata": {},
     "output_type": "execute_result"
    }
   ],
   "source": [
    "8"
   ]
  }
 ],
 "metadata": {
  "kernelspec": {
   "display_name": "Python 3 (ipykernel)",
   "language": "python",
   "name": "python3"
  },
  "language_info": {
   "codemirror_mode": {
    "name": "ipython",
    "version": 3
   },
   "file_extension": ".py",
   "mimetype": "text/x-python",
   "name": "python",
   "nbconvert_exporter": "python",
   "pygments_lexer": "ipython3",
   "version": "3.10.14"
  }
 },
 "nbformat": 4,
 "nbformat_minor": 5
}
