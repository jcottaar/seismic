{
 "cells": [
  {
   "cell_type": "code",
   "execution_count": 1,
   "id": "865d54d7-b239-49eb-be92-484d63c870d5",
   "metadata": {},
   "outputs": [
    {
     "name": "stdout",
     "output_type": "stream",
     "text": [
      "/seismic/models/brendan/*.pth\n",
      "Loading:  /seismic/models/brendan/unet2d_caformer_seed3_epochbest.pt\n",
      "n_models: 1\n"
     ]
    }
   ],
   "source": [
    "import sys\n",
    "import subprocess\n",
    "sys.path.append('f:/seismic/code/core')\n",
    "sys.path.append('/seismic/code/core')\n",
    "sys.path.append('/kaggle/input/my-seismic-library/')\n",
    "import kaggle_support as kgs\n",
    "import importlib\n",
    "import seis_model\n",
    "import time\n",
    "import pandas as pd\n",
    "import numpy as np\n",
    "kgs.cache_dir_write = kgs.cache_dir_write+'/../cache_evaluate/'\n",
    "kgs.cache_dir_read = kgs.cache_dir_write"
   ]
  },
  {
   "cell_type": "code",
   "execution_count": 2,
   "id": "b16d7880-48b6-45ad-85f4-2c6f7e09fc35",
   "metadata": {},
   "outputs": [
    {
     "name": "stdout",
     "output_type": "stream",
     "text": [
      "styleB not active yet\n",
      "False False\n",
      "(4901, 4901)\n"
     ]
    }
   ],
   "source": [
    "# Set up model\n",
    "importlib.reload(seis_model)\n",
    "model = seis_model.default_model()\n",
    "kgs.disable_caching = True"
   ]
  },
  {
   "cell_type": "code",
   "execution_count": 3,
   "id": "a1d6e126-494b-4429-a887-480ca94bc1a0",
   "metadata": {},
   "outputs": [
    {
     "name": "stderr",
     "output_type": "stream",
     "text": [
      "100%|██████████| 201/201 [00:20<00:00,  9.89it/s]\n"
     ]
    },
    {
     "name": "stdout",
     "output_type": "stream",
     "text": [
      "Clearing pytorch\n"
     ]
    },
    {
     "name": "stderr",
     "output_type": "stream",
     "text": [
      "Processing in parallel:   0%|          | 0/200 [00:00<?, ?it/s]"
     ]
    },
    {
     "name": "stdout",
     "output_type": "stream",
     "text": [
      "CUDA_VISIBLE_DEVICES= 0\n",
      "/seismic/models/brendan/*.pth\n",
      "Loading:  /seismic/models/brendan/unet2d_caformer_seed3_epochbest.pt\n",
      "n_models: 1\n"
     ]
    },
    {
     "name": "stderr",
     "output_type": "stream",
     "text": [
      "Processing in parallel:  52%|█████▏    | 104/200 [01:02<00:21,  4.53it/s]"
     ]
    },
    {
     "name": "stdout",
     "output_type": "stream",
     "text": [
      "capturing graph\n",
      "capturing graph\n"
     ]
    },
    {
     "name": "stderr",
     "output_type": "stream",
     "text": [
      "Processing in parallel:  80%|████████  | 160/200 [23:40<32:39, 48.99s/it]"
     ]
    },
    {
     "name": "stdout",
     "output_type": "stream",
     "text": [
      "False True\n",
      "(4901, 1073)\n"
     ]
    },
    {
     "name": "stderr",
     "output_type": "stream",
     "text": [
      "Processing in parallel:  80%|████████  | 161/200 [28:04<1:13:44, 113.44s/it]"
     ]
    },
    {
     "name": "stdout",
     "output_type": "stream",
     "text": [
      "True True\n",
      "(4901, 1073)\n"
     ]
    },
    {
     "name": "stderr",
     "output_type": "stream",
     "text": [
      "Processing in parallel:  81%|████████  | 162/200 [32:11<1:37:18, 153.66s/it]"
     ]
    },
    {
     "name": "stdout",
     "output_type": "stream",
     "text": [
      "True True\n",
      "(4901, 1073)\n"
     ]
    },
    {
     "name": "stderr",
     "output_type": "stream",
     "text": [
      "Processing in parallel:  82%|████████▏ | 163/200 [36:18<1:51:57, 181.56s/it]"
     ]
    },
    {
     "name": "stdout",
     "output_type": "stream",
     "text": [
      "True True\n",
      "(4901, 1073)\n"
     ]
    },
    {
     "name": "stderr",
     "output_type": "stream",
     "text": [
      "Processing in parallel:  82%|████████▏ | 164/200 [40:19<1:59:37, 199.39s/it]"
     ]
    },
    {
     "name": "stdout",
     "output_type": "stream",
     "text": [
      "True True\n",
      "(4901, 1073)\n"
     ]
    },
    {
     "name": "stderr",
     "output_type": "stream",
     "text": [
      "Processing in parallel:  82%|████████▎ | 165/200 [44:22<2:03:51, 212.34s/it]"
     ]
    },
    {
     "name": "stdout",
     "output_type": "stream",
     "text": [
      "True True\n",
      "(4901, 1073)\n"
     ]
    },
    {
     "name": "stderr",
     "output_type": "stream",
     "text": [
      "Processing in parallel:  83%|████████▎ | 166/200 [48:42<2:08:28, 226.72s/it]"
     ]
    },
    {
     "name": "stdout",
     "output_type": "stream",
     "text": [
      "True True\n",
      "(4901, 1073)\n"
     ]
    },
    {
     "name": "stderr",
     "output_type": "stream",
     "text": [
      "Processing in parallel:  84%|████████▎ | 167/200 [52:43<2:07:01, 230.94s/it]"
     ]
    },
    {
     "name": "stdout",
     "output_type": "stream",
     "text": [
      "True True\n",
      "(4901, 1073)\n"
     ]
    },
    {
     "name": "stderr",
     "output_type": "stream",
     "text": [
      "Processing in parallel:  84%|████████▍ | 168/200 [56:45<2:05:01, 234.41s/it]"
     ]
    },
    {
     "name": "stdout",
     "output_type": "stream",
     "text": [
      "True True\n",
      "(4901, 1073)\n"
     ]
    },
    {
     "name": "stderr",
     "output_type": "stream",
     "text": [
      "Processing in parallel:  84%|████████▍ | 169/200 [1:00:46<2:02:07, 236.36s/it]"
     ]
    },
    {
     "name": "stdout",
     "output_type": "stream",
     "text": [
      "True True\n",
      "(4901, 1073)\n"
     ]
    },
    {
     "name": "stderr",
     "output_type": "stream",
     "text": [
      "Processing in parallel:  85%|████████▌ | 170/200 [1:04:48<1:59:01, 238.05s/it]"
     ]
    },
    {
     "name": "stdout",
     "output_type": "stream",
     "text": [
      "True True\n",
      "(4901, 1073)\n"
     ]
    },
    {
     "name": "stderr",
     "output_type": "stream",
     "text": [
      "Processing in parallel:  86%|████████▌ | 171/200 [1:08:49<1:55:26, 238.85s/it]"
     ]
    },
    {
     "name": "stdout",
     "output_type": "stream",
     "text": [
      "True True\n",
      "(4901, 1073)\n"
     ]
    },
    {
     "name": "stderr",
     "output_type": "stream",
     "text": [
      "Processing in parallel:  86%|████████▌ | 172/200 [1:12:50<1:51:43, 239.42s/it]"
     ]
    },
    {
     "name": "stdout",
     "output_type": "stream",
     "text": [
      "True True\n",
      "(4901, 1073)\n"
     ]
    },
    {
     "name": "stderr",
     "output_type": "stream",
     "text": [
      "Processing in parallel:  86%|████████▋ | 173/200 [1:16:51<1:47:58, 239.94s/it]"
     ]
    },
    {
     "name": "stdout",
     "output_type": "stream",
     "text": [
      "True True\n",
      "(4901, 1073)\n"
     ]
    },
    {
     "name": "stderr",
     "output_type": "stream",
     "text": [
      "Processing in parallel:  87%|████████▋ | 174/200 [1:20:51<1:43:56, 239.88s/it]"
     ]
    },
    {
     "name": "stdout",
     "output_type": "stream",
     "text": [
      "True True\n",
      "(4901, 1073)\n"
     ]
    },
    {
     "name": "stderr",
     "output_type": "stream",
     "text": [
      "Processing in parallel:  88%|████████▊ | 175/200 [1:25:05<1:41:46, 244.28s/it]"
     ]
    },
    {
     "name": "stdout",
     "output_type": "stream",
     "text": [
      "True True\n",
      "(4901, 1073)\n"
     ]
    },
    {
     "name": "stderr",
     "output_type": "stream",
     "text": [
      "Processing in parallel:  88%|████████▊ | 176/200 [1:29:28<1:39:55, 249.83s/it]"
     ]
    },
    {
     "name": "stdout",
     "output_type": "stream",
     "text": [
      "True True\n",
      "(4901, 1073)\n"
     ]
    },
    {
     "name": "stderr",
     "output_type": "stream",
     "text": [
      "Processing in parallel:  88%|████████▊ | 177/200 [1:33:29<1:34:46, 247.23s/it]"
     ]
    },
    {
     "name": "stdout",
     "output_type": "stream",
     "text": [
      "True True\n",
      "(4901, 1073)\n"
     ]
    },
    {
     "name": "stderr",
     "output_type": "stream",
     "text": [
      "Processing in parallel:  89%|████████▉ | 178/200 [1:37:30<1:30:00, 245.47s/it]"
     ]
    },
    {
     "name": "stdout",
     "output_type": "stream",
     "text": [
      "True True\n",
      "(4901, 1073)\n"
     ]
    },
    {
     "name": "stderr",
     "output_type": "stream",
     "text": [
      "Processing in parallel:  90%|████████▉ | 179/200 [1:41:42<1:26:35, 247.41s/it]"
     ]
    },
    {
     "name": "stdout",
     "output_type": "stream",
     "text": [
      "True True\n",
      "(4901, 1073)\n"
     ]
    },
    {
     "name": "stderr",
     "output_type": "stream",
     "text": [
      "Processing in parallel: 100%|██████████| 200/200 [1:45:48<00:00, 31.74s/it]   \n"
     ]
    }
   ],
   "source": [
    "data = kgs.load_all_train_data(validation_only=True)[::25]\n",
    "model.models[0].batch_size = 1\n",
    "model.models[1].run_in_parallel = True\n",
    "data_out = model.infer(data)\n",
    "model.models[1].run_in_parallel = False"
   ]
  },
  {
   "cell_type": "code",
   "execution_count": 4,
   "id": "4996070a-01b8-4782-bd3d-5deeecaf0c8a",
   "metadata": {},
   "outputs": [
    {
     "name": "stderr",
     "output_type": "stream",
     "text": [
      "100%|██████████| 21/21 [00:01<00:00, 10.81it/s]\n",
      "100%|██████████| 3/3 [00:00<00:00, 16.92it/s]\n",
      "Inferring: 100%|██████████| 2/2 [00:00<00:00, 120.69it/s]\n",
      "100%|██████████| 21/21 [00:01<00:00, 12.02it/s]\n",
      "100%|██████████| 3/3 [00:00<00:00, 16.96it/s]\n",
      "Inferring: 100%|██████████| 2/2 [00:00<00:00, 313.31it/s]\n",
      "100%|██████████| 21/21 [00:01<00:00, 12.11it/s]\n",
      "100%|██████████| 3/3 [00:00<00:00, 16.99it/s]\n",
      "Inferring: 100%|██████████| 2/2 [00:00<00:00, 289.05it/s]\n",
      "100%|██████████| 21/21 [00:01<00:00, 12.08it/s]\n",
      "100%|██████████| 3/3 [00:00<00:00, 17.02it/s]\n",
      "Inferring: 100%|██████████| 2/2 [00:00<00:00, 296.48it/s]\n",
      "100%|██████████| 21/21 [00:01<00:00, 12.12it/s]\n",
      "100%|██████████| 3/3 [00:00<00:00, 16.95it/s]\n",
      "Inferring: 100%|██████████| 2/2 [00:00<00:00, 285.62it/s]\n",
      "100%|██████████| 21/21 [00:01<00:00, 12.04it/s]\n",
      "100%|██████████| 3/3 [00:00<00:00, 16.73it/s]\n",
      "Inferring: 100%|██████████| 2/2 [00:00<00:00, 279.70it/s]\n",
      "100%|██████████| 21/21 [00:01<00:00, 11.96it/s]\n",
      "100%|██████████| 3/3 [00:00<00:00, 17.04it/s]\n",
      "Inferring:   0%|          | 0/2 [00:00<?, ?it/s]"
     ]
    },
    {
     "name": "stdout",
     "output_type": "stream",
     "text": [
      "capturing graph\n",
      "capturing graph\n"
     ]
    },
    {
     "name": "stderr",
     "output_type": "stream",
     "text": [
      "Inferring: 100%|██████████| 2/2 [01:10<00:00, 35.40s/it]\n",
      "100%|██████████| 21/21 [00:01<00:00, 12.00it/s]\n",
      "100%|██████████| 3/3 [00:00<00:00, 16.91it/s]\n",
      "Inferring: 100%|██████████| 2/2 [00:54<00:00, 27.12s/it]\n",
      "100%|██████████| 21/21 [00:01<00:00, 12.11it/s]\n",
      "100%|██████████| 3/3 [00:00<00:00, 17.03it/s]\n",
      "Inferring:   0%|          | 0/2 [00:00<?, ?it/s]"
     ]
    },
    {
     "name": "stdout",
     "output_type": "stream",
     "text": [
      "False True\n",
      "(4901, 1073)\n"
     ]
    },
    {
     "name": "stderr",
     "output_type": "stream",
     "text": [
      "Inferring:  50%|█████     | 1/2 [04:07<04:07, 247.37s/it]"
     ]
    },
    {
     "name": "stdout",
     "output_type": "stream",
     "text": [
      "True True\n",
      "(4901, 1073)\n"
     ]
    },
    {
     "name": "stderr",
     "output_type": "stream",
     "text": [
      "Inferring: 100%|██████████| 2/2 [08:09<00:00, 244.90s/it]\n",
      "100%|██████████| 21/21 [00:01<00:00, 11.82it/s]\n",
      "100%|██████████| 3/3 [00:00<00:00, 16.08it/s]\n",
      "Inferring: 100%|██████████| 2/2 [00:00<00:00, 266.75it/s]\n"
     ]
    },
    {
     "name": "stdout",
     "output_type": "stream",
     "text": [
      "\n",
      "\n",
      "Brendan local score:  25.645244915397797\n",
      "My local score:  21.792457149583463\n",
      "Estimate public LB:  24.473260753737996\n"
     ]
    },
    {
     "data": {
      "text/html": [
       "<div>\n",
       "<style scoped>\n",
       "    .dataframe tbody tr th:only-of-type {\n",
       "        vertical-align: middle;\n",
       "    }\n",
       "\n",
       "    .dataframe tbody tr th {\n",
       "        vertical-align: top;\n",
       "    }\n",
       "\n",
       "    .dataframe thead th {\n",
       "        text-align: right;\n",
       "    }\n",
       "</style>\n",
       "<table border=\"1\" class=\"dataframe\">\n",
       "  <thead>\n",
       "    <tr style=\"text-align: right;\">\n",
       "      <th></th>\n",
       "      <th>family</th>\n",
       "      <th>score_brendan</th>\n",
       "      <th>score_mine</th>\n",
       "      <th>score_mine_max</th>\n",
       "      <th>time_taken</th>\n",
       "    </tr>\n",
       "  </thead>\n",
       "  <tbody>\n",
       "    <tr>\n",
       "      <th>0</th>\n",
       "      <td>CurveFault_A</td>\n",
       "      <td>3.511432</td>\n",
       "      <td>3.511432</td>\n",
       "      <td>6.849573</td>\n",
       "      <td>0.004398</td>\n",
       "    </tr>\n",
       "    <tr>\n",
       "      <th>1</th>\n",
       "      <td>CurveFault_B</td>\n",
       "      <td>78.825357</td>\n",
       "      <td>78.825357</td>\n",
       "      <td>151.932449</td>\n",
       "      <td>0.004152</td>\n",
       "    </tr>\n",
       "    <tr>\n",
       "      <th>2</th>\n",
       "      <td>CurveVel_A</td>\n",
       "      <td>8.347980</td>\n",
       "      <td>8.347980</td>\n",
       "      <td>15.490612</td>\n",
       "      <td>0.004118</td>\n",
       "    </tr>\n",
       "    <tr>\n",
       "      <th>3</th>\n",
       "      <td>CurveVel_B</td>\n",
       "      <td>41.784173</td>\n",
       "      <td>41.784173</td>\n",
       "      <td>174.840204</td>\n",
       "      <td>0.004164</td>\n",
       "    </tr>\n",
       "    <tr>\n",
       "      <th>4</th>\n",
       "      <td>FlatFault_A</td>\n",
       "      <td>2.973499</td>\n",
       "      <td>2.973499</td>\n",
       "      <td>20.279864</td>\n",
       "      <td>0.004116</td>\n",
       "    </tr>\n",
       "    <tr>\n",
       "      <th>5</th>\n",
       "      <td>FlatFault_B</td>\n",
       "      <td>28.445296</td>\n",
       "      <td>28.445296</td>\n",
       "      <td>105.278163</td>\n",
       "      <td>0.004157</td>\n",
       "    </tr>\n",
       "    <tr>\n",
       "      <th>6</th>\n",
       "      <td>FlatVel_A</td>\n",
       "      <td>1.072704</td>\n",
       "      <td>0.038571</td>\n",
       "      <td>0.228571</td>\n",
       "      <td>0.594192</td>\n",
       "    </tr>\n",
       "    <tr>\n",
       "      <th>7</th>\n",
       "      <td>FlatVel_B</td>\n",
       "      <td>8.323500</td>\n",
       "      <td>0.022143</td>\n",
       "      <td>0.200000</td>\n",
       "      <td>0.456133</td>\n",
       "    </tr>\n",
       "    <tr>\n",
       "      <th>8</th>\n",
       "      <td>Style_A</td>\n",
       "      <td>33.723517</td>\n",
       "      <td>4.531130</td>\n",
       "      <td>11.191457</td>\n",
       "      <td>4.086111</td>\n",
       "    </tr>\n",
       "    <tr>\n",
       "      <th>9</th>\n",
       "      <td>Style_B</td>\n",
       "      <td>49.444991</td>\n",
       "      <td>49.444991</td>\n",
       "      <td>68.927527</td>\n",
       "      <td>0.004454</td>\n",
       "    </tr>\n",
       "  </tbody>\n",
       "</table>\n",
       "</div>"
      ],
      "text/plain": [
       "         family  score_brendan  score_mine  score_mine_max  time_taken\n",
       "0  CurveFault_A       3.511432    3.511432        6.849573    0.004398\n",
       "1  CurveFault_B      78.825357   78.825357      151.932449    0.004152\n",
       "2    CurveVel_A       8.347980    8.347980       15.490612    0.004118\n",
       "3    CurveVel_B      41.784173   41.784173      174.840204    0.004164\n",
       "4   FlatFault_A       2.973499    2.973499       20.279864    0.004116\n",
       "5   FlatFault_B      28.445296   28.445296      105.278163    0.004157\n",
       "6     FlatVel_A       1.072704    0.038571        0.228571    0.594192\n",
       "7     FlatVel_B       8.323500    0.022143        0.200000    0.456133\n",
       "8       Style_A      33.723517    4.531130       11.191457    4.086111\n",
       "9       Style_B      49.444991   49.444991       68.927527    0.004454"
      ]
     },
     "execution_count": 4,
     "metadata": {},
     "output_type": "execute_result"
    }
   ],
   "source": [
    "model.models[1].run_in_parallel = False\n",
    "families = list(set([d.family for d in data]))\n",
    "families.sort()\n",
    "res = dict()\n",
    "res['family'], res['score_brendan'], res['score_mine'], res['score_mine_max'], res['time_taken'] = [],[],[],[],[]\n",
    "for f in families:\n",
    "    res['family'].append(f)\n",
    "    this_data_out = []\n",
    "    for d in data_out:\n",
    "        if d.family==f:\n",
    "            this_data_out.append(d)\n",
    "    data_out_brendan = model.models[0].infer(this_data_out)\n",
    "    res['score_brendan'].append(kgs.score_metric(data_out_brendan,show_diagnostics=False)[0])\n",
    "    #data_out = model.infer(this_data[:1])\n",
    "    t=time.time()\n",
    "    model.infer(this_data_out[:2])\n",
    "    res['time_taken'].append((time.time()-t)/len(this_data_out[:2])/60)\n",
    "    score,_,res_all = kgs.score_metric(this_data_out,show_diagnostics=False)\n",
    "    res['score_mine'].append(score)\n",
    "    res['score_mine_max'].append(np.max(res_all))\n",
    "    #print(pd.DataFrame(res))\n",
    "df = pd.DataFrame(res)\n",
    "print('')\n",
    "print('')\n",
    "print('Brendan local score: ', np.mean(df['score_brendan']))\n",
    "print('My local score: ', np.mean(df['score_mine']))\n",
    "print('Estimate public LB: ', 28.8*np.mean(df['score_mine'])/np.mean(df['score_brendan']))\n",
    "df"
   ]
  },
  {
   "cell_type": "code",
   "execution_count": 11,
   "id": "e2013b7b-4639-4d4d-ac34-2f18e6767195",
   "metadata": {},
   "outputs": [
    {
     "data": {
      "text/plain": [
       "4333.333333333333"
      ]
     },
     "execution_count": 11,
     "metadata": {},
     "output_type": "execute_result"
    }
   ],
   "source": [
    "65000*4/60"
   ]
  },
  {
   "cell_type": "code",
   "execution_count": 9,
   "id": "ad4e6f81-0813-4341-aa53-d215799b8a44",
   "metadata": {},
   "outputs": [
    {
     "data": {
      "text/plain": [
       "433.3333333333333"
      ]
     },
     "execution_count": 9,
     "metadata": {},
     "output_type": "execute_result"
    }
   ],
   "source": [
    "65000*4/60*0.1"
   ]
  },
  {
   "cell_type": "code",
   "execution_count": null,
   "id": "db361615-b80f-4527-bca2-48a6bcc8a969",
   "metadata": {},
   "outputs": [],
   "source": []
  }
 ],
 "metadata": {
  "kernelspec": {
   "display_name": "Python3 (ipykernel)",
   "language": "python",
   "name": "python3"
  },
  "language_info": {
   "codemirror_mode": {
    "name": "ipython",
    "version": 3
   },
   "file_extension": ".py",
   "mimetype": "text/x-python",
   "name": "python",
   "nbconvert_exporter": "python",
   "pygments_lexer": "ipython3",
   "version": "3.10.12"
  }
 },
 "nbformat": 4,
 "nbformat_minor": 5
}
