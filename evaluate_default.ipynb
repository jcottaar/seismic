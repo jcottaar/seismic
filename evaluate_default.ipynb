{
 "cells": [
  {
   "cell_type": "code",
   "execution_count": 1,
   "id": "865d54d7-b239-49eb-be92-484d63c870d5",
   "metadata": {},
   "outputs": [
    {
     "name": "stdout",
     "output_type": "stream",
     "text": [
      "F:/seismic/models/brendan/*.pth\n",
      "Loading:  F:/seismic/models/brendan\\unet2d_caformer_seed3_epochbest.pt\n",
      "n_models: 1\n"
     ]
    }
   ],
   "source": [
    "import sys\n",
    "import subprocess\n",
    "sys.path.append('f:/seismic/code/core')\n",
    "sys.path.append('/seismic/code/core')\n",
    "sys.path.append('/kaggle/input/my-seismic-library/')\n",
    "import kaggle_support as kgs\n",
    "kgs.preallocate_matrices=False\n",
    "import importlib\n",
    "import seis_model\n",
    "import time\n",
    "import pandas as pd\n",
    "import numpy as np\n",
    "#kgs.cache_dir_write = kgs.cache_dir_write+'/../cache_evaluate/'\n",
    "#kgs.cache_dir_read = kgs.cache_dir_write"
   ]
  },
  {
   "cell_type": "code",
   "execution_count": 2,
   "id": "b16d7880-48b6-45ad-85f4-2c6f7e09fc35",
   "metadata": {},
   "outputs": [
    {
     "name": "stdout",
     "output_type": "stream",
     "text": [
      "styleB not active yet\n"
     ]
    }
   ],
   "source": [
    "# Set up model\n",
    "importlib.reload(seis_model)\n",
    "model = seis_model.default_model()\n",
    "model.read_cache = False"
   ]
  },
  {
   "cell_type": "code",
   "execution_count": 3,
   "id": "a1d6e126-494b-4429-a887-480ca94bc1a0",
   "metadata": {},
   "outputs": [
    {
     "name": "stderr",
     "output_type": "stream",
     "text": [
      "Importing cache brendan: 100%|█████████████████████████████████████████████████████| 500/500 [00:00<00:00, 5526.88it/s]\n",
      "Processing in parallel : 100%|███████████████████████████████████████████████████████| 500/500 [00:34<00:00, 14.59it/s]\n"
     ]
    },
    {
     "name": "stdout",
     "output_type": "stream",
     "text": [
      "CPU times: total: 2.88 s\n",
      "Wall time: 39.4 s\n"
     ]
    }
   ],
   "source": [
    "%%time\n",
    "data = kgs.load_all_train_data(validation_only=True)[::10]\n",
    "model.models[1].run_in_parallel = True\n",
    "data_out = model.infer(data)"
   ]
  },
  {
   "cell_type": "code",
   "execution_count": 24,
   "id": "831375a6-79c2-49a7-bd8e-5dada7c28fc9",
   "metadata": {},
   "outputs": [],
   "source": [
    "dfTimings = pd.read_csv(kgs.timing_filename)\n",
    "dfTimings = dfTimings.groupby('family')['time_taken'].mean().to_frame('time_taken')\n",
    "#dfTimings.loc['FlatFault_B'].to_numpy()[0]"
   ]
  },
  {
   "cell_type": "code",
   "execution_count": 25,
   "id": "14b3e28c-483f-43be-9086-466c3cc67c1a",
   "metadata": {},
   "outputs": [
    {
     "name": "stderr",
     "output_type": "stream",
     "text": [
      "Importing cache brendan: 100%|███████████████████████████████████████████████████████| 50/50 [00:00<00:00, 7142.89it/s]\n",
      "Importing cache brendan: 100%|███████████████████████████████████████████████████████| 50/50 [00:00<00:00, 6249.52it/s]\n",
      "Importing cache brendan: 100%|███████████████████████████████████████████████████████| 50/50 [00:00<00:00, 7129.77it/s]\n",
      "Importing cache brendan: 100%|███████████████████████████████████████████████████████| 50/50 [00:00<00:00, 6250.45it/s]\n",
      "Importing cache brendan: 100%|███████████████████████████████████████████████████████| 50/50 [00:00<00:00, 5555.52it/s]\n",
      "Importing cache brendan: 100%|███████████████████████████████████████████████████████| 50/50 [00:00<00:00, 2941.02it/s]\n",
      "Importing cache brendan: 100%|███████████████████████████████████████████████████████| 50/50 [00:00<00:00, 3333.42it/s]\n",
      "Importing cache brendan: 100%|███████████████████████████████████████████████████████| 50/50 [00:00<00:00, 5555.52it/s]\n",
      "Importing cache brendan: 100%|███████████████████████████████████████████████████████| 50/50 [00:00<00:00, 4166.31it/s]\n",
      "Importing cache brendan: 100%|███████████████████████████████████████████████████████| 50/50 [00:00<00:00, 4166.72it/s]"
     ]
    },
    {
     "name": "stdout",
     "output_type": "stream",
     "text": [
      "\n",
      "\n",
      "Brendan local score:  23.5210680861368\n",
      "My local score:  19.351145971779335\n",
      "Estimate public LB:  23.694204784676526\n"
     ]
    },
    {
     "name": "stderr",
     "output_type": "stream",
     "text": [
      "\n"
     ]
    },
    {
     "data": {
      "text/html": [
       "<div>\n",
       "<style scoped>\n",
       "    .dataframe tbody tr th:only-of-type {\n",
       "        vertical-align: middle;\n",
       "    }\n",
       "\n",
       "    .dataframe tbody tr th {\n",
       "        vertical-align: top;\n",
       "    }\n",
       "\n",
       "    .dataframe thead th {\n",
       "        text-align: right;\n",
       "    }\n",
       "</style>\n",
       "<table border=\"1\" class=\"dataframe\">\n",
       "  <thead>\n",
       "    <tr style=\"text-align: right;\">\n",
       "      <th></th>\n",
       "      <th>family</th>\n",
       "      <th>score_brendan</th>\n",
       "      <th>score_mine</th>\n",
       "      <th>score_mine_max</th>\n",
       "      <th>time_taken</th>\n",
       "    </tr>\n",
       "  </thead>\n",
       "  <tbody>\n",
       "    <tr>\n",
       "      <th>0</th>\n",
       "      <td>CurveFault_A</td>\n",
       "      <td>3.931313</td>\n",
       "      <td>3.931313</td>\n",
       "      <td>18.090105</td>\n",
       "      <td>0.166579</td>\n",
       "    </tr>\n",
       "    <tr>\n",
       "      <th>1</th>\n",
       "      <td>CurveFault_B</td>\n",
       "      <td>67.427065</td>\n",
       "      <td>67.427065</td>\n",
       "      <td>143.542449</td>\n",
       "      <td>0.008927</td>\n",
       "    </tr>\n",
       "    <tr>\n",
       "      <th>2</th>\n",
       "      <td>CurveVel_A</td>\n",
       "      <td>8.550278</td>\n",
       "      <td>8.550278</td>\n",
       "      <td>21.201429</td>\n",
       "      <td>0.008863</td>\n",
       "    </tr>\n",
       "    <tr>\n",
       "      <th>3</th>\n",
       "      <td>CurveVel_B</td>\n",
       "      <td>34.534996</td>\n",
       "      <td>34.534996</td>\n",
       "      <td>174.873469</td>\n",
       "      <td>0.009391</td>\n",
       "    </tr>\n",
       "    <tr>\n",
       "      <th>4</th>\n",
       "      <td>FlatFault_A</td>\n",
       "      <td>2.246222</td>\n",
       "      <td>2.246222</td>\n",
       "      <td>7.928230</td>\n",
       "      <td>0.009710</td>\n",
       "    </tr>\n",
       "    <tr>\n",
       "      <th>5</th>\n",
       "      <td>FlatFault_B</td>\n",
       "      <td>23.314437</td>\n",
       "      <td>23.314437</td>\n",
       "      <td>105.244286</td>\n",
       "      <td>0.009719</td>\n",
       "    </tr>\n",
       "    <tr>\n",
       "      <th>6</th>\n",
       "      <td>FlatVel_A</td>\n",
       "      <td>1.159649</td>\n",
       "      <td>0.048000</td>\n",
       "      <td>0.228571</td>\n",
       "      <td>0.118717</td>\n",
       "    </tr>\n",
       "    <tr>\n",
       "      <th>7</th>\n",
       "      <td>FlatVel_B</td>\n",
       "      <td>7.614163</td>\n",
       "      <td>0.021143</td>\n",
       "      <td>0.328571</td>\n",
       "      <td>0.121904</td>\n",
       "    </tr>\n",
       "    <tr>\n",
       "      <th>8</th>\n",
       "      <td>Style_A</td>\n",
       "      <td>38.102926</td>\n",
       "      <td>5.108374</td>\n",
       "      <td>10.033272</td>\n",
       "      <td>0.087295</td>\n",
       "    </tr>\n",
       "    <tr>\n",
       "      <th>9</th>\n",
       "      <td>Style_B</td>\n",
       "      <td>48.329632</td>\n",
       "      <td>48.329632</td>\n",
       "      <td>68.906210</td>\n",
       "      <td>0.033624</td>\n",
       "    </tr>\n",
       "  </tbody>\n",
       "</table>\n",
       "</div>"
      ],
      "text/plain": [
       "         family  score_brendan  score_mine  score_mine_max  time_taken\n",
       "0  CurveFault_A       3.931313    3.931313       18.090105    0.166579\n",
       "1  CurveFault_B      67.427065   67.427065      143.542449    0.008927\n",
       "2    CurveVel_A       8.550278    8.550278       21.201429    0.008863\n",
       "3    CurveVel_B      34.534996   34.534996      174.873469    0.009391\n",
       "4   FlatFault_A       2.246222    2.246222        7.928230    0.009710\n",
       "5   FlatFault_B      23.314437   23.314437      105.244286    0.009719\n",
       "6     FlatVel_A       1.159649    0.048000        0.228571    0.118717\n",
       "7     FlatVel_B       7.614163    0.021143        0.328571    0.121904\n",
       "8       Style_A      38.102926    5.108374       10.033272    0.087295\n",
       "9       Style_B      48.329632   48.329632       68.906210    0.033624"
      ]
     },
     "execution_count": 25,
     "metadata": {},
     "output_type": "execute_result"
    }
   ],
   "source": [
    "#kgs.disable_caching = True\n",
    "families = list(set([d.family for d in data]))\n",
    "families.sort()\n",
    "res = dict()\n",
    "res['family'], res['score_brendan'], res['score_mine'], res['score_mine_max'], res['time_taken'] = [],[],[],[],[]\n",
    "for f in families:\n",
    "    res['family'].append(f)\n",
    "    this_data_out = []\n",
    "    for d in data_out:\n",
    "        if d.family==f:\n",
    "            this_data_out.append(d)\n",
    "    data_out_brendan = model.models[0].infer(this_data_out)\n",
    "    res['score_brendan'].append(kgs.score_metric(data_out_brendan,show_diagnostics=False)[0])\n",
    "    #data_out = model.infer(this_data[:1])\n",
    "    t=time.time()\n",
    "    res['time_taken'].append(dfTimings.loc[f].to_numpy()[0])\n",
    "    score,_,res_all = kgs.score_metric(this_data_out,show_diagnostics=False)\n",
    "    res['score_mine'].append(score)\n",
    "    res['score_mine_max'].append(np.max(res_all))\n",
    "    #print(pd.DataFrame(res))\n",
    "df = pd.DataFrame(res)\n",
    "print('')\n",
    "print('')\n",
    "print('Brendan local score: ', np.mean(df['score_brendan']))\n",
    "print('My local score: ', np.mean(df['score_mine']))\n",
    "print('Estimate public LB: ', 28.8*np.mean(df['score_mine'])/np.mean(df['score_brendan']))\n",
    "df"
   ]
  },
  {
   "cell_type": "code",
   "execution_count": 5,
   "id": "e2013b7b-4639-4d4d-ac34-2f18e6767195",
   "metadata": {},
   "outputs": [],
   "source": [
    "# No extra model: 28.8\n",
    "# FlatVel:\n",
    "# StyleA: "
   ]
  },
  {
   "cell_type": "code",
   "execution_count": null,
   "id": "db361615-b80f-4527-bca2-48a6bcc8a969",
   "metadata": {},
   "outputs": [],
   "source": []
  },
  {
   "cell_type": "code",
   "execution_count": 6,
   "id": "3dc8b219-3ec5-4700-86db-8f09214b86d3",
   "metadata": {},
   "outputs": [
    {
     "data": {
      "text/plain": [
       "25.57"
      ]
     },
     "execution_count": 6,
     "metadata": {},
     "output_type": "execute_result"
    }
   ],
   "source": [
    "28-30*0.081"
   ]
  },
  {
   "cell_type": "code",
   "execution_count": null,
   "id": "72d6e291-4f42-4fad-a54a-ebb7f615d464",
   "metadata": {},
   "outputs": [],
   "source": []
  }
 ],
 "metadata": {
  "kernelspec": {
   "display_name": "Python 3 (ipykernel)",
   "language": "python",
   "name": "python3"
  },
  "language_info": {
   "codemirror_mode": {
    "name": "ipython",
    "version": 3
   },
   "file_extension": ".py",
   "mimetype": "text/x-python",
   "name": "python",
   "nbconvert_exporter": "python",
   "pygments_lexer": "ipython3",
   "version": "3.10.14"
  }
 },
 "nbformat": 4,
 "nbformat_minor": 5
}
