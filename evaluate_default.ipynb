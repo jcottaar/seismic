{
 "cells": [
  {
   "cell_type": "code",
   "execution_count": 1,
   "id": "865d54d7-b239-49eb-be92-484d63c870d5",
   "metadata": {},
   "outputs": [
    {
     "name": "stdout",
     "output_type": "stream",
     "text": [
      "/seismic/models/brendan/*.pth\n",
      "Loading:  /seismic/models/brendan/unet2d_caformer_seed3_epochbest.pt\n",
      "n_models: 1\n"
     ]
    }
   ],
   "source": [
    "import sys\n",
    "import subprocess\n",
    "sys.path.append('f:/seismic/code/core')\n",
    "sys.path.append('/seismic/code/core')\n",
    "sys.path.append('/kaggle/input/my-seismic-library/')\n",
    "import kaggle_support as kgs\n",
    "import importlib\n",
    "import seis_model\n",
    "import time\n",
    "import pandas as pd\n",
    "import numpy as np\n",
    "kgs.cache_dir_write = kgs.cache_dir_write+'/../cache_evaluate/'\n",
    "kgs.cache_dir_read = kgs.cache_dir_write"
   ]
  },
  {
   "cell_type": "code",
   "execution_count": 2,
   "id": "b16d7880-48b6-45ad-85f4-2c6f7e09fc35",
   "metadata": {},
   "outputs": [
    {
     "name": "stdout",
     "output_type": "stream",
     "text": [
      "styleB not active yet\n"
     ]
    }
   ],
   "source": [
    "# Set up model\n",
    "importlib.reload(seis_model)\n",
    "model = seis_model.default_model()\n",
    "kgs.disable_caching = True"
   ]
  },
  {
   "cell_type": "code",
   "execution_count": 3,
   "id": "a1d6e126-494b-4429-a887-480ca94bc1a0",
   "metadata": {},
   "outputs": [
    {
     "name": "stderr",
     "output_type": "stream",
     "text": [
      "100%|██████████| 201/201 [00:10<00:00, 19.31it/s]\n"
     ]
    },
    {
     "name": "stdout",
     "output_type": "stream",
     "text": [
      "Clearing pytorch\n"
     ]
    },
    {
     "name": "stderr",
     "output_type": "stream",
     "text": [
      "Processing in parallel :   0%|          | 0/200 [00:00<?, ?it/s]"
     ]
    },
    {
     "name": "stdout",
     "output_type": "stream",
     "text": [
      "SpawnPoolWorker-4 4\n",
      "CUDA_VISIBLE_DEVICES= 4\n",
      "SpawnPoolWorker-5 5\n",
      "CUDA_VISIBLE_DEVICES= 5\n",
      "SpawnPoolWorker-2 2\n",
      "CUDA_VISIBLE_DEVICES= 2\n",
      "SpawnPoolWorker-6 6\n",
      "CUDA_VISIBLE_DEVICES= 6\n",
      "SpawnPoolWorker-7 7\n",
      "CUDA_VISIBLE_DEVICES= 7\n",
      "SpawnPoolWorker-3 3\n",
      "CUDA_VISIBLE_DEVICES= 3\n",
      "SpawnPoolWorker-1 1\n",
      "CUDA_VISIBLE_DEVICES= 1\n",
      "SpawnPoolWorker-8 8\n",
      "CUDA_VISIBLE_DEVICES= 0\n",
      "/seismic/models/brendan/*.pth\n",
      "Loading:  /seismic/models/brendan/unet2d_caformer_seed3_epochbest.pt\n",
      "/seismic/models/brendan/*.pth\n",
      "Loading:  /seismic/models/brendan/unet2d_caformer_seed3_epochbest.pt\n",
      "/seismic/models/brendan/*.pth\n",
      "Loading:  /seismic/models/brendan/unet2d_caformer_seed3_epochbest.pt\n",
      "/seismic/models/brendan/*.pth\n",
      "Loading:  /seismic/models/brendan/unet2d_caformer_seed3_epochbest.pt\n",
      "/seismic/models/brendan/*.pth\n",
      "Loading:  /seismic/models/brendan/unet2d_caformer_seed3_epochbest.pt\n",
      "/seismic/models/brendan/*.pth\n",
      "Loading:  /seismic/models/brendan/unet2d_caformer_seed3_epochbest.pt\n",
      "/seismic/models/brendan/*.pth\n",
      "Loading:  /seismic/models/brendan/unet2d_caformer_seed3_epochbest.pt\n",
      "/seismic/models/brendan/*.pth\n",
      "Loading:  /seismic/models/brendan/unet2d_caformer_seed3_epochbest.pt\n",
      "n_models: 1\n",
      "capturing graph\n",
      "capturing graph\n",
      "n_models: 1\n",
      "capturing graph\n",
      "capturing graph\n",
      "n_models: 1\n",
      "capturing graph\n",
      "capturing graph\n",
      "n_models: 1\n"
     ]
    },
    {
     "name": "stderr",
     "output_type": "stream",
     "text": [
      "Processing in parallel :   0%|          | 1/200 [00:31<1:44:56, 31.64s/it]"
     ]
    },
    {
     "name": "stdout",
     "output_type": "stream",
     "text": [
      "capturing graph\n",
      "capturing graph\n",
      "n_models: 1\n",
      "n_models: 1\n",
      "n_models: 1\n",
      "n_models: 1\n"
     ]
    },
    {
     "name": "stderr",
     "output_type": "stream",
     "text": [
      "Processing in parallel :   2%|▏         | 3/200 [00:33<36:00, 10.96s/it]  "
     ]
    },
    {
     "name": "stdout",
     "output_type": "stream",
     "text": [
      "capturing graph\n",
      "capturing graph\n"
     ]
    },
    {
     "name": "stderr",
     "output_type": "stream",
     "text": [
      "Processing in parallel :   3%|▎         | 6/200 [00:34<17:23,  5.38s/it]"
     ]
    },
    {
     "name": "stdout",
     "output_type": "stream",
     "text": [
      "capturing graph\n",
      "capturing graph\n",
      "capturing graph\n",
      "capturing graph\n",
      "capturing graph\n",
      "capturing graph\n"
     ]
    },
    {
     "name": "stderr",
     "output_type": "stream",
     "text": [
      "Processing in parallel : 100%|██████████| 200/200 [15:33<00:00,  4.67s/it]\n"
     ]
    }
   ],
   "source": [
    "data = kgs.load_all_train_data(validation_only=True)[::25]\n",
    "model.models[0].batch_size = 1\n",
    "model.models[1].run_in_parallel = True\n",
    "data_out = model.infer(data)\n",
    "model.models[1].run_in_parallel = False"
   ]
  },
  {
   "cell_type": "code",
   "execution_count": 4,
   "id": "4996070a-01b8-4782-bd3d-5deeecaf0c8a",
   "metadata": {},
   "outputs": [
    {
     "name": "stderr",
     "output_type": "stream",
     "text": [
      "100%|██████████| 21/21 [00:01<00:00, 20.53it/s]\n",
      "100%|██████████| 3/3 [00:00<00:00, 29.39it/s]\n",
      "Inferring : 100%|██████████| 2/2 [00:00<00:00, 223.25it/s]\n",
      "100%|██████████| 21/21 [00:01<00:00, 20.60it/s]\n",
      "100%|██████████| 3/3 [00:00<00:00, 29.35it/s]\n",
      "Inferring : 100%|██████████| 2/2 [00:00<00:00, 415.79it/s]\n",
      "100%|██████████| 21/21 [00:01<00:00, 20.70it/s]\n",
      "100%|██████████| 3/3 [00:00<00:00, 29.45it/s]\n",
      "Inferring : 100%|██████████| 2/2 [00:00<00:00, 406.25it/s]\n",
      "100%|██████████| 21/21 [00:00<00:00, 21.12it/s]\n",
      "100%|██████████| 3/3 [00:00<00:00, 28.61it/s]\n",
      "Inferring : 100%|██████████| 2/2 [00:00<00:00, 459.88it/s]\n",
      "100%|██████████| 21/21 [00:01<00:00, 21.00it/s]\n",
      "100%|██████████| 3/3 [00:00<00:00, 28.71it/s]\n",
      "Inferring : 100%|██████████| 2/2 [00:00<00:00, 444.97it/s]\n",
      "100%|██████████| 21/21 [00:01<00:00, 20.97it/s]\n",
      "100%|██████████| 3/3 [00:00<00:00, 29.34it/s]\n",
      "Inferring : 100%|██████████| 2/2 [00:00<00:00, 441.58it/s]\n",
      "100%|██████████| 21/21 [00:00<00:00, 21.10it/s]\n",
      "100%|██████████| 3/3 [00:00<00:00, 29.63it/s]\n",
      "Inferring :   0%|          | 0/2 [00:00<?, ?it/s]"
     ]
    },
    {
     "name": "stdout",
     "output_type": "stream",
     "text": [
      "capturing graph\n",
      "capturing graph\n"
     ]
    },
    {
     "name": "stderr",
     "output_type": "stream",
     "text": [
      "Inferring : 100%|██████████| 2/2 [01:10<00:00, 35.05s/it]\n",
      "100%|██████████| 21/21 [00:00<00:00, 21.06it/s]\n",
      "100%|██████████| 3/3 [00:00<00:00, 30.24it/s]\n",
      "Inferring : 100%|██████████| 2/2 [00:53<00:00, 26.71s/it]\n",
      "100%|██████████| 21/21 [00:01<00:00, 20.90it/s]\n",
      "100%|██████████| 3/3 [00:00<00:00, 30.23it/s]\n",
      "Inferring : 100%|██████████| 2/2 [06:45<00:00, 202.88s/it]\n",
      "100%|██████████| 21/21 [00:00<00:00, 21.09it/s]\n",
      "100%|██████████| 3/3 [00:00<00:00, 30.26it/s]\n",
      "Inferring : 100%|██████████| 2/2 [00:00<00:00, 507.05it/s]"
     ]
    },
    {
     "name": "stdout",
     "output_type": "stream",
     "text": [
      "\n",
      "\n",
      "Brendan local score:  25.645244915397797\n",
      "My local score:  21.798655341946347\n",
      "Estimate public LB:  24.480221418010846\n"
     ]
    },
    {
     "name": "stderr",
     "output_type": "stream",
     "text": [
      "\n"
     ]
    },
    {
     "data": {
      "text/html": [
       "<div>\n",
       "<style scoped>\n",
       "    .dataframe tbody tr th:only-of-type {\n",
       "        vertical-align: middle;\n",
       "    }\n",
       "\n",
       "    .dataframe tbody tr th {\n",
       "        vertical-align: top;\n",
       "    }\n",
       "\n",
       "    .dataframe thead th {\n",
       "        text-align: right;\n",
       "    }\n",
       "</style>\n",
       "<table border=\"1\" class=\"dataframe\">\n",
       "  <thead>\n",
       "    <tr style=\"text-align: right;\">\n",
       "      <th></th>\n",
       "      <th>family</th>\n",
       "      <th>score_brendan</th>\n",
       "      <th>score_mine</th>\n",
       "      <th>score_mine_max</th>\n",
       "      <th>time_taken</th>\n",
       "    </tr>\n",
       "  </thead>\n",
       "  <tbody>\n",
       "    <tr>\n",
       "      <th>0</th>\n",
       "      <td>CurveFault_A</td>\n",
       "      <td>3.511432</td>\n",
       "      <td>3.511432</td>\n",
       "      <td>6.849573</td>\n",
       "      <td>0.002624</td>\n",
       "    </tr>\n",
       "    <tr>\n",
       "      <th>1</th>\n",
       "      <td>CurveFault_B</td>\n",
       "      <td>78.825357</td>\n",
       "      <td>78.825357</td>\n",
       "      <td>151.932449</td>\n",
       "      <td>0.002547</td>\n",
       "    </tr>\n",
       "    <tr>\n",
       "      <th>2</th>\n",
       "      <td>CurveVel_A</td>\n",
       "      <td>8.347980</td>\n",
       "      <td>8.347980</td>\n",
       "      <td>15.490612</td>\n",
       "      <td>0.002546</td>\n",
       "    </tr>\n",
       "    <tr>\n",
       "      <th>3</th>\n",
       "      <td>CurveVel_B</td>\n",
       "      <td>41.784173</td>\n",
       "      <td>41.784173</td>\n",
       "      <td>174.840204</td>\n",
       "      <td>0.002711</td>\n",
       "    </tr>\n",
       "    <tr>\n",
       "      <th>4</th>\n",
       "      <td>FlatFault_A</td>\n",
       "      <td>2.973499</td>\n",
       "      <td>2.973499</td>\n",
       "      <td>20.279864</td>\n",
       "      <td>0.002465</td>\n",
       "    </tr>\n",
       "    <tr>\n",
       "      <th>5</th>\n",
       "      <td>FlatFault_B</td>\n",
       "      <td>28.445296</td>\n",
       "      <td>28.445296</td>\n",
       "      <td>105.278163</td>\n",
       "      <td>0.002703</td>\n",
       "    </tr>\n",
       "    <tr>\n",
       "      <th>6</th>\n",
       "      <td>FlatVel_A</td>\n",
       "      <td>1.072704</td>\n",
       "      <td>0.038571</td>\n",
       "      <td>0.228571</td>\n",
       "      <td>0.586676</td>\n",
       "    </tr>\n",
       "    <tr>\n",
       "      <th>7</th>\n",
       "      <td>FlatVel_B</td>\n",
       "      <td>8.323500</td>\n",
       "      <td>0.022143</td>\n",
       "      <td>0.200000</td>\n",
       "      <td>0.447617</td>\n",
       "    </tr>\n",
       "    <tr>\n",
       "      <th>8</th>\n",
       "      <td>Style_A</td>\n",
       "      <td>33.723517</td>\n",
       "      <td>4.593111</td>\n",
       "      <td>8.876651</td>\n",
       "      <td>3.384066</td>\n",
       "    </tr>\n",
       "    <tr>\n",
       "      <th>9</th>\n",
       "      <td>Style_B</td>\n",
       "      <td>49.444991</td>\n",
       "      <td>49.444991</td>\n",
       "      <td>68.927527</td>\n",
       "      <td>0.002393</td>\n",
       "    </tr>\n",
       "  </tbody>\n",
       "</table>\n",
       "</div>"
      ],
      "text/plain": [
       "         family  score_brendan  score_mine  score_mine_max  time_taken\n",
       "0  CurveFault_A       3.511432    3.511432        6.849573    0.002624\n",
       "1  CurveFault_B      78.825357   78.825357      151.932449    0.002547\n",
       "2    CurveVel_A       8.347980    8.347980       15.490612    0.002546\n",
       "3    CurveVel_B      41.784173   41.784173      174.840204    0.002711\n",
       "4   FlatFault_A       2.973499    2.973499       20.279864    0.002465\n",
       "5   FlatFault_B      28.445296   28.445296      105.278163    0.002703\n",
       "6     FlatVel_A       1.072704    0.038571        0.228571    0.586676\n",
       "7     FlatVel_B       8.323500    0.022143        0.200000    0.447617\n",
       "8       Style_A      33.723517    4.593111        8.876651    3.384066\n",
       "9       Style_B      49.444991   49.444991       68.927527    0.002393"
      ]
     },
     "execution_count": 4,
     "metadata": {},
     "output_type": "execute_result"
    }
   ],
   "source": [
    "model.models[1].run_in_parallel = False\n",
    "families = list(set([d.family for d in data]))\n",
    "families.sort()\n",
    "res = dict()\n",
    "res['family'], res['score_brendan'], res['score_mine'], res['score_mine_max'], res['time_taken'] = [],[],[],[],[]\n",
    "for f in families:\n",
    "    res['family'].append(f)\n",
    "    this_data_out = []\n",
    "    for d in data_out:\n",
    "        if d.family==f:\n",
    "            this_data_out.append(d)\n",
    "    data_out_brendan = model.models[0].infer(this_data_out)\n",
    "    res['score_brendan'].append(kgs.score_metric(data_out_brendan,show_diagnostics=False)[0])\n",
    "    #data_out = model.infer(this_data[:1])\n",
    "    t=time.time()\n",
    "    model.infer(this_data_out[:2])\n",
    "    res['time_taken'].append((time.time()-t)/len(this_data_out[:2])/60)\n",
    "    score,_,res_all = kgs.score_metric(this_data_out,show_diagnostics=False)\n",
    "    res['score_mine'].append(score)\n",
    "    res['score_mine_max'].append(np.max(res_all))\n",
    "    #print(pd.DataFrame(res))\n",
    "df = pd.DataFrame(res)\n",
    "print('')\n",
    "print('')\n",
    "print('Brendan local score: ', np.mean(df['score_brendan']))\n",
    "print('My local score: ', np.mean(df['score_mine']))\n",
    "print('Estimate public LB: ', 28.8*np.mean(df['score_mine'])/np.mean(df['score_brendan']))\n",
    "df"
   ]
  },
  {
   "cell_type": "code",
   "execution_count": 5,
   "id": "e2013b7b-4639-4d4d-ac34-2f18e6767195",
   "metadata": {},
   "outputs": [
    {
     "data": {
      "text/plain": [
       "4333.333333333333"
      ]
     },
     "execution_count": 5,
     "metadata": {},
     "output_type": "execute_result"
    }
   ],
   "source": [
    "65000*4/60"
   ]
  },
  {
   "cell_type": "code",
   "execution_count": 6,
   "id": "ad4e6f81-0813-4341-aa53-d215799b8a44",
   "metadata": {},
   "outputs": [
    {
     "data": {
      "text/plain": [
       "433.3333333333333"
      ]
     },
     "execution_count": 6,
     "metadata": {},
     "output_type": "execute_result"
    }
   ],
   "source": [
    "65000*4/60*0.1"
   ]
  },
  {
   "cell_type": "code",
   "execution_count": null,
   "id": "db361615-b80f-4527-bca2-48a6bcc8a969",
   "metadata": {},
   "outputs": [],
   "source": []
  }
 ],
 "metadata": {
  "kernelspec": {
   "display_name": "Python3 (ipykernel)",
   "language": "python",
   "name": "python3"
  },
  "language_info": {
   "codemirror_mode": {
    "name": "ipython",
    "version": 3
   },
   "file_extension": ".py",
   "mimetype": "text/x-python",
   "name": "python",
   "nbconvert_exporter": "python",
   "pygments_lexer": "ipython3",
   "version": "3.10.12"
  }
 },
 "nbformat": 4,
 "nbformat_minor": 5
}
