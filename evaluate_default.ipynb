{
 "cells": [
  {
   "cell_type": "code",
   "execution_count": 1,
   "id": "865d54d7-b239-49eb-be92-484d63c870d5",
   "metadata": {},
   "outputs": [
    {
     "name": "stdout",
     "output_type": "stream",
     "text": [
      "F:/seismic/models/brendan/*.pth\n",
      "Loading:  F:/seismic/models/brendan\\unet2d_caformer_seed3_epochbest.pt\n",
      "n_models: 1\n"
     ]
    }
   ],
   "source": [
    "import sys\n",
    "import subprocess\n",
    "sys.path.append('f:/seismic/code/core')\n",
    "sys.path.append('/seismic/code/core')\n",
    "sys.path.append('/kaggle/input/my-seismic-library/')\n",
    "import kaggle_support as kgs\n",
    "import importlib\n",
    "import seis_model\n",
    "import time\n",
    "import pandas as pd\n",
    "import numpy as np\n",
    "#kgs.cache_dir_write = kgs.cache_dir_write+'/../cache_evaluate/'\n",
    "#kgs.cache_dir_read = kgs.cache_dir_write"
   ]
  },
  {
   "cell_type": "code",
   "execution_count": 2,
   "id": "b16d7880-48b6-45ad-85f4-2c6f7e09fc35",
   "metadata": {},
   "outputs": [
    {
     "name": "stdout",
     "output_type": "stream",
     "text": [
      "styleB not active yet\n"
     ]
    }
   ],
   "source": [
    "# Set up model\n",
    "importlib.reload(seis_model)\n",
    "model = seis_model.default_model()"
   ]
  },
  {
   "cell_type": "code",
   "execution_count": 3,
   "id": "a1d6e126-494b-4429-a887-480ca94bc1a0",
   "metadata": {},
   "outputs": [
    {
     "name": "stderr",
     "output_type": "stream",
     "text": [
      "Importing cache Default: 100%|█████████████████████████████████████████████████| 5000/5000 [00:00<00:00, 294048.23it/s]\n",
      "Importing cache brendan: 100%|████████████████████████████████████████████████████| 5000/5000 [00:19<00:00, 258.61it/s]\n",
      "Processing in parallel : 100%|█████████████████████████████████████████████████████| 5000/5000 [03:03<00:00, 27.30it/s]\n"
     ]
    }
   ],
   "source": [
    "data = kgs.load_all_train_data(validation_only=True)\n",
    "model.models[1].run_in_parallel = True\n",
    "data_out = model.infer(data)\n",
    "model.models[1].run_in_parallel = False"
   ]
  },
  {
   "cell_type": "code",
   "execution_count": 4,
   "id": "94237aef-8da8-4cc1-95be-7c7a0cc79d96",
   "metadata": {},
   "outputs": [
    {
     "name": "stderr",
     "output_type": "stream",
     "text": [
      "Importing cache brendan: 100%|████████████████████████████████████████████████████| 500/500 [00:00<00:00, 12984.26it/s]\n",
      "Importing cache brendan: 100%|█████████████████████████████████████████████████████| 500/500 [00:00<00:00, 6666.26it/s]\n",
      "Importing cache brendan: 100%|████████████████████████████████████████████████████| 500/500 [00:00<00:00, 17857.68it/s]\n",
      "Importing cache brendan: 100%|█████████████████████████████████████████████████████| 500/500 [00:00<00:00, 6157.48it/s]\n",
      "Importing cache brendan: 100%|████████████████████████████████████████████████████| 500/500 [00:00<00:00, 15873.21it/s]\n",
      "Importing cache brendan: 100%|█████████████████████████████████████████████████████| 500/500 [00:00<00:00, 6023.43it/s]\n",
      "Importing cache brendan: 100%|█████████████████████████████████████████████████████| 500/500 [00:00<00:00, 5763.29it/s]\n",
      "Importing cache brendan: 100%|████████████████████████████████████████████████████| 500/500 [00:00<00:00, 15381.10it/s]\n",
      "Importing cache brendan: 100%|█████████████████████████████████████████████████████| 500/500 [00:00<00:00, 6157.48it/s]\n",
      "Importing cache brendan: 100%|█████████████████████████████████████████████████████| 500/500 [00:00<00:00, 4291.61it/s]\n"
     ]
    },
    {
     "name": "stdout",
     "output_type": "stream",
     "text": [
      "\n",
      "\n",
      "Brendan local score:  24.106589620386238\n",
      "My local score:  20.257204153240593\n",
      "Estimate public LB:  24.201161956146564\n"
     ]
    },
    {
     "data": {
      "text/html": [
       "<div>\n",
       "<style scoped>\n",
       "    .dataframe tbody tr th:only-of-type {\n",
       "        vertical-align: middle;\n",
       "    }\n",
       "\n",
       "    .dataframe tbody tr th {\n",
       "        vertical-align: top;\n",
       "    }\n",
       "\n",
       "    .dataframe thead th {\n",
       "        text-align: right;\n",
       "    }\n",
       "</style>\n",
       "<table border=\"1\" class=\"dataframe\">\n",
       "  <thead>\n",
       "    <tr style=\"text-align: right;\">\n",
       "      <th></th>\n",
       "      <th>family</th>\n",
       "      <th>score_brendan</th>\n",
       "      <th>score_mine</th>\n",
       "      <th>score_mine_max</th>\n",
       "      <th>time_taken</th>\n",
       "    </tr>\n",
       "  </thead>\n",
       "  <tbody>\n",
       "    <tr>\n",
       "      <th>0</th>\n",
       "      <td>CurveFault_A</td>\n",
       "      <td>3.759723</td>\n",
       "      <td>3.759611</td>\n",
       "      <td>29.155440</td>\n",
       "      <td>0.0</td>\n",
       "    </tr>\n",
       "    <tr>\n",
       "      <th>1</th>\n",
       "      <td>CurveFault_B</td>\n",
       "      <td>69.516079</td>\n",
       "      <td>69.516079</td>\n",
       "      <td>179.627755</td>\n",
       "      <td>0.0</td>\n",
       "    </tr>\n",
       "    <tr>\n",
       "      <th>2</th>\n",
       "      <td>CurveVel_A</td>\n",
       "      <td>9.439880</td>\n",
       "      <td>9.439880</td>\n",
       "      <td>57.809796</td>\n",
       "      <td>0.0</td>\n",
       "    </tr>\n",
       "    <tr>\n",
       "      <th>3</th>\n",
       "      <td>CurveVel_B</td>\n",
       "      <td>38.293812</td>\n",
       "      <td>38.293812</td>\n",
       "      <td>192.743878</td>\n",
       "      <td>0.0</td>\n",
       "    </tr>\n",
       "    <tr>\n",
       "      <th>4</th>\n",
       "      <td>FlatFault_A</td>\n",
       "      <td>2.377070</td>\n",
       "      <td>2.366938</td>\n",
       "      <td>20.262268</td>\n",
       "      <td>0.0</td>\n",
       "    </tr>\n",
       "    <tr>\n",
       "      <th>5</th>\n",
       "      <td>FlatFault_B</td>\n",
       "      <td>24.400707</td>\n",
       "      <td>24.400707</td>\n",
       "      <td>105.244286</td>\n",
       "      <td>0.0</td>\n",
       "    </tr>\n",
       "    <tr>\n",
       "      <th>6</th>\n",
       "      <td>FlatVel_A</td>\n",
       "      <td>1.161858</td>\n",
       "      <td>0.048429</td>\n",
       "      <td>0.742857</td>\n",
       "      <td>0.0</td>\n",
       "    </tr>\n",
       "    <tr>\n",
       "      <th>7</th>\n",
       "      <td>FlatVel_B</td>\n",
       "      <td>7.335419</td>\n",
       "      <td>0.012971</td>\n",
       "      <td>0.328571</td>\n",
       "      <td>0.0</td>\n",
       "    </tr>\n",
       "    <tr>\n",
       "      <th>8</th>\n",
       "      <td>Style_A</td>\n",
       "      <td>35.717543</td>\n",
       "      <td>5.669809</td>\n",
       "      <td>22.279968</td>\n",
       "      <td>0.0</td>\n",
       "    </tr>\n",
       "    <tr>\n",
       "      <th>9</th>\n",
       "      <td>Style_B</td>\n",
       "      <td>49.063807</td>\n",
       "      <td>49.063807</td>\n",
       "      <td>76.157942</td>\n",
       "      <td>0.0</td>\n",
       "    </tr>\n",
       "  </tbody>\n",
       "</table>\n",
       "</div>"
      ],
      "text/plain": [
       "         family  score_brendan  score_mine  score_mine_max  time_taken\n",
       "0  CurveFault_A       3.759723    3.759611       29.155440         0.0\n",
       "1  CurveFault_B      69.516079   69.516079      179.627755         0.0\n",
       "2    CurveVel_A       9.439880    9.439880       57.809796         0.0\n",
       "3    CurveVel_B      38.293812   38.293812      192.743878         0.0\n",
       "4   FlatFault_A       2.377070    2.366938       20.262268         0.0\n",
       "5   FlatFault_B      24.400707   24.400707      105.244286         0.0\n",
       "6     FlatVel_A       1.161858    0.048429        0.742857         0.0\n",
       "7     FlatVel_B       7.335419    0.012971        0.328571         0.0\n",
       "8       Style_A      35.717543    5.669809       22.279968         0.0\n",
       "9       Style_B      49.063807   49.063807       76.157942         0.0"
      ]
     },
     "execution_count": 4,
     "metadata": {},
     "output_type": "execute_result"
    }
   ],
   "source": [
    "#kgs.disable_caching = True\n",
    "model.models[1].run_in_parallel = False\n",
    "families = list(set([d.family for d in data]))\n",
    "families.sort()\n",
    "res = dict()\n",
    "res['family'], res['score_brendan'], res['score_mine'], res['score_mine_max'], res['time_taken'] = [],[],[],[],[]\n",
    "for f in families:\n",
    "    res['family'].append(f)\n",
    "    this_data_out = []\n",
    "    for d in data_out:\n",
    "        if d.family==f:\n",
    "            this_data_out.append(d)\n",
    "    data_out_brendan = model.models[0].infer(this_data_out)\n",
    "    res['score_brendan'].append(kgs.score_metric(data_out_brendan,show_diagnostics=False)[0])\n",
    "    #data_out = model.infer(this_data[:1])\n",
    "    t=time.time()\n",
    "    #model.infer(this_data_out[:2])\n",
    "    res['time_taken'].append((time.time()-t)/len(this_data_out[:2])/60)\n",
    "    score,_,res_all = kgs.score_metric(this_data_out,show_diagnostics=False)\n",
    "    res['score_mine'].append(score)\n",
    "    res['score_mine_max'].append(np.max(res_all))\n",
    "    #print(pd.DataFrame(res))\n",
    "df = pd.DataFrame(res)\n",
    "print('')\n",
    "print('')\n",
    "print('Brendan local score: ', np.mean(df['score_brendan']))\n",
    "print('My local score: ', np.mean(df['score_mine']))\n",
    "print('Estimate public LB: ', 28.8*np.mean(df['score_mine'])/np.mean(df['score_brendan']))\n",
    "df"
   ]
  },
  {
   "cell_type": "code",
   "execution_count": 5,
   "id": "e2013b7b-4639-4d4d-ac34-2f18e6767195",
   "metadata": {},
   "outputs": [],
   "source": [
    "# No extra model: 28.8\n",
    "# FlatVel:\n",
    "# StyleA: "
   ]
  },
  {
   "cell_type": "code",
   "execution_count": null,
   "id": "db361615-b80f-4527-bca2-48a6bcc8a969",
   "metadata": {},
   "outputs": [],
   "source": []
  },
  {
   "cell_type": "code",
   "execution_count": null,
   "id": "3dc8b219-3ec5-4700-86db-8f09214b86d3",
   "metadata": {},
   "outputs": [],
   "source": []
  }
 ],
 "metadata": {
  "kernelspec": {
   "display_name": "Python 3 (ipykernel)",
   "language": "python",
   "name": "python3"
  },
  "language_info": {
   "codemirror_mode": {
    "name": "ipython",
    "version": 3
   },
   "file_extension": ".py",
   "mimetype": "text/x-python",
   "name": "python",
   "nbconvert_exporter": "python",
   "pygments_lexer": "ipython3",
   "version": "3.10.14"
  }
 },
 "nbformat": 4,
 "nbformat_minor": 5
}
