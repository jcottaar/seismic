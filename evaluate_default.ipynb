{
 "cells": [
  {
   "cell_type": "code",
   "execution_count": 1,
   "id": "865d54d7-b239-49eb-be92-484d63c870d5",
   "metadata": {},
   "outputs": [
    {
     "name": "stdout",
     "output_type": "stream",
     "text": [
      "F:/seismic/models/brendan/*.pth\n",
      "Loading:  F:/seismic/models/brendan\\unet2d_caformer_seed3_epochbest.pt\n",
      "n_models: 1\n"
     ]
    }
   ],
   "source": [
    "import sys\n",
    "import subprocess\n",
    "sys.path.append('f:/seismic/code/core')\n",
    "sys.path.append('/seismic/code/core')\n",
    "sys.path.append('/kaggle/input/my-seismic-library/')\n",
    "import kaggle_support as kgs\n",
    "import importlib\n",
    "import seis_model\n",
    "import time\n",
    "import pandas as pd\n",
    "import numpy as np\n",
    "kgs.cache_dir_write = kgs.cache_dir_write+'/../cache_evaluate/'\n",
    "kgs.cache_dir_read = kgs.cache_dir_write"
   ]
  },
  {
   "cell_type": "code",
   "execution_count": 25,
   "id": "b16d7880-48b6-45ad-85f4-2c6f7e09fc35",
   "metadata": {},
   "outputs": [
    {
     "name": "stdout",
     "output_type": "stream",
     "text": [
      "too low\n",
      "False False\n",
      "(4901, 4901)\n"
     ]
    }
   ],
   "source": [
    "# Set up model\n",
    "importlib.reload(seis_model)\n",
    "model = seis_model.default_model()\n",
    "model.write_cache = False"
   ]
  },
  {
   "cell_type": "code",
   "execution_count": 26,
   "id": "955a9e09-8b64-41b3-9fc4-7eaafd4cb222",
   "metadata": {},
   "outputs": [
    {
     "name": "stderr",
     "output_type": "stream",
     "text": [
      "Importing cache: 100%|███████████████████████████████████████████████████████████████| 20/20 [00:00<00:00, 4992.92it/s]\n",
      "Importing cache: 100%|█████████████████████████████████████████████████████████████████████████| 19/19 [00:00<?, ?it/s]\n",
      "Importing cache: 100%|███████████████████████████████████████████████████████████████| 19/19 [00:00<00:00, 9498.42it/s]\n",
      "Inferring: 100%|██████████████████████████████████████████████████████████████████████| 19/19 [00:00<00:00, 267.60it/s]\n"
     ]
    },
    {
     "name": "stdout",
     "output_type": "stream",
     "text": [
      "         family  score_brendan  score_mine  score_mine_max  time_taken\n",
      "0  CurveFault_A       3.510337    3.510337        6.826997    0.000082\n"
     ]
    },
    {
     "name": "stderr",
     "output_type": "stream",
     "text": [
      "Importing cache: 100%|███████████████████████████████████████████████████████████████| 20/20 [00:00<00:00, 4997.98it/s]\n",
      "Importing cache: 100%|██████████████████████████████████████████████████████████████| 19/19 [00:00<00:00, 18996.85it/s]\n",
      "Importing cache: 100%|███████████████████████████████████████████████████████████████| 19/19 [00:00<00:00, 6334.80it/s]\n",
      "Inferring: 100%|██████████████████████████████████████████████████████████████████████| 19/19 [00:00<00:00, 269.47it/s]\n"
     ]
    },
    {
     "name": "stdout",
     "output_type": "stream",
     "text": [
      "         family  score_brendan  score_mine  score_mine_max  time_taken\n",
      "0  CurveFault_A       3.510337    3.510337        6.826997    0.000082\n",
      "1  CurveFault_B      78.843337   78.843337      151.991837    0.000081\n"
     ]
    },
    {
     "name": "stderr",
     "output_type": "stream",
     "text": [
      "Importing cache: 100%|███████████████████████████████████████████████████████████████| 20/20 [00:00<00:00, 6665.56it/s]\n",
      "Importing cache: 100%|██████████████████████████████████████████████████████████████| 19/19 [00:00<00:00, 18996.85it/s]\n",
      "Importing cache: 100%|███████████████████████████████████████████████████████████████| 19/19 [00:00<00:00, 6322.74it/s]\n",
      "Inferring: 100%|██████████████████████████████████████████████████████████████████████| 19/19 [00:00<00:00, 260.28it/s]\n"
     ]
    },
    {
     "name": "stdout",
     "output_type": "stream",
     "text": [
      "         family  score_brendan  score_mine  score_mine_max  time_taken\n",
      "0  CurveFault_A       3.510337    3.510337        6.826997    0.000082\n",
      "1  CurveFault_B      78.843337   78.843337      151.991837    0.000081\n",
      "2    CurveVel_A       8.350388    8.350388       15.488571    0.000085\n"
     ]
    },
    {
     "name": "stderr",
     "output_type": "stream",
     "text": [
      "Importing cache: 100%|███████████████████████████████████████████████████████████████| 20/20 [00:00<00:00, 6666.09it/s]\n",
      "Importing cache: 100%|█████████████████████████████████████████████████████████████████████████| 19/19 [00:00<?, ?it/s]\n",
      "Importing cache: 100%|███████████████████████████████████████████████████████████████| 19/19 [00:00<00:00, 9500.69it/s]\n",
      "Inferring: 100%|██████████████████████████████████████████████████████████████████████| 19/19 [00:00<00:00, 262.04it/s]\n"
     ]
    },
    {
     "name": "stdout",
     "output_type": "stream",
     "text": [
      "         family  score_brendan  score_mine  score_mine_max  time_taken\n",
      "0  CurveFault_A       3.510337    3.510337        6.826997    0.000082\n",
      "1  CurveFault_B      78.843337   78.843337      151.991837    0.000081\n",
      "2    CurveVel_A       8.350388    8.350388       15.488571    0.000085\n",
      "3    CurveVel_B      41.801908   41.801908      174.948571    0.000081\n"
     ]
    },
    {
     "name": "stderr",
     "output_type": "stream",
     "text": [
      "Importing cache: 100%|███████████████████████████████████████████████████████████████| 20/20 [00:00<00:00, 6667.15it/s]\n",
      "Importing cache: 100%|██████████████████████████████████████████████████████████████| 19/19 [00:00<00:00, 18974.23it/s]\n",
      "Importing cache: 100%|███████████████████████████████████████████████████████████████| 19/19 [00:00<00:00, 9502.95it/s]\n",
      "Inferring: 100%|██████████████████████████████████████████████████████████████████████| 19/19 [00:00<00:00, 262.05it/s]\n"
     ]
    },
    {
     "name": "stdout",
     "output_type": "stream",
     "text": [
      "         family  score_brendan  score_mine  score_mine_max  time_taken\n",
      "0  CurveFault_A       3.510337    3.510337        6.826997    0.000082\n",
      "1  CurveFault_B      78.843337   78.843337      151.991837    0.000081\n",
      "2    CurveVel_A       8.350388    8.350388       15.488571    0.000085\n",
      "3    CurveVel_B      41.801908   41.801908      174.948571    0.000081\n",
      "4   FlatFault_A       2.969474    2.969474       20.227192    0.000082\n"
     ]
    },
    {
     "name": "stderr",
     "output_type": "stream",
     "text": [
      "Importing cache: 100%|███████████████████████████████████████████████████████████████| 20/20 [00:00<00:00, 6659.74it/s]\n",
      "Importing cache: 100%|█████████████████████████████████████████████████████████████████████████| 19/19 [00:00<?, ?it/s]\n",
      "Importing cache: 100%|███████████████████████████████████████████████████████████████| 19/19 [00:00<00:00, 6332.79it/s]\n",
      "Inferring: 100%|██████████████████████████████████████████████████████████████████████| 19/19 [00:00<00:00, 262.04it/s]\n"
     ]
    },
    {
     "name": "stdout",
     "output_type": "stream",
     "text": [
      "         family  score_brendan  score_mine  score_mine_max  time_taken\n",
      "0  CurveFault_A       3.510337    3.510337        6.826997    0.000082\n",
      "1  CurveFault_B      78.843337   78.843337      151.991837    0.000081\n",
      "2    CurveVel_A       8.350388    8.350388       15.488571    0.000085\n",
      "3    CurveVel_B      41.801908   41.801908      174.948571    0.000081\n",
      "4   FlatFault_A       2.969474    2.969474       20.227192    0.000082\n",
      "5   FlatFault_B      28.441020   28.441020      105.257551    0.000083\n"
     ]
    },
    {
     "name": "stderr",
     "output_type": "stream",
     "text": [
      "Importing cache: 100%|███████████████████████████████████████████████████████████████| 20/20 [00:00<00:00, 6666.62it/s]\n",
      "Importing cache: 100%|█████████████████████████████████████████████████████████████████████████| 19/19 [00:00<?, ?it/s]\n",
      "Importing cache: 100%|███████████████████████████████████████████████████████████████| 19/19 [00:00<00:00, 9499.56it/s]\n",
      "Inferring: 100%|██████████████████████████████████████████████████████████████████████| 19/19 [00:00<00:00, 238.98it/s]\n"
     ]
    },
    {
     "name": "stdout",
     "output_type": "stream",
     "text": [
      "         family  score_brendan  score_mine  score_mine_max  time_taken\n",
      "0  CurveFault_A       3.510337    3.510337        6.826997    0.000082\n",
      "1  CurveFault_B      78.843337   78.843337      151.991837    0.000081\n",
      "2    CurveVel_A       8.350388    8.350388       15.488571    0.000085\n",
      "3    CurveVel_B      41.801908   41.801908      174.948571    0.000081\n",
      "4   FlatFault_A       2.969474    2.969474       20.227192    0.000082\n",
      "5   FlatFault_B      28.441020   28.441020      105.257551    0.000083\n",
      "6     FlatVel_A       1.073316    0.038571        0.228571    0.000088\n"
     ]
    },
    {
     "name": "stderr",
     "output_type": "stream",
     "text": [
      "Importing cache: 100%|███████████████████████████████████████████████████████████████| 20/20 [00:00<00:00, 6666.62it/s]\n",
      "Importing cache: 100%|██████████████████████████████████████████████████████████████| 19/19 [00:00<00:00, 18969.72it/s]\n",
      "Importing cache: 100%|███████████████████████████████████████████████████████████████| 19/19 [00:00<00:00, 9500.69it/s]\n",
      "Inferring: 100%|██████████████████████████████████████████████████████████████████████| 19/19 [00:00<00:00, 236.00it/s]\n"
     ]
    },
    {
     "name": "stdout",
     "output_type": "stream",
     "text": [
      "         family  score_brendan  score_mine  score_mine_max  time_taken\n",
      "0  CurveFault_A       3.510337    3.510337        6.826997    0.000082\n",
      "1  CurveFault_B      78.843337   78.843337      151.991837    0.000081\n",
      "2    CurveVel_A       8.350388    8.350388       15.488571    0.000085\n",
      "3    CurveVel_B      41.801908   41.801908      174.948571    0.000081\n",
      "4   FlatFault_A       2.969474    2.969474       20.227192    0.000082\n",
      "5   FlatFault_B      28.441020   28.441020      105.257551    0.000083\n",
      "6     FlatVel_A       1.073316    0.038571        0.228571    0.000088\n",
      "7     FlatVel_B       8.322622    0.022143        0.200000    0.000088\n"
     ]
    },
    {
     "name": "stderr",
     "output_type": "stream",
     "text": [
      "Importing cache: 100%|███████████████████████████████████████████████████████████████| 20/20 [00:00<00:00, 6663.97it/s]\n",
      "Importing cache: 100%|█████████████████████████████████████████████████████████████████████████| 19/19 [00:00<?, ?it/s]\n",
      "Importing cache: 100%|███████████████████████████████████████████████████████████████| 19/19 [00:00<00:00, 9489.38it/s]\n",
      "Inferring: 100%|██████████████████████████████████████████████████████████████████████| 19/19 [00:00<00:00, 260.24it/s]\n"
     ]
    },
    {
     "name": "stdout",
     "output_type": "stream",
     "text": [
      "         family  score_brendan  score_mine  score_mine_max  time_taken\n",
      "0  CurveFault_A       3.510337    3.510337        6.826997    0.000082\n",
      "1  CurveFault_B      78.843337   78.843337      151.991837    0.000081\n",
      "2    CurveVel_A       8.350388    8.350388       15.488571    0.000085\n",
      "3    CurveVel_B      41.801908   41.801908      174.948571    0.000081\n",
      "4   FlatFault_A       2.969474    2.969474       20.227192    0.000082\n",
      "5   FlatFault_B      28.441020   28.441020      105.257551    0.000083\n",
      "6     FlatVel_A       1.073316    0.038571        0.228571    0.000088\n",
      "7     FlatVel_B       8.322622    0.022143        0.200000    0.000088\n",
      "8       Style_A      33.726573   33.726573       92.197845    0.000082\n"
     ]
    },
    {
     "name": "stderr",
     "output_type": "stream",
     "text": [
      "Importing cache: 100%|███████████████████████████████████████████████████████████████| 20/20 [00:00<00:00, 6666.09it/s]\n",
      "Importing cache: 100%|█████████████████████████████████████████████████████████████████████████| 19/19 [00:00<?, ?it/s]\n",
      "Importing cache: 100%|███████████████████████████████████████████████████████████████| 19/19 [00:00<00:00, 9504.09it/s]\n",
      "Inferring: 100%|██████████████████████████████████████████████████████████████████████| 19/19 [00:00<00:00, 248.34it/s]"
     ]
    },
    {
     "name": "stdout",
     "output_type": "stream",
     "text": [
      "         family  score_brendan  score_mine  score_mine_max  time_taken\n",
      "0  CurveFault_A       3.510337    3.510337        6.826997    0.000082\n",
      "1  CurveFault_B      78.843337   78.843337      151.991837    0.000081\n",
      "2    CurveVel_A       8.350388    8.350388       15.488571    0.000085\n",
      "3    CurveVel_B      41.801908   41.801908      174.948571    0.000081\n",
      "4   FlatFault_A       2.969474    2.969474       20.227192    0.000082\n",
      "5   FlatFault_B      28.441020   28.441020      105.257551    0.000083\n",
      "6     FlatVel_A       1.073316    0.038571        0.228571    0.000088\n",
      "7     FlatVel_B       8.322622    0.022143        0.200000    0.000088\n",
      "8       Style_A      33.726573   33.726573       92.197845    0.000082\n",
      "9       Style_B      49.438897   49.438897       68.895521    0.000086\n",
      "Brendan local score:  25.647787291234852\n",
      "My local score:  24.714264842255265\n",
      "Estimate public LB:  27.751744014977845\n"
     ]
    },
    {
     "name": "stderr",
     "output_type": "stream",
     "text": [
      "\n"
     ]
    },
    {
     "data": {
      "text/html": [
       "<div>\n",
       "<style scoped>\n",
       "    .dataframe tbody tr th:only-of-type {\n",
       "        vertical-align: middle;\n",
       "    }\n",
       "\n",
       "    .dataframe tbody tr th {\n",
       "        vertical-align: top;\n",
       "    }\n",
       "\n",
       "    .dataframe thead th {\n",
       "        text-align: right;\n",
       "    }\n",
       "</style>\n",
       "<table border=\"1\" class=\"dataframe\">\n",
       "  <thead>\n",
       "    <tr style=\"text-align: right;\">\n",
       "      <th></th>\n",
       "      <th>family</th>\n",
       "      <th>score_brendan</th>\n",
       "      <th>score_mine</th>\n",
       "      <th>score_mine_max</th>\n",
       "      <th>time_taken</th>\n",
       "    </tr>\n",
       "  </thead>\n",
       "  <tbody>\n",
       "    <tr>\n",
       "      <th>0</th>\n",
       "      <td>CurveFault_A</td>\n",
       "      <td>3.510337</td>\n",
       "      <td>3.510337</td>\n",
       "      <td>6.826997</td>\n",
       "      <td>0.000082</td>\n",
       "    </tr>\n",
       "    <tr>\n",
       "      <th>1</th>\n",
       "      <td>CurveFault_B</td>\n",
       "      <td>78.843337</td>\n",
       "      <td>78.843337</td>\n",
       "      <td>151.991837</td>\n",
       "      <td>0.000081</td>\n",
       "    </tr>\n",
       "    <tr>\n",
       "      <th>2</th>\n",
       "      <td>CurveVel_A</td>\n",
       "      <td>8.350388</td>\n",
       "      <td>8.350388</td>\n",
       "      <td>15.488571</td>\n",
       "      <td>0.000085</td>\n",
       "    </tr>\n",
       "    <tr>\n",
       "      <th>3</th>\n",
       "      <td>CurveVel_B</td>\n",
       "      <td>41.801908</td>\n",
       "      <td>41.801908</td>\n",
       "      <td>174.948571</td>\n",
       "      <td>0.000081</td>\n",
       "    </tr>\n",
       "    <tr>\n",
       "      <th>4</th>\n",
       "      <td>FlatFault_A</td>\n",
       "      <td>2.969474</td>\n",
       "      <td>2.969474</td>\n",
       "      <td>20.227192</td>\n",
       "      <td>0.000082</td>\n",
       "    </tr>\n",
       "    <tr>\n",
       "      <th>5</th>\n",
       "      <td>FlatFault_B</td>\n",
       "      <td>28.441020</td>\n",
       "      <td>28.441020</td>\n",
       "      <td>105.257551</td>\n",
       "      <td>0.000083</td>\n",
       "    </tr>\n",
       "    <tr>\n",
       "      <th>6</th>\n",
       "      <td>FlatVel_A</td>\n",
       "      <td>1.073316</td>\n",
       "      <td>0.038571</td>\n",
       "      <td>0.228571</td>\n",
       "      <td>0.000088</td>\n",
       "    </tr>\n",
       "    <tr>\n",
       "      <th>7</th>\n",
       "      <td>FlatVel_B</td>\n",
       "      <td>8.322622</td>\n",
       "      <td>0.022143</td>\n",
       "      <td>0.200000</td>\n",
       "      <td>0.000088</td>\n",
       "    </tr>\n",
       "    <tr>\n",
       "      <th>8</th>\n",
       "      <td>Style_A</td>\n",
       "      <td>33.726573</td>\n",
       "      <td>33.726573</td>\n",
       "      <td>92.197845</td>\n",
       "      <td>0.000082</td>\n",
       "    </tr>\n",
       "    <tr>\n",
       "      <th>9</th>\n",
       "      <td>Style_B</td>\n",
       "      <td>49.438897</td>\n",
       "      <td>49.438897</td>\n",
       "      <td>68.895521</td>\n",
       "      <td>0.000086</td>\n",
       "    </tr>\n",
       "  </tbody>\n",
       "</table>\n",
       "</div>"
      ],
      "text/plain": [
       "         family  score_brendan  score_mine  score_mine_max  time_taken\n",
       "0  CurveFault_A       3.510337    3.510337        6.826997    0.000082\n",
       "1  CurveFault_B      78.843337   78.843337      151.991837    0.000081\n",
       "2    CurveVel_A       8.350388    8.350388       15.488571    0.000085\n",
       "3    CurveVel_B      41.801908   41.801908      174.948571    0.000081\n",
       "4   FlatFault_A       2.969474    2.969474       20.227192    0.000082\n",
       "5   FlatFault_B      28.441020   28.441020      105.257551    0.000083\n",
       "6     FlatVel_A       1.073316    0.038571        0.228571    0.000088\n",
       "7     FlatVel_B       8.322622    0.022143        0.200000    0.000088\n",
       "8       Style_A      33.726573   33.726573       92.197845    0.000082\n",
       "9       Style_B      49.438897   49.438897       68.895521    0.000086"
      ]
     },
     "execution_count": 26,
     "metadata": {},
     "output_type": "execute_result"
    }
   ],
   "source": [
    "data = kgs.load_all_train_data(validation_only=True)[::25]\n",
    "model.models[0].batch_size = 1\n",
    "families = list(set([d.family for d in data]))\n",
    "families.sort()\n",
    "res = dict()\n",
    "res['family'], res['score_brendan'], res['score_mine'], res['score_mine_max'], res['time_taken'] = [],[],[],[],[]\n",
    "for f in families:\n",
    "    res['family'].append(f)\n",
    "    this_data = []\n",
    "    for d in data:\n",
    "        if d.family==f:\n",
    "            this_data.append(d)\n",
    "    data_out_brendan = model.models[0].infer(this_data)\n",
    "    res['score_brendan'].append(kgs.score_metric(data_out_brendan,show_diagnostics=False)[0])\n",
    "    data_out = model.infer(this_data[:1])\n",
    "    t=time.time()\n",
    "    data_out = data_out+model.infer(this_data[1:])\n",
    "    res['time_taken'].append((time.time()-t)/len(this_data[1:])/60)\n",
    "    score,_,res_all = kgs.score_metric(data_out,show_diagnostics=False)\n",
    "    res['score_mine'].append(score)\n",
    "    res['score_mine_max'].append(np.max(res_all))\n",
    "    print(pd.DataFrame(res))\n",
    "df = pd.DataFrame(res)\n",
    "print('')\n",
    "print('')\n",
    "print('Brendan local score: ', np.mean(df['score_brendan']))\n",
    "print('My local score: ', np.mean(df['score_mine']))\n",
    "print('Estimate public LB: ', 28.8*np.mean(df['score_mine'])/np.mean(df['score_brendan']))\n",
    "df"
   ]
  },
  {
   "cell_type": "code",
   "execution_count": null,
   "id": "7c35b2fc-593f-46a4-b4ad-2767545f05bd",
   "metadata": {},
   "outputs": [],
   "source": []
  }
 ],
 "metadata": {
  "kernelspec": {
   "display_name": "Python 3 (ipykernel)",
   "language": "python",
   "name": "python3"
  },
  "language_info": {
   "codemirror_mode": {
    "name": "ipython",
    "version": 3
   },
   "file_extension": ".py",
   "mimetype": "text/x-python",
   "name": "python",
   "nbconvert_exporter": "python",
   "pygments_lexer": "ipython3",
   "version": "3.10.14"
  }
 },
 "nbformat": 4,
 "nbformat_minor": 5
}
