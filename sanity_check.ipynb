{
 "cells": [
  {
   "cell_type": "code",
   "execution_count": 1,
   "id": "865d54d7-b239-49eb-be92-484d63c870d5",
   "metadata": {},
   "outputs": [],
   "source": [
    "import sys\n",
    "import subprocess\n",
    "sys.path.append('f:/seismic/code/core')\n",
    "sys.path.append('/seismic/code/core')\n",
    "sys.path.append('/kaggle/input/my-seismic-library/')\n",
    "import kaggle_support as kgs\n",
    "import importlib\n",
    "import time\n",
    "import pandas as pd\n",
    "import numpy as np\n",
    "import glob\n",
    "import os\n",
    "import matplotlib.pyplot as plt\n",
    "from tqdm import tqdm\n",
    "import cupy as cp\n",
    "import copy\n",
    "import seis_forward2"
   ]
  },
  {
   "cell_type": "code",
   "execution_count": 2,
   "id": "9afef11d-777f-4324-a714-f4492870497e",
   "metadata": {},
   "outputs": [],
   "source": [
    "data = kgs.load_all_train_data(validation_only=True) + kgs.load_all_test_data()\n",
    "data = data"
   ]
  },
  {
   "cell_type": "code",
   "execution_count": 3,
   "id": "5852ca6c-9591-476d-a540-c85915e20ed7",
   "metadata": {},
   "outputs": [],
   "source": [
    "folder = kgs.cache_dir_read + '/TV2D/'\n",
    "#files_default = glob.glob(folder + '/*')\n",
    "#files_default = ([os.path.basename(f) for f in files_default])\n",
    "#files_default = set(files_default)\n",
    "files_todo = ([os.path.basename(f) for f in glob.glob(folder + '/*')])\n",
    "files_todo = set(files_todo)"
   ]
  },
  {
   "cell_type": "code",
   "execution_count": null,
   "id": "2f30a2a5-b7f2-41eb-9193-03a8e00356b8",
   "metadata": {},
   "outputs": [
    {
     "name": "stderr",
     "output_type": "stream",
     "text": [
      "  2%|█▉                                                                           | 1746/70818 [00:47<43:48, 26.28it/s]"
     ]
    }
   ],
   "source": [
    "def get_data_from_file(f):\n",
    "    data = kgs.dill_load(f)[0]\n",
    "    return data\n",
    "res = dict()\n",
    "res['cache_name'], res['is_train'], res['update_mae'], res['score_brendan'], res['score'], res['seis_err_rms'] = [],[],[],[],[],[]\n",
    "for d in tqdm(data):\n",
    "    f = d.cache_name()\n",
    "    if f in files_todo:\n",
    "        vel_default = get_data_from_file(folder +f)\n",
    "        vel_brendan = get_data_from_file(kgs.cache_dir_read + '/brendan/' +f)\n",
    "        res['cache_name'].append(f)\n",
    "        res['is_train'].append(d.is_train)\n",
    "        res['update_mae'].append(np.mean(np.abs(vel_default.data-vel_brendan.data)))\n",
    "        if d.is_train:\n",
    "            d.velocity.load_to_memory()\n",
    "            res['score'].append(np.mean(np.abs(vel_default.data-cp.asnumpy(d.velocity.data))))\n",
    "            res['score_brendan'].append(np.mean(np.abs(vel_brendan.data-cp.asnumpy(d.velocity.data))))\n",
    "            d.velocity.unload()\n",
    "        else:\n",
    "            res['score'].append(np.nan)\n",
    "            res['score_brendan'].append(np.nan)\n",
    "        vel = copy.deepcopy(vel_default)\n",
    "        vel.to_cupy()\n",
    "        vel.data = vel.data.astype(cp.float64)\n",
    "        vel.min_vel = vel.min_vel.astype(cp.float64)\n",
    "        seis = kgs.Seismogram()\n",
    "        seis.from_vector(seis_forward2.vel_to_seis(vel.to_vector())[0])\n",
    "        d.seismogram.load_to_memory()\n",
    "        res['seis_err_rms'].append(kgs.rms(seis.to_vector() - d.seismogram.to_vector()).get())\n",
    "        d.seismogram.unload()\n",
    "df = pd.DataFrame(res)\n",
    "tr = df['is_train']\n",
    "ntr = np.logical_not(df['is_train'])"
   ]
  },
  {
   "cell_type": "code",
   "execution_count": 5,
   "id": "ef9fe68b-2a6c-4e2d-a664-c174fe6f5b0c",
   "metadata": {},
   "outputs": [
    {
     "name": "stdout",
     "output_type": "stream",
     "text": [
      "> \u001b[1;32mf:\\seismic\\code\\core\\seis_forward2.py\u001b[0m(54)\u001b[0;36mvel_to_seis\u001b[1;34m()\u001b[0m\n",
      "\u001b[1;32m     52 \u001b[1;33m    \u001b[0mdo_diff\u001b[0m \u001b[1;33m=\u001b[0m \u001b[1;32mnot\u001b[0m \u001b[1;33m(\u001b[0m\u001b[0mvec_diff\u001b[0m \u001b[1;32mis\u001b[0m \u001b[1;32mNone\u001b[0m\u001b[1;33m)\u001b[0m\u001b[1;33m\u001b[0m\u001b[1;33m\u001b[0m\u001b[0m\n",
      "\u001b[0m\u001b[1;32m     53 \u001b[1;33m    \u001b[0mdo_adjoint\u001b[0m \u001b[1;33m=\u001b[0m \u001b[1;32mnot\u001b[0m \u001b[1;33m(\u001b[0m\u001b[0mvec_adjoint\u001b[0m \u001b[1;32mis\u001b[0m \u001b[1;32mNone\u001b[0m\u001b[1;33m)\u001b[0m\u001b[1;33m\u001b[0m\u001b[1;33m\u001b[0m\u001b[0m\n",
      "\u001b[0m\u001b[1;32m---> 54 \u001b[1;33m    \u001b[1;32massert\u001b[0m \u001b[0mvec\u001b[0m\u001b[1;33m.\u001b[0m\u001b[0mdtype\u001b[0m \u001b[1;33m==\u001b[0m \u001b[0mkgs\u001b[0m\u001b[1;33m.\u001b[0m\u001b[0mbase_type_gpu\u001b[0m\u001b[1;33m\u001b[0m\u001b[1;33m\u001b[0m\u001b[0m\n",
      "\u001b[0m\u001b[1;32m     55 \u001b[1;33m    \u001b[1;32massert\u001b[0m \u001b[0mvec_diff\u001b[0m \u001b[1;32mis\u001b[0m \u001b[1;32mNone\u001b[0m \u001b[1;32mor\u001b[0m \u001b[0mvec_diff\u001b[0m\u001b[1;33m.\u001b[0m\u001b[0mdtype\u001b[0m \u001b[1;33m==\u001b[0m \u001b[0mkgs\u001b[0m\u001b[1;33m.\u001b[0m\u001b[0mbase_type_gpu\u001b[0m\u001b[1;33m\u001b[0m\u001b[1;33m\u001b[0m\u001b[0m\n",
      "\u001b[0m\u001b[1;32m     56 \u001b[1;33m    \u001b[1;32massert\u001b[0m \u001b[0mvec_adjoint\u001b[0m \u001b[1;32mis\u001b[0m \u001b[1;32mNone\u001b[0m \u001b[1;32mor\u001b[0m \u001b[0mvec_adjoint\u001b[0m\u001b[1;33m.\u001b[0m\u001b[0mdtype\u001b[0m \u001b[1;33m==\u001b[0m \u001b[0mkgs\u001b[0m\u001b[1;33m.\u001b[0m\u001b[0mbase_type_gpu\u001b[0m\u001b[1;33m\u001b[0m\u001b[1;33m\u001b[0m\u001b[0m\n",
      "\u001b[0m\n"
     ]
    },
    {
     "name": "stdin",
     "output_type": "stream",
     "text": [
      "ipdb>  vec.dtype\n"
     ]
    },
    {
     "name": "stdout",
     "output_type": "stream",
     "text": [
      "dtype('float32')\n"
     ]
    },
    {
     "name": "stdin",
     "output_type": "stream",
     "text": [
      "ipdb>  u\n"
     ]
    },
    {
     "name": "stdout",
     "output_type": "stream",
     "text": [
      "> \u001b[1;32mc:\\users\\jeroe\\appdata\\local\\temp\\ipykernel_14840\\4028820083.py\u001b[0m(25)\u001b[0;36m<module>\u001b[1;34m()\u001b[0m\n",
      "\n"
     ]
    },
    {
     "name": "stdin",
     "output_type": "stream",
     "text": [
      "ipdb>  u\n"
     ]
    },
    {
     "name": "stdout",
     "output_type": "stream",
     "text": [
      "*** all frames above hidden, use `skip_hidden False` to get get into those.\n"
     ]
    },
    {
     "name": "stdin",
     "output_type": "stream",
     "text": [
      "ipdb>  q\n"
     ]
    }
   ],
   "source": [
    "%debug"
   ]
  },
  {
   "cell_type": "code",
   "execution_count": null,
   "id": "cb61e01a-c553-4863-8655-2ad27731d714",
   "metadata": {},
   "outputs": [],
   "source": [
    "np.sum(df['is_train']), np.sum(np.logical_not(df['is_train']))"
   ]
  },
  {
   "cell_type": "code",
   "execution_count": null,
   "id": "c71d26b7-260e-4e20-aec6-de093e6ecec1",
   "metadata": {},
   "outputs": [],
   "source": [
    "plt.figure();plt.scatter(df[tr]['score_brendan'],df[tr]['score'],color='blue');plt.xlabel('Score Brendan');plt.ylabel('Score');plt.legend(('Train',));plt.grid(True);\n",
    "plt.figure();plt.scatter(df[tr]['seis_err_rms'],df[tr]['score'],color='blue');plt.xlabel('Seis error RMS');plt.ylabel('Score');plt.legend(('Train',));plt.grid(True);plt.xscale('log');\n",
    "plt.figure();plt.scatter(df[tr]['update_mae'],df[tr]['score'],color='blue');plt.xlabel('Update MAE');plt.ylabel('Score');plt.legend(('Train',));plt.grid(True);\n",
    "\n",
    "plt.figure(figsize=(20,20));plt.scatter(df[tr]['seis_err_rms'],df[tr]['update_mae'],color='blue');plt.scatter(df[ntr]['seis_err_rms'],df[ntr]['update_mae'],color='green');\n",
    "plt.xlabel('Seis error RMS');plt.ylabel('Update MAE');plt.legend(('Train','Test'));plt.grid(True);plt.xscale('log');"
   ]
  },
  {
   "cell_type": "code",
   "execution_count": null,
   "id": "2aa0496e-a711-46dd-8831-956551c97f71",
   "metadata": {},
   "outputs": [],
   "source": [
    "plt.figure();plt.hist(df[df['is_train']]['score'], color='blue');plt.title('Train score')\n",
    "plt.figure();plt.hist(df[df['is_train']]['update_mae'], color='blue');plt.title('Train update size')\n",
    "plt.figure();plt.hist(df[np.logical_not(df['is_train'])]['update_mae'], color='green');plt.title('Test update size')\n",
    "plt.figure();plt.hist(np.log(np.array(list(df[df['is_train']]['seis_err_rms'].to_numpy()))), color='blue');plt.title('Train seis error')\n",
    "plt.figure();plt.hist(np.log(np.array(list(df[ntr]['seis_err_rms'].to_numpy()))), color='green');plt.title('Test seis error')\n",
    "np.max(df[tr]['seis_err_rms']), np.max(df[ntr]['seis_err_rms'])"
   ]
  },
  {
   "cell_type": "code",
   "execution_count": null,
   "id": "a50cb85a-d723-449a-9c3d-01b318ac01e1",
   "metadata": {},
   "outputs": [],
   "source": [
    "# for _,row in df.iterrows():\n",
    "#     if row['seis_err_rms']>2e-4:\n",
    "#         for d in data:\n",
    "#             if d.cache_name() == row['cache_name']:\n",
    "#                 #print(d.cache_name());\n",
    "#                 #if not 'Style_A' in d.family:\n",
    "#                 #print(row)\n",
    "#                 f=d.cache_name()\n",
    "#                 vel_default = get_data_from_file(folder +f)\n",
    "#                 vel_brendan = get_data_from_file(kgs.cache_dir_read + '/brendan/' +f)\n",
    "#                 _,ax = plt.subplots(1,3,figsize=(18,6))\n",
    "#                 plt.sca(ax[0]);plt.imshow(vel_brendan.data);plt.title('NN prediction');plt.colorbar()\n",
    "#                 plt.sca(ax[2]);plt.imshow(vel_default.data);plt.title('Final prediction');plt.colorbar()\n",
    "#                 plt.sca(ax[1]);plt.imshow(vel_default.data-vel_brendan.data);plt.title('Update');plt.colorbar()\n",
    "#                 print(np.mean(np.abs(vel_default.data-vel_brendan.data)))\n",
    "#                 plt.suptitle(f + ', ' + str(row['score']))\n",
    "#                 plt.pause(0.001)\n",
    "#     if (row['is_train'] and row['score']>0.5):\n",
    "#         for d in data:\n",
    "#             if d.cache_name() == row['cache_name']:\n",
    "#                 #print(d.cache_name());\n",
    "#                 #if not 'Style_A' in d.family:\n",
    "#                 #print(row)\n",
    "#                 d.load_to_memory()\n",
    "#                 vel_correct = d.velocity\n",
    "#                 vel_correct.data = vel_correct.data.get()\n",
    "#                 f=d.cache_name()\n",
    "#                 vel_default = get_data_from_file(folder +f)\n",
    "#                 vel_brendan = get_data_from_file(kgs.cache_dir_read + '/brendan/' +f)\n",
    "#                 _,ax = plt.subplots(1,3,figsize=(18,6))\n",
    "#                 plt.sca(ax[0]);plt.imshow(vel_default.data);plt.title('Final prediction');plt.colorbar()\n",
    "#                 plt.sca(ax[1]);plt.imshow(vel_correct.data);plt.title('Correct');plt.colorbar()\n",
    "#                 plt.sca(ax[2]);plt.imshow(vel_default.data-vel_correct.data);plt.title('Error');plt.colorbar()\n",
    "#                 print(np.mean(np.abs(vel_default.data-vel_brendan.data)))\n",
    "#                 plt.suptitle(f + ', ' + str(row['score']))\n",
    "#                 plt.pause(0.001)"
   ]
  },
  {
   "cell_type": "code",
   "execution_count": null,
   "id": "51b1cb6e-eaeb-44da-a3bf-b207b8e8cc8c",
   "metadata": {},
   "outputs": [],
   "source": []
  }
 ],
 "metadata": {
  "kernelspec": {
   "display_name": "Python 3 (ipykernel)",
   "language": "python",
   "name": "python3"
  },
  "language_info": {
   "codemirror_mode": {
    "name": "ipython",
    "version": 3
   },
   "file_extension": ".py",
   "mimetype": "text/x-python",
   "name": "python",
   "nbconvert_exporter": "python",
   "pygments_lexer": "ipython3",
   "version": "3.10.14"
  }
 },
 "nbformat": 4,
 "nbformat_minor": 5
}
